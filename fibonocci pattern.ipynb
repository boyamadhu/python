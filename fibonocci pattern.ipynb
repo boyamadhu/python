{
 "cells": [
  {
   "cell_type": "code",
   "execution_count": 5,
   "metadata": {},
   "outputs": [
    {
     "name": "stdout",
     "output_type": "stream",
     "text": [
      "1\n",
      "3 2\n",
      "6 5 4\n",
      "10 9 8 7\n"
     ]
    }
   ],
   "source": [
    "n=4\n",
    "st=1\n",
    "num=1\n",
    "for x in range(n):\n",
    "    l=[]\n",
    "    for c in range(st):\n",
    "        l.append(str(num))\n",
    "        num=num+1\n",
    "    print(' '.join(l[::-1]))\n",
    "    st=st+1"
   ]
  },
  {
   "cell_type": "code",
   "execution_count": 1,
   "metadata": {},
   "outputs": [
    {
     "name": "stdout",
     "output_type": "stream",
     "text": [
      "[1, 3, 8, 21, 13, 5, 2]\n",
      "1 \n",
      "  3 \n",
      "    8 \n",
      "      21 \n",
      "    13 \n",
      "  5 \n",
      "2 \n"
     ]
    }
   ],
   "source": [
    "def Fib(n):\n",
    "    f=int(input(\"Enter number f : \"))\n",
    "    s=int(input(\"Enter Number s : \"))\n",
    "    l=[]\n",
    "    for a in range(n*2-1):\n",
    "        t=f+s\n",
    "        l.append(t)\n",
    "        f,s=s,t\n",
    "    return l\n",
    "s=int(input(\"enter input s : \"))\n",
    "x=Fib(s)\n",
    "E=[]\n",
    "O=[]\n",
    "l=[]\n",
    "for e in range(len(x)):\n",
    "    if e%2==0:\n",
    "        E.append(x[e])\n",
    "    else:\n",
    "        O.append(x[e])\n",
    "for a in range(len(O)//2):\n",
    "    O[a],O[-(a+1)]=O[-(a+1)],O[a]\n",
    "\n",
    "for c in E:\n",
    "    l.append(c)\n",
    "for b in O:\n",
    "    l.append(b)\n",
    "print(l)\n",
    "st=1\n",
    "for n in range(len(l)):\n",
    "    for m in range(st):\n",
    "        if m==st-1:\n",
    "            print(l[n],end=' ')\n",
    "        else:\n",
    "            print(' ',end=' ')\n",
    "    print()\n",
    "    if n<len(l)//2:\n",
    "        st+=1\n",
    "    else:\n",
    "        st-=1"
   ]
  },
  {
   "cell_type": "code",
   "execution_count": 1,
   "metadata": {},
   "outputs": [
    {
     "name": "stdout",
     "output_type": "stream",
     "text": [
      "d\n"
     ]
    }
   ],
   "source": [
    "a={'d':['madhu','ravi'],'g':['vishu','ram']}\n",
    "n=str(input())\n",
    "def m(n):\n",
    "    for k,v in a.items():\n",
    "        if n in v:\n",
    "            print(k)\n",
    "m(n)\n",
    "    "
   ]
  },
  {
   "cell_type": "code",
   "execution_count": 1,
   "metadata": {},
   "outputs": [
    {
     "name": "stdout",
     "output_type": "stream",
     "text": [
      " 1\n",
      "    3\n",
      "       8\n",
      "          21\n",
      "             55\n",
      "          34\n",
      "       13\n",
      "    5\n",
      " 2\n"
     ]
    }
   ],
   "source": [
    "n=int(input())\n",
    "f=1\n",
    "s=2\n",
    "a=[]\n",
    "for x in range(n*2-1):\n",
    "    a.append(f)\n",
    "    f,s=s,f+s\n",
    "ind=0\n",
    "for x in range(n):\n",
    "    print('   ' *(x), end=' ')\n",
    "    print(a[ind])\n",
    "    ind+=2\n",
    "ind=-2\n",
    "for x in range(n-1):\n",
    "    print('   '*(n-2-x), end=' ')\n",
    "    print(a[ind])\n",
    "    ind-=2"
   ]
  },
  {
   "cell_type": "code",
   "execution_count": 2,
   "metadata": {},
   "outputs": [
    {
     "name": "stdout",
     "output_type": "stream",
     "text": [
      "[1, 2]\n"
     ]
    }
   ],
   "source": [
    "a=[1,2,3,1,2]\n",
    "res=[]\n",
    "for x in range(len(a)):\n",
    "    if a.count(a[x])>1:\n",
    "        if a[x] not in res:\n",
    "            res+=[a[x]]\n",
    "print(res)"
   ]
  },
  {
   "cell_type": "code",
   "execution_count": 4,
   "metadata": {},
   "outputs": [
    {
     "name": "stdout",
     "output_type": "stream",
     "text": [
      "[[1, 1, 1], [2, 2, 2], [3, 3, 3], [4, 4, 4], [5, 5, 5], [6, 6, 6], [7, 7, 7], [8, 8, 8], [9, 9, 9], [10, 10, 10]]\n"
     ]
    }
   ],
   "source": [
    "l=[[x]*3 for x in range(1,11)]\n",
    "print(l)"
   ]
  },
  {
   "cell_type": "code",
   "execution_count": 6,
   "metadata": {},
   "outputs": [
    {
     "name": "stdout",
     "output_type": "stream",
     "text": [
      "[0, 0, 1, 0, 0, 0, 1, 1]\n"
     ]
    }
   ],
   "source": [
    "t=[11,45,32,65,77,89,96,100]\n",
    "l=[1 if x%2==0 else 0 for x in t]\n",
    "print(l)"
   ]
  },
  {
   "cell_type": "code",
   "execution_count": 3,
   "metadata": {},
   "outputs": [
    {
     "name": "stdout",
     "output_type": "stream",
     "text": [
      "s\n"
     ]
    }
   ],
   "source": [
    "s=input()\n",
    "x=\n",
    "a='aeiouAEIOU'\n",
    "if s[0] and s[-1] in a:\n",
    "    print('s')"
   ]
  },
  {
   "cell_type": "code",
   "execution_count": 22,
   "metadata": {},
   "outputs": [
    {
     "name": "stdout",
     "output_type": "stream",
     "text": [
      "m\n",
      "u\n",
      "g\n",
      "d\n"
     ]
    }
   ],
   "source": [
    "l=input()\n",
    "s=l.split()\n",
    "for x in range(len(s)):\n",
    "    print(s[x][0])\n",
    "    print(s[x][-1])"
   ]
  },
  {
   "cell_type": "code",
   "execution_count": 18,
   "metadata": {},
   "outputs": [
    {
     "name": "stdout",
     "output_type": "stream",
     "text": [
      "3\n"
     ]
    }
   ],
   "source": [
    "print(len(s[x]))"
   ]
  },
  {
   "cell_type": "code",
   "execution_count": 34,
   "metadata": {},
   "outputs": [
    {
     "name": "stdout",
     "output_type": "stream",
     "text": [
      "s\n"
     ]
    }
   ],
   "source": [
    "n=28\n",
    "res=0\n",
    "for x in range(1,n):\n",
    "    if n%x==0:\n",
    "        res+=x\n",
    "if res==n:\n",
    "    print('s')\n",
    "else:\n",
    "    print('n')"
   ]
  },
  {
   "cell_type": "code",
   "execution_count": 43,
   "metadata": {},
   "outputs": [
    {
     "name": "stdout",
     "output_type": "stream",
     "text": [
      "1 1\n",
      "1 2\n",
      "1 3\n",
      "1 4\n",
      "1 5\n",
      "2 1\n",
      "2 2\n",
      "2 3\n",
      "2 4\n",
      "2 5\n",
      "3 1\n",
      "3 2\n",
      "3 3\n",
      "3 4\n",
      "3 5\n",
      "4 1\n",
      "4 2\n",
      "4 3\n",
      "4 4\n",
      "4 5\n",
      "5 1\n",
      "5 2\n",
      "5 3\n",
      "5 4\n",
      "5 5\n"
     ]
    }
   ],
   "source": [
    "i=1\n",
    "while i<6:\n",
    "    j=1\n",
    "    while j<6:\n",
    "        print(i,j)\n",
    "        j+=1\n",
    "    \n",
    "    i=i+1"
   ]
  },
  {
   "cell_type": "code",
   "execution_count": 42,
   "metadata": {},
   "outputs": [
    {
     "name": "stdout",
     "output_type": "stream",
     "text": [
      "1 1\n",
      "1 2\n",
      "1 3\n",
      "1 4\n",
      "1 5\n",
      "2 1\n",
      "2 2\n",
      "2 3\n",
      "2 4\n",
      "2 5\n",
      "3 1\n",
      "3 2\n",
      "3 3\n",
      "3 4\n",
      "3 5\n",
      "4 1\n",
      "4 2\n",
      "4 3\n",
      "4 4\n",
      "4 5\n",
      "5 1\n",
      "5 2\n",
      "5 3\n",
      "5 4\n",
      "5 5\n"
     ]
    }
   ],
   "source": [
    "for x in range(1,6):\n",
    "    for c in range(1,6):\n",
    "        print(f'{x} {c}')"
   ]
  },
  {
   "cell_type": "code",
   "execution_count": 51,
   "metadata": {},
   "outputs": [
    {
     "name": "stdout",
     "output_type": "stream",
     "text": [
      "1\n"
     ]
    }
   ],
   "source": [
    "#write a programme to print nth perfect nuber\n",
    "n=1\n",
    "m=n\n",
    "count=0\n",
    "res=0\n",
    "while n<1000:\n",
    "    for x in range(1,n):\n",
    "        if n%x==0:\n",
    "            res+=x\n",
    "    if res==m:\n",
    "        print(m)\n",
    "    n+=1"
   ]
  },
  {
   "cell_type": "code",
   "execution_count": 10,
   "metadata": {},
   "outputs": [
    {
     "data": {
      "text/plain": [
       "610"
      ]
     },
     "execution_count": 10,
     "metadata": {},
     "output_type": "execute_result"
    }
   ],
   "source": [
    "def m(n):\n",
    "    f=0\n",
    "    s=1\n",
    "    if n==1 or n==2:\n",
    "        return n-1\n",
    "    for x in range(0,n-2):\n",
    "        t=f+s\n",
    "        f,s=s,t\n",
    "    return t\n",
    "\n",
    "m(15)"
   ]
  },
  {
   "cell_type": "code",
   "execution_count": 2,
   "metadata": {},
   "outputs": [
    {
     "name": "stdout",
     "output_type": "stream",
     "text": [
      "[1, 3, 8, 21, 55, 34, 13, 5, 2]\n",
      "1 \n",
      "  3 \n",
      "    8 \n",
      "      21 \n",
      "        55 \n",
      "      34 \n",
      "    13 \n",
      "  5 \n",
      "2 \n"
     ]
    }
   ],
   "source": [
    "def Fib(n):\n",
    "    f=int(input(\"Enter number f : \"))\n",
    "    s=int(input(\"Enter Number s : \"))\n",
    "    l=[]\n",
    "    for a in range(n*2-1):\n",
    "        t=f+s\n",
    "        l.append(t)\n",
    "        f,s=s,t\n",
    "    return l\n",
    "s=int(input(\"enter input s : \"))\n",
    "x=Fib(s)\n",
    "E=[]\n",
    "O=[]\n",
    "l=[]\n",
    "for e in range(len(x)):\n",
    "    if e%2==0:\n",
    "        E.append(x[e])\n",
    "    else:\n",
    "        O.append(x[e])\n",
    "for a in range(len(O)//2):\n",
    "    O[a],O[-(a+1)]=O[-(a+1)],O[a]\n",
    "\n",
    "for c in E:\n",
    "    l.append(c)\n",
    "for b in O:\n",
    "    l.append(b)\n",
    "print(l)\n",
    "st=1\n",
    "for n in range(len(l)):\n",
    "    for m in range(st):\n",
    "        if m==st-1:\n",
    "            print(l[n],end=' ')\n",
    "        else:\n",
    "            print(' ',end=' ')\n",
    "    print()\n",
    "    if n<len(l)//2:\n",
    "        st+=1\n",
    "    else:\n",
    "        st-=1"
   ]
  },
  {
   "cell_type": "code",
   "execution_count": 1,
   "metadata": {},
   "outputs": [
    {
     "name": "stdout",
     "output_type": "stream",
     "text": [
      "1\n",
      "2\n",
      "3\n",
      "5\n",
      "8\n",
      "13\n",
      "21\n",
      "34\n",
      "55\n",
      "89\n"
     ]
    }
   ],
   "source": [
    "class A():\n",
    "    def __init__(self,x,y,z):\n",
    "        self.x=x\n",
    "        self.y=y\n",
    "        self.z=z\n",
    "    def __iter__(self):\n",
    "        self.i=1\n",
    "        return self\n",
    "    def __next__(self):\n",
    "        if self.i>self.z:\n",
    "            raise StopIteration\n",
    "        self.i+=1\n",
    "        n=self.x\n",
    "        self.x,self.y=self.y,self.x+self.y\n",
    "        return n\n",
    "ob=A(1,2,10)\n",
    "x=iter(ob)\n",
    "for i in x:\n",
    "    print(i)\n"
   ]
  },
  {
   "cell_type": "code",
   "execution_count": null,
   "metadata": {},
   "outputs": [],
   "source": []
  }
 ],
 "metadata": {
  "kernelspec": {
   "display_name": "Python 3",
   "language": "python",
   "name": "python3"
  },
  "language_info": {
   "codemirror_mode": {
    "name": "ipython",
    "version": 3
   },
   "file_extension": ".py",
   "mimetype": "text/x-python",
   "name": "python",
   "nbconvert_exporter": "python",
   "pygments_lexer": "ipython3",
   "version": "3.11.2"
  },
  "orig_nbformat": 4,
  "vscode": {
   "interpreter": {
    "hash": "4fd669e1ec5d89e8aa28b122dc638d349ed5e70b97a687fc355f6df63eb3fad7"
   }
  }
 },
 "nbformat": 4,
 "nbformat_minor": 2
}
