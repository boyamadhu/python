{
 "cells": [
  {
   "cell_type": "code",
   "execution_count": 1,
   "metadata": {},
   "outputs": [
    {
     "name": "stdout",
     "output_type": "stream",
     "text": [
      "friendly pair\n"
     ]
    }
   ],
   "source": [
    "a=6\n",
    "b=28\n",
    "x=0\n",
    "y=0\n",
    "for v in range(1,a):\n",
    "    if a%v==0:\n",
    "        x+=v\n",
    "for v in range(1,b):\n",
    "    if b%v==0:\n",
    "        y+=v\n",
    "if a//x==b//y:\n",
    "    print('friendly pair')\n",
    "else:\n",
    "    print('not a friendly pair')"
   ]
  },
  {
   "cell_type": "code",
   "execution_count": 1,
   "metadata": {},
   "outputs": [
    {
     "name": "stdout",
     "output_type": "stream",
     "text": [
      "18\n",
      "81\n",
      "its a magic number\n"
     ]
    }
   ],
   "source": [
    "n=int(input())\n",
    "j=n\n",
    "res=0\n",
    "x=0\n",
    "while n!=0:\n",
    "    r=n%10\n",
    "    n//=10\n",
    "    res+=r\n",
    "f=res\n",
    "while res!=0:\n",
    "    b=res%10\n",
    "    res//=10\n",
    "    x=x*10+b\n",
    "print(f)\n",
    "print(x)\n",
    "t=f*x\n",
    "if t==j:\n",
    "    print('its a magic number')\n",
    "else:\n",
    "    print('its not a magic number')\n"
   ]
  },
  {
   "cell_type": "code",
   "execution_count": 2,
   "metadata": {},
   "outputs": [
    {
     "name": "stdout",
     "output_type": "stream",
     "text": [
      "12\n",
      "12\n"
     ]
    }
   ],
   "source": [
    "#HCF\n",
    "a=60\n",
    "b=36\n",
    "while a!=b:\n",
    "    if a>b:\n",
    "        a=a-b\n",
    "    else:\n",
    "        b=b-a\n",
    "print(a)\n",
    "print(b)"
   ]
  },
  {
   "cell_type": "code",
   "execution_count": 6,
   "metadata": {},
   "outputs": [
    {
     "name": "stdout",
     "output_type": "stream",
     "text": [
      "84\n",
      "84\n"
     ]
    }
   ],
   "source": [
    "#LCF\n",
    "a=12\n",
    "b=14\n",
    "x=a\n",
    "y=b\n",
    "while a!=b:\n",
    "    if a>b:\n",
    "        a=a-b\n",
    "    else:\n",
    "        b=b-a\n",
    "print((x*y)//a)\n",
    "print((x*y)//b)"
   ]
  },
  {
   "cell_type": "code",
   "execution_count": 2,
   "metadata": {},
   "outputs": [
    {
     "name": "stdout",
     "output_type": "stream",
     "text": [
      "16 is power 2\n"
     ]
    }
   ],
   "source": [
    "#Num Power 2 or not\n",
    "n=16\n",
    "i=0\n",
    "while 2**i<=n:\n",
    "    if 2**i==n:\n",
    "        print(f'{n} is power 2')\n",
    "        break\n",
    "    i=i+1\n",
    "else:\n",
    "    print(f'{n} is not power 2')"
   ]
  },
  {
   "cell_type": "code",
   "execution_count": 34,
   "metadata": {},
   "outputs": [
    {
     "name": "stdout",
     "output_type": "stream",
     "text": [
      "True\n"
     ]
    }
   ],
   "source": [
    "#Num power 2 by Recurssion\n",
    "def power(n,i):\n",
    "    if  2**i>n:\n",
    "        return False\n",
    "    if 2**i==n:\n",
    "        return True\n",
    "    return power(n,i+1)\n",
    "n=16\n",
    "print(power(n,0))"
   ]
  },
  {
   "cell_type": "code",
   "execution_count": 37,
   "metadata": {},
   "outputs": [
    {
     "name": "stdout",
     "output_type": "stream",
     "text": [
      "2 4 4 8 2 "
     ]
    }
   ],
   "source": [
    "def power(n):\n",
    "    if n%2!=0:\n",
    "        return False\n",
    "    else:\n",
    "        while n>1:\n",
    "            n=n/2\n",
    "    if n==1:\n",
    "        return True\n",
    "l=[1,2,3,4,4,5,6,7,8,2,0]\n",
    "for i in l:\n",
    "    if power(i):\n",
    "        print(i, end=' ')"
   ]
  },
  {
   "cell_type": "code",
   "execution_count": 5,
   "metadata": {},
   "outputs": [
    {
     "name": "stdout",
     "output_type": "stream",
     "text": [
      "uhdam\n"
     ]
    }
   ],
   "source": [
    "n='madhu'\n",
    "l=list(n)\n",
    "for x in range(len(l)//2):\n",
    "    l[x],l[len(l)-1-x]=l[len(l)-1-x],l[x]\n",
    "print(''.join(l))"
   ]
  },
  {
   "cell_type": "code",
   "execution_count": 4,
   "metadata": {},
   "outputs": [
    {
     "name": "stdout",
     "output_type": "stream",
     "text": [
      "['asus', 'hp', 'dell']\n"
     ]
    }
   ],
   "source": [
    "q={'asus':10000, 'hp':22000, 'dell':34500}\n",
    "n=int(input())\n",
    "keys=[key for key,val in q.items() if val<=n]\n",
    "print(keys)"
   ]
  },
  {
   "cell_type": "code",
   "execution_count": 6,
   "metadata": {},
   "outputs": [
    {
     "name": "stdout",
     "output_type": "stream",
     "text": [
      "[4, 3, 2, 1, 'madhu']\n"
     ]
    }
   ],
   "source": [
    "a=['madhu',1,2,3,4]\n",
    "a.reverse()\n",
    "print(a)"
   ]
  },
  {
   "cell_type": "code",
   "execution_count": 11,
   "metadata": {},
   "outputs": [
    {
     "name": "stdout",
     "output_type": "stream",
     "text": [
      "its special character\n"
     ]
    }
   ],
   "source": [
    "a=input()\n",
    "res=''\n",
    "if a.isdigit():\n",
    "    print('integer')\n",
    "elif a.isalpha():\n",
    "    print('its character')\n",
    "else:\n",
    "    print('its special character')"
   ]
  },
  {
   "cell_type": "code",
   "execution_count": 5,
   "metadata": {},
   "outputs": [
    {
     "name": "stdout",
     "output_type": "stream",
     "text": [
      "string\n"
     ]
    }
   ],
   "source": [
    "n=input()\n",
    "try:\n",
    "    float(n)\n",
    "    print('not string')\n",
    "except:\n",
    "    print('string')"
   ]
  },
  {
   "cell_type": "code",
   "execution_count": 11,
   "metadata": {},
   "outputs": [
    {
     "name": "stdout",
     "output_type": "stream",
     "text": [
      "adhmu\n"
     ]
    }
   ],
   "source": [
    "a='madhu'\n",
    "x=sorted(a)\n",
    "print(''.join(x))\n"
   ]
  },
  {
   "cell_type": "code",
   "execution_count": 40,
   "metadata": {},
   "outputs": [
    {
     "name": "stdout",
     "output_type": "stream",
     "text": [
      "s\n"
     ]
    }
   ],
   "source": [
    "def m(n):\n",
    "    fact=1\n",
    "    if n==0 or n==1:\n",
    "        return 1\n",
    "    for x in range(1,n+1):\n",
    "        fact=fact*x\n",
    "    return fact\n",
    "def sp(n):\n",
    "    res=0\n",
    "    while n!=0:\n",
    "        r=n%10\n",
    "        n//=10\n",
    "        res=res+m(r)\n",
    "    return res\n",
    "n=145\n",
    "r=sp(n)\n",
    "if r==n:\n",
    "    print('s')"
   ]
  },
  {
   "cell_type": "code",
   "execution_count": 43,
   "metadata": {},
   "outputs": [
    {
     "name": "stdout",
     "output_type": "stream",
     "text": [
      "s\n"
     ]
    }
   ],
   "source": [
    "def m(n):\n",
    "    if n==0 or n==1:\n",
    "        return 1\n",
    "    return n*m(n-1)\n",
    "def sp(n):\n",
    "    if n==0:\n",
    "        return 0\n",
    "    return m(n%10) + sp(n//10)\n",
    "n=145\n",
    "r=sp(n)\n",
    "if r==n:\n",
    "    print('s')"
   ]
  },
  {
   "cell_type": "code",
   "execution_count": 44,
   "metadata": {},
   "outputs": [
    {
     "name": "stdout",
     "output_type": "stream",
     "text": [
      "153\n"
     ]
    }
   ],
   "source": [
    "def k(n,p):\n",
    "    if n==0:\n",
    "        return 0\n",
    "    return (n%10)**p + k(n//10,p)\n",
    "n=153\n",
    "p=len(str(n))\n",
    "print(k(n,p))"
   ]
  },
  {
   "cell_type": "code",
   "execution_count": 45,
   "metadata": {},
   "outputs": [
    {
     "name": "stdout",
     "output_type": "stream",
     "text": [
      "54321\n"
     ]
    }
   ],
   "source": [
    "def l(n,pos):\n",
    "    if n==0:\n",
    "        return 0\n",
    "    return (n%10)*pos + l(n//10,pos//10)\n",
    "n=12345\n",
    "p=len(str(n))-1\n",
    "pos=10**p\n",
    "print(l(n,pos))\n"
   ]
  },
  {
   "cell_type": "code",
   "execution_count": 47,
   "metadata": {},
   "outputs": [
    {
     "name": "stdout",
     "output_type": "stream",
     "text": [
      "uhdam udaag yrev\n"
     ]
    }
   ],
   "source": [
    "a='madhu gaadu very'\n",
    "l=a.split()\n",
    "for x in range(len(l)):\n",
    "    l[x]=l[x][::-1]\n",
    "print(' '.join(l))"
   ]
  },
  {
   "cell_type": "code",
   "execution_count": 53,
   "metadata": {},
   "outputs": [
    {
     "name": "stdout",
     "output_type": "stream",
     "text": [
      "14\n"
     ]
    }
   ],
   "source": [
    "def m(n,p):\n",
    "    if n==0:\n",
    "        return 0\n",
    "    return (n%10)*2**p + m(n//10,p+1)\n",
    "n=1110\n",
    "print(m(n,0))"
   ]
  },
  {
   "cell_type": "code",
   "execution_count": 54,
   "metadata": {},
   "outputs": [
    {
     "name": "stdout",
     "output_type": "stream",
     "text": [
      "uhdam\n"
     ]
    }
   ],
   "source": [
    "def m(i):\n",
    "    if i==-len(s)-1:\n",
    "        return ''\n",
    "    return s[i] + m(i-1)\n",
    "s='madhu'\n",
    "print(m(-1))\n"
   ]
  },
  {
   "cell_type": "code",
   "execution_count": 1,
   "metadata": {},
   "outputs": [
    {
     "name": "stdout",
     "output_type": "stream",
     "text": [
      "1 2 3 5 8 13 21 34 55 "
     ]
    }
   ],
   "source": [
    "def m(n):\n",
    "    f=0\n",
    "    s=1\n",
    "    if n==1 or n==2:\n",
    "        return n-1\n",
    "    for x in range(0,n-2):\n",
    "        t=f+s\n",
    "        yield t\n",
    "        f,s=s,t\n",
    "    return t\n",
    "ob=m(11)\n",
    "for i in ob:\n",
    "    print(i, end=' ')"
   ]
  },
  {
   "cell_type": "code",
   "execution_count": 63,
   "metadata": {},
   "outputs": [
    {
     "name": "stdout",
     "output_type": "stream",
     "text": [
      "34\n"
     ]
    }
   ],
   "source": [
    "def m(n):\n",
    "    if n==1 or n==2:\n",
    "        return n-1\n",
    "    return m(n-1) + m(n-2)\n",
    "ob=m(10)\n",
    "print(ob)"
   ]
  },
  {
   "cell_type": "code",
   "execution_count": 2,
   "metadata": {},
   "outputs": [
    {
     "name": "stdout",
     "output_type": "stream",
     "text": [
      "None\n"
     ]
    }
   ],
   "source": [
    "a=[3,2,1]\n",
    "x=a.sort()\n",
    "print(x)"
   ]
  },
  {
   "cell_type": "code",
   "execution_count": 4,
   "metadata": {},
   "outputs": [
    {
     "name": "stdout",
     "output_type": "stream",
     "text": [
      "{'a': 100, 'd': 20}\n",
      "<class 'dict'>\n"
     ]
    }
   ],
   "source": [
    "a={'a':100,'d':20}\n",
    "print(str(a))\n",
    "print(type(a))"
   ]
  },
  {
   "cell_type": "code",
   "execution_count": 3,
   "metadata": {},
   "outputs": [
    {
     "name": "stdout",
     "output_type": "stream",
     "text": [
      "s\n"
     ]
    }
   ],
   "source": [
    "def anarg(n):\n",
    "    l=list(n)\n",
    "    for x in range(len(l)):\n",
    "        for c in range(len(l)-1-x):\n",
    "            if l[c]>l[c+1]:\n",
    "                l[c],l[c+1]=l[c+1],l[c]\n",
    "s1='heart'\n",
    "s2='earth'\n",
    "if anarg(s1)==anarg(s2):\n",
    "    print('s')"
   ]
  },
  {
   "cell_type": "code",
   "execution_count": 5,
   "metadata": {},
   "outputs": [
    {
     "name": "stdout",
     "output_type": "stream",
     "text": [
      "1\n"
     ]
    }
   ],
   "source": [
    "l=[1,2,3,3]\n",
    "ob=iter(l)\n",
    "print(next(ob))"
   ]
  },
  {
   "cell_type": "code",
   "execution_count": 12,
   "metadata": {},
   "outputs": [
    {
     "name": "stdout",
     "output_type": "stream",
     "text": [
      "<function globa at 0x00000280975EC9A0>\n",
      "5.0\n"
     ]
    }
   ],
   "source": [
    "def outer(arg):\n",
    "    print(arg)\n",
    "    def inner(a,b):\n",
    "        if a>b:\n",
    "            arg(a,b)\n",
    "        else:\n",
    "            arg(b,a)\n",
    "    return inner\n",
    "@outer\n",
    "def globa(a,b):\n",
    "    print(a/b)\n",
    "globa(2,10)\n"
   ]
  },
  {
   "cell_type": "code",
   "execution_count": 26,
   "metadata": {},
   "outputs": [
    {
     "name": "stdout",
     "output_type": "stream",
     "text": [
      "success\n",
      "success\n",
      "no tickets\n"
     ]
    }
   ],
   "source": [
    "def outer(arg):\n",
    "    d={}\n",
    "    def inner():\n",
    "        if arg not in d:\n",
    "            d[arg]=arg()\n",
    "        return d[arg]\n",
    "    return inner\n",
    "@outer\n",
    "class hhh():\n",
    "    def __init__(self):\n",
    "        self.ticket=200\n",
    "    def book(self):\n",
    "        n=int(input())\n",
    "        if self.ticket>=n:\n",
    "            self.ticket-=n\n",
    "            print('success')\n",
    "        else:\n",
    "            print('no tickets')\n",
    "ob=hhh()\n",
    "ob.book()\n",
    "ob.book()\n",
    "ob.book()\n"
   ]
  },
  {
   "cell_type": "code",
   "execution_count": 31,
   "metadata": {},
   "outputs": [
    {
     "name": "stdout",
     "output_type": "stream",
     "text": [
      "5 \n",
      "5 4 \n",
      "5 4 5 \n",
      "5 4 3 4 \n",
      "5 4 3 4 5 \n"
     ]
    }
   ],
   "source": [
    "n=5\n",
    "num=1\n",
    "st=1\n",
    "for x in range(n):\n",
    "    num=5\n",
    "    for c in range(st):\n",
    "        print(num, end=' ')\n",
    "        num+=1\n",
    "    print()\n",
    "    st+=1\n"
   ]
  },
  {
   "cell_type": "code",
   "execution_count": 7,
   "metadata": {},
   "outputs": [
    {
     "name": "stdout",
     "output_type": "stream",
     "text": [
      "['g']\n"
     ]
    }
   ],
   "source": [
    "a={'d':['madhu','ravi'],'g':['vishu','ram']}\n",
    "n=str(input())\n",
    "x=[key for key,val in a.items() if n in val]\n",
    "print(x)"
   ]
  },
  {
   "cell_type": "code",
   "execution_count": 6,
   "metadata": {},
   "outputs": [
    {
     "name": "stdout",
     "output_type": "stream",
     "text": [
      "5\n"
     ]
    }
   ],
   "source": [
    "#generate fibinocci by for loop\n",
    "n=int(input())\n",
    "f=0\n",
    "s=1\n",
    "for x in range(1,n+1):\n",
    "    if x==n:\n",
    "        print(f)\n",
    "    f,s=s,f+s\n"
   ]
  },
  {
   "cell_type": "code",
   "execution_count": 6,
   "metadata": {},
   "outputs": [
    {
     "name": "stdout",
     "output_type": "stream",
     "text": [
      "7 4 1 \n",
      "8 5 2 \n",
      "9 6 3 \n"
     ]
    }
   ],
   "source": [
    "n=3\n",
    "l=[[1,2,3],[4,5,6],[7,8,9]]\n",
    "for x in range(n):\n",
    "    for c in range(n):\n",
    "         print(l[n-1-c][x], end=' ')\n",
    "    print()"
   ]
  },
  {
   "cell_type": "code",
   "execution_count": 1,
   "metadata": {},
   "outputs": [
    {
     "name": "stdout",
     "output_type": "stream",
     "text": [
      "1 \n",
      "1 2 1 \n",
      "1 2 3 2 1 \n",
      "1 2 3 4 3 2 1 \n",
      "1 2 3 4 5 4 3 2 1 \n"
     ]
    }
   ],
   "source": [
    "n=5\n",
    "st=1\n",
    "num=1\n",
    "for x in range(n):\n",
    "    for c in range(st):\n",
    "        print(num,end=' ')\n",
    "        if c<st//2:\n",
    "            num+=1\n",
    "        else:\n",
    "            num-=1\n",
    "    print()\n",
    "    st+=2\n",
    "    num=1"
   ]
  },
  {
   "cell_type": "code",
   "execution_count": 9,
   "metadata": {},
   "outputs": [
    {
     "name": "stdout",
     "output_type": "stream",
     "text": [
      "1 \n",
      "3 1 \n",
      "5 3 1 \n",
      "7 5 3 1 \n",
      "9 7 5 3 1 \n"
     ]
    }
   ],
   "source": [
    "n=5\n",
    "st=1\n",
    "num=1\n",
    "for x in range(1,n+1):\n",
    "    for c in range(1,st+1):\n",
    "        print(num, end=' ')\n",
    "        num-=2\n",
    "    print()\n",
    "    num=x+c+1\n",
    "    st+=1"
   ]
  },
  {
   "cell_type": "code",
   "execution_count": 2,
   "metadata": {},
   "outputs": [
    {
     "name": "stdout",
     "output_type": "stream",
     "text": [
      "happy number\n"
     ]
    }
   ],
   "source": [
    "res=int(input())\n",
    "# res=n\n",
    "while res>=10:\n",
    "    s=0\n",
    "    while res>0:\n",
    "        r=res%10\n",
    "        res//=10\n",
    "        s=s+(r*r)\n",
    "    res=s\n",
    "if res==1:\n",
    "    print('happy number')\n",
    "else:\n",
    "    print('not happy')\n"
   ]
  },
  {
   "cell_type": "code",
   "execution_count": 1,
   "metadata": {},
   "outputs": [
    {
     "name": "stdout",
     "output_type": "stream",
     "text": [
      "1 2 3 4 5 \n",
      "1       2 \n",
      "1       2 \n",
      "1       2 \n",
      "1 2 3 4 5 \n"
     ]
    }
   ],
   "source": [
    "n=5\n",
    "num=1\n",
    "for x in range(n):\n",
    "    for c in range(n):\n",
    "        if x==0 or x==n-1:\n",
    "            print(num, end=' ')\n",
    "            num+=1\n",
    "        elif c>0 or c<n-1:\n",
    "            if c==0:\n",
    "                print(num,end=' ')\n",
    "            elif c==n-1:\n",
    "                print(num+1,end=' ')\n",
    "            else:\n",
    "                print(' ', end=' ')\n",
    "        else:\n",
    "            print(' ', end=' ')\n",
    "    print()\n",
    "    num=1\n",
    "\n"
   ]
  },
  {
   "cell_type": "code",
   "execution_count": 2,
   "metadata": {},
   "outputs": [
    {
     "name": "stdout",
     "output_type": "stream",
     "text": [
      "8 2\n",
      "2 8\n",
      "7 3\n",
      "3 7\n",
      "5 5\n",
      "6 4\n",
      "4 6\n"
     ]
    }
   ],
   "source": [
    "l=[8,2,7,3,5,6,4]\n",
    "k=10\n",
    "for x in range(len(l)):\n",
    "    for c in range(len(l)):\n",
    "        if l[x]+l[c]==k:\n",
    "            print(l[x],l[c])"
   ]
  },
  {
   "cell_type": "code",
   "execution_count": 3,
   "metadata": {},
   "outputs": [
    {
     "name": "stdout",
     "output_type": "stream",
     "text": [
      "[24, 44, 24]\n"
     ]
    }
   ],
   "source": [
    "l=[11,22,13]\n",
    "l1=[11,22,13]\n",
    "e=[]\n",
    "for x in range(len(l)):\n",
    "    e.append(l[x]+l1[len(l1)-1-x])\n",
    "print(e)"
   ]
  },
  {
   "cell_type": "code",
   "execution_count": 4,
   "metadata": {},
   "outputs": [
    {
     "name": "stdout",
     "output_type": "stream",
     "text": [
      "[2, 4, 4]\n"
     ]
    }
   ],
   "source": [
    "def s(n):\n",
    "    if n==0:\n",
    "        return 0\n",
    "    return n%10 + s(n//10)\n",
    "l=[11,22,13]\n",
    "k=[]\n",
    "for i in range(len(l)):\n",
    "    k.append(s(l[i]))\n",
    "print(k)"
   ]
  },
  {
   "cell_type": "code",
   "execution_count": 5,
   "metadata": {},
   "outputs": [
    {
     "name": "stdout",
     "output_type": "stream",
     "text": [
      "[2, 4, 4]\n"
     ]
    }
   ],
   "source": [
    "l=[11,22,13]\n",
    "for x in range(len(l)):\n",
    "    t=0\n",
    "    while l[x]!=0:\n",
    "        r=l[x]%10\n",
    "        l[x]//=10\n",
    "        t+=r\n",
    "    l[x]=t\n",
    "print(l)\n"
   ]
  },
  {
   "cell_type": "code",
   "execution_count": 8,
   "metadata": {},
   "outputs": [
    {
     "name": "stdout",
     "output_type": "stream",
     "text": [
      "1*1=1\n",
      "1*2=2\n",
      "1*3=3\n",
      "1*4=4\n",
      "1*5=5\n",
      "1*6=6\n",
      "1*7=7\n",
      "1*8=8\n",
      "1*9=9\n",
      "1*10=10\n",
      "\n",
      "2*1=2\n",
      "2*2=4\n",
      "2*3=6\n",
      "2*4=8\n",
      "2*5=10\n",
      "2*6=12\n",
      "2*7=14\n",
      "2*8=16\n",
      "2*9=18\n",
      "2*10=20\n",
      "\n"
     ]
    }
   ],
   "source": [
    "n=int(input())\n",
    "for x in range(1,n+1):\n",
    "    for c in range(1,11):\n",
    "        print(f'{x}*{c}={x*c}')\n",
    "    print()"
   ]
  },
  {
   "cell_type": "code",
   "execution_count": 1,
   "metadata": {},
   "outputs": [
    {
     "name": "stdout",
     "output_type": "stream",
     "text": [
      "{1, 2, 3, 4, 5, 6}\n",
      "{3, 4}\n"
     ]
    }
   ],
   "source": [
    "a={1,2,3,4}\n",
    "b={3,4,5,6}\n",
    "print(a.union(b))\n",
    "print(a.intersection(b))"
   ]
  },
  {
   "cell_type": "code",
   "execution_count": 1,
   "metadata": {},
   "outputs": [
    {
     "name": "stdout",
     "output_type": "stream",
     "text": [
      "6\n",
      "28\n",
      "496\n",
      "8128\n"
     ]
    }
   ],
   "source": [
    "n=1\n",
    "count=0\n",
    "while count<4:\n",
    "    res=0\n",
    "    for i in range(1,n):\n",
    "        if n%i==0:\n",
    "            res+=i\n",
    "    if res==n:\n",
    "        print(n)\n",
    "        count+=1\n",
    "    n+=1\n",
    "#strong numbers"
   ]
  },
  {
   "cell_type": "code",
   "execution_count": 3,
   "metadata": {},
   "outputs": [
    {
     "name": "stdout",
     "output_type": "stream",
     "text": [
      "2 3 5 7 11 13 17 19 23 29 "
     ]
    }
   ],
   "source": [
    "n=1\n",
    "count=0\n",
    "while count<10:\n",
    "    if n>1:\n",
    "        for x in range(2,n//2+1):\n",
    "            if n%x==0:\n",
    "                break\n",
    "        else:\n",
    "            count+=1\n",
    "            print(n, end=' ')\n",
    "    n+=1\n",
    "#first 10 prime numbers"
   ]
  },
  {
   "cell_type": "code",
   "execution_count": 2,
   "metadata": {},
   "outputs": [
    {
     "name": "stdout",
     "output_type": "stream",
     "text": [
      "5 4 3 2 1 \n",
      "  5 4 3 2 \n"
     ]
    }
   ],
   "source": [
    "n=2\n",
    "st=5\n",
    "num=1\n",
    "sp=1\n",
    "for x in range(n):\n",
    "    num=5\n",
    "    for c in range(sp):\n",
    "        if x%2!=0:\n",
    "            print(' ', end=' ')\n",
    "    for z in range(st-sp if x%2!=0 else st):\n",
    "        print(num, end=' ')\n",
    "        num-=1\n",
    "    print()\n"
   ]
  },
  {
   "cell_type": "code",
   "execution_count": 3,
   "metadata": {},
   "outputs": [
    {
     "name": "stdout",
     "output_type": "stream",
     "text": [
      "121\n",
      "s\n"
     ]
    }
   ],
   "source": [
    "n=int(input())\n",
    "print(n)\n",
    "res=n*n\n",
    "if n%10==res%10:\n",
    "    print('s')\n",
    "else:\n",
    "    print('n')"
   ]
  },
  {
   "cell_type": "code",
   "execution_count": 5,
   "metadata": {},
   "outputs": [
    {
     "name": "stdout",
     "output_type": "stream",
     "text": [
      "5 4 3 2 1 \n",
      "  5 4 3 2 \n"
     ]
    }
   ],
   "source": [
    "n=2\n",
    "st=5\n",
    "sp=0\n",
    "num=st\n",
    "for x in range(n):\n",
    "    for y in range(sp):\n",
    "        print(' ',end=' ')\n",
    "    for z in range(st):\n",
    "        print(num,end=' ')\n",
    "        num-=1\n",
    "    print()\n",
    "    num=st\n",
    "    st-=1\n",
    "    sp+=1"
   ]
  },
  {
   "cell_type": "code",
   "execution_count": 1,
   "metadata": {},
   "outputs": [
    {
     "data": {
      "text/plain": [
       "100"
      ]
     },
     "execution_count": 1,
     "metadata": {},
     "output_type": "execute_result"
    }
   ],
   "source": [
    "10**2"
   ]
  },
  {
   "cell_type": "code",
   "execution_count": 4,
   "metadata": {},
   "outputs": [
    {
     "name": "stdout",
     "output_type": "stream",
     "text": [
      "not arms\n"
     ]
    }
   ],
   "source": [
    "n=int(input('enter number'))\n",
    "s=n**2\n",
    "l=len(str(n))\n",
    "d=10**l\n",
    "if s%d==n:\n",
    "    print('arms')\n",
    "else:\n",
    "    print('not arms')"
   ]
  },
  {
   "cell_type": "code",
   "execution_count": 8,
   "metadata": {},
   "outputs": [
    {
     "name": "stdout",
     "output_type": "stream",
     "text": [
      "love you\n"
     ]
    }
   ],
   "source": [
    "n=int(input('enter 1 if want list or 2 to cancel'))\n",
    "if n>1:\n",
    "    print('love you')"
   ]
  },
  {
   "cell_type": "code",
   "execution_count": 1,
   "metadata": {},
   "outputs": [
    {
     "name": "stdout",
     "output_type": "stream",
     "text": [
      "5 \n",
      "10 20 \n",
      "30 40 50 \n"
     ]
    }
   ],
   "source": [
    "n=3\n",
    "st=1\n",
    "d=2\n",
    "num=5\n",
    "s=num\n",
    "for x in range(n):\n",
    "    for c in range(st):\n",
    "        print(num, end=' ')\n",
    "        num=s*d\n",
    "        d+=2\n",
    "    print()\n",
    "    st+=1\n",
    "    "
   ]
  },
  {
   "cell_type": "code",
   "execution_count": 3,
   "metadata": {},
   "outputs": [
    {
     "name": "stdout",
     "output_type": "stream",
     "text": [
      "1 \n",
      "4 9 \n",
      "16 25 36 \n",
      "49 64 81 100 \n"
     ]
    }
   ],
   "source": [
    "n=4\n",
    "st=1\n",
    "num=1\n",
    "for c in range(n):\n",
    "    for c in range(st):\n",
    "        print(num*num, end=' ')\n",
    "        num+=1\n",
    "    print()\n",
    "    st+=1\n"
   ]
  },
  {
   "cell_type": "code",
   "execution_count": 4,
   "metadata": {},
   "outputs": [
    {
     "name": "stdout",
     "output_type": "stream",
     "text": [
      "1\n",
      "3 2\n",
      "6 5 4\n",
      "10 9 8 7\n"
     ]
    }
   ],
   "source": [
    "n=4\n",
    "st=1\n",
    "num=1\n",
    "for x in range(n):\n",
    "    l=[]\n",
    "    for c in range(st):\n",
    "        l.append(str(num))\n",
    "        num+=1\n",
    "    print(' '.join(l[::-1]))\n",
    "    st+=1\n",
    "    "
   ]
  },
  {
   "cell_type": "code",
   "execution_count": 9,
   "metadata": {},
   "outputs": [
    {
     "name": "stdout",
     "output_type": "stream",
     "text": [
      "4 \n",
      "9 19 \n",
      "39 79 159 \n"
     ]
    }
   ],
   "source": [
    "n=3\n",
    "st=1\n",
    "num=4\n",
    "for x in range(n):\n",
    "    for c in range(st):\n",
    "        print(num, end=' ')\n",
    "        num=num*2+1\n",
    "    print()\n",
    "    st+=1\n"
   ]
  },
  {
   "cell_type": "code",
   "execution_count": 2,
   "metadata": {},
   "outputs": [
    {
     "name": "stdout",
     "output_type": "stream",
     "text": [
      "1 2 3 5 8 13 21 34 55 "
     ]
    }
   ],
   "source": [
    "n=int(input())\n",
    "f=0\n",
    "s=1\n",
    "count=0\n",
    "while count!=n:\n",
    "    t=f+s\n",
    "    f,s=s,t\n",
    "    print(t, end=' ')\n",
    "    count+=1\n",
    "#fibinocci by while loop"
   ]
  },
  {
   "cell_type": "code",
   "execution_count": 1,
   "metadata": {},
   "outputs": [
    {
     "name": "stdout",
     "output_type": "stream",
     "text": [
      "1 2 6 24 120 "
     ]
    }
   ],
   "source": [
    "n=5\n",
    "res=1\n",
    "s=1\n",
    "while s<=n:\n",
    "    res=res*s\n",
    "    s+=1\n",
    "    print(res,end=' ')\n",
    "#factorial by while loop"
   ]
  },
  {
   "cell_type": "code",
   "execution_count": 5,
   "metadata": {},
   "outputs": [
    {
     "name": "stdout",
     "output_type": "stream",
     "text": [
      "[1, 2, 5]\n"
     ]
    }
   ],
   "source": [
    "l=[1,2,3,4,5,4,3]\n",
    "j=[]\n",
    "for x in range(len(l)):\n",
    "    count=0\n",
    "    for c in range(len(l)):\n",
    "        if l[x]==l[c]:\n",
    "           count+=1\n",
    "    if count==1:\n",
    "        j.append(l[x])\n",
    "print(j)"
   ]
  },
  {
   "cell_type": "code",
   "execution_count": 14,
   "metadata": {},
   "outputs": [
    {
     "name": "stdout",
     "output_type": "stream",
     "text": [
      "prime\n"
     ]
    }
   ],
   "source": [
    "#printing 20 prime number by only using while loop\n",
    "a=1\n",
    "s=int(input('enter number of prime numbers'))\n",
    "count=0\n",
    "while count<s:\n",
    "    d=2\n",
    "    while d<a:\n",
    "        if a%d==0:\n",
    "            break\n",
    "        d+=1\n",
    "    else:\n",
    "        count+=1\n",
    "        print(a, end=' ')\n",
    "    a=a+1"
   ]
  },
  {
   "cell_type": "code",
   "execution_count": 1,
   "metadata": {},
   "outputs": [
    {
     "name": "stdout",
     "output_type": "stream",
     "text": [
      "not prime\n"
     ]
    }
   ],
   "source": [
    "#checking prime numbers\n",
    "a=0\n",
    "s=int(input('enter number of prime numbers'))\n",
    "while a<1:\n",
    "    if s>1:\n",
    "        d=2\n",
    "        while d<s:\n",
    "            if s%d==0:\n",
    "                print('not prime')\n",
    "                break\n",
    "            d+=1\n",
    "        else:\n",
    "            print('prime')\n",
    "            break\n",
    "    else:\n",
    "        print('not prime')\n",
    "    a=a+1\n",
    "    "
   ]
  },
  {
   "cell_type": "code",
   "execution_count": 7,
   "metadata": {},
   "outputs": [
    {
     "name": "stdout",
     "output_type": "stream",
     "text": [
      "not prime\n"
     ]
    }
   ],
   "source": [
    "n=int(input('enter number'))\n",
    "i=2\n",
    "while i!=n//2+1:\n",
    "    if n%i==0 or n<=1:\n",
    "        print('not prime')\n",
    "        break\n",
    "    i+=1\n",
    "else:\n",
    "    print('prime')"
   ]
  },
  {
   "cell_type": "code",
   "execution_count": 97,
   "metadata": {},
   "outputs": [
    {
     "name": "stdout",
     "output_type": "stream",
     "text": [
      "entered number is 3119\n",
      "3119 Cirlce Prime\n"
     ]
    }
   ],
   "source": [
    "a=int(input())\n",
    "l=[]\n",
    "c=0\n",
    "print(f'entered number is {a}')\n",
    "while len(l)!=len(str(a)):\n",
    "    res=0\n",
    "    l.append(a)\n",
    "    y=len(str(a))-1\n",
    "    r=a%10\n",
    "    a//=10\n",
    "    res=res+r*(10**y)+a\n",
    "    if res>1:\n",
    "        for x in range(2,res//2+1):\n",
    "            if res%x==0:\n",
    "                break\n",
    "        else:\n",
    "            c+=1\n",
    "    a=res\n",
    "if c==len(str(a)):\n",
    "    print(f\"{a} Cirlce Prime\")\n",
    "else:\n",
    "    print('Not')\n"
   ]
  },
  {
   "cell_type": "code",
   "execution_count": 98,
   "metadata": {},
   "outputs": [
    {
     "name": "stdout",
     "output_type": "stream",
     "text": [
      "33\n"
     ]
    }
   ],
   "source": [
    "n=int(input())\n",
    "count=0\n",
    "while count!=2:\n",
    "    a=n\n",
    "    res=0\n",
    "    while n!=0:\n",
    "        r=n%10\n",
    "        n//=10\n",
    "        res=res*10+r\n",
    "    n=a+1\n",
    "    if res==a:\n",
    "        count+=1\n",
    "        if count==2:\n",
    "            print(a)\n",
    "#print second palyprime"
   ]
  },
  {
   "cell_type": "code",
   "execution_count": 99,
   "metadata": {},
   "outputs": [
    {
     "name": "stdout",
     "output_type": "stream",
     "text": [
      "370\n"
     ]
    }
   ],
   "source": [
    "n=int(input())\n",
    "c=0\n",
    "while c!=2:\n",
    "    a=n\n",
    "    p=len(str(n))\n",
    "    res=0\n",
    "    while n!=0:\n",
    "        r=n%10\n",
    "        n//=10\n",
    "        res=res+r**p\n",
    "    if res==a:\n",
    "        c+=1\n",
    "        if c==2:\n",
    "            print(a)\n",
    "    n=a+1\n",
    "\n",
    "#print second armstrong"
   ]
  },
  {
   "cell_type": "code",
   "execution_count": 4,
   "metadata": {},
   "outputs": [
    {
     "name": "stdout",
     "output_type": "stream",
     "text": [
      "1\n",
      "2\n",
      "145\n",
      "40585\n"
     ]
    }
   ],
   "source": [
    "n=1\n",
    "c=0\n",
    "s=int(input())\n",
    "while c!=s:\n",
    "    res=0\n",
    "    a=n\n",
    "    while n!=0:\n",
    "        r=n%10\n",
    "        n//=10\n",
    "        f=1\n",
    "        for x in range(1,r+1):\n",
    "            f=f*x\n",
    "        res+=f\n",
    "    if res==a:\n",
    "        c+=1\n",
    "        print(a)\n",
    "    n=a+1\n",
    "#special numbers"
   ]
  },
  {
   "cell_type": "code",
   "execution_count": 6,
   "metadata": {},
   "outputs": [
    {
     "name": "stdout",
     "output_type": "stream",
     "text": [
      "7\n",
      "23\n",
      "43\n",
      "67\n"
     ]
    }
   ],
   "source": [
    "n=1\n",
    "c=0\n",
    "s=int(input())\n",
    "while c!=s:\n",
    "    k=2\n",
    "    while k<n//2+1:\n",
    "        if n%k==0:\n",
    "            break\n",
    "        k+=1\n",
    "    else:\n",
    "        c+=1\n",
    "        if c%5==0:\n",
    "            print(n)\n",
    "    n+=1\n",
    "    #prime nubers by only while loop"
   ]
  },
  {
   "cell_type": "code",
   "execution_count": 27,
   "metadata": {},
   "outputs": [
    {
     "name": "stdout",
     "output_type": "stream",
     "text": [
      "    e \n",
      "  e d e \n",
      "e d c d e \n",
      "  e d e \n",
      "    e \n"
     ]
    }
   ],
   "source": [
    "n=int(input())\n",
    "st=1\n",
    "sp=n//2\n",
    "for x in range(n):\n",
    "    num=5\n",
    "    for c in range(sp):\n",
    "        print(' ', end=' ')\n",
    "    for v in range(st):\n",
    "        print(chr(num+96), end=' ')\n",
    "        num=num-1 if v<st//2 else num+1\n",
    "    print()\n",
    "    if x<n//2:\n",
    "        st+=2\n",
    "        sp-=1\n",
    "    else:\n",
    "        st-=2\n",
    "        sp+=1"
   ]
  },
  {
   "cell_type": "code",
   "execution_count": 4,
   "metadata": {},
   "outputs": [
    {
     "name": "stdout",
     "output_type": "stream",
     "text": [
      "1 2 3 4 5 6 7 8 9 "
     ]
    }
   ],
   "source": [
    "def Prime(n):\n",
    "    if n<=1:\n",
    "        return False\n",
    "    for a in range(2,n//2+1):\n",
    "        if n%a==0:\n",
    "            return False\n",
    "    return True\n",
    "class Prime_iterator():\n",
    "    def __init__(self,a,b):\n",
    "        self.a=a\n",
    "        self.b=b\n",
    "    def __iter__(self):\n",
    "        return self\n",
    "    def __next__(self):\n",
    "        n=self.a\n",
    "        if self.a>=self.b:\n",
    "            raise StopIteration\n",
    "        else:\n",
    "            self.a+=1\n",
    "            if n>1:\n",
    "                for x in range(2,n//2+1):\n",
    "                    if n%x==0:\n",
    "                        break\n",
    "            return n    \n",
    "ob=Prime_iterator(1,10)\n",
    "x=iter(ob)\n",
    "for b in x:\n",
    "    print(b, end=' ')"
   ]
  },
  {
   "cell_type": "code",
   "execution_count": 2,
   "metadata": {},
   "outputs": [
    {
     "name": "stdout",
     "output_type": "stream",
     "text": [
      " 5            5\n",
      "  5          5\n",
      "   5        5\n",
      "    5      5\n",
      "     5    5\n",
      "      5  5\n"
     ]
    }
   ],
   "source": [
    "n=6\n",
    "sp=n+n-2\n",
    "num=5\n",
    "for x in range(n):\n",
    "    print(' '*(x), end=' ')\n",
    "    print(num, end=' ')\n",
    "    print(' '*(sp), end=' ')\n",
    "    print(num)\n",
    "    sp-=2\n"
   ]
  },
  {
   "cell_type": "code",
   "execution_count": 1,
   "metadata": {},
   "outputs": [
    {
     "name": "stdout",
     "output_type": "stream",
     "text": [
      "1 2 3 4 5 \n",
      "2 1 3 4 5 \n",
      "3 2 1 4 5 \n",
      "4 3 2 1 5 \n",
      "5 4 3 2 1 \n"
     ]
    }
   ],
   "source": [
    "n=5\n",
    "for x in range(1,n+1):\n",
    "    num=x\n",
    "    for c in range(1,n+1):\n",
    "        if c<x:\n",
    "            print(num, end=' ')\n",
    "            num=num-1\n",
    "        else:\n",
    "            print(num, end=' ')\n",
    "            num=c+1\n",
    "    print()"
   ]
  },
  {
   "cell_type": "code",
   "execution_count": 2,
   "metadata": {},
   "outputs": [
    {
     "name": "stdout",
     "output_type": "stream",
     "text": [
      "1 2 3 4 5 \n",
      "2 1 2 3 4 \n",
      "3 2 1 2 3 \n",
      "4 3 2 1 2 \n",
      "5 4 3 2 1 \n"
     ]
    }
   ],
   "source": [
    "n=5\n",
    "for x in range(n):\n",
    "    num=x+1\n",
    "    for c in range(n):\n",
    "        if c<x:\n",
    "            print(num, end=' ')\n",
    "            num-=1\n",
    "        else:\n",
    "            print(num, end=' ')\n",
    "            num+=1\n",
    "    print()"
   ]
  },
  {
   "cell_type": "code",
   "execution_count": 3,
   "metadata": {},
   "outputs": [
    {
     "name": "stdout",
     "output_type": "stream",
     "text": [
      "1 2 3 4 5 \n",
      "2 2 3 4 5 \n",
      "3 3 3 4 5 \n",
      "4 4 4 4 5 \n",
      "5 5 5 5 5 \n"
     ]
    }
   ],
   "source": [
    "n=5\n",
    "for x in range(n):\n",
    "    num=x+1\n",
    "    for c in range(n):\n",
    "        if c<x:\n",
    "            print(num, end=' ')\n",
    "        else:\n",
    "            print(num, end=' ')\n",
    "            num+=1\n",
    "    print()\n",
    "   "
   ]
  },
  {
   "cell_type": "code",
   "execution_count": 5,
   "metadata": {},
   "outputs": [
    {
     "name": "stdout",
     "output_type": "stream",
     "text": [
      "-5\n",
      "10\n"
     ]
    }
   ],
   "source": [
    "a=10\n",
    "b=-5\n",
    "a=a*b\n",
    "b=a//b\n",
    "a=a//b\n",
    "print(a)\n",
    "print(b)"
   ]
  },
  {
   "cell_type": "code",
   "execution_count": 4,
   "metadata": {},
   "outputs": [
    {
     "name": "stdout",
     "output_type": "stream",
     "text": [
      "          1 \n",
      "        2 2 \n",
      "      3   3 \n",
      "    4     4 \n",
      "  5       5 \n",
      "6         6 \n",
      "  5       5 \n",
      "    4     4 \n",
      "      3   3 \n",
      "        2 2 \n",
      "          1 \n"
     ]
    }
   ],
   "source": [
    "n=11\n",
    "st=1\n",
    "sp=n//2\n",
    "num=1\n",
    "for x in range(n):\n",
    "    for v in range(sp):\n",
    "        print(' ', end=' ')\n",
    "    for c in range(st):\n",
    "        if c==0 or c==st-1:\n",
    "            print(num, end=' ')\n",
    "        else:\n",
    "            print(' ', end=' ')\n",
    "    print()\n",
    "    if x<n//2:\n",
    "        st+=1\n",
    "        sp-=1\n",
    "        num+=1\n",
    "    else:\n",
    "        sp+=1\n",
    "        st-=1\n",
    "        num-=1\n",
    "\n",
    "\n"
   ]
  },
  {
   "cell_type": "code",
   "execution_count": 11,
   "metadata": {},
   "outputs": [
    {
     "name": "stdout",
     "output_type": "stream",
     "text": [
      "1\n",
      "3 2\n",
      "6 5 4\n",
      "10 9 8 7\n"
     ]
    }
   ],
   "source": [
    "n=4\n",
    "st=1\n",
    "num=1\n",
    "for x in range(n):\n",
    "    l=[]\n",
    "    for c in range(st):\n",
    "        l.append(str(num))\n",
    "        num+=1\n",
    "    print(' '.join(l[::-1]))\n",
    "    st+=1\n"
   ]
  },
  {
   "cell_type": "code",
   "execution_count": 2,
   "metadata": {},
   "outputs": [
    {
     "name": "stdout",
     "output_type": "stream",
     "text": [
      "3 11 "
     ]
    }
   ],
   "source": [
    "n=1\n",
    "c=0\n",
    "d=int(input('enter specific prime'))\n",
    "s=int(input('enter number of prime'))\n",
    "while c!=s:\n",
    "    k=2\n",
    "    while k<n//2+1:\n",
    "        if n%k==0:\n",
    "            break\n",
    "        k+=1\n",
    "    else:\n",
    "        c+=1\n",
    "        if c%d==0:\n",
    "            print(n, end=' ')\n",
    "    n+=1\n",
    "        "
   ]
  },
  {
   "cell_type": "code",
   "execution_count": 1,
   "metadata": {},
   "outputs": [
    {
     "name": "stdout",
     "output_type": "stream",
     "text": [
      "1 10 11 20 21 \n",
      "2 9 12 19 22 \n",
      "3 8 13 18 23 \n",
      "4 7 14 17 24 \n",
      "5 6 15 16 25 \n"
     ]
    }
   ],
   "source": [
    "n=5\n",
    "for a in range(n):\n",
    "    num=a+1\n",
    "    for b in range(n):\n",
    "        print(num,end=' ')\n",
    "        if b%2==0:\n",
    "            num+=(n*2-a-a-1)\n",
    "        else:\n",
    "            num+=(a+a+1)\n",
    "    print()\n"
   ]
  },
  {
   "cell_type": "code",
   "execution_count": 4,
   "metadata": {},
   "outputs": [
    {
     "name": "stdout",
     "output_type": "stream",
     "text": [
      "1 \n",
      "2 1 \n",
      "4 2 1 \n",
      "8 4 2 1 \n",
      "16 8 4 2 1 \n"
     ]
    }
   ],
   "source": [
    "n=5\n",
    "k=1\n",
    "for x in range(1,n+1):\n",
    "    num=k\n",
    "    while num>0:\n",
    "        print(num, end=' ')\n",
    "        num//=2\n",
    "    print()\n",
    "    k*=2"
   ]
  },
  {
   "cell_type": "code",
   "execution_count": 1,
   "metadata": {},
   "outputs": [
    {
     "name": "stdout",
     "output_type": "stream",
     "text": [
      "1 \n",
      "2 6 \n",
      "3 7 10 \n",
      "4 8 11 13 \n",
      "5 9 12 14 15 \n"
     ]
    }
   ],
   "source": [
    "n=5\n",
    "st=1\n",
    "for x in range(n):\n",
    "    num=x+1\n",
    "    for c in range(st):\n",
    "        print(num, end=' ')\n",
    "        num+=4-c\n",
    "    print()\n",
    "    st+=1"
   ]
  },
  {
   "cell_type": "code",
   "execution_count": 4,
   "metadata": {},
   "outputs": [
    {
     "name": "stdout",
     "output_type": "stream",
     "text": [
      "1 2 3 4 5 \n",
      "2 4 6 8 10 \n",
      "3 6 9 12 15 \n",
      "4 8 12 16 20 \n",
      "5 10 15 20 25 \n"
     ]
    }
   ],
   "source": [
    "n=5\n",
    "for x in range(n):\n",
    "    num=x+1\n",
    "    for c in range(n):\n",
    "        print(num, end=' ')\n",
    "        num+=x+1\n",
    "    print()\n"
   ]
  },
  {
   "cell_type": "code",
   "execution_count": 1,
   "metadata": {},
   "outputs": [
    {
     "name": "stdout",
     "output_type": "stream",
     "text": [
      "{'a': [2, 4, 6], 'b': [1, 3, 5]}\n"
     ]
    }
   ],
   "source": [
    "w=[]\n",
    "o=[]\n",
    "d={'a':w,'b':o}\n",
    "l=[1,2,3,4,5,6]\n",
    "for x in range(len(l)):\n",
    "    if l[x]%2==0:\n",
    "        w.append(l[x])\n",
    "    else:\n",
    "        o.append(l[x])\n",
    "print(d)"
   ]
  },
  {
   "cell_type": "code",
   "execution_count": 2,
   "metadata": {},
   "outputs": [
    {
     "name": "stdout",
     "output_type": "stream",
     "text": [
      "2020\n",
      "2024\n",
      "2028\n",
      "3 leap years is present between 2020 and 2030\n"
     ]
    }
   ],
   "source": [
    "s1=int(input('enter starting year'))\n",
    "s2=int(input('enter ending year'))\n",
    "n=s1\n",
    "c=0\n",
    "while s1!=s2:\n",
    "    if (s1%4==0 and s1%100!=0) or s1%400==0:\n",
    "        c+=1\n",
    "        print(s1)\n",
    "    s1+=1\n",
    "print(f'{c} leap years is present between {n} and {s2}')\n",
    "\n"
   ]
  },
  {
   "cell_type": "code",
   "execution_count": 1,
   "metadata": {},
   "outputs": [
    {
     "name": "stdout",
     "output_type": "stream",
     "text": [
      "1 6 11 16 21 \n",
      "2 7 12 17 22 \n",
      "3 8 13 18 23 \n",
      "4 9 14 19 24 \n",
      "5 10 15 20 25 \n"
     ]
    }
   ],
   "source": [
    "n=5\n",
    "for x in range(n):\n",
    "    num=x+1\n",
    "    for c in range(n):\n",
    "        print(num, end=' ')\n",
    "        num+=n\n",
    "    print()"
   ]
  },
  {
   "cell_type": "code",
   "execution_count": 3,
   "metadata": {},
   "outputs": [
    {
     "name": "stdout",
     "output_type": "stream",
     "text": [
      "1 2 3 4 5 \n",
      "1       2 \n",
      "1       2 \n",
      "1       2 \n",
      "1 2 3 4 5 \n"
     ]
    }
   ],
   "source": [
    "n=5\n",
    "for x in range(n):\n",
    "    num=1\n",
    "    for c in range(n):\n",
    "        if x==0 or x==n-1 or c==0 or c==n-1:\n",
    "            print(num,end=' ')\n",
    "            num+=1\n",
    "        else:\n",
    "            print(' ', end=' ')\n",
    "            \n",
    "    print()"
   ]
  },
  {
   "cell_type": "code",
   "execution_count": 1,
   "metadata": {},
   "outputs": [
    {
     "name": "stdout",
     "output_type": "stream",
     "text": [
      "1 2 3 4 5 \n",
      "2 3 4 5 1 \n",
      "3 4 5 1 2 \n",
      "4 5 1 2 3 \n",
      "5 1 2 3 4 \n"
     ]
    }
   ],
   "source": [
    "n=5\n",
    "for x in range(n):\n",
    "    num=x+1\n",
    "    for c in range(n):\n",
    "        print(num, end=' ')\n",
    "        if num<n:\n",
    "            num+=1\n",
    "        else:\n",
    "            num=1\n",
    "    print()\n"
   ]
  },
  {
   "cell_type": "code",
   "execution_count": 7,
   "metadata": {},
   "outputs": [
    {
     "name": "stdout",
     "output_type": "stream",
     "text": [
      "1 10 13 19 23 28 31 32 44 49 "
     ]
    }
   ],
   "source": [
    "n=1\n",
    "c=0\n",
    "f=int(input('enter the starting range'))\n",
    "while c!=f:\n",
    "    d=n\n",
    "    while n>=10:\n",
    "        r=0\n",
    "        while n!=0:\n",
    "            s=n%10\n",
    "            n//=10\n",
    "            r+=(s*s)\n",
    "        n=r\n",
    "    if n==1:\n",
    "        c+=1\n",
    "        print(d, end=' ')\n",
    "    n=d+1\n",
    "\n",
    "# happy number range"
   ]
  },
  {
   "cell_type": "code",
   "execution_count": 9,
   "metadata": {},
   "outputs": [
    {
     "name": "stdout",
     "output_type": "stream",
     "text": [
      "23 28 31 32 44 "
     ]
    }
   ],
   "source": [
    "n=1\n",
    "c=0\n",
    "f=int(input('enter the starting range'))\n",
    "t=int(input('enter the ending range'))\n",
    "i=0\n",
    "while True:\n",
    "    d=n\n",
    "    while n>=10:\n",
    "        r=0\n",
    "        while n!=0:\n",
    "            s=n%10\n",
    "            n//=10\n",
    "            r+=(s*s)\n",
    "        n=r\n",
    "    if n==1:\n",
    "        c+=1\n",
    "        if c>=f and i<t:\n",
    "            i+=1\n",
    "            print(d, end=' ')\n",
    "        if c>f+t:\n",
    "            break\n",
    "    n=d+1\n",
    "\n",
    "# happy number perticular range"
   ]
  },
  {
   "cell_type": "code",
   "execution_count": 1,
   "metadata": {},
   "outputs": [
    {
     "name": "stdout",
     "output_type": "stream",
     "text": [
      "1 \n",
      "2 \n",
      "4 3 \n",
      "7 6 5 \n",
      "11 10 9 8 \n",
      "16 15 14 13 12 \n",
      "22 21 20 19 18 17 \n"
     ]
    }
   ],
   "source": [
    "n=7\n",
    "st=1\n",
    "k=1\n",
    "for x in range(n):\n",
    "    num=k\n",
    "    for c in range(st):\n",
    "        print(num, end=' ')\n",
    "        num-=1\n",
    "    print()\n",
    "    k+=x+1\n",
    "    if x<1:\n",
    "        st=st\n",
    "    else:\n",
    "        st+=1\n"
   ]
  },
  {
   "cell_type": "code",
   "execution_count": 2,
   "metadata": {},
   "outputs": [
    {
     "name": "stdout",
     "output_type": "stream",
     "text": [
      "1 \n",
      "3 2 \n",
      "6 5 4 \n",
      "10 9 8 7 \n"
     ]
    }
   ],
   "source": [
    "n=4\n",
    "st=1\n",
    "num=1\n",
    "for x in range(n):\n",
    "    for c in range(st):\n",
    "        print(num, end=' ')\n",
    "        num-=1\n",
    "    print()\n",
    "    st+=1\n",
    "    num+=st+x+1"
   ]
  },
  {
   "cell_type": "code",
   "execution_count": 1,
   "metadata": {},
   "outputs": [
    {
     "name": "stdout",
     "output_type": "stream",
     "text": [
      "0.8357335298699802\n",
      "2\n",
      "banana\n",
      "['orange', 'apple', 'banana', 'pear']\n",
      "['b', 'e', 'd']\n"
     ]
    }
   ],
   "source": [
    "import random\n",
    "\n",
    "# Generate a random float between 0 and 1\n",
    "print(random.random())\n",
    "\n",
    "# Generate a random integer between 1 and 10 (inclusive)\n",
    "print(random.randint(1, 10))\n",
    "\n",
    "# Choose a random element from a list\n",
    "my_list = [\"apple\", \"banana\", \"orange\", \"pear\"]\n",
    "print(random.choice(my_list))\n",
    "\n",
    "# Shuffle the elements in a list\n",
    "random.shuffle(my_list)\n",
    "print(my_list)\n",
    "\n",
    "# Sample 3 unique elements from a list\n",
    "my_list = [\"a\", \"b\", \"c\", \"d\", \"e\"]\n",
    "print(random.sample(my_list, 3))\n"
   ]
  },
  {
   "cell_type": "code",
   "execution_count": 1,
   "metadata": {},
   "outputs": [
    {
     "name": "stdout",
     "output_type": "stream",
     "text": [
      "        1 \n",
      "      1   1 \n",
      "    1   2   1 \n",
      "  1   3   3   1 \n",
      "1   4   4   4   1 \n"
     ]
    }
   ],
   "source": [
    "n=int(input())\n",
    "sp=n-1\n",
    "st=1\n",
    "for x in range(n):\n",
    "    for c in range(sp):\n",
    "        print(' ', end=' ')\n",
    "    for d in range(st):\n",
    "        if d==0 or d==st-1:\n",
    "            print(1, end=' ')\n",
    "        else:\n",
    "            if d%2!=0:\n",
    "                print(' ', end=' ')\n",
    "            else:\n",
    "                print(x, end=' ')\n",
    "       \n",
    "    print()\n",
    "    sp-=1\n",
    "    st+=2"
   ]
  },
  {
   "cell_type": "code",
   "execution_count": 2,
   "metadata": {},
   "outputs": [
    {
     "name": "stdout",
     "output_type": "stream",
     "text": [
      "        1 \n",
      "      1 2 1 \n",
      "    1 3   3 1 \n",
      "  1 4   4   4 1 \n",
      "1 5   5   5   5 1 \n"
     ]
    }
   ],
   "source": [
    "n=int(input())\n",
    "sp=n-1\n",
    "st=1\n",
    "for x in range(n):\n",
    "    for c in range(sp):\n",
    "        print(' ', end=' ')\n",
    "    for d in range(st):\n",
    "        if d==0 or d==st-1:\n",
    "            print(1, end=' ')\n",
    "        else:\n",
    "            if d%2==0:\n",
    "                print(' ', end=' ')\n",
    "            else:\n",
    "                print(x+1, end=' ')\n",
    "       \n",
    "    print()\n",
    "    sp-=1\n",
    "    st+=2"
   ]
  },
  {
   "cell_type": "code",
   "execution_count": null,
   "metadata": {},
   "outputs": [],
   "source": []
  }
 ],
 "metadata": {
  "kernelspec": {
   "display_name": "Python 3",
   "language": "python",
   "name": "python3"
  },
  "language_info": {
   "codemirror_mode": {
    "name": "ipython",
    "version": 3
   },
   "file_extension": ".py",
   "mimetype": "text/x-python",
   "name": "python",
   "nbconvert_exporter": "python",
   "pygments_lexer": "ipython3",
   "version": "3.11.2"
  },
  "orig_nbformat": 4,
  "vscode": {
   "interpreter": {
    "hash": "5238573367df39f7286bb46f9ff5f08f63a01a80960060ce41e3c79b190280fa"
   }
  }
 },
 "nbformat": 4,
 "nbformat_minor": 2
}
