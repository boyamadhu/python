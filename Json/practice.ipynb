{
 "cells": [
  {
   "cell_type": "code",
   "execution_count": 7,
   "metadata": {},
   "outputs": [
    {
     "name": "stdout",
     "output_type": "stream",
     "text": [
      "{\"name\": \"madhu\", \"age\": 20, \"married\": null, \"educated\": true}\n"
     ]
    }
   ],
   "source": [
    "with open('madhu.txt','w+') as fo:\n",
    "    d={'name':'madhu','age':20,'married':None,'educated':True}\n",
    "    import json\n",
    "    j=json.dumps(d)\n",
    "    # fo.write(j)\n",
    "    # fo.seek(0)\n",
    "    # x=fo.read()\n",
    "    print(j)"
   ]
  },
  {
   "cell_type": "code",
   "execution_count": 11,
   "metadata": {},
   "outputs": [
    {
     "name": "stdout",
     "output_type": "stream",
     "text": [
      "{\"name\": \"madhu\", \"age\": 20, \"married\": null, \"educated\": true}\n"
     ]
    }
   ],
   "source": [
    "with open('madhu.txt','w+') as fo:\n",
    "    d={'name':'madhu','age':20,'married':None,'educated':True}\n",
    "    import json\n",
    "    j=json.dump(d,fo)\n",
    "    fo.seek(0)\n",
    "    x=fo.read()\n",
    "    print(x)"
   ]
  },
  {
   "cell_type": "code",
   "execution_count": 1,
   "metadata": {},
   "outputs": [
    {
     "ename": "JSONDecodeError",
     "evalue": "Expecting value: line 1 column 1 (char 0)",
     "output_type": "error",
     "traceback": [
      "\u001b[1;31m---------------------------------------------------------------------------\u001b[0m",
      "\u001b[1;31mJSONDecodeError\u001b[0m                           Traceback (most recent call last)",
      "Cell \u001b[1;32mIn[1], line 6\u001b[0m\n\u001b[0;32m      3\u001b[0m \u001b[39mimport\u001b[39;00m \u001b[39mjson\u001b[39;00m\n\u001b[0;32m      4\u001b[0m \u001b[39m# x=fo.read()\u001b[39;00m\n\u001b[0;32m      5\u001b[0m \u001b[39m# print(x)\u001b[39;00m\n\u001b[1;32m----> 6\u001b[0m j\u001b[39m=\u001b[39mjson\u001b[39m.\u001b[39;49mload(fo)\n\u001b[0;32m      7\u001b[0m \u001b[39mprint\u001b[39m(j)\n",
      "File \u001b[1;32mc:\\Program Files\\Python311\\Lib\\json\\__init__.py:293\u001b[0m, in \u001b[0;36mload\u001b[1;34m(fp, cls, object_hook, parse_float, parse_int, parse_constant, object_pairs_hook, **kw)\u001b[0m\n\u001b[0;32m    274\u001b[0m \u001b[39mdef\u001b[39;00m \u001b[39mload\u001b[39m(fp, \u001b[39m*\u001b[39m, \u001b[39mcls\u001b[39m\u001b[39m=\u001b[39m\u001b[39mNone\u001b[39;00m, object_hook\u001b[39m=\u001b[39m\u001b[39mNone\u001b[39;00m, parse_float\u001b[39m=\u001b[39m\u001b[39mNone\u001b[39;00m,\n\u001b[0;32m    275\u001b[0m         parse_int\u001b[39m=\u001b[39m\u001b[39mNone\u001b[39;00m, parse_constant\u001b[39m=\u001b[39m\u001b[39mNone\u001b[39;00m, object_pairs_hook\u001b[39m=\u001b[39m\u001b[39mNone\u001b[39;00m, \u001b[39m*\u001b[39m\u001b[39m*\u001b[39mkw):\n\u001b[0;32m    276\u001b[0m     \u001b[39m\"\"\"Deserialize ``fp`` (a ``.read()``-supporting file-like object containing\u001b[39;00m\n\u001b[0;32m    277\u001b[0m \u001b[39m    a JSON document) to a Python object.\u001b[39;00m\n\u001b[0;32m    278\u001b[0m \n\u001b[1;32m   (...)\u001b[0m\n\u001b[0;32m    291\u001b[0m \u001b[39m    kwarg; otherwise ``JSONDecoder`` is used.\u001b[39;00m\n\u001b[0;32m    292\u001b[0m \u001b[39m    \"\"\"\u001b[39;00m\n\u001b[1;32m--> 293\u001b[0m     \u001b[39mreturn\u001b[39;00m loads(fp\u001b[39m.\u001b[39;49mread(),\n\u001b[0;32m    294\u001b[0m         \u001b[39mcls\u001b[39;49m\u001b[39m=\u001b[39;49m\u001b[39mcls\u001b[39;49m, object_hook\u001b[39m=\u001b[39;49mobject_hook,\n\u001b[0;32m    295\u001b[0m         parse_float\u001b[39m=\u001b[39;49mparse_float, parse_int\u001b[39m=\u001b[39;49mparse_int,\n\u001b[0;32m    296\u001b[0m         parse_constant\u001b[39m=\u001b[39;49mparse_constant, object_pairs_hook\u001b[39m=\u001b[39;49mobject_pairs_hook, \u001b[39m*\u001b[39;49m\u001b[39m*\u001b[39;49mkw)\n",
      "File \u001b[1;32mc:\\Program Files\\Python311\\Lib\\json\\__init__.py:346\u001b[0m, in \u001b[0;36mloads\u001b[1;34m(s, cls, object_hook, parse_float, parse_int, parse_constant, object_pairs_hook, **kw)\u001b[0m\n\u001b[0;32m    341\u001b[0m     s \u001b[39m=\u001b[39m s\u001b[39m.\u001b[39mdecode(detect_encoding(s), \u001b[39m'\u001b[39m\u001b[39msurrogatepass\u001b[39m\u001b[39m'\u001b[39m)\n\u001b[0;32m    343\u001b[0m \u001b[39mif\u001b[39;00m (\u001b[39mcls\u001b[39m \u001b[39mis\u001b[39;00m \u001b[39mNone\u001b[39;00m \u001b[39mand\u001b[39;00m object_hook \u001b[39mis\u001b[39;00m \u001b[39mNone\u001b[39;00m \u001b[39mand\u001b[39;00m\n\u001b[0;32m    344\u001b[0m         parse_int \u001b[39mis\u001b[39;00m \u001b[39mNone\u001b[39;00m \u001b[39mand\u001b[39;00m parse_float \u001b[39mis\u001b[39;00m \u001b[39mNone\u001b[39;00m \u001b[39mand\u001b[39;00m\n\u001b[0;32m    345\u001b[0m         parse_constant \u001b[39mis\u001b[39;00m \u001b[39mNone\u001b[39;00m \u001b[39mand\u001b[39;00m object_pairs_hook \u001b[39mis\u001b[39;00m \u001b[39mNone\u001b[39;00m \u001b[39mand\u001b[39;00m \u001b[39mnot\u001b[39;00m kw):\n\u001b[1;32m--> 346\u001b[0m     \u001b[39mreturn\u001b[39;00m _default_decoder\u001b[39m.\u001b[39;49mdecode(s)\n\u001b[0;32m    347\u001b[0m \u001b[39mif\u001b[39;00m \u001b[39mcls\u001b[39m \u001b[39mis\u001b[39;00m \u001b[39mNone\u001b[39;00m:\n\u001b[0;32m    348\u001b[0m     \u001b[39mcls\u001b[39m \u001b[39m=\u001b[39m JSONDecoder\n",
      "File \u001b[1;32mc:\\Program Files\\Python311\\Lib\\json\\decoder.py:337\u001b[0m, in \u001b[0;36mJSONDecoder.decode\u001b[1;34m(self, s, _w)\u001b[0m\n\u001b[0;32m    332\u001b[0m \u001b[39mdef\u001b[39;00m \u001b[39mdecode\u001b[39m(\u001b[39mself\u001b[39m, s, _w\u001b[39m=\u001b[39mWHITESPACE\u001b[39m.\u001b[39mmatch):\n\u001b[0;32m    333\u001b[0m     \u001b[39m\"\"\"Return the Python representation of ``s`` (a ``str`` instance\u001b[39;00m\n\u001b[0;32m    334\u001b[0m \u001b[39m    containing a JSON document).\u001b[39;00m\n\u001b[0;32m    335\u001b[0m \n\u001b[0;32m    336\u001b[0m \u001b[39m    \"\"\"\u001b[39;00m\n\u001b[1;32m--> 337\u001b[0m     obj, end \u001b[39m=\u001b[39m \u001b[39mself\u001b[39;49m\u001b[39m.\u001b[39;49mraw_decode(s, idx\u001b[39m=\u001b[39;49m_w(s, \u001b[39m0\u001b[39;49m)\u001b[39m.\u001b[39;49mend())\n\u001b[0;32m    338\u001b[0m     end \u001b[39m=\u001b[39m _w(s, end)\u001b[39m.\u001b[39mend()\n\u001b[0;32m    339\u001b[0m     \u001b[39mif\u001b[39;00m end \u001b[39m!=\u001b[39m \u001b[39mlen\u001b[39m(s):\n",
      "File \u001b[1;32mc:\\Program Files\\Python311\\Lib\\json\\decoder.py:355\u001b[0m, in \u001b[0;36mJSONDecoder.raw_decode\u001b[1;34m(self, s, idx)\u001b[0m\n\u001b[0;32m    353\u001b[0m     obj, end \u001b[39m=\u001b[39m \u001b[39mself\u001b[39m\u001b[39m.\u001b[39mscan_once(s, idx)\n\u001b[0;32m    354\u001b[0m \u001b[39mexcept\u001b[39;00m \u001b[39mStopIteration\u001b[39;00m \u001b[39mas\u001b[39;00m err:\n\u001b[1;32m--> 355\u001b[0m     \u001b[39mraise\u001b[39;00m JSONDecodeError(\u001b[39m\"\u001b[39m\u001b[39mExpecting value\u001b[39m\u001b[39m\"\u001b[39m, s, err\u001b[39m.\u001b[39mvalue) \u001b[39mfrom\u001b[39;00m \u001b[39mNone\u001b[39m\n\u001b[0;32m    356\u001b[0m \u001b[39mreturn\u001b[39;00m obj, end\n",
      "\u001b[1;31mJSONDecodeError\u001b[0m: Expecting value: line 1 column 1 (char 0)"
     ]
    }
   ],
   "source": [
    "with open('madhu.txt','r+') as fo:\n",
    "    d={'name':'madhu','age':20,'married':None,'educated':True}\n",
    "    import json\n",
    "    x=fo.read()\n",
    "    print(x)\n",
    "    # j=json.load(fo)\n",
    "    print(j)"
   ]
  },
  {
   "cell_type": "code",
   "execution_count": 20,
   "metadata": {},
   "outputs": [
    {
     "name": "stdout",
     "output_type": "stream",
     "text": [
      "None\n"
     ]
    }
   ],
   "source": [
    "with open('sab.pkl','wb') as fo:\n",
    "    d={'name':'madhu','age':20,'married':None,'educated':True}\n",
    "    import pickle\n",
    "    # x=fo.read()\n",
    "    # print(x)\n",
    "    j=pickle.dump(d,fo)\n",
    "    print(j)"
   ]
  },
  {
   "attachments": {},
   "cell_type": "markdown",
   "metadata": {},
   "source": [
    "PICKLING AND UNPICKLING"
   ]
  },
  {
   "cell_type": "code",
   "execution_count": 13,
   "metadata": {},
   "outputs": [
    {
     "ename": "EOFError",
     "evalue": "Ran out of input",
     "output_type": "error",
     "traceback": [
      "\u001b[1;31m---------------------------------------------------------------------------\u001b[0m",
      "\u001b[1;31mEOFError\u001b[0m                                  Traceback (most recent call last)",
      "Cell \u001b[1;32mIn[13], line 3\u001b[0m\n\u001b[0;32m      1\u001b[0m \u001b[39mwith\u001b[39;00m \u001b[39mopen\u001b[39m(\u001b[39m'\u001b[39m\u001b[39msab.pkl\u001b[39m\u001b[39m'\u001b[39m,\u001b[39m'\u001b[39m\u001b[39mwb+\u001b[39m\u001b[39m'\u001b[39m) \u001b[39mas\u001b[39;00m fo:\n\u001b[0;32m      2\u001b[0m     \u001b[39mimport\u001b[39;00m \u001b[39mpickle\u001b[39;00m\n\u001b[1;32m----> 3\u001b[0m     r\u001b[39m=\u001b[39mpickle\u001b[39m.\u001b[39;49mload(fo)\n\u001b[0;32m      4\u001b[0m     pickle\u001b[39m.\u001b[39mdump(r,fo)\n\u001b[0;32m      5\u001b[0m     \u001b[39mprint\u001b[39m(fo\u001b[39m.\u001b[39mread())\n",
      "\u001b[1;31mEOFError\u001b[0m: Ran out of input"
     ]
    }
   ],
   "source": [
    "with open('sab.pkl','rb+') as fo:\n",
    "    import pickle\n",
    "    r=pickle.load(fo)\n",
    "    pickle.dump(r,fo)\n",
    "    print(fo.read())"
   ]
  },
  {
   "cell_type": "code",
   "execution_count": 14,
   "metadata": {},
   "outputs": [
    {
     "name": "stdout",
     "output_type": "stream",
     "text": [
      "[{'name': 'eggs', 'price': 1}, {'name': 'coffee', 'price': 9.99}, {'name': 'rice', 'price': 4.04}, {'name': 'gobi', 'price': 4.04}]\n",
      "[1, 4.04, 4.04, 9.99]\n",
      "[4.04]\n",
      "[{'name': 'eggs', 'price': 1}, {'name': 'coffee', 'price': 9.99}, {'name': 'eggs', 'price': 1}, {'name': 'gobi', 'price': 4.04}, {'name': 'rice', 'price': 4.04}]\n"
     ]
    }
   ],
   "source": [
    "def  sort_by_price_ascending(string):\n",
    "    import json\n",
    "    j=json.loads(string)\n",
    "    print(j)\n",
    "    l1=[]\n",
    "    l2=[]\n",
    "    l3=[]\n",
    "    l4=[]\n",
    "    for x in j:\n",
    "        if x['price'] not in l1:\n",
    "            l1.append(x['price'])\n",
    "        else:\n",
    "            l2.append(x['name'])\n",
    "    for i in l1:\n",
    "        if  l1.count(i)>1 and i not in l3:\n",
    "            l3.append(i)\n",
    "\n",
    "    l1.sort()\n",
    "    l2.sort()\n",
    "    print(l1)\n",
    "    print(l3)\n",
    "    a=0\n",
    "    for c in range(len(j)):\n",
    "        for d in j:\n",
    "            if d['price'] not in l1 and d not in l4:\n",
    "                l4.append(d)\n",
    "            else:\n",
    "                if d['name']==l2[a] and d['price']==l1[a]:\n",
    "                    l4.append(d)\n",
    "                    a+=1\n",
    "\n",
    "    return l4\n",
    "    # ordered_dict=json.dumps(l3)\n",
    "    # return ordered_dict\n",
    "    \n",
    "string='[{\"name\":\"eggs\",\"price\":1},{\"name\":\"coffee\",\"price\":9.99},{\"name\":\"rice\",\"price\":4.04},{\"name\":\"gobi\",\"price\":4.04}]'\n",
    "print(sort_by_price_ascending(string))"
   ]
  },
  {
   "cell_type": "code",
   "execution_count": 2,
   "metadata": {},
   "outputs": [
    {
     "ename": "SyntaxError",
     "evalue": "invalid syntax (563853703.py, line 1)",
     "output_type": "error",
     "traceback": [
      "\u001b[1;36m  Cell \u001b[1;32mIn[2], line 1\u001b[1;36m\u001b[0m\n\u001b[1;33m    implement the function sort_by_price_ascending, which:\u001b[0m\n\u001b[1;37m              ^\u001b[0m\n\u001b[1;31mSyntaxError\u001b[0m\u001b[1;31m:\u001b[0m invalid syntax\n"
     ]
    }
   ],
   "source": [
    "implement the function sort_by_price_ascending, which:\n",
    "\n",
    "Accepts a string in JSON format, as in the example below.\n",
    "Orders items by price in ascending order.\n",
    "If two products have the same price, it orders them by their name in alphabetical order.\n",
    "Returns a string in JSON format that is equivalent to the one in the input format.\n",
    "For example, the call\n",
    "\n",
    "sort_by_price_ascending('[{\"name\":\"eggs\",\"price\":1},{\"name\":\"coffee\",\"price\":9.99},{\"name\":\"rice\",\"price\":4.04}]');\n",
    "should return\n",
    "\n",
    "'[{\"name\":\"eggs\",\"price\":1},{\"name\":\"rice\",\"price\":4.04},{\"name\":\"coffee\",\"price\":9.99}]'\n",
    "\n"
   ]
  },
  {
   "cell_type": "code",
   "execution_count": 17,
   "metadata": {},
   "outputs": [
    {
     "name": "stdout",
     "output_type": "stream",
     "text": [
      "[{'name': 'eggs', 'price': 1}, {'name': 'coffee', 'price': 9.99}, {'name': 'rice', 'price': 4.04}, {'name': 'gobi', 'price': 4.04}]\n",
      "[{\"name\": \"eggs\", \"price\": 1}, {\"name\": \"gobi\", \"price\": 4.04}, {\"name\": \"rice\", \"price\": 4.04}, {\"name\": \"coffee\", \"price\": 9.99}]\n"
     ]
    }
   ],
   "source": [
    "def  sort_by_price_ascending(string):\n",
    "    import json\n",
    "    j=json.loads(string)\n",
    "    print(j)\n",
    "    l1=[]\n",
    "    l2=[]\n",
    "    for x in j:\n",
    "        l1.append(x['price'])\n",
    "        l2.append(x['name'])\n",
    "    l1.sort()\n",
    "    l2.sort()\n",
    "    \n",
    "    for c in range(len(j)):\n",
    "        for d in j:\n",
    "            if d['name']==l2[c]:\n",
    "                l2[c]=d\n",
    "    res=[]\n",
    "    for c in range(len(l2)):\n",
    "        for d in l2:\n",
    "            if d['price']==l1[c] and d['name'] not in res:\n",
    "                res.append(d['name'])\n",
    "                l1[c]=d   \n",
    "\n",
    "    \n",
    "    ordered_dict=json.dumps(l1)\n",
    "    return ordered_dict\n",
    "    \n",
    "string='[{\"name\":\"eggs\",\"price\":1},{\"name\":\"coffee\",\"price\":9.99},{\"name\":\"rice\",\"price\":4.04},{\"name\":\"gobi\",\"price\":4.04}]'\n",
    "print(sort_by_price_ascending(string))"
   ]
  },
  {
   "cell_type": "code",
   "execution_count": 1,
   "metadata": {},
   "outputs": [
    {
     "name": "stdout",
     "output_type": "stream",
     "text": [
      "True\n",
      "True\n",
      "True\n"
     ]
    }
   ],
   "source": [
    "class Animal:\n",
    "    pass\n",
    "\n",
    "class Dog(Animal):\n",
    "    pass\n",
    "\n",
    "dog = Dog()\n",
    "\n",
    "print(isinstance(dog, Dog))     # Output: True\n",
    "print(isinstance(dog, Animal))  # Output: True\n",
    "print(isinstance(dog, object))  # Output: True\n"
   ]
  },
  {
   "cell_type": "code",
   "execution_count": 5,
   "metadata": {},
   "outputs": [
    {
     "data": {
      "text/plain": [
       "[1, 2, 5, 15, 9, 10]"
      ]
     },
     "execution_count": 5,
     "metadata": {},
     "output_type": "execute_result"
    }
   ],
   "source": [
    "l=[1,2,[3,2],[6,5,4],9,10]\n",
    "\n",
    "for i in range(len(l)):\n",
    "    a=0\n",
    "    if type(l[i])==list:\n",
    "        for c in l[i]:\n",
    "            a+=c\n",
    "        l[i]=a\n",
    "l"
   ]
  },
  {
   "cell_type": "code",
   "execution_count": null,
   "metadata": {},
   "outputs": [],
   "source": []
  }
 ],
 "metadata": {
  "kernelspec": {
   "display_name": "Python 3",
   "language": "python",
   "name": "python3"
  },
  "language_info": {
   "codemirror_mode": {
    "name": "ipython",
    "version": 3
   },
   "file_extension": ".py",
   "mimetype": "text/x-python",
   "name": "python",
   "nbconvert_exporter": "python",
   "pygments_lexer": "ipython3",
   "version": "3.11.2"
  },
  "orig_nbformat": 4
 },
 "nbformat": 4,
 "nbformat_minor": 2
}
