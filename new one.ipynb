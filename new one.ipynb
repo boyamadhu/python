{
 "cells": [
  {
   "cell_type": "code",
   "execution_count": 1,
   "metadata": {},
   "outputs": [
    {
     "name": "stdout",
     "output_type": "stream",
     "text": [
      "hell madhu\n"
     ]
    }
   ],
   "source": [
    "n=input()\n",
    "print('hello ' +n)"
   ]
  },
  {
   "cell_type": "code",
   "execution_count": 2,
   "metadata": {},
   "outputs": [
    {
     "name": "stdout",
     "output_type": "stream",
     "text": [
      "8\n",
      "1\n"
     ]
    }
   ],
   "source": [
    "n=int(input())\n",
    "x=n%10\n",
    "print(x)\n",
    "res=0\n",
    "while n!=0:\n",
    "    r=n%10\n",
    "    n//=10\n",
    "    res=res*10+r\n",
    "v=res%10\n",
    "print(v)\n",
    "\n",
    "#getting first and last digits of input"
   ]
  },
  {
   "cell_type": "code",
   "execution_count": 3,
   "metadata": {},
   "outputs": [
    {
     "name": "stdout",
     "output_type": "stream",
     "text": [
      "18\n",
      "81\n",
      "its a magic number\n"
     ]
    }
   ],
   "source": [
    "n=int(input())\n",
    "j=n\n",
    "res=0\n",
    "x=0\n",
    "while n!=0:\n",
    "    r=n%10\n",
    "    n//=10\n",
    "    res+=r\n",
    "f=res\n",
    "while res!=0:\n",
    "    b=res%10\n",
    "    res//=10\n",
    "    x=x*10+b\n",
    "print(f)\n",
    "print(x)\n",
    "t=f*x\n",
    "if t==j:\n",
    "    print('its a magic number')\n",
    "else:\n",
    "    print('its not a magic number')\n"
   ]
  },
  {
   "cell_type": "code",
   "execution_count": 4,
   "metadata": {},
   "outputs": [
    {
     "name": "stdout",
     "output_type": "stream",
     "text": [
      "['asus', 'hp', 'dell']\n"
     ]
    }
   ],
   "source": [
    "q={'asus':10000, 'hp':22000, 'dell':34500}\n",
    "n=int(input())\n",
    "keys=[key for key,val in q.items() if val<=n]\n",
    "print(keys)"
   ]
  },
  {
   "cell_type": "code",
   "execution_count": 5,
   "metadata": {},
   "outputs": [
    {
     "name": "stdout",
     "output_type": "stream",
     "text": [
      "[4, 3, 2, 1, 'madhu']\n"
     ]
    }
   ],
   "source": [
    "a=['madhu',1,2,3,4]\n",
    "a.reverse()\n",
    "print(a)"
   ]
  },
  {
   "cell_type": "code",
   "execution_count": 6,
   "metadata": {},
   "outputs": [
    {
     "name": "stdout",
     "output_type": "stream",
     "text": [
      "its character\n"
     ]
    }
   ],
   "source": [
    "a=input()\n",
    "res=''\n",
    "if a.isdigit():\n",
    "    print('integer')\n",
    "elif a.isalpha():\n",
    "    print('its character')\n",
    "else:\n",
    "    print('its special character')"
   ]
  },
  {
   "cell_type": "code",
   "execution_count": 7,
   "metadata": {},
   "outputs": [
    {
     "name": "stdout",
     "output_type": "stream",
     "text": [
      "not string\n"
     ]
    }
   ],
   "source": [
    "n=input()\n",
    "try:\n",
    "    float(n)\n",
    "    print('not string')\n",
    "except:\n",
    "    print('string')"
   ]
  },
  {
   "cell_type": "code",
   "execution_count": 8,
   "metadata": {},
   "outputs": [
    {
     "name": "stdout",
     "output_type": "stream",
     "text": [
      "s\n"
     ]
    }
   ],
   "source": [
    "def anarg(n):\n",
    "    l=list(n)\n",
    "    for x in range(len(l)):\n",
    "        for c in range(len(l)-1-x):\n",
    "            if l[c]>l[c+1]:\n",
    "                l[c],l[c+1]=l[c+1],l[c]\n",
    "s1='heart'\n",
    "s2='earth'\n",
    "if anarg(s1)==anarg(s2):\n",
    "    print('')"
   ]
  },
  {
   "cell_type": "code",
   "execution_count": 9,
   "metadata": {},
   "outputs": [
    {
     "name": "stdout",
     "output_type": "stream",
     "text": [
      "['d']\n"
     ]
    }
   ],
   "source": [
    "a={'d':['madhu','ravi'],'g':['vishu','ram']}\n",
    "n=str(input())\n",
    "x=[key for key,val in a.items() if n in val]\n",
    "print(x)"
   ]
  },
  {
   "cell_type": "code",
   "execution_count": 10,
   "metadata": {},
   "outputs": [
    {
     "name": "stdout",
     "output_type": "stream",
     "text": [
      "d\n"
     ]
    }
   ],
   "source": [
    "a={'d':['madhu','ravi'],'g':['vishu','ram']}\n",
    "n=input()\n",
    "def madhu(n):\n",
    "    for k,v in a.items():\n",
    "        if n in v:\n",
    "            print(k)\n",
    "madhu(n)"
   ]
  },
  {
   "cell_type": "code",
   "execution_count": 12,
   "metadata": {},
   "outputs": [
    {
     "name": "stdout",
     "output_type": "stream",
     "text": [
      "1*1=1\n",
      "1*2=2\n",
      "1*3=3\n",
      "1*4=4\n",
      "1*5=5\n",
      "1*6=6\n",
      "1*7=7\n",
      "1*8=8\n",
      "1*9=9\n",
      "1*10=10\n",
      "\n",
      "2*1=2\n",
      "2*2=4\n",
      "2*3=6\n",
      "2*4=8\n",
      "2*5=10\n",
      "2*6=12\n",
      "2*7=14\n",
      "2*8=16\n",
      "2*9=18\n",
      "2*10=20\n",
      "\n"
     ]
    }
   ],
   "source": [
    "n=int(input())\n",
    "for x in range(1,n+1):\n",
    "    for c in range(1,11):\n",
    "        print(f'{x}*{c}={x*c}')\n",
    "    print()"
   ]
  },
  {
   "cell_type": "code",
   "execution_count": 8,
   "metadata": {},
   "outputs": [
    {
     "name": "stdout",
     "output_type": "stream",
     "text": [
      "welcome to book my show\n",
      "please choose movie name to book tickets\n",
      "pokiri 100\n",
      "rrr 200\n",
      "bahubali 500\n",
      "spiderman 300\n",
      "rr movie was not available\n",
      "your total amount is 500 for your 1\n",
      "1 tickets was booked for bahubali movie sucessfully\n"
     ]
    }
   ],
   "source": [
    "\n",
    "def outer(arg):\n",
    "    d={}\n",
    "    def inner():\n",
    "        if arg not in d:\n",
    "            d[arg]=arg()\n",
    "        return d[arg]\n",
    "    return inner\n",
    "\n",
    "class bank:\n",
    "    def __init__(self):\n",
    "        self.bal=500\n",
    "        self.pin=1234\n",
    "\n",
    "movies={'pokiri':100,'rrr':200,'bahubali':500,'spiderman':300}\n",
    "print('welcome to book my show')\n",
    "print('please choose movie name to book tickets')\n",
    "for movie,price in movies.items():\n",
    "    print(f'{movie} {price}')\n",
    "@outer\n",
    "class rrr(bank):\n",
    "    def __init__(self):\n",
    "        super().__init__()\n",
    "        self.tickets=100\n",
    "        self.price=200\n",
    "    def booking(self):\n",
    "        select_tickets=int(input('enter no of tickets for rrr movie'))\n",
    "        if select_tickets<=self.tickets:\n",
    "            amount=self.price*select_tickets\n",
    "            if self.bal>=amount:\n",
    "                if self.pin==self.getpin():\n",
    "                    self.bal-=amount\n",
    "                    self.tickets-=select_tickets\n",
    "                    print(f'your total amount is {amount} for your {select_tickets}')\n",
    "                    print(f'{select_tickets} tickets was booked for rrr movie sucessfully')\n",
    "                    print(f' your account bal is {self.bal}')\n",
    "                else:\n",
    "                    print('entered pin is wrong')\n",
    "            else:\n",
    "                print('your account balance is low')\n",
    "        else:\n",
    "            print('tickets not available')\n",
    "    @staticmethod\n",
    "    def getpin():\n",
    "        return int(input('enter your pin'))\n",
    "\n",
    "@outer\n",
    "class pokiri(bank):\n",
    "    def __init__(self):\n",
    "        super().__init__()\n",
    "        self.tickets=100\n",
    "        self.price=100\n",
    "    def booking(self):\n",
    "        select_tickets=int(input('enter no of tickets for pokiri movie'))\n",
    "        if select_tickets<=self.tickets:\n",
    "            amount=self.price*select_tickets\n",
    "            if self.bal>=amount:\n",
    "                if self.pin==self.getpin():\n",
    "                    self.bal-=amount\n",
    "                    self.tickets-=select_tickets\n",
    "                    print(f'your total amount is {amount} for your {select_tickets}')\n",
    "                    print(f'{select_tickets} tickets was booked for pokiri movie sucessfully')\n",
    "                else:\n",
    "                    print('entered pin is wrong')\n",
    "            else:\n",
    "                print('your account balance is low')\n",
    "        else:\n",
    "            print('tickets not available')\n",
    "    @staticmethod\n",
    "    def getpin():\n",
    "        return int(input('enter your pin'))\n",
    "\n",
    "@outer\n",
    "class bahubali(bank):\n",
    "    def __init__(self):\n",
    "        super().__init__()\n",
    "        self.tickets=100\n",
    "        self.price=500\n",
    "    def booking(self):\n",
    "        select_tickets=int(input('enter no of tickets for bahubali movie'))\n",
    "        if select_tickets<=self.tickets:\n",
    "            amount=self.price*select_tickets\n",
    "            if self.bal>=amount:\n",
    "                if self.pin==self.getpin():\n",
    "                    self.bal-=amount\n",
    "                    self.tickets-=select_tickets\n",
    "                    print(f'your total amount is {amount} for your {select_tickets}')\n",
    "                    print(f'{select_tickets} tickets was booked for bahubali movie sucessfully')\n",
    "                else:\n",
    "                    print('entered pin is wrong')\n",
    "            else:\n",
    "                print('your account balance is low')\n",
    "        else:\n",
    "            print('tickets not available')\n",
    "    @staticmethod\n",
    "    def getpin():\n",
    "        return int(input('enter your pin'))\n",
    "\n",
    "@outer\n",
    "class spiderman(bank):\n",
    "    def __init__(self):\n",
    "        super().__init__()\n",
    "        self.tickets=100\n",
    "        self.price=300\n",
    "    def booking(self):\n",
    "        select_tickets=int(input('enter no of tickets for spiderman movie'))\n",
    "        if select_tickets<=self.tickets:\n",
    "            amount=self.price*select_tickets\n",
    "            if self.bal>=amount:\n",
    "                if self.pin==self.getpin():\n",
    "                    self.bal-=amount\n",
    "                    self.tickets-=select_tickets\n",
    "                    print(f'your total amount is {amount} for your {select_tickets}')\n",
    "                    print(f'{select_tickets} tickets was booked for spiderman movie sucessfully')\n",
    "                else:\n",
    "                    print('entered pin is wrong')\n",
    "            else:\n",
    "                print('your account balance is low')\n",
    "        else:\n",
    "            print('tickets not available')\n",
    "    @staticmethod\n",
    "    def getpin():\n",
    "        return int(input('enter your pin'))\n",
    "\n",
    "\n",
    "def bookmyshow():\n",
    "    select_movie=input('enter movie name')\n",
    "    if select_movie in movies:\n",
    "        if select_movie=='rrr':\n",
    "            ob=rrr()\n",
    "            ob.booking()\n",
    "        elif select_movie=='pokiri':\n",
    "            ob=pokiri()\n",
    "            ob.booking()\n",
    "        elif select_movie=='bahubali':\n",
    "            ob=bahubali()\n",
    "            ob.booking()\n",
    "        elif select_movie=='spiderman':\n",
    "            ob=spiderman()\n",
    "            ob.booking()\n",
    "    else:\n",
    "        print(f'{select_movie} movie was not available')\n",
    "bookmyshow()\n",
    "bookmyshow()"
   ]
  },
  {
   "cell_type": "code",
   "execution_count": null,
   "metadata": {},
   "outputs": [],
   "source": [
    "\n",
    "\n",
    "def outer(arg):\n",
    "    d={}\n",
    "    def inner():\n",
    "        if arg not in d:\n",
    "            d[arg]=arg()\n",
    "        return d[arg]\n",
    "    return inner\n",
    "\n",
    "class bank():\n",
    "    def __init__(self):\n",
    "        self.bal=500\n",
    "        self.pin=11\n",
    "\n",
    "movies={'pokiri':100,'rrr':200,'bahubali':500,'spiderman':300}\n",
    "print('welcome to book my show')\n",
    "print('please choose movie name to book tickets')\n",
    "for movie,price in movies.items():\n",
    "    print(f'{movie} {price}')\n",
    "@outer\n",
    "class rrr(bank):\n",
    "    def __init__(self):\n",
    "        bank.__init__(self)\n",
    "        self.tickets=100\n",
    "        self.price=200\n",
    "    def booking(self):\n",
    "        select_tickets=int(input('enter no of tickets for rrr movie'))\n",
    "        if select_tickets<=self.tickets:\n",
    "            amount=self.price*select_tickets\n",
    "            if amount<=self.bal:\n",
    "                self.bal-=amount\n",
    "                self.tickets-=select_tickets\n",
    "                print(f'your total amount is {amount}')\n",
    "                print(f'{select_tickets} tickets was booked for rrr movie sucessfully')\n",
    "            else:\n",
    "                print('your account balance is low')\n",
    "        else:\n",
    "            print('tickets not available')\n",
    "\n",
    "def bookmyshow():\n",
    "    select_movie=input('enter movie name')\n",
    "    if select_movie in movies:\n",
    "        if select_movie=='rrr':\n",
    "            ob=rrr()\n",
    "            ob.booking()\n",
    "        elif select_movie=='pokiri':\n",
    "            ob=pokiri()\n",
    "            ob.booking()\n",
    "        elif select_movie=='bahubali':\n",
    "            ob=bahubali()\n",
    "            ob.booking()\n",
    "        elif select_movie=='spiderman':\n",
    "            ob=spiderman()\n",
    "            ob.booking()\n",
    "    else:\n",
    "        print(f'{select_movie} movie was not available')\n",
    "bookmyshow()\n",
    "bookmyshow()"
   ]
  },
  {
   "cell_type": "code",
   "execution_count": 1,
   "metadata": {},
   "outputs": [
    {
     "name": "stdout",
     "output_type": "stream",
     "text": [
      "2020\n",
      "2024\n",
      "2028\n",
      "3 leap years is present between 2020 and 2030\n"
     ]
    }
   ],
   "source": [
    "s1=int(input('enter starting year'))\n",
    "s2=int(input('enter ending year'))\n",
    "n=s1\n",
    "c=0\n",
    "while s1!=s2:\n",
    "    if (s1%4==0 and s1%100!=0) or s1%400==0:\n",
    "        c+=1\n",
    "        print(s1)\n",
    "    s1+=1\n",
    "print(f'{c} leap years is present between {n} and {s2}')\n",
    "\n"
   ]
  },
  {
   "cell_type": "code",
   "execution_count": 1,
   "metadata": {},
   "outputs": [
    {
     "name": "stdout",
     "output_type": "stream",
     "text": [
      "x\n",
      "y\n",
      "x-1\n",
      "z\n",
      "w\n",
      "z-1\n",
      "x-2\n"
     ]
    }
   ],
   "source": [
    "s=['x','y','x','z','w','z','x']\n",
    "f=[]\n",
    "for x in s:\n",
    "    f+=x\n",
    "    count=f.count(x)\n",
    "    if count>1:\n",
    "        print(f'{x}-{count-1}')\n",
    "    else:\n",
    "        print(x)\n",
    "\n"
   ]
  },
  {
   "attachments": {},
   "cell_type": "markdown",
   "metadata": {},
   "source": [
    "Agrigation"
   ]
  },
  {
   "cell_type": "code",
   "execution_count": 1,
   "metadata": {},
   "outputs": [
    {
     "name": "stdout",
     "output_type": "stream",
     "text": [
      "j has 33\n"
     ]
    }
   ],
   "source": [
    "class players():\n",
    "    def __init__(self,name,age,country,matches,runs,wickets):\n",
    "        self.name=name\n",
    "        self.age=age\n",
    "        self.country=country\n",
    "        self.matches=matches\n",
    "        self.runs=runs\n",
    "        self.wickets=wickets\n",
    "\n",
    "class Team():\n",
    "    def __init__(self,nop):\n",
    "        self.nop=nop\n",
    "        self.pol=[]\n",
    "\n",
    "        for i in range(self.nop):\n",
    "\n",
    "            n=input('enter player name')\n",
    "            a=int(input('enter player age'))\n",
    "            c=input('enter player country')\n",
    "            m=int(input('enter player matches'))\n",
    "            r=int(input('enter player runs'))\n",
    "            w=int(input('enter player wickets'))\n",
    "\n",
    "            pobj=players(n,a,c,m,r,w)\n",
    "            self.pol.append(pobj)\n",
    "\n",
    "    def Retriev_Data(self):\n",
    "        max=self.pol[0]\n",
    "        for i in self.pol:\n",
    "            if i.runs>max.runs:\n",
    "                max=i\n",
    "        return print(f'{max.name} has {max.runs}')\n",
    "    \n",
    "ob=Team(2)\n",
    "ob.Retriev_Data()\n"
   ]
  },
  {
   "cell_type": "code",
   "execution_count": null,
   "metadata": {},
   "outputs": [],
   "source": []
  }
 ],
 "metadata": {
  "kernelspec": {
   "display_name": "Python 3",
   "language": "python",
   "name": "python3"
  },
  "language_info": {
   "codemirror_mode": {
    "name": "ipython",
    "version": 3
   },
   "file_extension": ".py",
   "mimetype": "text/x-python",
   "name": "python",
   "nbconvert_exporter": "python",
   "pygments_lexer": "ipython3",
   "version": "3.11.2"
  },
  "orig_nbformat": 4,
  "vscode": {
   "interpreter": {
    "hash": "5238573367df39f7286bb46f9ff5f08f63a01a80960060ce41e3c79b190280fa"
   }
  }
 },
 "nbformat": 4,
 "nbformat_minor": 2
}
