{
 "cells": [
  {
   "cell_type": "code",
   "execution_count": 2,
   "metadata": {},
   "outputs": [
    {
     "name": "stdout",
     "output_type": "stream",
     "text": [
      "1\n"
     ]
    }
   ],
   "source": [
    "g=[11,44,12,6,77,9,15]\n",
    "k=[]\n",
    "for x in range(0,1):\n",
    "    for c in range(x+1,len(g)):\n",
    "        k.append(abs(g[x]-g[c]))\n",
    "print(min(k))"
   ]
  },
  {
   "cell_type": "code",
   "execution_count": 11,
   "metadata": {},
   "outputs": [
    {
     "name": "stdout",
     "output_type": "stream",
     "text": [
      "3+7=10\n",
      "4+6=10\n"
     ]
    }
   ],
   "source": [
    "l=[2,3,4,5,6,7]\n",
    "s=int(input())\n",
    "for x in range(len(l)):\n",
    "    for c in range(x+1,len(l)):\n",
    "        if l[x]+l[c]==s:\n",
    "            print(f'{l[x]}+{l[c]}={s}')"
   ]
  },
  {
   "cell_type": "code",
   "execution_count": 10,
   "metadata": {},
   "outputs": [
    {
     "name": "stdout",
     "output_type": "stream",
     "text": [
      "9 5 1 "
     ]
    }
   ],
   "source": [
    "n=3\n",
    "l=[[1,2,3],[4,5,6],[7,8,9]]\n",
    "for x in range(len(l)):\n",
    "    print(l[n-1-x][n-1-x], end=' ')"
   ]
  },
  {
   "cell_type": "code",
   "execution_count": 15,
   "metadata": {},
   "outputs": [
    {
     "name": "stdout",
     "output_type": "stream",
     "text": [
      "7 8 9 \n",
      "4 5 6 \n",
      "1 2 3 \n"
     ]
    }
   ],
   "source": [
    "n=3\n",
    "l=[[1,2,3],[4,5,6],[7,8,9]]\n",
    "for x in range(n):\n",
    "    for c in range(n):\n",
    "        print(l[n-1-x][c], end=' ')\n",
    "    print()"
   ]
  },
  {
   "cell_type": "code",
   "execution_count": 16,
   "metadata": {},
   "outputs": [
    {
     "name": "stdout",
     "output_type": "stream",
     "text": [
      "[17, 12, 15, 14, 13, 16, 11]\n"
     ]
    }
   ],
   "source": [
    "l=[11,12,13,14,15,16,17]\n",
    "for x in range(len(l)//2):\n",
    "    if x%2==0:\n",
    "        l[x],l[-(x+1)]=l[-(x+1)],l[x]\n",
    "print(l)"
   ]
  },
  {
   "cell_type": "code",
   "execution_count": 17,
   "metadata": {},
   "outputs": [
    {
     "name": "stdout",
     "output_type": "stream",
     "text": [
      "[17, 12, 15, 14, 13, 16, 11]\n"
     ]
    }
   ],
   "source": [
    "l=[11,12,13,14,15,16,17]\n",
    "k=[]\n",
    "for x in range(len(l)):\n",
    "    if l[x]%2==0:\n",
    "        k.append(l[x])\n",
    "    else:\n",
    "        k.append(l[len(l)-1-x])\n",
    "    \n",
    "print(k)\n"
   ]
  },
  {
   "cell_type": "code",
   "execution_count": 1,
   "metadata": {},
   "outputs": [
    {
     "name": "stdout",
     "output_type": "stream",
     "text": [
      "[1, 2, 5]\n"
     ]
    }
   ],
   "source": [
    "l=[1,2,3,4,5,4,3]\n",
    "j=[]\n",
    "for x in range(len(l)):\n",
    "    count=0\n",
    "    for c in range(len(l)):\n",
    "        if l[x]==l[c]:\n",
    "           count+=1\n",
    "    if count==1:\n",
    "        j.append(l[x])\n",
    "print(j)\n",
    "#print unique values without using count and dictionary"
   ]
  },
  {
   "cell_type": "code",
   "execution_count": 2,
   "metadata": {},
   "outputs": [
    {
     "name": "stdout",
     "output_type": "stream",
     "text": [
      "s\n",
      "['(', '(', '(', '(', '(']\n",
      "[')', ')', ')', ')', ')']\n"
     ]
    }
   ],
   "source": [
    "a='())(()))(('\n",
    "l=[]\n",
    "j=[]\n",
    "for x in range(len(a)):\n",
    "    if a[x]=='(':\n",
    "        l.append(a[x])\n",
    "    else:\n",
    "        j.append(a[x])\n",
    "if len(l)==len(j):\n",
    "    print('s')\n",
    "else:\n",
    "    print('n')\n",
    "print(l)\n",
    "print(j)"
   ]
  },
  {
   "cell_type": "code",
   "execution_count": 9,
   "metadata": {},
   "outputs": [
    {
     "name": "stdout",
     "output_type": "stream",
     "text": [
      "[21, 15, 8, 0]\n"
     ]
    }
   ],
   "source": [
    "a=[5,6,7,8]\n",
    "l=[]\n",
    "for x in range(len(a)):\n",
    "    s=0\n",
    "    for c in range(x,len(a)):\n",
    "        s+=int(a[c])\n",
    "    l.append(s-a[x])\n",
    "print(l)"
   ]
  },
  {
   "cell_type": "code",
   "execution_count": 1,
   "metadata": {},
   "outputs": [
    {
     "name": "stdout",
     "output_type": "stream",
     "text": [
      "[60, 80, 100, 135, 91, 2, 3]\n"
     ]
    }
   ],
   "source": [
    "l1=[10,20,30,55,1,2,3]\n",
    "l2=[50,60,70,80,90]\n",
    "if len(l1)>len(l2):\n",
    "    for a in range(len(l1)):\n",
    "        if a<len(l2):\n",
    "            l1[a]=l1[a]+l2[a]\n",
    "    print(l1)\n",
    "else:\n",
    "    for a in range(len(l2)):\n",
    "        if a<len(l1):\n",
    "            l2[a]=l1[a]+l2[a]\n",
    "    print(l2)"
   ]
  },
  {
   "cell_type": "code",
   "execution_count": 1,
   "metadata": {},
   "outputs": [
    {
     "name": "stdout",
     "output_type": "stream",
     "text": [
      "engi\n",
      "neer\n",
      "ing\n"
     ]
    }
   ],
   "source": [
    "a='engineering'\n",
    "n=4\n",
    "for x in range(0,len(a),n):\n",
    "    print(a[x:n+x])"
   ]
  },
  {
   "cell_type": "code",
   "execution_count": 2,
   "metadata": {},
   "outputs": [
    {
     "name": "stdout",
     "output_type": "stream",
     "text": [
      "[1, 2, 3]\n",
      "[2, 3, 4]\n",
      "[3, 4, 5]\n",
      "[4, 5, 6]\n",
      "[5, 6]\n",
      "[6]\n"
     ]
    }
   ],
   "source": [
    "s=[1,2,3,4,5,6]\n",
    "n=3\n",
    "for x in range(len(s)):\n",
    "    print(s[x:n+x])"
   ]
  },
  {
   "cell_type": "code",
   "execution_count": 3,
   "metadata": {},
   "outputs": [
    {
     "name": "stdout",
     "output_type": "stream",
     "text": [
      "[1, 2, 3, 4]\n"
     ]
    }
   ],
   "source": [
    "l=[1,2,3,4,5,6,7]\n",
    "if len(l)%2==0:\n",
    "    print(l[0:len(l)//2])\n",
    "else:\n",
    "    print(l[0:len(l)//2+1])"
   ]
  },
  {
   "cell_type": "code",
   "execution_count": 4,
   "metadata": {},
   "outputs": [
    {
     "name": "stdout",
     "output_type": "stream",
     "text": [
      "['u', 'uh', 'uhd', 'uhda', 'uhdam']\n"
     ]
    }
   ],
   "source": [
    "a='madhu'\n",
    "l=[]\n",
    "for x in range(-1,-len(a)-1,-1):\n",
    "    j=a[x:len(a)]\n",
    "    l.append(j[::-1])\n",
    "print(l)"
   ]
  },
  {
   "cell_type": "code",
   "execution_count": 5,
   "metadata": {},
   "outputs": [
    {
     "name": "stdout",
     "output_type": "stream",
     "text": [
      "['u', 'uh', 'uhd', 'uhda', 'uhdam']\n"
     ]
    }
   ],
   "source": [
    "a='madhu'\n",
    "i=-1\n",
    "l=[]\n",
    "while i>=-len(a):\n",
    "    r=a[i:len(a)]\n",
    "    l.append(r[::-1])\n",
    "    i=i-1\n",
    "print(l)"
   ]
  },
  {
   "cell_type": "code",
   "execution_count": 6,
   "metadata": {},
   "outputs": [
    {
     "name": "stdout",
     "output_type": "stream",
     "text": [
      "[10, 20, 30, 40, 50, 60, 70, 80, 90, 100]\n"
     ]
    }
   ],
   "source": [
    "a=[]\n",
    "n=10\n",
    "for x in range(1,11):\n",
    "    a.append(n)\n",
    "    n+=10\n",
    "print(a)\n",
    "\n"
   ]
  },
  {
   "cell_type": "code",
   "execution_count": 1,
   "metadata": {},
   "outputs": [
    {
     "name": "stdout",
     "output_type": "stream",
     "text": [
      "{'m': 2, 'r': 2, 's': 2, 'k': 1}\n"
     ]
    }
   ],
   "source": [
    "l=['madhu','ram','sam','ramu','kamu','semu','mad']\n",
    "d={}\n",
    "for x in l:\n",
    "    if x[0] not in d:\n",
    "        d[x[0]]=1\n",
    "    else:\n",
    "        d[x[0]]+=1\n",
    "        \n",
    "print(d)"
   ]
  },
  {
   "cell_type": "code",
   "execution_count": 2,
   "metadata": {},
   "outputs": [
    {
     "name": "stdout",
     "output_type": "stream",
     "text": [
      "{'service': ['aws', 'azure'], 'os': ['linux', 'windows']}\n"
     ]
    }
   ],
   "source": [
    "d=[{'service':'aws'},{'service':'azure'},{'os':'linux'},{'os':'windows'}]\n",
    "p={}\n",
    "for x in d:\n",
    "    for k,v in x.items():\n",
    "        if k not in p:\n",
    "            p[k]=[v]\n",
    "        else:\n",
    "            p[k]+=[v]\n",
    "print(p)"
   ]
  },
  {
   "cell_type": "code",
   "execution_count": 7,
   "metadata": {},
   "outputs": [
    {
     "name": "stdout",
     "output_type": "stream",
     "text": [
      "x\n",
      "y\n",
      "x-1 z\n",
      "w\n",
      "z-1 x-2 "
     ]
    }
   ],
   "source": [
    "s=['x','y','x','z','w','z','x']\n",
    "f=[]\n",
    "for x in s:\n",
    "    f+=x\n",
    "    count=f.count(x)\n",
    "    if count>1:\n",
    "        print(f'{x}-{count-1}', end=' ')\n",
    "    else:\n",
    "        print(x)\n",
    "\n"
   ]
  },
  {
   "cell_type": "code",
   "execution_count": 1,
   "metadata": {},
   "outputs": [
    {
     "name": "stdout",
     "output_type": "stream",
     "text": [
      "[1, 2, 3, 4, 5, 6, 7, 8, 9]\n",
      "12\n"
     ]
    }
   ],
   "source": [
    "k=[1,2,3,4,5,6,3,1,2,4,1,2,3,4,6,7,8,9,5,7,8,9,5,3,6,7,8,5,1]\n",
    "d=[]\n",
    "r=0\n",
    "for x in k:\n",
    "    if x not in d:\n",
    "        d.append(x)\n",
    "        r+=k.count(x)//2\n",
    "print(d)\n",
    "print(r)\n"
   ]
  },
  {
   "cell_type": "code",
   "execution_count": 5,
   "metadata": {},
   "outputs": [
    {
     "name": "stdout",
     "output_type": "stream",
     "text": [
      "{'even': [2, 4, 6, 8], 'odd': [1, 3, 5, 7, 9], 'prime': [2, 3, 5, 7]}\n"
     ]
    }
   ],
   "source": [
    "l=[1,2,3,4,5,6,7,8,9]\n",
    "d={'even':[],'odd':[],'prime':[]}\n",
    "for x in l:\n",
    "    if x%2==0:\n",
    "        d['even']+=[x]\n",
    "    else:\n",
    "        d['odd']+=[x]\n",
    "    if x>1:\n",
    "        for c in range(2,x//2+1):\n",
    "            if x%c==0:\n",
    "                break\n",
    "        else:\n",
    "            d['prime']+=[x]\n",
    "print(d)"
   ]
  },
  {
   "cell_type": "code",
   "execution_count": 2,
   "metadata": {},
   "outputs": [
    {
     "name": "stdout",
     "output_type": "stream",
     "text": [
      "[1, 3, 7, 9]\n",
      "[2, 4, 8, 18]\n",
      "[2, 1, 4, 3, 8, 7, 18, 9]\n"
     ]
    }
   ],
   "source": [
    "L=[1,9,7,3]\n",
    "L1=[2,8,18,4]\n",
    "k=[]\n",
    "for i in range(0,len(L)-1):\n",
    "    for j in range(0,len(L)-1-i):\n",
    "        if L[j]>L[j+1]:\n",
    "            L[j],L[j+1]=L[j+1],L[j]\n",
    "        if L1[j]>L1[j+1]:\n",
    "            L1[j],L1[j+1]=L1[j+1],L1[j]\n",
    "print(L)\n",
    "print(L1)\n",
    "for a in range(len(L)):\n",
    "    k.append(L1[a])\n",
    "    k.append(L[a])\n",
    "print(k)\n",
    "        \n",
    "       \n"
   ]
  },
  {
   "cell_type": "code",
   "execution_count": 2,
   "metadata": {},
   "outputs": [
    {
     "name": "stdout",
     "output_type": "stream",
     "text": [
      "[1, 2, 3]\n",
      "[2, 3, 4]\n",
      "[3, 4, 5]\n",
      "[4, 5, 6]\n"
     ]
    }
   ],
   "source": [
    "s=[1,2,3,4,5,6]\n",
    "n=3\n",
    "for x in range(len(s)-2):\n",
    "    print(s[x:n+x])"
   ]
  },
  {
   "cell_type": "code",
   "execution_count": 6,
   "metadata": {},
   "outputs": [
    {
     "name": "stdout",
     "output_type": "stream",
     "text": [
      "2 3\n"
     ]
    }
   ],
   "source": [
    "l=[2,3,5,2,2,13]\n",
    "n=int(input())\n",
    "for x in range(len(l)):\n",
    "    k=[]\n",
    "    num=0\n",
    "    for c in range(x,len(l)):\n",
    "        num+=l[c]\n",
    "        k.append(str(c+1))\n",
    "        if num>=n:\n",
    "            break\n",
    "    if num==n:\n",
    "        p=' '.join(k)\n",
    "        print(f'{p[0]} {p[-1]}')\n",
    "        break"
   ]
  },
  {
   "cell_type": "code",
   "execution_count": 1,
   "metadata": {},
   "outputs": [
    {
     "name": "stdout",
     "output_type": "stream",
     "text": [
      "[1193, 3119, 9311, 1931]\n",
      "its a circular prime\n"
     ]
    }
   ],
   "source": [
    "n=1193\n",
    "l=[]\n",
    "c=0\n",
    "while len(l)!=len(str(n)):\n",
    "    l.append(n)\n",
    "    if n>1:\n",
    "        for x in range(2,n//2+1):\n",
    "            if n%x==0:\n",
    "                break\n",
    "        else:\n",
    "            c+=1\n",
    "    p=len(str(n))-1\n",
    "    s=10**p\n",
    "    r=n%10\n",
    "    n//=10\n",
    "    r=r*s+n\n",
    "    n=r\n",
    "\n",
    "print(l)\n",
    "if c==len(l):\n",
    "    print('its a circular prime')\n",
    "else:\n",
    "    print('not')\n"
   ]
  },
  {
   "cell_type": "code",
   "execution_count": 2,
   "metadata": {},
   "outputs": [
    {
     "name": "stdout",
     "output_type": "stream",
     "text": [
      "* \n",
      "* * \n",
      "* * \n",
      "* * * \n",
      "*   * \n",
      "* * * \n"
     ]
    }
   ],
   "source": [
    "n=int(input())\n",
    "l=[]\n",
    "for x in range(n):\n",
    "    l.append(int(input()))\n",
    "for x in l:\n",
    "    for y in range(x):\n",
    "        for c in range(x):\n",
    "            if c==0 or c==x-1 or y==0 or y==x-1:\n",
    "                print('*', end=' ')\n",
    "            else:\n",
    "                print(' ', end=' ')\n",
    "        print()"
   ]
  },
  {
   "cell_type": "code",
   "execution_count": 1,
   "metadata": {},
   "outputs": [
    {
     "name": "stdout",
     "output_type": "stream",
     "text": [
      "[3, 7, 9, 1, 2, 4, 6]\n"
     ]
    }
   ],
   "source": [
    "l=[2,4,3,6,7,9,1]\n",
    "for x in range(len(l)-1):\n",
    "    for c in range(len(l)-1-x):\n",
    "        if l[c]%2==0 and l[c+1]%2!=0:\n",
    "            l[c],l[c+1]=l[c+1],l[c]\n",
    "print(l)"
   ]
  },
  {
   "cell_type": "code",
   "execution_count": 3,
   "metadata": {},
   "outputs": [
    {
     "name": "stdout",
     "output_type": "stream",
     "text": [
      "g\n",
      "Execution time: 3.35 seconds\n"
     ]
    }
   ],
   "source": [
    "import time\n",
    "\n",
    "start_time = time.time()  # Get the current time\n",
    "\n",
    "d={'a':{'x':1,'y':2},'b':{'w':3,'z':4},'c':{'f':5,'g':6},'d':{'h':7,'i':8}}\n",
    "n=int(input())\n",
    "def m(n):\n",
    "    for k,v in d.items():\n",
    "        for a,b in v.items():\n",
    "            if n==b:\n",
    "                print(a)\n",
    "m(n)\n",
    "\n",
    "# Insert code to measure execution time here\n",
    "\n",
    "end_time = time.time()  # Get the time again\n",
    "\n",
    "elapsed_time = end_time - start_time  # Calculate the difference\n",
    "\n",
    "print(f\"Execution time: {elapsed_time:.2f} seconds\")  # Print the elapsed time\n"
   ]
  },
  {
   "cell_type": "code",
   "execution_count": 2,
   "metadata": {},
   "outputs": [
    {
     "name": "stdout",
     "output_type": "stream",
     "text": [
      "[7, 6, 5, 4, 3, 2, 1]\n"
     ]
    }
   ],
   "source": [
    "l=[1,2,3,4,5,6,7]\n",
    "a=0\n",
    "b=0\n",
    "for x in l:\n",
    "    b+=1\n",
    "b-=1\n",
    "while b>a:\n",
    "    l[a],l[b]=l[b],l[a]\n",
    "    a+=1\n",
    "    b-=1\n",
    "print(l)"
   ]
  },
  {
   "cell_type": "code",
   "execution_count": 2,
   "metadata": {},
   "outputs": [
    {
     "name": "stdout",
     "output_type": "stream",
     "text": [
      "[9, 4, 1, 99, 45, 12, 88, 7, 3, 8]\n",
      "not palindrome\n"
     ]
    }
   ],
   "source": [
    "l=[8,3,7,88,12,45,99,1,4,9]\n",
    "k=0\n",
    "l1=[]\n",
    "for x in l:\n",
    "    k-=1\n",
    "    l1+=[l[k]]\n",
    "print(l1)\n",
    "if l1==l:\n",
    "    print('palindrome')\n",
    "else:\n",
    "    print('not palindrome')\n"
   ]
  },
  {
   "cell_type": "code",
   "execution_count": 10,
   "metadata": {},
   "outputs": [
    {
     "name": "stdout",
     "output_type": "stream",
     "text": [
      "1 4\n"
     ]
    }
   ],
   "source": [
    "l=[2,3,5,2,2,13]\n",
    "n=int(input())\n",
    "for x in range(len(l)):\n",
    "    k=[]\n",
    "    num=0\n",
    "    for c in range(x,len(l)):\n",
    "        num+=l[c]\n",
    "        k.append(str(c+1))\n",
    "        if num>=n:\n",
    "            break\n",
    "    if num==n:\n",
    "        p=' '.join(k)\n",
    "        print(f'{p[0]} {p[-1]}')\n",
    "        break"
   ]
  },
  {
   "cell_type": "code",
   "execution_count": 1,
   "metadata": {},
   "outputs": [
    {
     "name": "stdout",
     "output_type": "stream",
     "text": [
      "[13, 12, 3]\n"
     ]
    }
   ],
   "source": [
    "n=3\n",
    "l=[[2,3],[5,4,3],[6,5]]\n",
    "k=[]\n",
    "for x in range(n):\n",
    "    g=0\n",
    "    for c in range(n):\n",
    "        if x<len(l[c]):\n",
    "            g+=l[c][x]\n",
    "    k.append(g)\n",
    "print(k)"
   ]
  },
  {
   "cell_type": "code",
   "execution_count": 1,
   "metadata": {},
   "outputs": [
    {
     "data": {
      "text/plain": [
       "[1, 2, 3]"
      ]
     },
     "execution_count": 1,
     "metadata": {},
     "output_type": "execute_result"
    }
   ],
   "source": [
    "def m(n):\n",
    "    k=[]\n",
    "    for i in range(len(n)):\n",
    "        if i+1==n[i]:\n",
    "            k.append(n[i])\n",
    "        else:\n",
    "            break\n",
    "    return k\n",
    "\n",
    "l=[1,2,3,5,6,7]\n",
    "m(l)"
   ]
  },
  {
   "cell_type": "code",
   "execution_count": null,
   "metadata": {},
   "outputs": [],
   "source": []
  }
 ],
 "metadata": {
  "kernelspec": {
   "display_name": "Python 3",
   "language": "python",
   "name": "python3"
  },
  "language_info": {
   "codemirror_mode": {
    "name": "ipython",
    "version": 3
   },
   "file_extension": ".py",
   "mimetype": "text/x-python",
   "name": "python",
   "nbconvert_exporter": "python",
   "pygments_lexer": "ipython3",
   "version": "3.11.2"
  },
  "orig_nbformat": 4,
  "vscode": {
   "interpreter": {
    "hash": "5238573367df39f7286bb46f9ff5f08f63a01a80960060ce41e3c79b190280fa"
   }
  }
 },
 "nbformat": 4,
 "nbformat_minor": 2
}
