{
 "cells": [
  {
   "cell_type": "code",
   "execution_count": 1,
   "metadata": {},
   "outputs": [
    {
     "name": "stdout",
     "output_type": "stream",
     "text": [
      "* * * * * \n",
      "  * * * * * \n",
      "* * * * * \n",
      "  * * * * * \n",
      "* * * * * \n"
     ]
    }
   ],
   "source": [
    "n=1\n",
    "while n<=5:\n",
    "    sp=1\n",
    "    while sp==1:\n",
    "        if n%2==0:\n",
    "            print(' ', end=' ')\n",
    "        sp+=1\n",
    "    st=1\n",
    "    while st<=5:\n",
    "        print('*', end=' ')\n",
    "        st+=1\n",
    "    print()\n",
    "    n+=1"
   ]
  },
  {
   "cell_type": "code",
   "execution_count": 2,
   "metadata": {},
   "outputs": [
    {
     "name": "stdout",
     "output_type": "stream",
     "text": [
      "* * * * * \n",
      "* @ * @ * \n",
      "* * @ * * \n",
      "* @ * @ * \n",
      "* * * * * \n"
     ]
    }
   ],
   "source": [
    "n=5\n",
    "st=5\n",
    "sp=0\n",
    "for x in range(n):\n",
    "    for v in range(st):\n",
    "        if v==0 or v==st-1 or x==0 or x==st-1:\n",
    "             print('*', end=' ')\n",
    "        else:\n",
    "            if x==v or x+v==st-1:\n",
    "                print('@', end=' ')\n",
    "            else:\n",
    "                print('*', end=' ')\n",
    "    print()"
   ]
  },
  {
   "cell_type": "code",
   "execution_count": 4,
   "metadata": {},
   "outputs": [
    {
     "name": "stdout",
     "output_type": "stream",
     "text": [
      "*             * \n",
      "* *         * * \n",
      "* * *     * * * \n",
      "* * * * * * * * \n",
      "* * *     * * * \n",
      "* *         * * \n",
      "*             * \n"
     ]
    }
   ],
   "source": [
    "n=int(input())\n",
    "st=1\n",
    "sp=n-1\n",
    "for x in range(n):\n",
    "    for c in range(st):\n",
    "        print('*', end=' ')\n",
    "    for v in range(sp):\n",
    "        print(' ', end=' ')\n",
    "    for b in range(st):\n",
    "        print('*', end=' ')\n",
    "    print()\n",
    "    if x<n//2:\n",
    "        st+=1\n",
    "        sp-=2\n",
    "    else:\n",
    "        st-=1\n",
    "        sp+=2"
   ]
  },
  {
   "cell_type": "code",
   "execution_count": 2,
   "metadata": {},
   "outputs": [
    {
     "name": "stdout",
     "output_type": "stream",
     "text": [
      "*                 * \n",
      "* *             * * \n",
      "* * *         * * * \n",
      "* * * *     * * * * \n",
      "* * * * * * * * * * \n"
     ]
    }
   ],
   "source": [
    "n=int(input())\n",
    "st=1\n",
    "sp=n*2-2\n",
    "for x in range(n):\n",
    "    for c in range(st):\n",
    "        print('*', end=' ')\n",
    "    for v in range(sp):\n",
    "        print(' ', end=' ')\n",
    "    for b in range(st):\n",
    "        print('*', end=' ')\n",
    "    print()\n",
    "    st+=1\n",
    "    sp-=2"
   ]
  },
  {
   "cell_type": "code",
   "execution_count": 1,
   "metadata": {},
   "outputs": [
    {
     "name": "stdout",
     "output_type": "stream",
     "text": [
      "* @ * @ * \n",
      "@ * * * @ \n",
      "* * * * * \n",
      "@ * * * @ \n",
      "* @ * @ * \n"
     ]
    }
   ],
   "source": [
    "n=5\n",
    "\n",
    "for x in range(n):\n",
    "    for c in range(n):\n",
    "        if x==c or x+c==n-1 or x==n//2 or c==n//2:\n",
    "            print('*', end=' ')\n",
    "        else:\n",
    "            print('@', end=' ')\n",
    "    print()\n"
   ]
  },
  {
   "cell_type": "code",
   "execution_count": 4,
   "metadata": {},
   "outputs": [
    {
     "name": "stdout",
     "output_type": "stream",
     "text": [
      "*   * \n",
      "* * * \n",
      "*   * \n",
      "*   * \n",
      "  *   \n",
      "      \n"
     ]
    }
   ],
   "source": [
    "n=int(input())\n",
    "for x in range(n):\n",
    "    for c in range(n):\n",
    "        if c==0 or (x+c==n-1 and x<=n//2) or (x==c and x<=n//2) or c==n-1:\n",
    "            print('*', end=' ')\n",
    "        else:\n",
    "            print(' ', end=' ')\n",
    "    print()\n",
    "for x in range(n):\n",
    "    for c in range(n):\n",
    "        if (x+c==n-1 and x<=n//2) or (x==c and x<=n//2):\n",
    "            print('*', end=' ')\n",
    "        else:\n",
    "            print(' ', end=' ')\n",
    "    print()"
   ]
  },
  {
   "cell_type": "code",
   "execution_count": 1,
   "metadata": {},
   "outputs": [
    {
     "name": "stdout",
     "output_type": "stream",
     "text": [
      "* * * \n",
      "* * * \n",
      "* * * \n",
      "* *   \n",
      "*     \n"
     ]
    }
   ],
   "source": [
    "l=[5,4,3]\n",
    "f=0\n",
    "for x in range(max(l)):\n",
    "    for c in range(len(l)):\n",
    "        if f<l[c]:\n",
    "            print('*', end=' ')\n",
    "        else:\n",
    "            print(' ', end=' ')\n",
    "    f+=1\n",
    "    print()"
   ]
  },
  {
   "cell_type": "code",
   "execution_count": 6,
   "metadata": {},
   "outputs": [
    {
     "name": "stdout",
     "output_type": "stream",
     "text": [
      "*         * \n",
      "* *     * * \n",
      "* * * * * * \n"
     ]
    }
   ],
   "source": [
    "n=3\n",
    "st=1\n",
    "sp=n*2-2\n",
    "for x in range(n):\n",
    "    for y in range(st):\n",
    "        print('*', end=' ')\n",
    "    for z in range(sp):\n",
    "        print(' ', end=' ')\n",
    "    for c in range(st):\n",
    "        print('*', end=' ')\n",
    "    print()\n",
    "    st+=1\n",
    "    sp-=2"
   ]
  },
  {
   "cell_type": "code",
   "execution_count": 1,
   "metadata": {},
   "outputs": [
    {
     "name": "stdout",
     "output_type": "stream",
     "text": [
      "--------e--------\n",
      "------e-d-e------\n",
      "----e-d-c-d-e----\n",
      "--e-d-c-b-c-d-e--\n",
      "e-d-c-b-a-b-c-d-e\n",
      "--e-d-c-b-c-d-e--\n",
      "----e-d-c-d-e----\n",
      "------e-d-e------\n",
      "--------e--------\n"
     ]
    }
   ],
   "source": [
    "n=int(input())\n",
    "sp=(n*2-1)//2\n",
    "\n",
    "st=1\n",
    "for x in range(n*2-1):\n",
    "    num=n\n",
    "    for c in range(sp):\n",
    "        print('-', end='-')\n",
    "    for d in range(st):\n",
    "        if d<st-1:\n",
    "            print(chr(num+96), end='-')\n",
    "        else:\n",
    "            print(chr(num+96), end='')\n",
    "        num=num-1 if d<st//2 else num+1\n",
    "    for c in range(sp):\n",
    "        print('-', end='-')\n",
    "    print()\n",
    "    if x<(n*2-1)//2:\n",
    "        st+=2\n",
    "        sp-=1\n",
    "    else:\n",
    "        sp+=1\n",
    "        st-=2"
   ]
  },
  {
   "cell_type": "code",
   "execution_count": null,
   "metadata": {},
   "outputs": [],
   "source": []
  }
 ],
 "metadata": {
  "kernelspec": {
   "display_name": "Python 3",
   "language": "python",
   "name": "python3"
  },
  "language_info": {
   "codemirror_mode": {
    "name": "ipython",
    "version": 3
   },
   "file_extension": ".py",
   "mimetype": "text/x-python",
   "name": "python",
   "nbconvert_exporter": "python",
   "pygments_lexer": "ipython3",
   "version": "3.11.2"
  },
  "orig_nbformat": 4,
  "vscode": {
   "interpreter": {
    "hash": "5238573367df39f7286bb46f9ff5f08f63a01a80960060ce41e3c79b190280fa"
   }
  }
 },
 "nbformat": 4,
 "nbformat_minor": 2
}
