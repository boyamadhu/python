{
 "cells": [
  {
   "cell_type": "code",
   "execution_count": 1,
   "metadata": {},
   "outputs": [
    {
     "name": "stdout",
     "output_type": "stream",
     "text": [
      "something\n"
     ]
    }
   ],
   "source": [
    "print('something')"
   ]
  },
  {
   "cell_type": "code",
   "execution_count": 12,
   "metadata": {},
   "outputs": [
    {
     "name": "stdout",
     "output_type": "stream",
     "text": [
      "----c----\n",
      "--c-b-c--\n",
      "c-b-a-b-c\n",
      "--c-b-c--\n",
      "----c----\n"
     ]
    }
   ],
   "source": [
    "n=int(input())\n",
    "sp=(n*2-1)//2\n",
    "\n",
    "st=1\n",
    "for x in range(n*2-1):\n",
    "    num=n\n",
    "    for c in range(sp):\n",
    "        print('-', end='-')\n",
    "    for d in range(st):\n",
    "        if d<st-1:\n",
    "            print(chr(num+96), end='-')\n",
    "        else:\n",
    "            print(chr(num+96), end='')\n",
    "        num=num-1 if d<st//2 else num+1\n",
    "    for c in range(sp):\n",
    "        print('-', end='-')\n",
    "    print()\n",
    "    if x<(n*2-1)//2:\n",
    "        st+=2\n",
    "        sp-=1\n",
    "    else:\n",
    "        sp+=1\n",
    "        st-=2"
   ]
  },
  {
   "cell_type": "code",
   "execution_count": 32,
   "metadata": {},
   "outputs": [
    {
     "name": "stdout",
     "output_type": "stream",
     "text": [
      "sdfghj\n"
     ]
    }
   ],
   "source": [
    "class a():\n",
    "    name='sdfghj'\n",
    "    @staticmethod\n",
    "    def add():\n",
    "        return 5+2\n",
    "ob=a()\n",
    "ob.name='sdfg'\n",
    "print(a.name)"
   ]
  },
  {
   "cell_type": "code",
   "execution_count": 33,
   "metadata": {},
   "outputs": [
    {
     "data": {
      "text/plain": [
       "3"
      ]
     },
     "execution_count": 33,
     "metadata": {},
     "output_type": "execute_result"
    }
   ],
   "source": [
    "int('3')"
   ]
  },
  {
   "cell_type": "code",
   "execution_count": 36,
   "metadata": {},
   "outputs": [
    {
     "data": {
      "text/plain": [
       "'fghj'"
      ]
     },
     "execution_count": 36,
     "metadata": {},
     "output_type": "execute_result"
    }
   ],
   "source": [
    "str('fghj')"
   ]
  },
  {
   "cell_type": "code",
   "execution_count": 38,
   "metadata": {},
   "outputs": [
    {
     "name": "stdout",
     "output_type": "stream",
     "text": [
      "5.0\n"
     ]
    }
   ],
   "source": [
    "def outer(arg):\n",
    "    def inner(a,b):\n",
    "        arg(a,b) if a>b else arg(b,a)\n",
    "    return inner\n",
    "@outer\n",
    "def add(a,b):\n",
    "    print(a/b)\n",
    "\n",
    "add(2,10)"
   ]
  },
  {
   "cell_type": "code",
   "execution_count": 45,
   "metadata": {},
   "outputs": [
    {
     "name": "stdout",
     "output_type": "stream",
     "text": [
      "gdfghj\n"
     ]
    }
   ],
   "source": [
    "def outer(arg):\n",
    "    d={}\n",
    "    def inner():\n",
    "        if arg not in d:\n",
    "            d[arg]=arg()\n",
    "        return d[arg]\n",
    "    return inner\n",
    "@outer\n",
    "class a():\n",
    "    def __init__(self):\n",
    "        print('gdfghj')\n",
    "ob=a()\n",
    "ob=a()"
   ]
  },
  {
   "cell_type": "code",
   "execution_count": 58,
   "metadata": {},
   "outputs": [
    {
     "name": "stdout",
     "output_type": "stream",
     "text": [
      "amount withdrawed successfully\n"
     ]
    },
    {
     "data": {
      "text/plain": [
       "20"
      ]
     },
     "execution_count": 58,
     "metadata": {},
     "output_type": "execute_result"
    }
   ],
   "source": [
    "class bank():\n",
    "    def __init__(self,account,balance):\n",
    "        self.__account=account\n",
    "        self.__balance=balance\n",
    "    def withdraw(self,amount):\n",
    "        if self.__balance>=amount:\n",
    "            self.__balance-=amount\n",
    "            print('amount withdrawed successfully')\n",
    "        else:\n",
    "            print('not an sufficient funds')\n",
    "    def get_balance(self):\n",
    "        return self.__balance\n",
    "    \n",
    "ob=bank(1234,32)\n",
    "ob.withdraw(12)\n",
    "# print(ob.__balance)\n",
    "ob.get_balance()"
   ]
  },
  {
   "cell_type": "code",
   "execution_count": 51,
   "metadata": {},
   "outputs": [
    {
     "name": "stdout",
     "output_type": "stream",
     "text": [
      "1000\n"
     ]
    }
   ],
   "source": [
    "class BankAccount:\n",
    "    def __init__(self, account_number, balance):\n",
    "        self._account_number = account_number\n",
    "        self._balance = balance\n",
    "\n",
    "    def deposit(self, amount):\n",
    "        self._balance += amount\n",
    "\n",
    "    def withdraw(self, amount):\n",
    "        if self._balance >= amount:\n",
    "            self._balance -= amount\n",
    "        else:\n",
    "            print(\"Insufficient funds\")\n",
    "\n",
    "    def get_balance(self):\n",
    "        return self._balance\n",
    "\n",
    "account = BankAccount(123456789, 1000)\n",
    "print(account._balance) # Output: AttributeError: 'BankAccount' object has no attribute '_balance'\n"
   ]
  },
  {
   "cell_type": "code",
   "execution_count": 13,
   "metadata": {},
   "outputs": [
    {
     "ename": "NameError",
     "evalue": "name 'json' is not defined",
     "output_type": "error",
     "traceback": [
      "\u001b[1;31m---------------------------------------------------------------------------\u001b[0m",
      "\u001b[1;31mNameError\u001b[0m                                 Traceback (most recent call last)",
      "Cell \u001b[1;32mIn[13], line 1\u001b[0m\n\u001b[1;32m----> 1\u001b[0m json\u001b[39m.\u001b[39mdump(d)\n",
      "\u001b[1;31mNameError\u001b[0m: name 'json' is not defined"
     ]
    }
   ],
   "source": [
    "json.dump(d)"
   ]
  },
  {
   "cell_type": "code",
   "execution_count": 14,
   "metadata": {},
   "outputs": [
    {
     "name": "stdout",
     "output_type": "stream",
     "text": [
      "ghj tyuk ghj\n"
     ]
    }
   ],
   "source": [
    "k='ghj tyuk ghj'\n",
    "print(str(k))"
   ]
  },
  {
   "cell_type": "code",
   "execution_count": 5,
   "metadata": {},
   "outputs": [
    {
     "name": "stdout",
     "output_type": "stream",
     "text": [
      "('d', 'd')\n",
      "('f', 'f')\n",
      "('g', 'g')\n",
      "('h', 'h')\n",
      "('k', 'j')\n"
     ]
    }
   ],
   "source": [
    "a='dfghk'\n",
    "b='dfghjkj'\n",
    "g=zip(a,b)\n",
    "for i in g:\n",
    "    print(i)"
   ]
  },
  {
   "cell_type": "code",
   "execution_count": 7,
   "metadata": {},
   "outputs": [
    {
     "name": "stdout",
     "output_type": "stream",
     "text": [
      "[(0, 'd'), (1, 'f'), (2, 'g'), (3, 'h'), (4, 'k')]\n"
     ]
    }
   ],
   "source": [
    "f=enumerate(a)\n",
    "print(list(f))"
   ]
  },
  {
   "cell_type": "code",
   "execution_count": 10,
   "metadata": {},
   "outputs": [
    {
     "name": "stdout",
     "output_type": "stream",
     "text": [
      "[0, 2, 3, 4, 0]\n"
     ]
    }
   ],
   "source": [
    "l=[1,2,3,4,0]\n",
    "d=[x if x>1 else 0 for x in l ]\n",
    "print(d)"
   ]
  },
  {
   "cell_type": "code",
   "execution_count": 12,
   "metadata": {},
   "outputs": [
    {
     "ename": "TypeError",
     "evalue": "<lambda>() missing 1 required positional argument: 'y'",
     "output_type": "error",
     "traceback": [
      "\u001b[1;31m---------------------------------------------------------------------------\u001b[0m",
      "\u001b[1;31mTypeError\u001b[0m                                 Traceback (most recent call last)",
      "Cell \u001b[1;32mIn[12], line 3\u001b[0m\n\u001b[0;32m      1\u001b[0m prices \u001b[39m=\u001b[39m [\u001b[39m2.50\u001b[39m, \u001b[39m3.10\u001b[39m, \u001b[39m2.70\u001b[39m]\n\u001b[0;32m      2\u001b[0m f\u001b[39m=\u001b[39m\u001b[39mlambda\u001b[39;00m x,y:x \u001b[39mif\u001b[39;00m x\u001b[39m>\u001b[39my \u001b[39melse\u001b[39;00m y\n\u001b[1;32m----> 3\u001b[0m \u001b[39mprint\u001b[39m(f(prices))\n",
      "\u001b[1;31mTypeError\u001b[0m: <lambda>() missing 1 required positional argument: 'y'"
     ]
    }
   ],
   "source": [
    "prices = [2.50, 3.10, 2.70]\n",
    "f=lambda x,y:x if x>y else y\n",
    "print(f(prices))"
   ]
  },
  {
   "cell_type": "code",
   "execution_count": 6,
   "metadata": {},
   "outputs": [
    {
     "name": "stdout",
     "output_type": "stream",
     "text": [
      "10\n",
      "10=0\n",
      "[11, 9, 4, 1, 99, 45, 12, 88, 7, 3, 8]\n"
     ]
    }
   ],
   "source": [
    "\n",
    "l=[8,3,7,88,12,45,99,1,4,9,11]\n",
    "k=-1\n",
    "f=0\n",
    "for x in l:\n",
    "    k+=1\n",
    "print(k)\n",
    "print(f'{k}={f}')\n",
    "while f<k:\n",
    "    l[f],l[k]=l[k],l[f]\n",
    "    k-=1\n",
    "    f+=1\n",
    "print(l)"
   ]
  },
  {
   "cell_type": "code",
   "execution_count": 84,
   "metadata": {},
   "outputs": [
    {
     "name": "stdout",
     "output_type": "stream",
     "text": [
      "[1 2 3]\n"
     ]
    }
   ],
   "source": [
    "import numpy as np\n",
    "a=np.array([[1,2,3],[2,3,4]])\n",
    "print(np.min(a,axis=0))\n"
   ]
  },
  {
   "cell_type": "code",
   "execution_count": 63,
   "metadata": {},
   "outputs": [
    {
     "name": "stdout",
     "output_type": "stream",
     "text": [
      "45\n",
      "s\n"
     ]
    }
   ],
   "source": [
    "n=int(input())\n",
    "s=n\n",
    "a=len(str(n))//2\n",
    "b=10**a\n",
    "if len(str(n))%2==0:\n",
    "    x=n%b\n",
    "    n=n//b\n",
    "res=x+n\n",
    "print(res)\n",
    "if (res*res)==s:\n",
    "    print('s')\n",
    "else:\n",
    "    print('n')\n",
    "\n"
   ]
  },
  {
   "cell_type": "code",
   "execution_count": 52,
   "metadata": {},
   "outputs": [
    {
     "data": {
      "text/plain": [
       "456"
      ]
     },
     "execution_count": 52,
     "metadata": {},
     "output_type": "execute_result"
    }
   ],
   "source": [
    "123456%1000"
   ]
  },
  {
   "cell_type": "code",
   "execution_count": 57,
   "metadata": {},
   "outputs": [
    {
     "name": "stdout",
     "output_type": "stream",
     "text": [
      "['kk', 'jj']\n"
     ]
    }
   ],
   "source": [
    "l='h4u k1k j2j'\n",
    "k=[]\n",
    "for x in range(len(l.split())):\n",
    "    for c in l.split():\n",
    "        if str(x) in c:\n",
    "            k.append(c.replace(str(x),''))\n",
    "print(k)"
   ]
  },
  {
   "cell_type": "code",
   "execution_count": 22,
   "metadata": {},
   "outputs": [
    {
     "ename": "TypeError",
     "evalue": "'int' object is not callable",
     "output_type": "error",
     "traceback": [
      "\u001b[1;31m---------------------------------------------------------------------------\u001b[0m",
      "\u001b[1;31mTypeError\u001b[0m                                 Traceback (most recent call last)",
      "Cell \u001b[1;32mIn[22], line 25\u001b[0m\n\u001b[0;32m     23\u001b[0m                 h\u001b[39m=\u001b[39mi\n\u001b[0;32m     24\u001b[0m         \u001b[39mprint\u001b[39m(\u001b[39mf\u001b[39m\u001b[39m'\u001b[39m\u001b[39m{\u001b[39;00mi\u001b[39m.\u001b[39mname\u001b[39m}\u001b[39;00m\u001b[39m runs is \u001b[39m\u001b[39m{\u001b[39;00mi\u001b[39m.\u001b[39mruns\u001b[39m}\u001b[39;00m\u001b[39m high\u001b[39m\u001b[39m'\u001b[39m)\n\u001b[1;32m---> 25\u001b[0m ob1\u001b[39m=\u001b[39mb(\u001b[39m1\u001b[39;49m)\n\u001b[0;32m     26\u001b[0m ob1\u001b[39m.\u001b[39mFind()\n",
      "Cell \u001b[1;32mIn[22], line 17\u001b[0m, in \u001b[0;36mb.__init__\u001b[1;34m(self, num)\u001b[0m\n\u001b[0;32m     14\u001b[0m a\u001b[39m=\u001b[39m\u001b[39mint\u001b[39m(\u001b[39minput\u001b[39m(\u001b[39m'\u001b[39m\u001b[39menter age \u001b[39m\u001b[39m'\u001b[39m))\n\u001b[0;32m     15\u001b[0m r\u001b[39m=\u001b[39m\u001b[39mint\u001b[39m(\u001b[39minput\u001b[39m(\u001b[39m'\u001b[39m\u001b[39menter runs \u001b[39m\u001b[39m'\u001b[39m))\n\u001b[1;32m---> 17\u001b[0m var\u001b[39m=\u001b[39ma(n,a,r)\n\u001b[0;32m     18\u001b[0m \u001b[39mself\u001b[39m\u001b[39m.\u001b[39mli\u001b[39m.\u001b[39mappend(var)\n",
      "\u001b[1;31mTypeError\u001b[0m: 'int' object is not callable"
     ]
    }
   ],
   "source": [
    "class Team():\n",
    "    def __init__(self,name,age,runs):\n",
    "        self.name=name\n",
    "        self.age=age\n",
    "        self.runs=runs\n",
    "class b:\n",
    "    def __init__(self,num):\n",
    "        self.num=num\n",
    "        self.li=[]\n",
    "\n",
    "        for i in range(self.num):\n",
    "            n=input('enter name')\n",
    "            a=int(input('enter age '))\n",
    "            r=int(input('enter runs '))\n",
    "\n",
    "            var=a(n,a,r)\n",
    "            self.li.append(var)\n",
    "    def Find(self):\n",
    "        h=self.li[0]\n",
    "        for i in self.li:\n",
    "            if h.runs<i.runs:\n",
    "                h=i\n",
    "        print(f'{i.name} runs is {i.runs} high')\n",
    "ob1=b(1)\n",
    "ob1.Find()"
   ]
  },
  {
   "cell_type": "code",
   "execution_count": 61,
   "metadata": {},
   "outputs": [
    {
     "name": "stdout",
     "output_type": "stream",
     "text": [
      "{'b': 10, 'z': 110}\n"
     ]
    }
   ],
   "source": [
    "d={'z':110,'b':10}\n",
    "f={k:v for k,v in sorted(d.items())}\n",
    "print(f)"
   ]
  },
  {
   "cell_type": "code",
   "execution_count": 62,
   "metadata": {},
   "outputs": [
    {
     "name": "stdout",
     "output_type": "stream",
     "text": [
      "{'b': 1, 'c': 2, 'a': 3}\n"
     ]
    }
   ],
   "source": [
    "my_dict = {'a': 3, 'b': 1, 'c': 2}\n",
    "sorted_dict = {k: v for k, v in sorted(my_dict.items(), key=lambda item: item[1])}\n",
    "print(sorted_dict)\n"
   ]
  },
  {
   "cell_type": "code",
   "execution_count": 3,
   "metadata": {},
   "outputs": [
    {
     "name": "stdout",
     "output_type": "stream",
     "text": [
      "madhu is a good\n"
     ]
    }
   ],
   "source": [
    "n=input()\n",
    "if len(n.split())>3:\n",
    "    print(n)"
   ]
  },
  {
   "cell_type": "code",
   "execution_count": 9,
   "metadata": {},
   "outputs": [
    {
     "name": "stdout",
     "output_type": "stream",
     "text": [
      "99\n"
     ]
    }
   ],
   "source": [
    "a,b,c,d=6,2,99,4\n",
    "if a>b and a>b and a>c and a>d:\n",
    "    print(a)\n",
    "elif b>c and b>d:\n",
    "    print(b)\n",
    "elif c>d:\n",
    "    print(c)\n",
    "else:\n",
    "    print(d)\n",
    "    \n",
    "    "
   ]
  },
  {
   "cell_type": "code",
   "execution_count": 16,
   "metadata": {},
   "outputs": [
    {
     "name": "stdout",
     "output_type": "stream",
     "text": [
      "user name and password is correct\n"
     ]
    }
   ],
   "source": [
    "d={'madhu':{'password':123}}\n",
    "n=input()\n",
    "if n in d:\n",
    "    p=int(input())\n",
    "if p==d['madhu']['password']:\n",
    "    print('user name and password is correct')\n",
    "else:\n",
    "    print('wrong')"
   ]
  },
  {
   "cell_type": "code",
   "execution_count": 20,
   "metadata": {},
   "outputs": [
    {
     "data": {
      "text/plain": [
       "False"
      ]
     },
     "execution_count": 20,
     "metadata": {},
     "output_type": "execute_result"
    }
   ],
   "source": [
    "def m(a,b):\n",
    "    if a>1:\n",
    "        if b<a//2+1:\n",
    "            if a%b==0:\n",
    "                return False\n",
    "            return m(a,b+1)\n",
    "        return True\n",
    "    return False\n",
    "m(int(input()),2)"
   ]
  },
  {
   "cell_type": "code",
   "execution_count": 1,
   "metadata": {},
   "outputs": [
    {
     "name": "stdout",
     "output_type": "stream",
     "text": [
      "not\n"
     ]
    }
   ],
   "source": [
    "n=int(input())\n",
    "b=2\n"
   ]
  },
  {
   "cell_type": "code",
   "execution_count": 26,
   "metadata": {},
   "outputs": [
    {
     "name": "stdout",
     "output_type": "stream",
     "text": [
      "madhu\n",
      "12\n",
      "1234\n",
      "987\n"
     ]
    }
   ],
   "source": [
    "class Python():\n",
    "    topic='Oops'\n",
    "    def __init__(self,name,age,bal):\n",
    "        self._name=name\n",
    "        self.age=age\n",
    "        self.bal=bal\n",
    "    def display_data(self):\n",
    "        print(self._name)\n",
    "        print(self.age)\n",
    "        print(self.bal)\n",
    "\n",
    "class Java(Python):\n",
    "    def __init__(self,name,age,bal,adhar):\n",
    "        Python.__init__(self,name,age,bal)\n",
    "        self.adhar=adhar\n",
    "    def display_data(self):\n",
    "        super().display_data()\n",
    "        print(self.adhar)\n",
    "ob=Java('madhu',12,1234,987)\n",
    "ob.display_data()\n"
   ]
  },
  {
   "cell_type": "code",
   "execution_count": 2,
   "metadata": {},
   "outputs": [
    {
     "name": "stdout",
     "output_type": "stream",
     "text": [
      "2025\n",
      "45\n"
     ]
    }
   ],
   "source": [
    "n=int(input())\n",
    "l=str(n)\n",
    "print(l)\n",
    "a=l[:len(l)//2]\n",
    "b=l[len(l)//2:]\n",
    "res=int(a)+int(b)\n",
    "print(res)\n"
   ]
  },
  {
   "cell_type": "code",
   "execution_count": 11,
   "metadata": {},
   "outputs": [
    {
     "name": "stdout",
     "output_type": "stream",
     "text": [
      "['banana', 'apple']\n"
     ]
    }
   ],
   "source": [
    "import random\n",
    "my_list = [\"apple\", \"banana\", \"orange\", \"pear\"]\n",
    "n=random.randint(1,2)\n",
    "n=random.choices(my_list,k=2)\n",
    "print(n)"
   ]
  },
  {
   "cell_type": "code",
   "execution_count": 13,
   "metadata": {},
   "outputs": [
    {
     "name": "stdout",
     "output_type": "stream",
     "text": [
      "0.7629940726074185\n",
      "6\n",
      "apple\n",
      "['orange', 'apple', 'pear', 'banana']\n",
      "['d', 'a', 'e']\n"
     ]
    }
   ],
   "source": [
    "import random\n",
    "\n",
    "# Generate a random float between 0 and 1\n",
    "print(random.random())\n",
    "\n",
    "# Generate a random integer between 1 and 10 (inclusive)\n",
    "print(random.randint(1, 10))\n",
    "\n",
    "# Choose a random element from a list\n",
    "my_list = [\"apple\", \"banana\", \"orange\", \"pear\"]\n",
    "print(random.choice(my_list))\n",
    "\n",
    "# Shuffle the elements in a list\n",
    "random.shuffle(my_list)\n",
    "print(my_list)\n",
    "\n",
    "# Sample 3 unique elements from a list(not only 3 we can take elements upto the len of list)\n",
    "my_list = [\"a\", \"b\", \"c\", \"d\", \"e\"]\n",
    "print(random.sample(my_list, 3))\n"
   ]
  },
  {
   "cell_type": "code",
   "execution_count": 24,
   "metadata": {},
   "outputs": [
    {
     "name": "stdout",
     "output_type": "stream",
     "text": [
      "not prime\n"
     ]
    }
   ],
   "source": [
    "n=int(input())\n",
    "c=0\n",
    "while c==0:\n",
    "    k=2\n",
    "    while k<n//2+1:\n",
    "        if n%k==0:\n",
    "            print('not prime')\n",
    "            c+=1\n",
    "            break\n",
    "            \n",
    "        k+=1\n",
    "    else:\n",
    "        print('prime')\n",
    "        c+=1"
   ]
  },
  {
   "cell_type": "code",
   "execution_count": 72,
   "metadata": {},
   "outputs": [
    {
     "name": "stdout",
     "output_type": "stream",
     "text": [
      "[1, 2, 3, 4, 5, 6, 7, 8, 9, 10]\n",
      "[1, 3, 5, 7, 9]\n",
      "[1, 7]\n",
      "[1]\n"
     ]
    }
   ],
   "source": [
    "n=int(input())\n",
    "l=[x for x in range(1,n+1)]\n",
    "a=2\n",
    "while True:\n",
    "    k=[]\n",
    "    k+=l[::a]\n",
    "    print(l)\n",
    "    l.clear()\n",
    "    l+=k\n",
    "    if len(k)<=1:\n",
    "        break\n",
    "    a+=1\n",
    "print(k)"
   ]
  },
  {
   "cell_type": "code",
   "execution_count": 37,
   "metadata": {},
   "outputs": [
    {
     "name": "stdout",
     "output_type": "stream",
     "text": [
      "[12]\n"
     ]
    }
   ],
   "source": [
    "n=int(input(\"Enter number : \"))\n",
    "l=[12]\n",
    "x=1\n",
    "while x!=0:\n",
    "    for a in range(1,n):\n",
    "        if a%2!=0 and a>2:\n",
    "            l.append(a)\n",
    "        if 1==len(l):\n",
    "            x=0\n",
    "            break\n",
    "        a+=1\n",
    "        n=len(l)\n",
    "print(l)\n"
   ]
  },
  {
   "cell_type": "code",
   "execution_count": 31,
   "metadata": {},
   "outputs": [
    {
     "name": "stdout",
     "output_type": "stream",
     "text": [
      "[1, 2, 3]\n"
     ]
    }
   ],
   "source": [
    "k=[]\n",
    "k+=[1,2,3]\n",
    "print(k)"
   ]
  },
  {
   "cell_type": "code",
   "execution_count": 51,
   "metadata": {},
   "outputs": [
    {
     "name": "stdout",
     "output_type": "stream",
     "text": [
      "        1 \n",
      "      1   1 \n",
      "    1   2   1 \n",
      "  1   3   3   1 \n",
      "1   4   4   4   1 \n"
     ]
    }
   ],
   "source": [
    "n=int(input())\n",
    "sp=n-1\n",
    "st=1\n",
    "for x in range(n):\n",
    "    for c in range(sp):\n",
    "        print(' ', end=' ')\n",
    "    for d in range(st):\n",
    "        if d==0 or d==st-1:\n",
    "            print(1, end=' ')\n",
    "        else:\n",
    "            if d%2!=0:\n",
    "                print(' ', end=' ')\n",
    "            else:\n",
    "                print(x, end=' ')\n",
    "       \n",
    "    print()\n",
    "    sp-=1\n",
    "    st+=2"
   ]
  },
  {
   "cell_type": "code",
   "execution_count": 54,
   "metadata": {},
   "outputs": [
    {
     "name": "stdout",
     "output_type": "stream",
     "text": [
      "        1 \n",
      "      1 2 1 \n",
      "    1 3   3 1 \n",
      "  1 4   4   4 1 \n",
      "1 5   5   5   5 1 \n"
     ]
    }
   ],
   "source": [
    "n=int(input())\n",
    "sp=n-1\n",
    "st=1\n",
    "for x in range(n):\n",
    "    for c in range(sp):\n",
    "        print(' ', end=' ')\n",
    "    for d in range(st):\n",
    "        if d==0 or d==st-1:\n",
    "            print(1, end=' ')\n",
    "        else:\n",
    "            if d%2==0:\n",
    "                print(' ', end=' ')\n",
    "            else:\n",
    "                print(x+1, end=' ')\n",
    "       \n",
    "    print()\n",
    "    sp-=1\n",
    "    st+=2"
   ]
  },
  {
   "cell_type": "code",
   "execution_count": 37,
   "metadata": {},
   "outputs": [
    {
     "name": "stdout",
     "output_type": "stream",
     "text": [
      "[1, 2, 3, 4, 5, 6, 7, 8, 9, 10]\n",
      "[2, 3, 5, 6, 8, 9, 10]\n",
      "2\n",
      "[3, 5, 6, 9, 10]\n",
      "3\n",
      "[5, 6, 9, 10]\n",
      "4\n",
      "[6, 9, 10]\n",
      "5\n",
      "[9, 10]\n",
      "6\n",
      "[10]\n",
      "7\n",
      "[10]\n"
     ]
    }
   ],
   "source": [
    "n=int(input())\n",
    "l=[x for x in range(1,n+1)]\n",
    "a=2\n",
    "print(l)\n",
    "while True:\n",
    "    k=[]\n",
    "    for i in range(0,len(l),a):\n",
    "        if i<len(l)-1:\n",
    "            l.pop(i)\n",
    "    print(l)\n",
    "    print(a)\n",
    "    k+=l\n",
    "    l.clear()\n",
    "    l+=k\n",
    "    if len(k)<=1:\n",
    "        break\n",
    "    a+=1\n",
    "print(k)"
   ]
  },
  {
   "cell_type": "code",
   "execution_count": 31,
   "metadata": {},
   "outputs": [
    {
     "name": "stdout",
     "output_type": "stream",
     "text": [
      "0\n",
      "2\n"
     ]
    }
   ],
   "source": [
    "a=[1,2,3,4]\n",
    "b=2\n",
    "for x in range(0,len(a),b):\n",
    "    print(x)"
   ]
  },
  {
   "cell_type": "code",
   "execution_count": 43,
   "metadata": {},
   "outputs": [
    {
     "name": "stdout",
     "output_type": "stream",
     "text": [
      "['f', 'r']\n"
     ]
    }
   ],
   "source": [
    "import random\n",
    "a=['a','f','r']\n",
    "print(random.choices(a,k=2))"
   ]
  },
  {
   "cell_type": "code",
   "execution_count": 49,
   "metadata": {},
   "outputs": [
    {
     "name": "stdout",
     "output_type": "stream",
     "text": [
      "scisor\n",
      "sys win\n"
     ]
    }
   ],
   "source": [
    "l=['paper','scisor','rock']\n",
    "j=random.choice(l)\n",
    "n=input()\n",
    "print(j)\n",
    "if n in l and n>j:\n",
    "    print('user win')\n",
    "elif n==j:\n",
    "    print('draw')\n",
    "elif n not in l:\n",
    "    print('wrong option')\n",
    "else:\n",
    "    print('sys win')"
   ]
  },
  {
   "cell_type": "code",
   "execution_count": 56,
   "metadata": {},
   "outputs": [
    {
     "name": "stdout",
     "output_type": "stream",
     "text": [
      "[4, 3, 1, 6, 5, 2]\n"
     ]
    }
   ],
   "source": [
    "l=[1,2,3,4,5,6]\n",
    "print(random.sample(l,6))"
   ]
  },
  {
   "cell_type": "code",
   "execution_count": 32,
   "metadata": {},
   "outputs": [
    {
     "name": "stdout",
     "output_type": "stream",
     "text": [
      "THIS IS QUESTION EXAM\n"
     ]
    }
   ],
   "source": [
    "s='I12S QUESTI14ON EX20AM THIS11'\n",
    "d={}\n",
    "for x in s.split():\n",
    "    num=ss=''\n",
    "    ss=''\n",
    "    for c in x:\n",
    "        if c.isdigit():\n",
    "            num=num+c\n",
    "        else:\n",
    "            ss=ss+c\n",
    "    d[int(num)]=ss\n",
    "f={k:v for k,v in sorted(d.items())}\n",
    "l=list(f.values())\n",
    "print(' '.join(l))"
   ]
  },
  {
   "cell_type": "code",
   "execution_count": 41,
   "metadata": {},
   "outputs": [
    {
     "name": "stdout",
     "output_type": "stream",
     "text": [
      "3\n",
      "l\n"
     ]
    }
   ],
   "source": [
    "d={'a':{'j':1,'k':2},'b':{'l':3,'m':4}}\n",
    "n=int(input())\n",
    "def m(n):\n",
    "    for v in d.values():\n",
    "        for a,b in v.items():\n",
    "            if n==b:\n",
    "                print(a)\n",
    "                break\n",
    "print(n)\n",
    "m(n)"
   ]
  },
  {
   "cell_type": "code",
   "execution_count": 43,
   "metadata": {},
   "outputs": [
    {
     "data": {
      "text/plain": [
       "{'k': 2, 'm': 4, 'j': 1}"
      ]
     },
     "execution_count": 43,
     "metadata": {},
     "output_type": "execute_result"
    }
   ],
   "source": [
    "\n",
    "def m(a,b):\n",
    "    for x,y in a.items():\n",
    "        b[x]=y\n",
    "    return b\n",
    "a={'j':1,'k':2}\n",
    "b={'k':3,'m':4}\n",
    "m(a,b)"
   ]
  },
  {
   "cell_type": "code",
   "execution_count": 45,
   "metadata": {},
   "outputs": [
    {
     "data": {
      "text/plain": [
       "{'k': 2}"
      ]
     },
     "execution_count": 45,
     "metadata": {},
     "output_type": "execute_result"
    }
   ],
   "source": [
    "\n",
    "def m(a,b):\n",
    "    s={}\n",
    "    for k,v in a.items():\n",
    "        if k in b and b[k]==v:\n",
    "            s[k]=v\n",
    "    return s\n",
    "a={'j':1,'k':2}\n",
    "b={'k':2,'m':4}\n",
    "m(a,b)"
   ]
  },
  {
   "cell_type": "code",
   "execution_count": 5,
   "metadata": {},
   "outputs": [
    {
     "data": {
      "text/plain": [
       "{'j': 1, 'k': 2, 2: 'k', 4: 'm'}"
      ]
     },
     "execution_count": 5,
     "metadata": {},
     "output_type": "execute_result"
    }
   ],
   "source": [
    "a={'j':1,'k':2}\n",
    "b={'k':2,'m':4}\n",
    "def m(b):\n",
    "    s={}\n",
    "    for k,v in b.items():\n",
    "        a[v]=k\n",
    "    return a\n",
    "m(b)"
   ]
  },
  {
   "cell_type": "code",
   "execution_count": 6,
   "metadata": {},
   "outputs": [
    {
     "name": "stdout",
     "output_type": "stream",
     "text": [
      "{'j': 66, 'k': 2, 2: 'k', 4: 'm'}\n"
     ]
    }
   ],
   "source": [
    "a['j']=66\n",
    "print(a)"
   ]
  },
  {
   "cell_type": "code",
   "execution_count": 12,
   "metadata": {},
   "outputs": [
    {
     "name": "stdout",
     "output_type": "stream",
     "text": [
      "['flask', 'float', 'flower']\n"
     ]
    }
   ],
   "source": [
    "l=['float','flower','flask']\n",
    "for x in range(len(l)):\n",
    "    mi=x\n",
    "    for c in range(x+1,len(l)):\n",
    "        if l[mi]>l[c]:\n",
    "            mi=c\n",
    "    l[x],l[mi]=l[mi],l[x]\n",
    "print(l)"
   ]
  },
  {
   "cell_type": "code",
   "execution_count": 17,
   "metadata": {},
   "outputs": [
    {
     "name": "stdout",
     "output_type": "stream",
     "text": [
      "3 4 "
     ]
    }
   ],
   "source": [
    "l=[1,2,3,4]\n",
    "l1=[3,4,5,6]\n",
    "for x in l:\n",
    "    if x in l1:\n",
    "        print(x, end=' ')"
   ]
  },
  {
   "cell_type": "code",
   "execution_count": 20,
   "metadata": {},
   "outputs": [
    {
     "name": "stdout",
     "output_type": "stream",
     "text": [
      "2.5\n"
     ]
    }
   ],
   "source": [
    "class MathUtils:\n",
    "\n",
    "    @staticmethod\n",
    "    def average(a, b):\n",
    "        return a + b / 2\n",
    "\n",
    "print(MathUtils.average(2, 1))"
   ]
  },
  {
   "cell_type": "code",
   "execution_count": 10,
   "metadata": {},
   "outputs": [
    {
     "name": "stdout",
     "output_type": "stream",
     "text": [
      "39\n",
      "['naveen']\n"
     ]
    }
   ],
   "source": [
    "d={'madhu':4,'ram':32,'raj':36,'naveen':39,'ravi':40}\n",
    "# if __name__ == '__main__':\n",
    "#     for x in range(int(input())):\n",
    "#         name = input()\n",
    "#         score = float(input())\n",
    "#         d[name]=score\n",
    "l=list(d.values())\n",
    "for x in range(len(l)):\n",
    "    for c in range(len(l)-1-x):\n",
    "        if l[c]>l[c+1]:\n",
    "            l[c],l[c+1]=l[c+1],l[c]\n",
    "s=l[2]\n",
    "print(s)\n",
    "l1=[]\n",
    "for k,v in d.items():\n",
    "    if v==s:\n",
    "        l1.append(k)\n",
    "l1.sort()\n",
    "print(l1)"
   ]
  },
  {
   "cell_type": "code",
   "execution_count": 16,
   "metadata": {},
   "outputs": [
    {
     "name": "stdout",
     "output_type": "stream",
     "text": [
      "{'madhu': 20, 'ram': 20, 'raj': 19, 'naveen': 19, 'ravi': 21}\n",
      "[19, 19, 20, 20, 21]\n",
      "madhu\n",
      "ram\n"
     ]
    }
   ],
   "source": [
    "d={'madhu':20,'ram':20,'raj':19,'naveen':19,'ravi':21}\n",
    "# if __name__ == '__main__':\n",
    "#     for x in range(int(input())):\n",
    "#         name = input()\n",
    "#         score = float(input())\n",
    "#         d[name]=score\n",
    "print(d)\n",
    "l=list(d.values())\n",
    "for x in range(len(l)):\n",
    "    for c in range(len(l)-1-x):\n",
    "        if l[c]>l[c+1]:\n",
    "            l[c],l[c+1]=l[c+1],l[c]\n",
    "a=[]\n",
    "for i in l:\n",
    "    if i not in a:\n",
    "        a.append(i)\n",
    "s=a[1]\n",
    "print(l)\n",
    "l1=[]\n",
    "for k,v in d.items():\n",
    "    if v==s:\n",
    "        l1.append(k)\n",
    "l1.sort()\n",
    "for i in l1:\n",
    "    print(i)\n"
   ]
  },
  {
   "cell_type": "code",
   "execution_count": 22,
   "metadata": {},
   "outputs": [
    {
     "name": "stdout",
     "output_type": "stream",
     "text": [
      "['ee', 'Ioo', 'Oeo', 'eeeee']\n",
      "ee\n",
      "Ioo\n",
      "Oeo\n",
      "eeeee\n"
     ]
    }
   ],
   "source": [
    "import re\n",
    "S='rabcdeefgyYhFjkIoomnpOeorteeeeet'\n",
    "D=re.findall('[aeiouAEIOU]+[aeiouAEIOU]',S)\n",
    "print(D)\n",
    "for i in D:\n",
    "    print(i)"
   ]
  },
  {
   "cell_type": "code",
   "execution_count": 4,
   "metadata": {},
   "outputs": [
    {
     "name": "stdout",
     "output_type": "stream",
     "text": [
      "j\n",
      "k\n",
      "l\n",
      "m\n"
     ]
    }
   ],
   "source": [
    "d={'a':{'j':1,'k':2},'b':{'l':3,'m':4}}\n",
    "for x in d:\n",
    "    for c in d[x]:\n",
    "        print(c)"
   ]
  },
  {
   "cell_type": "code",
   "execution_count": 5,
   "metadata": {},
   "outputs": [
    {
     "data": {
      "text/plain": [
       "{'k': 2}"
      ]
     },
     "execution_count": 5,
     "metadata": {},
     "output_type": "execute_result"
    }
   ],
   "source": [
    "a={'j':1,'k':2}\n",
    "b={'k':2,'m':4}\n",
    "d={}\n",
    "def m(a,b):\n",
    "    d={}\n",
    "    for k,v in a.items():\n",
    "        if k in b and a[k]==b[k]:\n",
    "            d[k]=v\n",
    "    return d\n",
    "m(a,b)"
   ]
  },
  {
   "cell_type": "code",
   "execution_count": 7,
   "metadata": {},
   "outputs": [
    {
     "name": "stdout",
     "output_type": "stream",
     "text": [
      "['flower', 'flask']\n",
      "['flower']\n"
     ]
    },
    {
     "ename": "IndexError",
     "evalue": "pop index out of range",
     "output_type": "error",
     "traceback": [
      "\u001b[1;31m---------------------------------------------------------------------------\u001b[0m",
      "\u001b[1;31mIndexError\u001b[0m                                Traceback (most recent call last)",
      "Cell \u001b[1;32mIn[7], line 3\u001b[0m\n\u001b[0;32m      1\u001b[0m a\u001b[39m=\u001b[39m[\u001b[39m'\u001b[39m\u001b[39mfloat\u001b[39m\u001b[39m'\u001b[39m,\u001b[39m'\u001b[39m\u001b[39mflower\u001b[39m\u001b[39m'\u001b[39m,\u001b[39m'\u001b[39m\u001b[39mflask\u001b[39m\u001b[39m'\u001b[39m]\n\u001b[0;32m      2\u001b[0m \u001b[39mfor\u001b[39;00m x \u001b[39min\u001b[39;00m \u001b[39mrange\u001b[39m(\u001b[39mlen\u001b[39m(a)):\n\u001b[1;32m----> 3\u001b[0m     a\u001b[39m.\u001b[39;49mpop(x)\n\u001b[0;32m      4\u001b[0m     \u001b[39mprint\u001b[39m(a)\n",
      "\u001b[1;31mIndexError\u001b[0m: pop index out of range"
     ]
    }
   ],
   "source": [
    "a=['float','flower','flask']\n",
    "for x in range(len(a)):\n",
    "    a.pop(x)\n",
    "    print(a)"
   ]
  },
  {
   "cell_type": "code",
   "execution_count": 5,
   "metadata": {},
   "outputs": [
    {
     "name": "stdout",
     "output_type": "stream",
     "text": [
      "['baab']\n"
     ]
    }
   ],
   "source": [
    "# Enter your code here. Read input from STDIN. Print output to STDOUT\n",
    "import re\n",
    "S='abaabaabaaae'\n",
    "# Enter your code here. Read input from STDIN. Print output to STDOUT\n",
    "D=re.findall('[^aeiouAEIOU]{1}[aeiouAEIOU][aeiouAEIOU]+[^aeiouAEIOU]{1}',S)\n",
    "\n",
    "# if len(D)>0:\n",
    "#     for i in D:\n",
    "#         print(i[1:len(i)-1])\n",
    "# else:\n",
    "#     print(-1)\n",
    "print(D)\n"
   ]
  },
  {
   "cell_type": "code",
   "execution_count": 1,
   "metadata": {},
   "outputs": [
    {
     "name": "stdout",
     "output_type": "stream",
     "text": [
      "['baab']\n",
      "aa\n"
     ]
    }
   ],
   "source": [
    "\n",
    "# Enter your code here. Read input from STDIN. Print output to STDOUT\n",
    "import re\n",
    "S='baabaabaaae'\n",
    "D=re.findall('[BDFGHJKLMNPQRSTVWXYZbdfghjklmnpqrstvwxyz]{1}[aeiouAEIOU][aeiouAEIOU]+[BDFGHJKLMNPQRSTVWXYZbdfghjklmnpqrstvwxyz$]{1}',S)\n",
    "print(D)\n",
    "if len(D)>0:\n",
    "    for i in D:\n",
    "        print(i[1:len(i)-1])\n",
    "else:\n",
    "    print(-1)\n"
   ]
  },
  {
   "cell_type": "code",
   "execution_count": 22,
   "metadata": {},
   "outputs": [
    {
     "name": "stdout",
     "output_type": "stream",
     "text": [
      "['adh']\n"
     ]
    }
   ],
   "source": [
    "s='madhu'\n",
    "d=re.findall('[^m]{1}[adh]+[^u]{1}',s)\n",
    "print(d)"
   ]
  },
  {
   "cell_type": "code",
   "execution_count": 2,
   "metadata": {},
   "outputs": [
    {
     "name": "stdout",
     "output_type": "stream",
     "text": [
      "YES\n"
     ]
    }
   ],
   "source": [
    "# Enter your code here. Read input from STDIN. Print output to STDOUT\n",
    "import re\n",
    "s=int(input())\n",
    "for x in range(s):\n",
    "    r=input()\n",
    "    D=re.findall('[7-9]\\d{9}',r)\n",
    "    if len(D)>0:\n",
    "        print('YES')\n",
    "    else:\n",
    "        print('NO')\n"
   ]
  },
  {
   "cell_type": "code",
   "execution_count": 1,
   "metadata": {},
   "outputs": [
    {
     "ename": "KeyError",
     "evalue": "'OUTPUT_PATH'",
     "output_type": "error",
     "traceback": [
      "\u001b[1;31m---------------------------------------------------------------------------\u001b[0m",
      "\u001b[1;31mKeyError\u001b[0m                                  Traceback (most recent call last)",
      "Cell \u001b[1;32mIn[1], line 25\u001b[0m\n\u001b[0;32m     22\u001b[0m     \u001b[39mreturn\u001b[39;00m \u001b[39m'\u001b[39m\u001b[39m \u001b[39m\u001b[39m'\u001b[39m\u001b[39m.\u001b[39mjoin(k)\n\u001b[0;32m     24\u001b[0m \u001b[39mif\u001b[39;00m \u001b[39m__name__\u001b[39m \u001b[39m==\u001b[39m \u001b[39m'\u001b[39m\u001b[39m__main__\u001b[39m\u001b[39m'\u001b[39m:\n\u001b[1;32m---> 25\u001b[0m     fptr \u001b[39m=\u001b[39m \u001b[39mopen\u001b[39m(os\u001b[39m.\u001b[39;49menviron[\u001b[39m'\u001b[39;49m\u001b[39mOUTPUT_PATH\u001b[39;49m\u001b[39m'\u001b[39;49m], \u001b[39m'\u001b[39m\u001b[39mw\u001b[39m\u001b[39m'\u001b[39m)\n\u001b[0;32m     27\u001b[0m     s \u001b[39m=\u001b[39m \u001b[39minput\u001b[39m()\n\u001b[0;32m     29\u001b[0m     result \u001b[39m=\u001b[39m solve(s)\n",
      "File \u001b[1;32m<frozen os>:679\u001b[0m, in \u001b[0;36m__getitem__\u001b[1;34m(self, key)\u001b[0m\n",
      "\u001b[1;31mKeyError\u001b[0m: 'OUTPUT_PATH'"
     ]
    }
   ],
   "source": [
    "#!/bin/python3\n",
    "\n",
    "import math\n",
    "import os\n",
    "import random\n",
    "import re\n",
    "import sys\n",
    "\n",
    "# Complete the solve function below.\n",
    "def solve(s):\n",
    "    a=s.split()\n",
    "    k=[]\n",
    "    for x in a:\n",
    "        r=''\n",
    "        for c in range(len(x)):\n",
    "            if c==0 and x[c].isalpha():\n",
    "                r+=chr(ord(x[c])-32)\n",
    "            else:\n",
    "                r+=x[c]\n",
    "        \n",
    "        k.append(r)      \n",
    "    return ' '.join(k)\n",
    "\n",
    "if __name__ == '__main__':\n",
    "    fptr = open(os.environ['OUTPUT_PATH'], 'w')\n",
    "\n",
    "    s = input()\n",
    "\n",
    "    result = solve(s)\n",
    "    print(result)\n",
    "\n",
    "    fptr.write(result + '\\n')\n",
    "\n",
    "    fptr.close()\n"
   ]
  },
  {
   "cell_type": "code",
   "execution_count": 8,
   "metadata": {},
   "outputs": [
    {
     "name": "stdout",
     "output_type": "stream",
     "text": [
      "invalid literal for int() with base 10: ''\n"
     ]
    }
   ],
   "source": [
    "# Enter your code here. Read input from STDIN. Print output to STDOUT\n",
    "\n",
    "try:\n",
    "    a=int(input())\n",
    "    b=int(input())\n",
    "    res=a/b\n",
    "except BaseException as msg:\n",
    "    print(msg)\n",
    "else:\n",
    "    print(res)\n",
    "\n",
    "    "
   ]
  },
  {
   "cell_type": "code",
   "execution_count": 3,
   "metadata": {},
   "outputs": [
    {
     "name": "stdout",
     "output_type": "stream",
     "text": [
      "try start\n",
      "s started\n",
      "m started\n",
      "10\n",
      "m ended\n",
      "s ended\n",
      "try end\n",
      "no error\n"
     ]
    }
   ],
   "source": [
    "def m():\n",
    "    print('m started')\n",
    "    z=10\n",
    "    print(z)\n",
    "    print('m ended')\n",
    "def s():\n",
    "    print('s started')\n",
    "    m()\n",
    "    # print(z/0)\n",
    "    print('s ended')\n",
    "try:\n",
    "    print('try start')\n",
    "    s()\n",
    "    print('try end')\n",
    "except BaseException as msg:\n",
    "    print(msg)\n",
    "else:\n",
    "    print('no error')"
   ]
  },
  {
   "cell_type": "code",
   "execution_count": 13,
   "metadata": {},
   "outputs": [
    {
     "name": "stdout",
     "output_type": "stream",
     "text": [
      "[1, 2, 3, 5, 8]\n",
      " 1\n",
      "   3\n",
      "     8\n",
      "   5\n",
      " 2\n"
     ]
    }
   ],
   "source": [
    "n=int(input())\n",
    "f=0\n",
    "s=1\n",
    "l=[]\n",
    "for x in range(n*2-1):\n",
    "    l.append(f+s)\n",
    "    f,s=s,f+s\n",
    "print(l)\n",
    "a=0\n",
    "for x in range(n):\n",
    "    print('  '*(x), end=' ')\n",
    "    print(l[a])\n",
    "    a+=2\n",
    "b=-2\n",
    "for x in range(n-1):\n",
    "    print('  '*(n-2-x), end=' ')\n",
    "    print(l[b])\n",
    "    b-=2\n",
    "    \n"
   ]
  },
  {
   "cell_type": "code",
   "execution_count": 5,
   "metadata": {},
   "outputs": [
    {
     "name": "stdout",
     "output_type": "stream",
     "text": [
      "1234\n"
     ]
    }
   ],
   "source": [
    "a=1234\n",
    "print(a)"
   ]
  },
  {
   "cell_type": "code",
   "execution_count": 3,
   "metadata": {},
   "outputs": [
    {
     "name": "stdout",
     "output_type": "stream",
     "text": [
      "a\n",
      "b\n"
     ]
    }
   ],
   "source": [
    "s='a2b3c1d1'\n",
    "for x in range(1,len(s),2):\n",
    "    if int(s[x])>1:\n",
    "        print(s[x-1])"
   ]
  },
  {
   "cell_type": "code",
   "execution_count": 4,
   "metadata": {},
   "outputs": [
    {
     "name": "stdout",
     "output_type": "stream",
     "text": [
      "[13, 7, 3]\n"
     ]
    }
   ],
   "source": [
    "n=3\n",
    "l=[[2,3],[5,4,3],[6]]\n",
    "k=[]\n",
    "for x in range(n):\n",
    "    g=0\n",
    "    for c in range(n):\n",
    "        if x<len(l[c]):\n",
    "            g+=l[c][x]\n",
    "    k.append(g)\n",
    "print(k)"
   ]
  },
  {
   "cell_type": "code",
   "execution_count": 1,
   "metadata": {},
   "outputs": [
    {
     "ename": "TypeError",
     "evalue": "'set' object is not subscriptable",
     "output_type": "error",
     "traceback": [
      "\u001b[1;31m---------------------------------------------------------------------------\u001b[0m",
      "\u001b[1;31mTypeError\u001b[0m                                 Traceback (most recent call last)",
      "Cell \u001b[1;32mIn[1], line 3\u001b[0m\n\u001b[0;32m      1\u001b[0m l\u001b[39m=\u001b[39m{\u001b[39m2\u001b[39m,\u001b[39m3\u001b[39m,\u001b[39m4\u001b[39m}\n\u001b[0;32m      2\u001b[0m l1\u001b[39m=\u001b[39m{\u001b[39m3\u001b[39m,\u001b[39m4\u001b[39m,\u001b[39m5\u001b[39m}\n\u001b[1;32m----> 3\u001b[0m \u001b[39mprint\u001b[39m(l[\u001b[39m0\u001b[39;49m])\n",
      "\u001b[1;31mTypeError\u001b[0m: 'set' object is not subscriptable"
     ]
    }
   ],
   "source": [
    "l={2,3,4}\n",
    "l1={3,4,5}\n",
    "print(l[0])"
   ]
  },
  {
   "cell_type": "code",
   "execution_count": 3,
   "metadata": {},
   "outputs": [
    {
     "data": {
      "text/plain": [
       "48"
      ]
     },
     "execution_count": 3,
     "metadata": {},
     "output_type": "execute_result"
    }
   ],
   "source": [
    "12<<2"
   ]
  },
  {
   "cell_type": "code",
   "execution_count": 4,
   "metadata": {},
   "outputs": [
    {
     "ename": "IndexError",
     "evalue": "pop index out of range",
     "output_type": "error",
     "traceback": [
      "\u001b[1;31m---------------------------------------------------------------------------\u001b[0m",
      "\u001b[1;31mIndexError\u001b[0m                                Traceback (most recent call last)",
      "Cell \u001b[1;32mIn[4], line 2\u001b[0m\n\u001b[0;32m      1\u001b[0m l\u001b[39m=\u001b[39m[\u001b[39m1\u001b[39m,\u001b[39m2\u001b[39m,\u001b[39m3\u001b[39m]\n\u001b[1;32m----> 2\u001b[0m l\u001b[39m.\u001b[39;49mpop(\u001b[39m22\u001b[39;49m)\n",
      "\u001b[1;31mIndexError\u001b[0m: pop index out of range"
     ]
    }
   ],
   "source": [
    "l=[1,2,3]\n",
    "l.pop(22)"
   ]
  },
  {
   "cell_type": "code",
   "execution_count": 7,
   "metadata": {},
   "outputs": [
    {
     "name": "stdout",
     "output_type": "stream",
     "text": [
      "['a', 'b', 'c', 'd'] ['20', '0', '30', '97', '7', '', '9']\n",
      "\n"
     ]
    }
   ],
   "source": [
    "s='a20b30c97d9'\n",
    "d={}\n",
    "l=[]\n",
    "l1=[]\n",
    "for x in range(len(s)):\n",
    "    a=''\n",
    "    for c in range(x,len(s)-1,len(a)+1):\n",
    "        if s[c].isalpha():\n",
    "            l.append(s[c])\n",
    "        elif s[c].isdigit() and s[c+1].isalpha():\n",
    "            a+=s[c]\n",
    "            break\n",
    "        else:\n",
    "            a+=s[c]\n",
    "    if a not in l1:\n",
    "        l1.append(a)\n",
    "if s[-1].isdigit():\n",
    "    l1.append(s[-1])\n",
    "print(l,l1)\n",
    "print(a)"
   ]
  },
  {
   "cell_type": "code",
   "execution_count": 6,
   "metadata": {},
   "outputs": [
    {
     "name": "stdout",
     "output_type": "stream",
     "text": [
      "{'a': 3, 'b': 1, 'c': 1, 'd': 1000}\n",
      "ad"
     ]
    }
   ],
   "source": [
    "s='3a1b1c1000d'\n",
    "l=[]\n",
    "l1=[]\n",
    "d=0\n",
    "q=''\n",
    "while d<len(s):\n",
    "    if s[d].isdigit():\n",
    "       q+=s[d]\n",
    "\n",
    "    if s[d].isalpha():\n",
    "        l.append(s[d])\n",
    "        if q:\n",
    "            l1.append(q)\n",
    "        q=''\n",
    "    d=d+1\n",
    "if q:\n",
    "    l1.append(q)\n",
    "\n",
    "d={l[x]:int(l1[x]) for x in range(len(l))}\n",
    "print(d)\n",
    "\n",
    "d1 = dict(sorted(d.items(), key=lambda x: x[1]))\n",
    "\n",
    "for k,v in d1.items():\n",
    "    if v>1:\n",
    "        print(k,end='')\n"
   ]
  },
  {
   "cell_type": "code",
   "execution_count": 3,
   "metadata": {},
   "outputs": [
    {
     "name": "stdout",
     "output_type": "stream",
     "text": [
      "{1: 'ab', 2: 'ab'}\n"
     ]
    }
   ],
   "source": [
    "d={}\n",
    "a=d.fromkeys([1,2],'ab')\n",
    "print(a)"
   ]
  },
  {
   "cell_type": "code",
   "execution_count": 6,
   "metadata": {},
   "outputs": [
    {
     "data": {
      "text/plain": [
       "[1, 2, 6]"
      ]
     },
     "execution_count": 6,
     "metadata": {},
     "output_type": "execute_result"
    }
   ],
   "source": [
    "l=[1,2]\n",
    "l.insert(4,6)\n",
    "l"
   ]
  },
  {
   "cell_type": "code",
   "execution_count": 22,
   "metadata": {},
   "outputs": [
    {
     "ename": "NameError",
     "evalue": "name 'sdfghj' is not defined",
     "output_type": "error",
     "traceback": [
      "\u001b[1;31m---------------------------------------------------------------------------\u001b[0m",
      "\u001b[1;31mNameError\u001b[0m                                 Traceback (most recent call last)",
      "Cell \u001b[1;32mIn[22], line 2\u001b[0m\n\u001b[0;32m      1\u001b[0m a\u001b[39m=\u001b[39m\u001b[39m'\u001b[39m\u001b[39msdfghj\u001b[39m\u001b[39m'\u001b[39m\n\u001b[1;32m----> 2\u001b[0m \u001b[39mprint\u001b[39m(\u001b[39meval\u001b[39;49m(a))\n",
      "File \u001b[1;32m<string>:1\u001b[0m\n",
      "\u001b[1;31mNameError\u001b[0m: name 'sdfghj' is not defined"
     ]
    }
   ],
   "source": [
    "a='sdfghj'\n",
    "print(eval(a))"
   ]
  },
  {
   "cell_type": "code",
   "execution_count": 24,
   "metadata": {},
   "outputs": [
    {
     "name": "stdout",
     "output_type": "stream",
     "text": [
      "{'name': 'John', 'age': 30, 'city': 'New York'}\n"
     ]
    }
   ],
   "source": [
    "import json\n",
    "\n",
    "string = '{\"name\": \"John\", \"age\": 30, \"city\": \"New York\"}'\n",
    "\n",
    "# Convert the string into a dictionary\n",
    "dictionary = json.loads(string)\n",
    "\n",
    "print(dictionary)  # Output: {'name': 'John', 'age': 30, 'city': 'New York'}\n"
   ]
  },
  {
   "cell_type": "code",
   "execution_count": 28,
   "metadata": {},
   "outputs": [
    {
     "ename": "TypeError",
     "evalue": "cannot convert dictionary update sequence element #0 to a sequence",
     "output_type": "error",
     "traceback": [
      "\u001b[1;31m---------------------------------------------------------------------------\u001b[0m",
      "\u001b[1;31mTypeError\u001b[0m                                 Traceback (most recent call last)",
      "Cell \u001b[1;32mIn[28], line 2\u001b[0m\n\u001b[0;32m      1\u001b[0m a\u001b[39m=\u001b[39m(\u001b[39m1\u001b[39m,\u001b[39m2\u001b[39m)\n\u001b[1;32m----> 2\u001b[0m \u001b[39mprint\u001b[39m(\u001b[39mdict\u001b[39;49m(a))\n",
      "\u001b[1;31mTypeError\u001b[0m: cannot convert dictionary update sequence element #0 to a sequence"
     ]
    }
   ],
   "source": [
    "a=(1,2)\n",
    "print(dict(a))"
   ]
  },
  {
   "cell_type": "code",
   "execution_count": 29,
   "metadata": {},
   "outputs": [
    {
     "name": "stdout",
     "output_type": "stream",
     "text": [
      "1\n",
      "2\n",
      "3\n",
      "4\n",
      "5\n",
      "6\n",
      "7\n",
      "8\n",
      "9\n",
      "10\n"
     ]
    }
   ],
   "source": [
    "def m(n):\n",
    "    if n==11:\n",
    "        return \n",
    "    print(n)\n",
    "    m(n+1)\n",
    "m(1)"
   ]
  },
  {
   "cell_type": "code",
   "execution_count": 30,
   "metadata": {},
   "outputs": [
    {
     "name": "stdout",
     "output_type": "stream",
     "text": [
      "dfghj\n",
      "None\n"
     ]
    }
   ],
   "source": [
    "def m():\n",
    "    print('dfghj')\n",
    "print(m())"
   ]
  },
  {
   "cell_type": "code",
   "execution_count": 31,
   "metadata": {},
   "outputs": [
    {
     "data": {
      "text/plain": [
       "'uhdam'"
      ]
     },
     "execution_count": 31,
     "metadata": {},
     "output_type": "execute_result"
    }
   ],
   "source": [
    "def m(n):\n",
    "    if n==-len(s)-1:\n",
    "        return ''\n",
    "    return s[n]+m(n-1)\n",
    "s='madhu'\n",
    "m(-1)"
   ]
  },
  {
   "cell_type": "code",
   "execution_count": 38,
   "metadata": {},
   "outputs": [
    {
     "data": {
      "text/plain": [
       "{'a': 10, 'b': 20, 'c': 100}"
      ]
     },
     "execution_count": 38,
     "metadata": {},
     "output_type": "execute_result"
    }
   ],
   "source": [
    "a={'a':10,'b':20}\n",
    "a.setdefault('c',100)\n",
    "a"
   ]
  },
  {
   "cell_type": "code",
   "execution_count": 40,
   "metadata": {},
   "outputs": [
    {
     "data": {
      "text/plain": [
       "65"
      ]
     },
     "execution_count": 40,
     "metadata": {},
     "output_type": "execute_result"
    }
   ],
   "source": [
    "ord('A')"
   ]
  },
  {
   "cell_type": "code",
   "execution_count": 41,
   "metadata": {},
   "outputs": [
    {
     "name": "stdout",
     "output_type": "stream",
     "text": [
      "10\n"
     ]
    }
   ],
   "source": [
    "a=s=d=10\n",
    "print(s)"
   ]
  },
  {
   "cell_type": "code",
   "execution_count": 42,
   "metadata": {},
   "outputs": [
    {
     "data": {
      "text/plain": [
       "0"
      ]
     },
     "execution_count": 42,
     "metadata": {},
     "output_type": "execute_result"
    }
   ],
   "source": [
    "132%6"
   ]
  },
  {
   "cell_type": "code",
   "execution_count": 8,
   "metadata": {},
   "outputs": [
    {
     "name": "stdout",
     "output_type": "stream",
     "text": [
      "1\n",
      "2\n",
      "3\n",
      "4\n",
      "5\n",
      "6\n",
      "7\n",
      "8\n",
      "9\n",
      "10\n"
     ]
    }
   ],
   "source": [
    "n=1\n",
    "c=0\n",
    "while c!=10:\n",
    "    r=0\n",
    "    a=n\n",
    "    while n!=0:\n",
    "        r+=(n%10)\n",
    "        n//=10\n",
    "    if a%r==0:\n",
    "        print(a)\n",
    "        c+=1\n",
    "    n=a+1\n"
   ]
  },
  {
   "cell_type": "code",
   "execution_count": 5,
   "metadata": {},
   "outputs": [
    {
     "name": "stdout",
     "output_type": "stream",
     "text": [
      "s\n"
     ]
    }
   ],
   "source": [
    "n=132\n",
    "a=n\n",
    "r=0\n",
    "while n!=0:\n",
    "    r+=(n%10)\n",
    "    n//=10\n",
    "if a%r==0:\n",
    "    print('s')\n",
    "else:\n",
    "    print('n')"
   ]
  },
  {
   "cell_type": "code",
   "execution_count": 10,
   "metadata": {},
   "outputs": [
    {
     "name": "stdout",
     "output_type": "stream",
     "text": [
      "3\n"
     ]
    }
   ],
   "source": [
    "l=[[1,2],[2,3,4]]\n",
    "print(len(max(l)))"
   ]
  },
  {
   "cell_type": "code",
   "execution_count": 15,
   "metadata": {},
   "outputs": [
    {
     "data": {
      "text/plain": [
       "[False]"
      ]
     },
     "execution_count": 15,
     "metadata": {},
     "output_type": "execute_result"
    }
   ],
   "source": [
    "def m(n,r):\n",
    "   if n!=1 and r<n//2+1:\n",
    "      if n<=1 or n%r==0:\n",
    "         return 'not prime'\n",
    "      return m(n,r+1)\n",
    "   return 'prime'\n",
    "m(6,2)\n",
    "      "
   ]
  },
  {
   "cell_type": "code",
   "execution_count": 17,
   "metadata": {},
   "outputs": [
    {
     "data": {
      "text/plain": [
       "1110"
      ]
     },
     "execution_count": 17,
     "metadata": {},
     "output_type": "execute_result"
    }
   ],
   "source": [
    "n=14\n",
    "r=0\n",
    "x=1\n",
    "while n!=0:\n",
    "    r+=(n%2)*x\n",
    "    n//=2\n",
    "    x*=10\n",
    "r"
   ]
  },
  {
   "cell_type": "code",
   "execution_count": 3,
   "metadata": {},
   "outputs": [
    {
     "data": {
      "text/plain": [
       "{'m': 0, 'a': 4, 'd': 0, 'h': 0, 'u': 0}"
      ]
     },
     "execution_count": 3,
     "metadata": {},
     "output_type": "execute_result"
    }
   ],
   "source": [
    "a='madhuaaaa'\n",
    "d={}\n",
    "for x in a:\n",
    "    s=0\n",
    "    for c in a:\n",
    "        if x==c:\n",
    "            s+=1\n",
    "    if x not in d:\n",
    "        d[x]=s-1\n",
    "    \n",
    "d"
   ]
  },
  {
   "cell_type": "code",
   "execution_count": 6,
   "metadata": {},
   "outputs": [
    {
     "name": "stdout",
     "output_type": "stream",
     "text": [
      "a2b3c4d2f1v2w1\n"
     ]
    }
   ],
   "source": [
    "s='aabbbccccddfvvw'\n",
    "c=1\n",
    "r=''\n",
    "for x in range(len(s)-1):\n",
    "    if s[x]==s[x+1]:\n",
    "        c+=1\n",
    "    else:\n",
    "        r+=s[x]+str(c)\n",
    "        c=1\n",
    "r+=s[x+1]+str(c)\n",
    "print(r)"
   ]
  },
  {
   "cell_type": "code",
   "execution_count": 8,
   "metadata": {},
   "outputs": [
    {
     "name": "stdout",
     "output_type": "stream",
     "text": [
      "qw hello\n"
     ]
    }
   ],
   "source": [
    "a='qw'\n",
    "print(a+' hello')"
   ]
  },
  {
   "cell_type": "code",
   "execution_count": 9,
   "metadata": {},
   "outputs": [
    {
     "name": "stdout",
     "output_type": "stream",
     "text": [
      "10\n",
      "10\n"
     ]
    }
   ],
   "source": [
    "def m():\n",
    "    print(a)\n",
    "a=10\n",
    "m()\n",
    "print(a)"
   ]
  },
  {
   "cell_type": "code",
   "execution_count": 25,
   "metadata": {},
   "outputs": [
    {
     "name": "stdout",
     "output_type": "stream",
     "text": [
      "10\n",
      "22\n",
      "22\n",
      "22\n"
     ]
    }
   ],
   "source": [
    "\n",
    "def m():\n",
    "    print(z)\n",
    "    def n():\n",
    "        global z\n",
    "        z=22\n",
    "        print(z)\n",
    "    n()\n",
    "    print(z)\n",
    "z=200\n",
    "m()\n",
    "print(z)"
   ]
  },
  {
   "cell_type": "code",
   "execution_count": 14,
   "metadata": {},
   "outputs": [
    {
     "ename": "AttributeError",
     "evalue": "'a' object has no attribute 'y'",
     "output_type": "error",
     "traceback": [
      "\u001b[1;31m---------------------------------------------------------------------------\u001b[0m",
      "\u001b[1;31mAttributeError\u001b[0m                            Traceback (most recent call last)",
      "Cell \u001b[1;32mIn[14], line 7\u001b[0m\n\u001b[0;32m      5\u001b[0m         \u001b[39mreturn\u001b[39;00m \u001b[39mself\u001b[39m\u001b[39m.\u001b[39my\n\u001b[0;32m      6\u001b[0m ob\u001b[39m=\u001b[39ma()\n\u001b[1;32m----> 7\u001b[0m \u001b[39mprint\u001b[39m(ob\u001b[39m.\u001b[39;49md())\n",
      "Cell \u001b[1;32mIn[14], line 5\u001b[0m, in \u001b[0;36ma.d\u001b[1;34m(self)\u001b[0m\n\u001b[0;32m      4\u001b[0m \u001b[39mdef\u001b[39;00m \u001b[39md\u001b[39m(\u001b[39mself\u001b[39m):\n\u001b[1;32m----> 5\u001b[0m     \u001b[39mreturn\u001b[39;00m \u001b[39mself\u001b[39;49m\u001b[39m.\u001b[39;49my\n",
      "\u001b[1;31mAttributeError\u001b[0m: 'a' object has no attribute 'y'"
     ]
    }
   ],
   "source": [
    "class a():\n",
    "    def __init__(self):\n",
    "       self.x=20\n",
    "    def d(self):\n",
    "        return self.y\n",
    "ob=a()\n",
    "print(ob.d())"
   ]
  },
  {
   "cell_type": "code",
   "execution_count": 12,
   "metadata": {},
   "outputs": [
    {
     "name": "stdout",
     "output_type": "stream",
     "text": [
      "* * * * \n",
      "* * * * \n",
      "*   * * \n",
      "*   *   \n",
      "    *   \n",
      "    *   \n"
     ]
    }
   ],
   "source": [
    "l=[4,2,6,3]\n",
    "for x in range(max(l)):\n",
    "    for c in range(len(l)):\n",
    "        if x<l[c]:\n",
    "            print('*', end=' ')\n",
    "        else:\n",
    "            print(' ', end=' ')\n",
    "    print()"
   ]
  },
  {
   "cell_type": "code",
   "execution_count": 14,
   "metadata": {},
   "outputs": [
    {
     "name": "stdout",
     "output_type": "stream",
     "text": [
      "[[1, 2, 3, 2], [4, 5, 6], [1, 2, 3, 4, 5, 6]]\n",
      "6\n",
      "[6, 9, 12]\n"
     ]
    }
   ],
   "source": [
    "l=['[1,2,3,2]','[4,5,6]','[1,2,3,4,5,6]']\n",
    "l1=[]\n",
    "l2=[]\n",
    "\n",
    "for x in l:\n",
    "    l1.append(eval(x))\n",
    "print(l1)\n",
    "f=0\n",
    "for i in l1:\n",
    "    if f<len(i):\n",
    "        f=len(i)\n",
    "print(f)\n",
    "for c in range(len(max(l1))):\n",
    "    a=0\n",
    "    for d in range(len(l1)):\n",
    "        if c<len(l1[d]):\n",
    "            a+=l1[d][c]\n",
    "    l2.append(a)\n",
    "print(l2)"
   ]
  },
  {
   "cell_type": "code",
   "execution_count": 2,
   "metadata": {},
   "outputs": [
    {
     "name": "stdout",
     "output_type": "stream",
     "text": [
      "{'o': 4, 'e': 1, 'd': 1}\n"
     ]
    }
   ],
   "source": [
    "s='google bleeed bloooooodd'\n",
    "d={}\n",
    "a=1\n",
    "for i in range(len(s)-1):\n",
    "    if s[i]==s[i+1]:\n",
    "        a+=1\n",
    "    else:\n",
    "        if a>1:\n",
    "            if s[i] not in d:\n",
    "                d[s[i]]=a//2\n",
    "            else:\n",
    "                d[s[i]]+=a//2\n",
    "            a=1\n",
    "if a>1:\n",
    "    if s[i] not in d:\n",
    "        d[s[i]]=a//2\n",
    "        \n",
    "    else:\n",
    "        d[s[i]]+=a//2\n",
    "print(d)"
   ]
  },
  {
   "cell_type": "code",
   "execution_count": 12,
   "metadata": {},
   "outputs": [
    {
     "name": "stdout",
     "output_type": "stream",
     "text": [
      "4\n"
     ]
    }
   ],
   "source": [
    "l=[[1],[1,2],[1,2,3],[1,2,3,4]]\n",
    "print(len(max(l)))"
   ]
  },
  {
   "cell_type": "code",
   "execution_count": 8,
   "metadata": {},
   "outputs": [
    {
     "ename": "TypeError",
     "evalue": "eval() arg 1 must be a string, bytes or code object",
     "output_type": "error",
     "traceback": [
      "\u001b[1;31m---------------------------------------------------------------------------\u001b[0m",
      "\u001b[1;31mTypeError\u001b[0m                                 Traceback (most recent call last)",
      "Cell \u001b[1;32mIn[8], line 2\u001b[0m\n\u001b[0;32m      1\u001b[0m a\u001b[39m=\u001b[39m[[\u001b[39m1\u001b[39m,\u001b[39m2\u001b[39m,\u001b[39m3\u001b[39m]]\n\u001b[1;32m----> 2\u001b[0m \u001b[39mprint\u001b[39m(\u001b[39meval\u001b[39;49m(a[\u001b[39m0\u001b[39;49m]))\n",
      "\u001b[1;31mTypeError\u001b[0m: eval() arg 1 must be a string, bytes or code object"
     ]
    }
   ],
   "source": [
    "a=[[1,2,3]]\n",
    "print(eval(a[0]))"
   ]
  },
  {
   "cell_type": "code",
   "execution_count": 10,
   "metadata": {},
   "outputs": [
    {
     "name": "stdout",
     "output_type": "stream",
     "text": [
      "xab"
     ]
    }
   ],
   "source": [
    "s='44x34a2b1c1d'\n",
    "c=''\n",
    "for i in s:\n",
    "    if i.isdigit():\n",
    "        c+=i\n",
    "    elif i.isalpha():\n",
    "        if int(c)>1:\n",
    "            print(i,end='')\n",
    "        c=''\n"
   ]
  },
  {
   "cell_type": "code",
   "execution_count": 3,
   "metadata": {},
   "outputs": [
    {
     "name": "stdout",
     "output_type": "stream",
     "text": [
      "[3]\n"
     ]
    }
   ],
   "source": [
    "def fib(n):\n",
    "    f=0\n",
    "    s=1\n",
    "    if n==1 or n==2:\n",
    "        return n-1\n",
    "    for x in range(n):\n",
    "        t=f\n",
    "        f,s=s,f+s\n",
    "    yield t\n",
    "print(list(fib(5)))"
   ]
  },
  {
   "cell_type": "code",
   "execution_count": 5,
   "metadata": {},
   "outputs": [
    {
     "name": "stdout",
     "output_type": "stream",
     "text": [
      "3\n"
     ]
    }
   ],
   "source": [
    "n=5\n",
    "f=0\n",
    "s=1\n",
    "r=0\n",
    "\n",
    "for x in range(1,n+1):\n",
    "    r=f\n",
    "    f,s=s,f+s\n",
    "    if x==n:\n",
    "        print(r)\n",
    "    "
   ]
  },
  {
   "cell_type": "code",
   "execution_count": 1,
   "metadata": {},
   "outputs": [
    {
     "ename": "NameError",
     "evalue": "name 'B' is not defined",
     "output_type": "error",
     "traceback": [
      "\u001b[1;31m---------------------------------------------------------------------------\u001b[0m",
      "\u001b[1;31mNameError\u001b[0m                                 Traceback (most recent call last)",
      "Cell \u001b[1;32mIn[1], line 1\u001b[0m\n\u001b[1;32m----> 1\u001b[0m \u001b[39mclass\u001b[39;00m \u001b[39mA\u001b[39;00m(B):\n\u001b[0;32m      2\u001b[0m     x\u001b[39m=\u001b[39m\u001b[39m10\u001b[39m\n\u001b[0;32m      4\u001b[0m \u001b[39mclass\u001b[39;00m \u001b[39mB\u001b[39;00m(C):\n",
      "\u001b[1;31mNameError\u001b[0m: name 'B' is not defined"
     ]
    }
   ],
   "source": [
    "class A(B):\n",
    "    x=10\n",
    "\n",
    "class B(C):\n",
    "    pass\n",
    "\n",
    "class C(A):\n",
    "    pass\n",
    "ob=C()\n",
    "print(ob.x)"
   ]
  },
  {
   "cell_type": "code",
   "execution_count": 8,
   "metadata": {},
   "outputs": [
    {
     "name": "stdout",
     "output_type": "stream",
     "text": [
      "[8, 7, 6, 5, 4, 3, 2, 1]\n"
     ]
    }
   ],
   "source": [
    "l=[[1,2],[1],[4,3,21,3],[3,2,1],[6,5,4,3,2,1],[8,7,6,5,4,3,2,1]]\n",
    "print(max(l))"
   ]
  },
  {
   "cell_type": "code",
   "execution_count": 9,
   "metadata": {},
   "outputs": [
    {
     "name": "stdout",
     "output_type": "stream",
     "text": [
      "aaaaa\n"
     ]
    }
   ],
   "source": [
    "s='aaaaa is a madhu boy'\n",
    "f=len(max(s.split()))\n",
    "l=[]\n",
    "for i in s.split():\n",
    "    if len(i)==f:\n",
    "        print(i)\n",
    "        break"
   ]
  },
  {
   "cell_type": "code",
   "execution_count": 10,
   "metadata": {},
   "outputs": [
    {
     "data": {
      "text/plain": [
       "array([[1, 1, 1, 1, 1],\n",
       "       [1, 1, 1, 1, 1],\n",
       "       [1, 1, 1, 1, 1]])"
      ]
     },
     "execution_count": 10,
     "metadata": {},
     "output_type": "execute_result"
    }
   ],
   "source": [
    "import numpy as np\n",
    "np.ones((3,5),dtype=int)"
   ]
  },
  {
   "cell_type": "code",
   "execution_count": 6,
   "metadata": {},
   "outputs": [
    {
     "data": {
      "text/plain": [
       "array([0, 1, 2, 3, 4, 5, 6, 7, 8, 9])"
      ]
     },
     "execution_count": 6,
     "metadata": {},
     "output_type": "execute_result"
    }
   ],
   "source": [
    "np.arange(10)"
   ]
  },
  {
   "cell_type": "code",
   "execution_count": 12,
   "metadata": {},
   "outputs": [
    {
     "data": {
      "text/plain": [
       "array([10., 19., 28., 37., 46., 55., 64., 73., 82., 91.])"
      ]
     },
     "execution_count": 12,
     "metadata": {},
     "output_type": "execute_result"
    }
   ],
   "source": [
    "np.linspace(10,100,10,endpoint=False,)"
   ]
  },
  {
   "cell_type": "code",
   "execution_count": 22,
   "metadata": {},
   "outputs": [
    {
     "data": {
      "text/plain": [
       "4"
      ]
     },
     "execution_count": 22,
     "metadata": {},
     "output_type": "execute_result"
    }
   ],
   "source": [
    "s=np.full([1,5],4)\n",
    "s.size\n",
    "s.shape\n",
    "s.dtype\n",
    "s.itemsize"
   ]
  },
  {
   "cell_type": "code",
   "execution_count": 24,
   "metadata": {},
   "outputs": [
    {
     "data": {
      "text/plain": [
       "128"
      ]
     },
     "execution_count": 24,
     "metadata": {},
     "output_type": "execute_result"
    }
   ],
   "source": [
    "import sys\n",
    "a=np.array([1,2,3,4])\n",
    "sys.getsizeof(a)"
   ]
  },
  {
   "cell_type": "code",
   "execution_count": 25,
   "metadata": {},
   "outputs": [
    {
     "data": {
      "text/plain": [
       "116"
      ]
     },
     "execution_count": 25,
     "metadata": {},
     "output_type": "execute_result"
    }
   ],
   "source": [
    "a=np.array([1,2,3,4],dtype='int8')\n",
    "sys.getsizeof(a)\n"
   ]
  },
  {
   "cell_type": "code",
   "execution_count": 56,
   "metadata": {},
   "outputs": [
    {
     "data": {
      "text/plain": [
       "array([2, 6])"
      ]
     },
     "execution_count": 56,
     "metadata": {},
     "output_type": "execute_result"
    }
   ],
   "source": [
    "a=np.array([[[0,2,34],[1,9,3],[6,5,4]],[[1,2,3],[4,5,6],[7,8,9]]])\n",
    "a[[0,1],[0,1],[1,2]]"
   ]
  },
  {
   "cell_type": "code",
   "execution_count": 62,
   "metadata": {},
   "outputs": [
    {
     "data": {
      "text/plain": [
       "array([34,  9,  6])"
      ]
     },
     "execution_count": 62,
     "metadata": {},
     "output_type": "execute_result"
    }
   ],
   "source": [
    "a=np.array([[0,2,34],[1,9,3],[6,5,4]])\n",
    "b=np.array(a>5)\n",
    "a[b]"
   ]
  },
  {
   "cell_type": "code",
   "execution_count": 11,
   "metadata": {},
   "outputs": [
    {
     "ename": "NameError",
     "evalue": "name 'np' is not defined",
     "output_type": "error",
     "traceback": [
      "\u001b[1;31m---------------------------------------------------------------------------\u001b[0m",
      "\u001b[1;31mNameError\u001b[0m                                 Traceback (most recent call last)",
      "Cell \u001b[1;32mIn[11], line 1\u001b[0m\n\u001b[1;32m----> 1\u001b[0m a\u001b[39m=\u001b[39mnp\u001b[39m.\u001b[39marray([\u001b[39m0\u001b[39m,\u001b[39m2\u001b[39m,\u001b[39m34\u001b[39m,\u001b[39m7\u001b[39m,\u001b[39m6\u001b[39m,\u001b[39m5\u001b[39m,\u001b[39m4\u001b[39m])\n\u001b[0;32m      2\u001b[0m b\u001b[39m=\u001b[39ma[[\u001b[39m0\u001b[39m,\u001b[39m1\u001b[39m,\u001b[39m2\u001b[39m,\u001b[39m3\u001b[39m,\u001b[39m4\u001b[39m,\u001b[39m5\u001b[39m]]\n\u001b[0;32m      3\u001b[0m b[\u001b[39m0\u001b[39m]\u001b[39m=\u001b[39m\u001b[39m99\u001b[39m\n",
      "\u001b[1;31mNameError\u001b[0m: name 'np' is not defined"
     ]
    }
   ],
   "source": [
    "a=np.array([0,2,34,7,6,5,4])\n",
    "b=a[[0,1,2,3,4,5]]\n",
    "b[0]=99\n",
    "a"
   ]
  },
  {
   "cell_type": "code",
   "execution_count": 10,
   "metadata": {},
   "outputs": [
    {
     "data": {
      "text/plain": [
       "[1, 2, 3]"
      ]
     },
     "execution_count": 10,
     "metadata": {},
     "output_type": "execute_result"
    }
   ],
   "source": [
    "l=[1,2,3]\n",
    "a=l[:]\n",
    "a[0]=99\n",
    "l"
   ]
  },
  {
   "cell_type": "code",
   "execution_count": 9,
   "metadata": {},
   "outputs": [
    {
     "name": "stdout",
     "output_type": "stream",
     "text": [
      "uhdam\n"
     ]
    }
   ],
   "source": [
    "s='madhu'\n",
    "print(''.join(reversed(s)))"
   ]
  },
  {
   "cell_type": "code",
   "execution_count": 4,
   "metadata": {},
   "outputs": [
    {
     "name": "stdout",
     "output_type": "stream",
     "text": [
      "10\n"
     ]
    }
   ],
   "source": [
    "class a:\n",
    "    def __init__(self,x,y):\n",
    "        self.x=x\n",
    "        self.y=y\n",
    "    \n",
    "class b(a):\n",
    "    def __init__(self,x,y,z):\n",
    "        super().__init__(x,y)\n",
    "        self.z=z\n",
    "\n",
    "ob=b(10,20,30)\n",
    "print(ob.x)"
   ]
  },
  {
   "cell_type": "code",
   "execution_count": 8,
   "metadata": {},
   "outputs": [
    {
     "name": "stdout",
     "output_type": "stream",
     "text": [
      "10\n"
     ]
    }
   ],
   "source": [
    "class a:\n",
    "    s=10\n",
    "class b(a):\n",
    "    pass\n",
    "class c(b):\n",
    "    pass\n",
    "class d(c):\n",
    "    pass\n",
    "ob=d()\n",
    "print(ob.s)"
   ]
  },
  {
   "cell_type": "code",
   "execution_count": 17,
   "metadata": {},
   "outputs": [
    {
     "name": "stdout",
     "output_type": "stream",
     "text": [
      "madhu\n",
      "22\n",
      "1234\n"
     ]
    }
   ],
   "source": [
    "class a():\n",
    "    def __init__(self,name,age):\n",
    "        self.name=name\n",
    "        self.age=age\n",
    "    def display_data(self):\n",
    "        print(self.name)\n",
    "        print(self.age)\n",
    "\n",
    "class b(a):\n",
    "    def __init__(self,name,age,bal):\n",
    "        super().__init__(name,age)\n",
    "        self.bal=bal\n",
    "    def display_data(self):\n",
    "        super().display_data()\n",
    "        print(self.bal)    \n",
    "ob=b('madhu',22,1234)\n",
    "ob.display_data()"
   ]
  },
  {
   "cell_type": "code",
   "execution_count": 20,
   "metadata": {},
   "outputs": [
    {
     "data": {
      "text/plain": [
       "6"
      ]
     },
     "execution_count": 20,
     "metadata": {},
     "output_type": "execute_result"
    }
   ],
   "source": [
    "class a():\n",
    "   def b(self,x,c):\n",
    "      return x+c\n",
    "   def b(self,x,c,v):\n",
    "      return x+c+v\n",
    "\n",
    "\n",
    "ob=a()\n",
    "ob.b(1,2,3)\n"
   ]
  },
  {
   "cell_type": "code",
   "execution_count": 27,
   "metadata": {},
   "outputs": [
    {
     "name": "stdout",
     "output_type": "stream",
     "text": [
      "blue\n"
     ]
    }
   ],
   "source": [
    "from abc import ABC,abstractmethod\n",
    "\n",
    "class redmi(ABC):\n",
    "    @abstractmethod\n",
    "    def ram(self):\n",
    "        pass\n",
    "    def rom(self):\n",
    "        pass\n",
    "    def color(self):\n",
    "        print('blue')\n",
    "\n",
    "class redmi10(redmi):\n",
    "    def ram(self):\n",
    "        print('ram is 8')\n",
    "    def rom(self):\n",
    "        print('128')\n",
    "    \n",
    "x=redmi10()\n",
    "x.color()\n",
    "    "
   ]
  },
  {
   "cell_type": "code",
   "execution_count": 1,
   "metadata": {},
   "outputs": [
    {
     "data": {
      "text/plain": [
       "[1, 2, 3]"
      ]
     },
     "execution_count": 1,
     "metadata": {},
     "output_type": "execute_result"
    }
   ],
   "source": [
    "l=[1,2,3]\n",
    "ob=iter(l)\n",
    "list(ob)"
   ]
  },
  {
   "cell_type": "code",
   "execution_count": 7,
   "metadata": {},
   "outputs": [
    {
     "name": "stdout",
     "output_type": "stream",
     "text": [
      "2  2000 notes required for 5550\n",
      "3 500 notes required for 5550\n"
     ]
    }
   ],
   "source": [
    "n=int(input())\n",
    "def m(n):\n",
    "    a=n\n",
    "    if n>=2000:\n",
    "        r=n//2000\n",
    "        print(r,' 2000 notes required for',a)\n",
    "        n=n-2000*r\n",
    "    if n>=500:\n",
    "        r=n//500\n",
    "        print(r,'500 notes required for',a)\n",
    "        n=n-500*r\n",
    "\n",
    "m(n)\n"
   ]
  },
  {
   "cell_type": "code",
   "execution_count": 8,
   "metadata": {},
   "outputs": [
    {
     "data": {
      "text/plain": [
       "{'m': 1, 'r': 2}"
      ]
     },
     "execution_count": 8,
     "metadata": {},
     "output_type": "execute_result"
    }
   ],
   "source": [
    "l=['madhu','ravi','ram']\n",
    "d={}\n",
    "for i in l:\n",
    "    if i[0] not in d:\n",
    "        d[i[0]]=1\n",
    "    else:\n",
    "        d[i[0]]+=1\n",
    "d"
   ]
  },
  {
   "cell_type": "code",
   "execution_count": 14,
   "metadata": {},
   "outputs": [
    {
     "data": {
      "text/plain": [
       "{3}"
      ]
     },
     "execution_count": 14,
     "metadata": {},
     "output_type": "execute_result"
    }
   ],
   "source": [
    "\n",
    "s={1,2,3}\n",
    "s1={3,4,5}\n",
    "s.intersection(s1)"
   ]
  },
  {
   "cell_type": "code",
   "execution_count": 18,
   "metadata": {},
   "outputs": [
    {
     "data": {
      "text/plain": [
       "1"
      ]
     },
     "execution_count": 18,
     "metadata": {},
     "output_type": "execute_result"
    }
   ],
   "source": [
    "s=(1,)\n",
    "s[0]"
   ]
  },
  {
   "cell_type": "code",
   "execution_count": 19,
   "metadata": {},
   "outputs": [
    {
     "data": {
      "text/plain": [
       "66.0"
      ]
     },
     "execution_count": 19,
     "metadata": {},
     "output_type": "execute_result"
    }
   ],
   "source": [
    "132/2"
   ]
  },
  {
   "cell_type": "code",
   "execution_count": 25,
   "metadata": {},
   "outputs": [
    {
     "data": {
      "text/plain": [
       "512"
      ]
     },
     "execution_count": 25,
     "metadata": {},
     "output_type": "execute_result"
    }
   ],
   "source": [
    "2**9"
   ]
  },
  {
   "cell_type": "code",
   "execution_count": 27,
   "metadata": {},
   "outputs": [
    {
     "name": "stdout",
     "output_type": "stream",
     "text": [
      "m\n",
      "ma\n",
      "mad\n",
      "madh\n",
      "madhu\n"
     ]
    }
   ],
   "source": [
    "a='madhu'\n",
    "for i in range(len(a)):\n",
    "    print(a[0:i+1])"
   ]
  },
  {
   "cell_type": "code",
   "execution_count": 31,
   "metadata": {},
   "outputs": [
    {
     "data": {
      "text/plain": [
       "9"
      ]
     },
     "execution_count": 31,
     "metadata": {},
     "output_type": "execute_result"
    }
   ],
   "source": [
    "13&9"
   ]
  },
  {
   "cell_type": "code",
   "execution_count": 35,
   "metadata": {},
   "outputs": [
    {
     "name": "stdout",
     "output_type": "stream",
     "text": [
      "04c03b02a\n"
     ]
    }
   ],
   "source": [
    "print(''.join(reversed('a20b30c40')))"
   ]
  },
  {
   "cell_type": "code",
   "execution_count": 36,
   "metadata": {},
   "outputs": [
    {
     "name": "stdout",
     "output_type": "stream",
     "text": [
      "6\n"
     ]
    }
   ],
   "source": [
    "a='ma ma ma'\n",
    "print(a.index('m',a.index('m',a.index('m')+1)+1))"
   ]
  },
  {
   "cell_type": "code",
   "execution_count": 39,
   "metadata": {},
   "outputs": [
    {
     "ename": "IndexError",
     "evalue": "pop index out of range",
     "output_type": "error",
     "traceback": [
      "\u001b[1;31m---------------------------------------------------------------------------\u001b[0m",
      "\u001b[1;31mIndexError\u001b[0m                                Traceback (most recent call last)",
      "Cell \u001b[1;32mIn[39], line 7\u001b[0m\n\u001b[0;32m      5\u001b[0m \u001b[39mfor\u001b[39;00m i \u001b[39min\u001b[39;00m \u001b[39mrange\u001b[39m(\u001b[39mlen\u001b[39m(l)):\n\u001b[0;32m      6\u001b[0m     \u001b[39mif\u001b[39;00m \u001b[39mlen\u001b[39m(l)\u001b[39m<\u001b[39ma\u001b[39m-\u001b[39m\u001b[39m1\u001b[39m:\n\u001b[1;32m----> 7\u001b[0m         l\u001b[39m.\u001b[39;49mpop(a)\n\u001b[0;32m      8\u001b[0m     a\u001b[39m+\u001b[39m\u001b[39m=\u001b[39ma\n\u001b[0;32m      9\u001b[0m a\u001b[39m=\u001b[39mb\u001b[39m+\u001b[39m\u001b[39m1\u001b[39m\n",
      "\u001b[1;31mIndexError\u001b[0m: pop index out of range"
     ]
    }
   ],
   "source": [
    "\n",
    "l=[x for x in range(1,101)]\n",
    "while len(l)>1:\n",
    "    a=2\n",
    "    b=a\n",
    "    for i in range(len(l)):\n",
    "        if len(l)<a-1:\n",
    "            l.pop(a)\n",
    "        a+=a\n",
    "    a=b+1\n",
    "print(l)"
   ]
  },
  {
   "cell_type": "code",
   "execution_count": 41,
   "metadata": {},
   "outputs": [
    {
     "ename": "TypeError",
     "evalue": "sequence item 0: expected str instance, int found",
     "output_type": "error",
     "traceback": [
      "\u001b[1;31m---------------------------------------------------------------------------\u001b[0m",
      "\u001b[1;31mTypeError\u001b[0m                                 Traceback (most recent call last)",
      "Cell \u001b[1;32mIn[41], line 2\u001b[0m\n\u001b[0;32m      1\u001b[0m l\u001b[39m=\u001b[39m[\u001b[39m1\u001b[39m,\u001b[39m2\u001b[39m,\u001b[39m'\u001b[39m\u001b[39ma\u001b[39m\u001b[39m'\u001b[39m]\n\u001b[1;32m----> 2\u001b[0m \u001b[39m'\u001b[39;49m\u001b[39m \u001b[39;49m\u001b[39m'\u001b[39;49m\u001b[39m.\u001b[39;49mjoin(l)\n",
      "\u001b[1;31mTypeError\u001b[0m: sequence item 0: expected str instance, int found"
     ]
    }
   ],
   "source": [
    "l=[1,2,'a']\n",
    "' '.join(l)"
   ]
  },
  {
   "cell_type": "code",
   "execution_count": 43,
   "metadata": {},
   "outputs": [],
   "source": [
    "d={1,2,(3,2),'madhu'}"
   ]
  },
  {
   "cell_type": "code",
   "execution_count": 50,
   "metadata": {},
   "outputs": [
    {
     "name": "stdout",
     "output_type": "stream",
     "text": [
      "{'1': '4', 1: 2}\n"
     ]
    }
   ],
   "source": [
    "l=['12',(1,2),'14']\n",
    "print(dict(l))"
   ]
  },
  {
   "cell_type": "code",
   "execution_count": 4,
   "metadata": {},
   "outputs": [
    {
     "name": "stdout",
     "output_type": "stream",
     "text": [
      "[5, 6]\n"
     ]
    }
   ],
   "source": [
    "l=[[1,2],[3,4],[5,6]]\n",
    "f=0\n",
    "for i in l:\n",
    "    if sum(i)>f:\n",
    "        f=sum(i)\n",
    "for j in l:\n",
    "    if sum(j)==f:\n",
    "        print(j)\n"
   ]
  },
  {
   "cell_type": "code",
   "execution_count": 2,
   "metadata": {},
   "outputs": [
    {
     "name": "stdout",
     "output_type": "stream",
     "text": [
      "6\n"
     ]
    }
   ],
   "source": [
    "l=[1,2,3]\n",
    "print(sum(l))"
   ]
  },
  {
   "cell_type": "code",
   "execution_count": 10,
   "metadata": {},
   "outputs": [
    {
     "ename": "TypeError",
     "evalue": "can only concatenate list (not \"int\") to list",
     "output_type": "error",
     "traceback": [
      "\u001b[1;31m---------------------------------------------------------------------------\u001b[0m",
      "\u001b[1;31mTypeError\u001b[0m                                 Traceback (most recent call last)",
      "Cell \u001b[1;32mIn[10], line 1\u001b[0m\n\u001b[1;32m----> 1\u001b[0m \u001b[39msum\u001b[39;49m([\u001b[39m1\u001b[39;49m,\u001b[39m2\u001b[39;49m],[\u001b[39m1\u001b[39;49m,\u001b[39m2\u001b[39;49m])\n",
      "\u001b[1;31mTypeError\u001b[0m: can only concatenate list (not \"int\") to list"
     ]
    }
   ],
   "source": [
    "sum([1,2],[1,2])"
   ]
  },
  {
   "cell_type": "code",
   "execution_count": 20,
   "metadata": {},
   "outputs": [
    {
     "name": "stdout",
     "output_type": "stream",
     "text": [
      "15\n"
     ]
    }
   ],
   "source": [
    "def m(n):\n",
    "    s=0\n",
    "    while n!=0:\n",
    "        s+=(n%10)\n",
    "        n//=10\n",
    "    return s\n",
    "l=[15,12,13,14]\n",
    "a=0\n",
    "b=0\n",
    "for i in l:\n",
    "    if m(i)>a:\n",
    "        a=m(i)\n",
    "        b=i\n",
    "print(b)"
   ]
  },
  {
   "cell_type": "code",
   "execution_count": 21,
   "metadata": {},
   "outputs": [
    {
     "name": "stdout",
     "output_type": "stream",
     "text": [
      "[3, 4, 5]\n"
     ]
    }
   ],
   "source": [
    "l=[[1,2],[3,4,5]]\n",
    "print(max(l))"
   ]
  },
  {
   "cell_type": "code",
   "execution_count": 3,
   "metadata": {},
   "outputs": [
    {
     "name": "stdout",
     "output_type": "stream",
     "text": [
      "not odd\n"
     ]
    }
   ],
   "source": [
    "class m(BaseException):\n",
    "    def __init__(self,msg):\n",
    "        self.msg=msg\n",
    "    def __str__(self) -> str:\n",
    "        return self.msg\n",
    "\n",
    "try:\n",
    "    n=2\n",
    "    if n%2==0:\n",
    "        raise BaseException('not odd')\n",
    "except BaseException as msg:\n",
    "    print(msg)\n",
    "else:\n",
    "    print('odd')"
   ]
  },
  {
   "cell_type": "code",
   "execution_count": 15,
   "metadata": {},
   "outputs": [
    {
     "ename": "error",
     "evalue": "bad escape \\z at position 8",
     "output_type": "error",
     "traceback": [
      "\u001b[1;31m---------------------------------------------------------------------------\u001b[0m",
      "\u001b[1;31merror\u001b[0m                                     Traceback (most recent call last)",
      "Cell \u001b[1;32mIn[15], line 3\u001b[0m\n\u001b[0;32m      1\u001b[0m \u001b[39mimport\u001b[39;00m \u001b[39mre\u001b[39;00m\n\u001b[0;32m      2\u001b[0m s\u001b[39m=\u001b[39m\u001b[39m'\u001b[39m\u001b[39mmadhum\u001b[39m\u001b[39m'\u001b[39m\n\u001b[1;32m----> 3\u001b[0m re\u001b[39m.\u001b[39;49m findall(\u001b[39m'\u001b[39;49m\u001b[39m\\\u001b[39;49m\u001b[39mA[m]\u001b[39;49m\u001b[39m\\\u001b[39;49m\u001b[39mw+\u001b[39;49m\u001b[39m\\\u001b[39;49m\u001b[39mz[m]\u001b[39;49m\u001b[39m'\u001b[39;49m,s)\n",
      "File \u001b[1;32mc:\\Program Files\\Python311\\Lib\\re\\__init__.py:216\u001b[0m, in \u001b[0;36mfindall\u001b[1;34m(pattern, string, flags)\u001b[0m\n\u001b[0;32m    208\u001b[0m \u001b[39mdef\u001b[39;00m \u001b[39mfindall\u001b[39m(pattern, string, flags\u001b[39m=\u001b[39m\u001b[39m0\u001b[39m):\n\u001b[0;32m    209\u001b[0m     \u001b[39m\"\"\"Return a list of all non-overlapping matches in the string.\u001b[39;00m\n\u001b[0;32m    210\u001b[0m \n\u001b[0;32m    211\u001b[0m \u001b[39m    If one or more capturing groups are present in the pattern, return\u001b[39;00m\n\u001b[1;32m   (...)\u001b[0m\n\u001b[0;32m    214\u001b[0m \n\u001b[0;32m    215\u001b[0m \u001b[39m    Empty matches are included in the result.\"\"\"\u001b[39;00m\n\u001b[1;32m--> 216\u001b[0m     \u001b[39mreturn\u001b[39;00m _compile(pattern, flags)\u001b[39m.\u001b[39mfindall(string)\n",
      "File \u001b[1;32mc:\\Program Files\\Python311\\Lib\\re\\__init__.py:294\u001b[0m, in \u001b[0;36m_compile\u001b[1;34m(pattern, flags)\u001b[0m\n\u001b[0;32m    288\u001b[0m     \u001b[39mimport\u001b[39;00m \u001b[39mwarnings\u001b[39;00m\n\u001b[0;32m    289\u001b[0m     warnings\u001b[39m.\u001b[39mwarn(\u001b[39m\"\u001b[39m\u001b[39mThe re.TEMPLATE/re.T flag is deprecated \u001b[39m\u001b[39m\"\u001b[39m\n\u001b[0;32m    290\u001b[0m               \u001b[39m\"\u001b[39m\u001b[39mas it is an undocumented flag \u001b[39m\u001b[39m\"\u001b[39m\n\u001b[0;32m    291\u001b[0m               \u001b[39m\"\u001b[39m\u001b[39mwithout an obvious purpose. \u001b[39m\u001b[39m\"\u001b[39m\n\u001b[0;32m    292\u001b[0m               \u001b[39m\"\u001b[39m\u001b[39mDon\u001b[39m\u001b[39m'\u001b[39m\u001b[39mt use it.\u001b[39m\u001b[39m\"\u001b[39m,\n\u001b[0;32m    293\u001b[0m               \u001b[39mDeprecationWarning\u001b[39;00m)\n\u001b[1;32m--> 294\u001b[0m p \u001b[39m=\u001b[39m _compiler\u001b[39m.\u001b[39;49mcompile(pattern, flags)\n\u001b[0;32m    295\u001b[0m \u001b[39mif\u001b[39;00m \u001b[39mnot\u001b[39;00m (flags \u001b[39m&\u001b[39m DEBUG):\n\u001b[0;32m    296\u001b[0m     \u001b[39mif\u001b[39;00m \u001b[39mlen\u001b[39m(_cache) \u001b[39m>\u001b[39m\u001b[39m=\u001b[39m _MAXCACHE:\n\u001b[0;32m    297\u001b[0m         \u001b[39m# Drop the oldest item\u001b[39;00m\n",
      "File \u001b[1;32mc:\\Program Files\\Python311\\Lib\\re\\_compiler.py:743\u001b[0m, in \u001b[0;36mcompile\u001b[1;34m(p, flags)\u001b[0m\n\u001b[0;32m    741\u001b[0m \u001b[39mif\u001b[39;00m isstring(p):\n\u001b[0;32m    742\u001b[0m     pattern \u001b[39m=\u001b[39m p\n\u001b[1;32m--> 743\u001b[0m     p \u001b[39m=\u001b[39m _parser\u001b[39m.\u001b[39;49mparse(p, flags)\n\u001b[0;32m    744\u001b[0m \u001b[39melse\u001b[39;00m:\n\u001b[0;32m    745\u001b[0m     pattern \u001b[39m=\u001b[39m \u001b[39mNone\u001b[39;00m\n",
      "File \u001b[1;32mc:\\Program Files\\Python311\\Lib\\re\\_parser.py:980\u001b[0m, in \u001b[0;36mparse\u001b[1;34m(str, flags, state)\u001b[0m\n\u001b[0;32m    977\u001b[0m state\u001b[39m.\u001b[39mflags \u001b[39m=\u001b[39m flags\n\u001b[0;32m    978\u001b[0m state\u001b[39m.\u001b[39mstr \u001b[39m=\u001b[39m \u001b[39mstr\u001b[39m\n\u001b[1;32m--> 980\u001b[0m p \u001b[39m=\u001b[39m _parse_sub(source, state, flags \u001b[39m&\u001b[39;49m SRE_FLAG_VERBOSE, \u001b[39m0\u001b[39;49m)\n\u001b[0;32m    981\u001b[0m p\u001b[39m.\u001b[39mstate\u001b[39m.\u001b[39mflags \u001b[39m=\u001b[39m fix_flags(\u001b[39mstr\u001b[39m, p\u001b[39m.\u001b[39mstate\u001b[39m.\u001b[39mflags)\n\u001b[0;32m    983\u001b[0m \u001b[39mif\u001b[39;00m source\u001b[39m.\u001b[39mnext \u001b[39mis\u001b[39;00m \u001b[39mnot\u001b[39;00m \u001b[39mNone\u001b[39;00m:\n",
      "File \u001b[1;32mc:\\Program Files\\Python311\\Lib\\re\\_parser.py:455\u001b[0m, in \u001b[0;36m_parse_sub\u001b[1;34m(source, state, verbose, nested)\u001b[0m\n\u001b[0;32m    453\u001b[0m start \u001b[39m=\u001b[39m source\u001b[39m.\u001b[39mtell()\n\u001b[0;32m    454\u001b[0m \u001b[39mwhile\u001b[39;00m \u001b[39mTrue\u001b[39;00m:\n\u001b[1;32m--> 455\u001b[0m     itemsappend(_parse(source, state, verbose, nested \u001b[39m+\u001b[39;49m \u001b[39m1\u001b[39;49m,\n\u001b[0;32m    456\u001b[0m                        \u001b[39mnot\u001b[39;49;00m nested \u001b[39mand\u001b[39;49;00m \u001b[39mnot\u001b[39;49;00m items))\n\u001b[0;32m    457\u001b[0m     \u001b[39mif\u001b[39;00m \u001b[39mnot\u001b[39;00m sourcematch(\u001b[39m\"\u001b[39m\u001b[39m|\u001b[39m\u001b[39m\"\u001b[39m):\n\u001b[0;32m    458\u001b[0m         \u001b[39mbreak\u001b[39;00m\n",
      "File \u001b[1;32mc:\\Program Files\\Python311\\Lib\\re\\_parser.py:539\u001b[0m, in \u001b[0;36m_parse\u001b[1;34m(source, state, verbose, nested, first)\u001b[0m\n\u001b[0;32m    536\u001b[0m         \u001b[39mcontinue\u001b[39;00m\n\u001b[0;32m    538\u001b[0m \u001b[39mif\u001b[39;00m this[\u001b[39m0\u001b[39m] \u001b[39m==\u001b[39m \u001b[39m\"\u001b[39m\u001b[39m\\\\\u001b[39;00m\u001b[39m\"\u001b[39m:\n\u001b[1;32m--> 539\u001b[0m     code \u001b[39m=\u001b[39m _escape(source, this, state)\n\u001b[0;32m    540\u001b[0m     subpatternappend(code)\n\u001b[0;32m    542\u001b[0m \u001b[39melif\u001b[39;00m this \u001b[39mnot\u001b[39;00m \u001b[39min\u001b[39;00m SPECIAL_CHARS:\n",
      "File \u001b[1;32mc:\\Program Files\\Python311\\Lib\\re\\_parser.py:438\u001b[0m, in \u001b[0;36m_escape\u001b[1;34m(source, escape, state)\u001b[0m\n\u001b[0;32m    436\u001b[0m     \u001b[39mif\u001b[39;00m \u001b[39mlen\u001b[39m(escape) \u001b[39m==\u001b[39m \u001b[39m2\u001b[39m:\n\u001b[0;32m    437\u001b[0m         \u001b[39mif\u001b[39;00m c \u001b[39min\u001b[39;00m ASCIILETTERS:\n\u001b[1;32m--> 438\u001b[0m             \u001b[39mraise\u001b[39;00m source\u001b[39m.\u001b[39merror(\u001b[39m\"\u001b[39m\u001b[39mbad escape \u001b[39m\u001b[39m%s\u001b[39;00m\u001b[39m\"\u001b[39m \u001b[39m%\u001b[39m escape, \u001b[39mlen\u001b[39m(escape))\n\u001b[0;32m    439\u001b[0m         \u001b[39mreturn\u001b[39;00m LITERAL, \u001b[39mord\u001b[39m(escape[\u001b[39m1\u001b[39m])\n\u001b[0;32m    440\u001b[0m \u001b[39mexcept\u001b[39;00m \u001b[39mValueError\u001b[39;00m:\n",
      "\u001b[1;31merror\u001b[0m: bad escape \\z at position 8"
     ]
    }
   ],
   "source": [
    "import re\n",
    "s='madhum'\n",
    "re. findall('\\A[m]\\w+\\Z[m]',s)"
   ]
  },
  {
   "cell_type": "code",
   "execution_count": 4,
   "metadata": {},
   "outputs": [
    {
     "name": "stdout",
     "output_type": "stream",
     "text": [
      "['Patty']\n"
     ]
    }
   ],
   "source": [
    "def find_all_hobbyists(h,hobbies):\n",
    "    l=[]\n",
    "    for name,hobby in hobbies.items():\n",
    "        if h in hobby:\n",
    "            l.append(name)\n",
    "    return l\n",
    "h=input()\n",
    "hobbies = { \n",
    "    \"Steve\": ['Fashion', 'Piano', 'Reading'],\n",
    "    \"Patty\": ['Drama', 'Magic', 'Pets'],\n",
    "    \"Chad\": ['Puzzles', 'Pets', 'Yoga']\n",
    "}\n",
    "\n",
    "print(find_all_hobbyists(h,hobbies))"
   ]
  },
  {
   "cell_type": "code",
   "execution_count": null,
   "metadata": {},
   "outputs": [],
   "source": [
    "\n",
    "\n",
    "sort_by_price_ascending=('[{\"name\":\"eggs\",\"price\":1},{\"name\":\"coffee\",\"price\":9.99},{\"name\":\"rice\",\"price\":4.04}]')\n",
    "\n",
    "import json\n",
    "f=json.load()"
   ]
  },
  {
   "cell_type": "code",
   "execution_count": 30,
   "metadata": {},
   "outputs": [
    {
     "name": "stdout",
     "output_type": "stream",
     "text": [
      "*   *   *   *   *   *   *   *   \n",
      "  *   *   *   *   *   *   *   \n",
      "    *   *   *   *   *   *   \n",
      "      *   *   *   *   *   \n",
      "        *   *   *   *   \n",
      "          *   *   *   \n",
      "            *   *   \n",
      "              *   \n"
     ]
    }
   ],
   "source": [
    "n = 8\n",
    "st= n*2\n",
    "sp= 0\n",
    "for a in range(n):\n",
    "    for b in range(sp):\n",
    "        print(' ',end=' ')\n",
    "    for c in range(st):\n",
    "        if c%2==0:\n",
    "            print('*',end=' ')\n",
    "        else:\n",
    "            print(' ',end=' ')\n",
    "    print()\n",
    "    st-=2\n",
    "    sp+=1"
   ]
  },
  {
   "cell_type": "code",
   "execution_count": 35,
   "metadata": {},
   "outputs": [
    {
     "name": "stdout",
     "output_type": "stream",
     "text": [
      "{'o': 4, 'e': 2, 'd': 1}\n"
     ]
    }
   ],
   "source": [
    "s='google bleeed bloooooodd'\n",
    "d={}\n",
    "for i in range(len(s)):\n",
    "    if s[i] not in d and s.count(s[i])>1 and s[i]!=' ' and s[i]==s[i+1] :\n",
    "        d[s[i]]=s.count(s[i])//2\n",
    "print(d)"
   ]
  },
  {
   "cell_type": "code",
   "execution_count": 1,
   "metadata": {},
   "outputs": [
    {
     "name": "stdout",
     "output_type": "stream",
     "text": [
      "3\n"
     ]
    }
   ],
   "source": [
    "def m(n,a=0):\n",
    "    if n<len(s):\n",
    "        if s[n] in vowels:\n",
    "            a+=1\n",
    "        return m(n+1,a)\n",
    "    else:\n",
    "        return a\n",
    "vowels='aeiouAEIOU'\n",
    "s='dont let go'\n",
    "print(m(0))"
   ]
  },
  {
   "cell_type": "code",
   "execution_count": 20,
   "metadata": {},
   "outputs": [
    {
     "name": "stdout",
     "output_type": "stream",
     "text": [
      "[1, 55, 3] [1, 2, 3]\n",
      "True\n"
     ]
    }
   ],
   "source": [
    "l=[1,2,3]\n",
    "s=l.copy()\n",
    "l[1]=55\n",
    "print(l,s)\n",
    "print(l[1] is l[1])"
   ]
  },
  {
   "cell_type": "code",
   "execution_count": 23,
   "metadata": {},
   "outputs": [
    {
     "name": "stdout",
     "output_type": "stream",
     "text": [
      "False\n",
      "2235656443648\n",
      "2235656117376\n"
     ]
    }
   ],
   "source": [
    "l=[1,2,[3,4]]\n",
    "s=l.copy()\n",
    "s[2][0]=90\n",
    "print(l is s)\n",
    "print(id(s))\n",
    "print(id(l))"
   ]
  },
  {
   "cell_type": "code",
   "execution_count": 12,
   "metadata": {},
   "outputs": [
    {
     "data": {
      "text/plain": [
       "0     False\n",
       "1     False\n",
       "2     False\n",
       "3     False\n",
       "4     False\n",
       "5     False\n",
       "6     False\n",
       "7     False\n",
       "8     False\n",
       "9     False\n",
       "10    False\n",
       "11    False\n",
       "12    False\n",
       "13    False\n",
       "14    False\n",
       "dtype: bool"
      ]
     },
     "execution_count": 12,
     "metadata": {},
     "output_type": "execute_result"
    }
   ],
   "source": [
    "import pandas as pd\n",
    "df=pd.read_excel(\"marksheet_1.xlsx\",)\n",
    "df['Total']=df['phy']+df['maths']+df['bio']\n",
    "# df=df.style.hide_index()\n",
    "# df['name']='dfghj'\n",
    "df.duplicated()\n"
   ]
  },
  {
   "cell_type": "code",
   "execution_count": 5,
   "metadata": {},
   "outputs": [
    {
     "data": {
      "text/html": [
       "<div>\n",
       "<style scoped>\n",
       "    .dataframe tbody tr th:only-of-type {\n",
       "        vertical-align: middle;\n",
       "    }\n",
       "\n",
       "    .dataframe tbody tr th {\n",
       "        vertical-align: top;\n",
       "    }\n",
       "\n",
       "    .dataframe thead th {\n",
       "        text-align: right;\n",
       "    }\n",
       "</style>\n",
       "<table border=\"1\" class=\"dataframe\">\n",
       "  <thead>\n",
       "    <tr style=\"text-align: right;\">\n",
       "      <th></th>\n",
       "      <th>name</th>\n",
       "      <th>gender</th>\n",
       "      <th>state</th>\n",
       "      <th>phy</th>\n",
       "      <th>maths</th>\n",
       "      <th>bio</th>\n",
       "    </tr>\n",
       "  </thead>\n",
       "  <tbody>\n",
       "    <tr>\n",
       "      <th>0</th>\n",
       "      <td>rohan</td>\n",
       "      <td>male</td>\n",
       "      <td>mh</td>\n",
       "      <td>60</td>\n",
       "      <td>90</td>\n",
       "      <td>68</td>\n",
       "    </tr>\n",
       "    <tr>\n",
       "      <th>1</th>\n",
       "      <td>aniket</td>\n",
       "      <td>male</td>\n",
       "      <td>up</td>\n",
       "      <td>52</td>\n",
       "      <td>85</td>\n",
       "      <td>72</td>\n",
       "    </tr>\n",
       "    <tr>\n",
       "      <th>2</th>\n",
       "      <td>ganesh</td>\n",
       "      <td>male</td>\n",
       "      <td>up</td>\n",
       "      <td>45</td>\n",
       "      <td>82</td>\n",
       "      <td>78</td>\n",
       "    </tr>\n",
       "    <tr>\n",
       "      <th>3</th>\n",
       "      <td>meena</td>\n",
       "      <td>female</td>\n",
       "      <td>mp</td>\n",
       "      <td>72</td>\n",
       "      <td>69</td>\n",
       "      <td>80</td>\n",
       "    </tr>\n",
       "    <tr>\n",
       "      <th>4</th>\n",
       "      <td>seema</td>\n",
       "      <td>female</td>\n",
       "      <td>mh</td>\n",
       "      <td>68</td>\n",
       "      <td>90</td>\n",
       "      <td>78</td>\n",
       "    </tr>\n",
       "    <tr>\n",
       "      <th>5</th>\n",
       "      <td>dinesh</td>\n",
       "      <td>male</td>\n",
       "      <td>mp</td>\n",
       "      <td>48</td>\n",
       "      <td>34</td>\n",
       "      <td>67</td>\n",
       "    </tr>\n",
       "    <tr>\n",
       "      <th>6</th>\n",
       "      <td>yogita</td>\n",
       "      <td>female</td>\n",
       "      <td>mp</td>\n",
       "      <td>39</td>\n",
       "      <td>65</td>\n",
       "      <td>90</td>\n",
       "    </tr>\n",
       "    <tr>\n",
       "      <th>7</th>\n",
       "      <td>karan</td>\n",
       "      <td>male</td>\n",
       "      <td>mh</td>\n",
       "      <td>82</td>\n",
       "      <td>78</td>\n",
       "      <td>55</td>\n",
       "    </tr>\n",
       "    <tr>\n",
       "      <th>8</th>\n",
       "      <td>jayesh</td>\n",
       "      <td>male</td>\n",
       "      <td>up</td>\n",
       "      <td>87</td>\n",
       "      <td>88</td>\n",
       "      <td>32</td>\n",
       "    </tr>\n",
       "    <tr>\n",
       "      <th>9</th>\n",
       "      <td>mangesh</td>\n",
       "      <td>male</td>\n",
       "      <td>mp</td>\n",
       "      <td>91</td>\n",
       "      <td>78</td>\n",
       "      <td>82</td>\n",
       "    </tr>\n",
       "    <tr>\n",
       "      <th>10</th>\n",
       "      <td>geeta</td>\n",
       "      <td>female</td>\n",
       "      <td>mh</td>\n",
       "      <td>31</td>\n",
       "      <td>58</td>\n",
       "      <td>78</td>\n",
       "    </tr>\n",
       "    <tr>\n",
       "      <th>11</th>\n",
       "      <td>runali</td>\n",
       "      <td>female</td>\n",
       "      <td>up</td>\n",
       "      <td>85</td>\n",
       "      <td>92</td>\n",
       "      <td>66</td>\n",
       "    </tr>\n",
       "    <tr>\n",
       "      <th>12</th>\n",
       "      <td>tushar</td>\n",
       "      <td>male</td>\n",
       "      <td>up</td>\n",
       "      <td>32</td>\n",
       "      <td>92</td>\n",
       "      <td>77</td>\n",
       "    </tr>\n",
       "    <tr>\n",
       "      <th>13</th>\n",
       "      <td>binod</td>\n",
       "      <td>male</td>\n",
       "      <td>mh</td>\n",
       "      <td>95</td>\n",
       "      <td>78</td>\n",
       "      <td>88</td>\n",
       "    </tr>\n",
       "    <tr>\n",
       "      <th>14</th>\n",
       "      <td>sanjay</td>\n",
       "      <td>male</td>\n",
       "      <td>mh</td>\n",
       "      <td>63</td>\n",
       "      <td>90</td>\n",
       "      <td>80</td>\n",
       "    </tr>\n",
       "  </tbody>\n",
       "</table>\n",
       "</div>"
      ],
      "text/plain": [
       "       name  gender state  phy  maths  bio\n",
       "0     rohan    male    mh   60     90   68\n",
       "1    aniket    male    up   52     85   72\n",
       "2    ganesh    male    up   45     82   78\n",
       "3     meena  female    mp   72     69   80\n",
       "4     seema  female    mh   68     90   78\n",
       "5    dinesh    male    mp   48     34   67\n",
       "6    yogita  female    mp   39     65   90\n",
       "7     karan    male    mh   82     78   55\n",
       "8    jayesh    male    up   87     88   32\n",
       "9   mangesh    male    mp   91     78   82\n",
       "10    geeta  female    mh   31     58   78\n",
       "11   runali  female    up   85     92   66\n",
       "12   tushar    male    up   32     92   77\n",
       "13    binod    male    mh   95     78   88\n",
       "14   sanjay    male    mh   63     90   80"
      ]
     },
     "execution_count": 5,
     "metadata": {},
     "output_type": "execute_result"
    }
   ],
   "source": [
    "df.drop(columns=['Total'],inplace=True)\n",
    "df"
   ]
  },
  {
   "cell_type": "code",
   "execution_count": 7,
   "metadata": {},
   "outputs": [
    {
     "name": "stdout",
     "output_type": "stream",
     "text": [
      "{1, 2, 3, 4}\n"
     ]
    }
   ],
   "source": [
    "a={1,2,3}\n",
    "b={2,3,4}\n",
    "print(a.union(b))"
   ]
  },
  {
   "cell_type": "code",
   "execution_count": 44,
   "metadata": {},
   "outputs": [
    {
     "name": "stdout",
     "output_type": "stream",
     "text": [
      "2 3 5 7 11 13 17 19 23 29 "
     ]
    }
   ],
   "source": [
    "def m(n,a=2):\n",
    "    if n>1:\n",
    "        if a<n//2+1:\n",
    "            if n%a==0:\n",
    "                return False\n",
    "            return m(n,a+1)\n",
    "        return True\n",
    "    return False\n",
    "\n",
    "# n=int(input())\n",
    "# m(n)\n",
    "for i in range(1,30):\n",
    "    if m(i):\n",
    "        print(i, end=' ')"
   ]
  },
  {
   "cell_type": "markdown",
   "metadata": {},
   "source": [
    "def m(n):\n",
    "    if n>1:\n",
    "        for x in range(2,n//2+1):\n",
    "            if n%x==0:\n",
    "                return False\n",
    "        return True\n",
    "    return False\n",
    "for i in range(1,30):\n",
    "    if m(i):\n",
    "        print(i, end=' ')"
   ]
  },
  {
   "cell_type": "code",
   "execution_count": 40,
   "metadata": {},
   "outputs": [
    {
     "data": {
      "text/plain": [
       "0"
      ]
     },
     "execution_count": 40,
     "metadata": {},
     "output_type": "execute_result"
    }
   ],
   "source": [
    "21%3"
   ]
  },
  {
   "cell_type": "code",
   "execution_count": 21,
   "metadata": {},
   "outputs": [
    {
     "data": {
      "text/plain": [
       "'UhdaM'"
      ]
     },
     "execution_count": 21,
     "metadata": {},
     "output_type": "execute_result"
    }
   ],
   "source": [
    "def m(n):\n",
    "    if n<-len(s):\n",
    "        return ''\n",
    "    if n==-1 or n==-len(s):\n",
    "        return chr(ord(s[n])-32)+m(n-1)\n",
    "    else:\n",
    "        return s[n]+m(n-1)\n",
    "s='madhu'\n",
    "m(-1)"
   ]
  },
  {
   "cell_type": "code",
   "execution_count": 6,
   "metadata": {},
   "outputs": [
    {
     "name": "stdout",
     "output_type": "stream",
     "text": [
      "366\n"
     ]
    }
   ],
   "source": [
    "def m(n,a=l[0]):\n",
    "    if n==len(l):\n",
    "        return a\n",
    "    if a<l[n]:\n",
    "        a=l[n]\n",
    "    return m(n+1,a)\n",
    "\n",
    "l=[11,2,10,366,4,55]\n",
    "print(m(1))"
   ]
  },
  {
   "cell_type": "code",
   "execution_count": 23,
   "metadata": {},
   "outputs": [
    {
     "data": {
      "text/plain": [
       "False"
      ]
     },
     "execution_count": 23,
     "metadata": {},
     "output_type": "execute_result"
    }
   ],
   "source": [
    "l[1]>l[1+1]"
   ]
  },
  {
   "cell_type": "code",
   "execution_count": 7,
   "metadata": {},
   "outputs": [
    {
     "data": {
      "text/plain": [
       "97"
      ]
     },
     "execution_count": 7,
     "metadata": {},
     "output_type": "execute_result"
    }
   ],
   "source": [
    "ord('a')"
   ]
  },
  {
   "cell_type": "code",
   "execution_count": 8,
   "metadata": {},
   "outputs": [
    {
     "name": "stdout",
     "output_type": "stream",
     "text": [
      "        1 \n",
      "      2 1 \n",
      "    3 2 1 \n",
      "  4 3 2 1 \n",
      "5 4 3 2 1 \n"
     ]
    }
   ],
   "source": [
    "n=5\n",
    "st=1\n",
    "sp=n-1\n",
    "for c in range(n):\n",
    "    num=c+1\n",
    "    for v in range(sp):\n",
    "        print(' ', end=' ')\n",
    "    for z in range(st):\n",
    "        print(num,end=' ')\n",
    "        num-=1\n",
    "    print()\n",
    "    st+=1\n",
    "    sp-=1\n"
   ]
  },
  {
   "cell_type": "code",
   "execution_count": 9,
   "metadata": {},
   "outputs": [
    {
     "name": "stdout",
     "output_type": "stream",
     "text": [
      "5\n",
      "7\n"
     ]
    }
   ],
   "source": [
    "n=475\n",
    "while n!=0:\n",
    "    r=n%10\n",
    "    if r>1:\n",
    "        for x in range(2,r//2+1):\n",
    "            if r%x==0:\n",
    "                break\n",
    "        else:\n",
    "            print(r)\n",
    "    n//=10"
   ]
  },
  {
   "cell_type": "code",
   "execution_count": 13,
   "metadata": {},
   "outputs": [
    {
     "data": {
      "text/plain": [
       "370"
      ]
     },
     "execution_count": 13,
     "metadata": {},
     "output_type": "execute_result"
    }
   ],
   "source": [
    "49*7+27"
   ]
  },
  {
   "cell_type": "code",
   "execution_count": 16,
   "metadata": {},
   "outputs": [
    {
     "name": "stdout",
     "output_type": "stream",
     "text": [
      "1 4 6 8 9 10 12 14 15 16 18 20 21 22 "
     ]
    }
   ],
   "source": [
    "def m(n,a=2):\n",
    "    if n>1:\n",
    "        if a<n//2+1:\n",
    "            if n%a==0:\n",
    "                return True\n",
    "            return m(n,a+1)\n",
    "        return False\n",
    "    return True\n",
    "for x in range(1,23):\n",
    "    if m(x):\n",
    "        print(x, end=' ')"
   ]
  },
  {
   "cell_type": "code",
   "execution_count": 24,
   "metadata": {},
   "outputs": [
    {
     "name": "stdout",
     "output_type": "stream",
     "text": [
      "s\n"
     ]
    }
   ],
   "source": [
    "def m(n):\n",
    "    if n==0:\n",
    "        return 0\n",
    "    return (n%10)+m(n//10)\n",
    "n=132\n",
    "r=m(n)\n",
    "if n%r==0:\n",
    "    print('s')\n",
    "\n"
   ]
  },
  {
   "cell_type": "code",
   "execution_count": 27,
   "metadata": {},
   "outputs": [
    {
     "name": "stdout",
     "output_type": "stream",
     "text": [
      "3\n",
      "2\n",
      "None\n"
     ]
    }
   ],
   "source": [
    "def m(n,a=2):\n",
    "    if n>1:\n",
    "        if a<n//2+1:\n",
    "            if n%a==0:\n",
    "                return False\n",
    "            return m(n,a+1)\n",
    "        return True\n",
    "    return False\n",
    "\n",
    "def c(n):\n",
    "    if n==0:\n",
    "        return \n",
    "    r=n%10\n",
    "    if m(r):\n",
    "        print(r)\n",
    "    return c(n//10)\n",
    "\n",
    "print(c(1234))"
   ]
  },
  {
   "cell_type": "code",
   "execution_count": 28,
   "metadata": {},
   "outputs": [
    {
     "name": "stdout",
     "output_type": "stream",
     "text": [
      "s\n"
     ]
    }
   ],
   "source": [
    "def m(n,r=0,a=1):\n",
    "    if n==a:\n",
    "        return r\n",
    "    if n%a==0:\n",
    "        r+=a\n",
    "    return m(n,r,a+1)\n",
    "n=6\n",
    "s=m(n)\n",
    "if n==s:\n",
    "    print('s')\n"
   ]
  },
  {
   "cell_type": "code",
   "execution_count": 32,
   "metadata": {},
   "outputs": [
    {
     "name": "stdout",
     "output_type": "stream",
     "text": [
      "s\n"
     ]
    }
   ],
   "source": [
    "def m(n,a=2):\n",
    "    if n>1:\n",
    "        if a<n//2+1:\n",
    "            if n%a==0:\n",
    "                return False\n",
    "            return m(n,a+1)\n",
    "        return True\n",
    "    return False\n",
    "\n",
    "def rev(n,pos):\n",
    "    if n==0:\n",
    "        return 0\n",
    "    return (n%10)*pos+rev(n//10,pos//10)\n",
    "n=int(input())\n",
    "p=len(str(n))-1\n",
    "pos=10**p\n",
    "a=rev(n,pos)\n",
    "if a!=n and m(n) and m(a):\n",
    "    print('s')"
   ]
  },
  {
   "cell_type": "code",
   "execution_count": 39,
   "metadata": {},
   "outputs": [
    {
     "name": "stdout",
     "output_type": "stream",
     "text": [
      "aau\n"
     ]
    }
   ],
   "source": [
    "s='madhau'\n",
    "vowels='aeiou'\n",
    "def m(n):\n",
    "    if n>=len(s):\n",
    "        return ''\n",
    "    if s[n] in vowels:\n",
    "        return s[n]+m(n+1)\n",
    "    else:\n",
    "        return m(n+1)\n",
    "\n",
    "print(m(0))\n"
   ]
  },
  {
   "cell_type": "code",
   "execution_count": 40,
   "metadata": {},
   "outputs": [
    {
     "name": "stdout",
     "output_type": "stream",
     "text": [
      "MADHAU\n"
     ]
    }
   ],
   "source": [
    "s='madha'\n",
    "\n",
    "def m(n):\n",
    "    if n>=len(s):\n",
    "        return ''\n",
    "    return chr(ord(s[n])-32)+m(n+1)\n",
    "\n",
    "print(m(0))\n"
   ]
  },
  {
   "cell_type": "code",
   "execution_count": 41,
   "metadata": {},
   "outputs": [
    {
     "name": "stdout",
     "output_type": "stream",
     "text": [
      "MADHUsabi\n"
     ]
    }
   ],
   "source": [
    "s='madhuSABI'\n",
    "\n",
    "def m(n):\n",
    "    if n>=len(s):\n",
    "        return ''\n",
    "    if 'a'<=s[n]<='z':\n",
    "        return chr(ord(s[n])-32)+m(n+1)\n",
    "    elif 'A'<=s[n]<='Z':\n",
    "        return chr(ord(s[n])+32)+m(n+1)\n",
    "    else:\n",
    "        return s[n]+m(n+1)\n",
    "\n",
    "print(m(0))\n"
   ]
  },
  {
   "cell_type": "code",
   "execution_count": 49,
   "metadata": {},
   "outputs": [
    {
     "name": "stdout",
     "output_type": "stream",
     "text": [
      "okay\n"
     ]
    }
   ],
   "source": [
    "s='no one say okay ok sare'\n",
    "a=s.split()\n",
    "d={}\n",
    "for x in range(len(a)):\n",
    "    if a[x] not in d:\n",
    "        d[a[x]]=len(a[x])\n",
    "f=list(d.values())\n",
    "e=max(f)\n",
    "for k,v in d.items():\n",
    "    if v==e:\n",
    "        print(k)\n",
    "        break\n",
    "\n",
    "    "
   ]
  },
  {
   "cell_type": "code",
   "execution_count": 42,
   "metadata": {},
   "outputs": [
    {
     "name": "stdout",
     "output_type": "stream",
     "text": [
      "ertyu\n",
      "ertyu\n",
      "10\n",
      "ram\n",
      "sab\n"
     ]
    }
   ],
   "source": [
    "class a:\n",
    "    n ='asdf'\n",
    "    k ='mDHU'\n",
    "    def __init__(self,n):\n",
    "        self.r = n\n",
    "    def m(self):\n",
    "        self.r=30\n",
    "    @classmethod\n",
    "    def c_v_m(self):\n",
    "        self.k='sab'\n",
    "ob = a(10)\n",
    "ob1=a('ram')\n",
    "a.n='ertyu'\n",
    "print(ob.n)\n",
    "print(ob1.n)\n",
    "print(ob.r)\n",
    "print(ob1.r)\n",
    "ob.r\n",
    "ob.c_v_m()\n",
    "print(ob.k)\n",
    "# print(ob1.r)"
   ]
  },
  {
   "cell_type": "code",
   "execution_count": 41,
   "metadata": {},
   "outputs": [
    {
     "data": {
      "text/plain": [
       "'sabi'"
      ]
     },
     "execution_count": 41,
     "metadata": {},
     "output_type": "execute_result"
    }
   ],
   "source": [
    "class players:\n",
    "    def __init__(self,name,age,runs):\n",
    "        self.name=name\n",
    "        self.age=age\n",
    "        self.runs=runs\n",
    "\n",
    "class play(players):\n",
    "    def __init__(self):\n",
    "        self.n=int(input('no of '))\n",
    "        self.list=[]\n",
    "\n",
    "        for i in range(self.n):\n",
    "            n=input('name')\n",
    "            a=int(input('age'))\n",
    "            r=int(input('runs'))\n",
    "\n",
    "            ob=players(n,a,r)\n",
    "            self.list.append(ob)\n",
    "\n",
    "    def highest_runs(self):\n",
    "        a=self.list[0]\n",
    "        for i in self.list:\n",
    "            if a.runs<i.runs:\n",
    "                a=i\n",
    "        return a.name\n",
    "    \n",
    "ob=play()\n",
    "ob.highest_runs()"
   ]
  },
  {
   "cell_type": "code",
   "execution_count": 45,
   "metadata": {},
   "outputs": [
    {
     "name": "stdout",
     "output_type": "stream",
     "text": [
      "name   : madhu\n",
      "bal is : 123\n",
      "pin is   : 7788\n"
     ]
    }
   ],
   "source": [
    "\n",
    "\n",
    "class players:\n",
    "    def __init__(self,name,bal):\n",
    "        self.name=name\n",
    "        self.bal=bal\n",
    "    def display(self):\n",
    "        print(f'name   : {self.name}')\n",
    "        print(f'bal is : {self.bal}')\n",
    "\n",
    "class play(players):\n",
    "    def __init__(self,name,bal,pin):\n",
    "       super().__init__(name,bal)\n",
    "       self.pin=pin\n",
    "    def display(self):\n",
    "        super().display()\n",
    "        print(f'pin is   : {self.pin}')\n",
    "    \n",
    "    \n",
    "ob=play('madhu',123,7788)\n",
    "ob.display()"
   ]
  },
  {
   "cell_type": "code",
   "execution_count": 32,
   "metadata": {},
   "outputs": [
    {
     "name": "stdout",
     "output_type": "stream",
     "text": [
      "   Name  Age      City\n",
      "0  John   25  New York\n",
      "1  Emma   30    London\n",
      "2  Mike   35    Sydney\n"
     ]
    }
   ],
   "source": [
    "import pandas as pd\n",
    "\n",
    "data = {'Name': ['John', 'Emma', 'Mike'],\n",
    "        'Age': [25, 30, 35],\n",
    "        'City': ['New York', 'London', 'Sydney']}\n",
    "\n",
    "df = pd.DataFrame(data)\n",
    "\n",
    "print(df)\n"
   ]
  },
  {
   "cell_type": "code",
   "execution_count": 49,
   "metadata": {},
   "outputs": [
    {
     "data": {
      "text/html": [
       "<div>\n",
       "<style scoped>\n",
       "    .dataframe tbody tr th:only-of-type {\n",
       "        vertical-align: middle;\n",
       "    }\n",
       "\n",
       "    .dataframe tbody tr th {\n",
       "        vertical-align: top;\n",
       "    }\n",
       "\n",
       "    .dataframe thead th {\n",
       "        text-align: right;\n",
       "    }\n",
       "</style>\n",
       "<table border=\"1\" class=\"dataframe\">\n",
       "  <thead>\n",
       "    <tr style=\"text-align: right;\">\n",
       "      <th></th>\n",
       "      <th>Name</th>\n",
       "      <th>Age</th>\n",
       "      <th>City</th>\n",
       "    </tr>\n",
       "  </thead>\n",
       "  <tbody>\n",
       "    <tr>\n",
       "      <th>0</th>\n",
       "      <td>John</td>\n",
       "      <td>25</td>\n",
       "      <td>New York</td>\n",
       "    </tr>\n",
       "    <tr>\n",
       "      <th>1</th>\n",
       "      <td>Emma</td>\n",
       "      <td>30</td>\n",
       "      <td>London</td>\n",
       "    </tr>\n",
       "    <tr>\n",
       "      <th>2</th>\n",
       "      <td>Mike</td>\n",
       "      <td>35</td>\n",
       "      <td>Sydney</td>\n",
       "    </tr>\n",
       "    <tr>\n",
       "      <th>3</th>\n",
       "      <td>John</td>\n",
       "      <td>25</td>\n",
       "      <td></td>\n",
       "    </tr>\n",
       "  </tbody>\n",
       "</table>\n",
       "</div>"
      ],
      "text/plain": [
       "   Name Age      City\n",
       "0  John  25  New York\n",
       "1  Emma  30    London\n",
       "2  Mike  35    Sydney\n",
       "3  John  25          "
      ]
     },
     "execution_count": 49,
     "metadata": {},
     "output_type": "execute_result"
    }
   ],
   "source": [
    "f={'Name':None,'Age':None,'City':''}\n",
    "# df=df.append(f,ignore_index=True)\n",
    "df.fillna('xxx',inplace=True)\n",
    "df.head(4)"
   ]
  },
  {
   "cell_type": "code",
   "execution_count": 3,
   "metadata": {},
   "outputs": [
    {
     "data": {
      "text/html": [
       "<div>\n",
       "<style scoped>\n",
       "    .dataframe tbody tr th:only-of-type {\n",
       "        vertical-align: middle;\n",
       "    }\n",
       "\n",
       "    .dataframe tbody tr th {\n",
       "        vertical-align: top;\n",
       "    }\n",
       "\n",
       "    .dataframe thead th {\n",
       "        text-align: right;\n",
       "    }\n",
       "</style>\n",
       "<table border=\"1\" class=\"dataframe\">\n",
       "  <thead>\n",
       "    <tr style=\"text-align: right;\">\n",
       "      <th></th>\n",
       "      <th>name</th>\n",
       "      <th>gender</th>\n",
       "      <th>state</th>\n",
       "      <th>phy</th>\n",
       "      <th>maths</th>\n",
       "      <th>bio</th>\n",
       "      <th>Total</th>\n",
       "      <th>Grade</th>\n",
       "    </tr>\n",
       "  </thead>\n",
       "  <tbody>\n",
       "    <tr>\n",
       "      <th>5</th>\n",
       "      <td>dinesh</td>\n",
       "      <td>male</td>\n",
       "      <td>mp</td>\n",
       "      <td>48</td>\n",
       "      <td>34</td>\n",
       "      <td>67</td>\n",
       "      <td>149</td>\n",
       "      <td>fail</td>\n",
       "    </tr>\n",
       "    <tr>\n",
       "      <th>6</th>\n",
       "      <td>yogita</td>\n",
       "      <td>female</td>\n",
       "      <td>mp</td>\n",
       "      <td>39</td>\n",
       "      <td>65</td>\n",
       "      <td>90</td>\n",
       "      <td>194</td>\n",
       "      <td>pass</td>\n",
       "    </tr>\n",
       "    <tr>\n",
       "      <th>10</th>\n",
       "      <td>geeta</td>\n",
       "      <td>female</td>\n",
       "      <td>mh</td>\n",
       "      <td>31</td>\n",
       "      <td>58</td>\n",
       "      <td>78</td>\n",
       "      <td>167</td>\n",
       "      <td>pass</td>\n",
       "    </tr>\n",
       "  </tbody>\n",
       "</table>\n",
       "</div>"
      ],
      "text/plain": [
       "      name  gender state  phy  maths  bio  Total Grade\n",
       "5   dinesh    male    mp   48     34   67    149  fail\n",
       "6   yogita  female    mp   39     65   90    194  pass\n",
       "10   geeta  female    mh   31     58   78    167  pass"
      ]
     },
     "execution_count": 3,
     "metadata": {},
     "output_type": "execute_result"
    }
   ],
   "source": [
    "import pandas as pd\n",
    "df=pd.read_excel(\"marksheet_1.xlsx\",)\n",
    "# df=df.style.hide_index()\n",
    "# df['name']='dfghj'\n",
    "df['Total']=df['phy']+df['maths']+df['bio']\n",
    "df['Grade']='pass/fail'\n",
    "\n",
    "df.loc[df['Total']>150,'Grade']='pass'\n",
    "df.loc[df['Total']<=150,'Grade']='fail'\n",
    "df.loc[(df['Total']>100) & (df['Total']<200) ]"
   ]
  },
  {
   "cell_type": "code",
   "execution_count": 13,
   "metadata": {},
   "outputs": [
    {
     "data": {
      "text/html": [
       "<div>\n",
       "<style scoped>\n",
       "    .dataframe tbody tr th:only-of-type {\n",
       "        vertical-align: middle;\n",
       "    }\n",
       "\n",
       "    .dataframe tbody tr th {\n",
       "        vertical-align: top;\n",
       "    }\n",
       "\n",
       "    .dataframe thead th {\n",
       "        text-align: right;\n",
       "    }\n",
       "</style>\n",
       "<table border=\"1\" class=\"dataframe\">\n",
       "  <thead>\n",
       "    <tr style=\"text-align: right;\">\n",
       "      <th></th>\n",
       "      <th>name</th>\n",
       "      <th>gender</th>\n",
       "      <th>state</th>\n",
       "      <th>phy</th>\n",
       "      <th>maths</th>\n",
       "      <th>bio</th>\n",
       "      <th>Total</th>\n",
       "      <th>Grade</th>\n",
       "    </tr>\n",
       "  </thead>\n",
       "  <tbody>\n",
       "    <tr>\n",
       "      <th>3</th>\n",
       "      <td>meena</td>\n",
       "      <td>female</td>\n",
       "      <td>pp</td>\n",
       "      <td>72</td>\n",
       "      <td>69</td>\n",
       "      <td>80</td>\n",
       "      <td>221</td>\n",
       "      <td>pass</td>\n",
       "    </tr>\n",
       "    <tr>\n",
       "      <th>4</th>\n",
       "      <td>seema</td>\n",
       "      <td>female</td>\n",
       "      <td>mh</td>\n",
       "      <td>68</td>\n",
       "      <td>90</td>\n",
       "      <td>78</td>\n",
       "      <td>236</td>\n",
       "      <td>pass</td>\n",
       "    </tr>\n",
       "    <tr>\n",
       "      <th>9</th>\n",
       "      <td>mangesh</td>\n",
       "      <td>male</td>\n",
       "      <td>mp</td>\n",
       "      <td>91</td>\n",
       "      <td>78</td>\n",
       "      <td>82</td>\n",
       "      <td>251</td>\n",
       "      <td>pass</td>\n",
       "    </tr>\n",
       "  </tbody>\n",
       "</table>\n",
       "</div>"
      ],
      "text/plain": [
       "      name  gender state  phy  maths  bio  Total Grade\n",
       "3    meena  female    pp   72     69   80    221  pass\n",
       "4    seema  female    mh   68     90   78    236  pass\n",
       "9  mangesh    male    mp   91     78   82    251  pass"
      ]
     },
     "execution_count": 13,
     "metadata": {},
     "output_type": "execute_result"
    }
   ],
   "source": [
    "df.iloc[:,[5,2,4,3]]\n",
    "df.loc[:,['phy','bio']]\n",
    "df.sort_values('name',ascending=False)\n",
    "# df.rename(columns={'name':'Name'},inplace=True)\n",
    "# df.style.hide_index()\n",
    "df.loc[3,'state']='pp'\n",
    "df.loc[df['name'].str.contains('m')]"
   ]
  },
  {
   "cell_type": "code",
   "execution_count": 23,
   "metadata": {},
   "outputs": [
    {
     "data": {
      "text/html": [
       "<div>\n",
       "<style scoped>\n",
       "    .dataframe tbody tr th:only-of-type {\n",
       "        vertical-align: middle;\n",
       "    }\n",
       "\n",
       "    .dataframe tbody tr th {\n",
       "        vertical-align: top;\n",
       "    }\n",
       "\n",
       "    .dataframe thead th {\n",
       "        text-align: right;\n",
       "    }\n",
       "</style>\n",
       "<table border=\"1\" class=\"dataframe\">\n",
       "  <thead>\n",
       "    <tr style=\"text-align: right;\">\n",
       "      <th></th>\n",
       "      <th>name</th>\n",
       "      <th>gender</th>\n",
       "      <th>state</th>\n",
       "      <th>phy</th>\n",
       "      <th>maths</th>\n",
       "      <th>bio</th>\n",
       "      <th>Total</th>\n",
       "      <th>Grade</th>\n",
       "    </tr>\n",
       "  </thead>\n",
       "  <tbody>\n",
       "    <tr>\n",
       "      <th>14</th>\n",
       "      <td>sanjay</td>\n",
       "      <td>male</td>\n",
       "      <td>mh</td>\n",
       "      <td>63</td>\n",
       "      <td>90</td>\n",
       "      <td>80</td>\n",
       "      <td>233</td>\n",
       "      <td>pass</td>\n",
       "    </tr>\n",
       "    <tr>\n",
       "      <th>13</th>\n",
       "      <td>binod</td>\n",
       "      <td>male</td>\n",
       "      <td>mh</td>\n",
       "      <td>95</td>\n",
       "      <td>78</td>\n",
       "      <td>88</td>\n",
       "      <td>261</td>\n",
       "      <td>pass</td>\n",
       "    </tr>\n",
       "    <tr>\n",
       "      <th>12</th>\n",
       "      <td>tushar</td>\n",
       "      <td>male</td>\n",
       "      <td>up</td>\n",
       "      <td>32</td>\n",
       "      <td>92</td>\n",
       "      <td>77</td>\n",
       "      <td>201</td>\n",
       "      <td>pass</td>\n",
       "    </tr>\n",
       "    <tr>\n",
       "      <th>11</th>\n",
       "      <td>runali</td>\n",
       "      <td>female</td>\n",
       "      <td>up</td>\n",
       "      <td>85</td>\n",
       "      <td>92</td>\n",
       "      <td>66</td>\n",
       "      <td>243</td>\n",
       "      <td>pass</td>\n",
       "    </tr>\n",
       "    <tr>\n",
       "      <th>10</th>\n",
       "      <td>geeta</td>\n",
       "      <td>female</td>\n",
       "      <td>mh</td>\n",
       "      <td>31</td>\n",
       "      <td>58</td>\n",
       "      <td>78</td>\n",
       "      <td>167</td>\n",
       "      <td>pass</td>\n",
       "    </tr>\n",
       "    <tr>\n",
       "      <th>9</th>\n",
       "      <td>mangesh</td>\n",
       "      <td>male</td>\n",
       "      <td>mp</td>\n",
       "      <td>91</td>\n",
       "      <td>78</td>\n",
       "      <td>82</td>\n",
       "      <td>251</td>\n",
       "      <td>pass</td>\n",
       "    </tr>\n",
       "    <tr>\n",
       "      <th>8</th>\n",
       "      <td>jayesh</td>\n",
       "      <td>male</td>\n",
       "      <td>up</td>\n",
       "      <td>87</td>\n",
       "      <td>88</td>\n",
       "      <td>32</td>\n",
       "      <td>207</td>\n",
       "      <td>pass</td>\n",
       "    </tr>\n",
       "    <tr>\n",
       "      <th>7</th>\n",
       "      <td>karan</td>\n",
       "      <td>male</td>\n",
       "      <td>mh</td>\n",
       "      <td>82</td>\n",
       "      <td>78</td>\n",
       "      <td>55</td>\n",
       "      <td>215</td>\n",
       "      <td>pass</td>\n",
       "    </tr>\n",
       "    <tr>\n",
       "      <th>6</th>\n",
       "      <td>yogita</td>\n",
       "      <td>female</td>\n",
       "      <td>mp</td>\n",
       "      <td>39</td>\n",
       "      <td>65</td>\n",
       "      <td>90</td>\n",
       "      <td>194</td>\n",
       "      <td>pass</td>\n",
       "    </tr>\n",
       "    <tr>\n",
       "      <th>5</th>\n",
       "      <td>dinesh</td>\n",
       "      <td>male</td>\n",
       "      <td>mp</td>\n",
       "      <td>48</td>\n",
       "      <td>34</td>\n",
       "      <td>67</td>\n",
       "      <td>149</td>\n",
       "      <td>fail</td>\n",
       "    </tr>\n",
       "    <tr>\n",
       "      <th>4</th>\n",
       "      <td>seema</td>\n",
       "      <td>female</td>\n",
       "      <td>mh</td>\n",
       "      <td>68</td>\n",
       "      <td>90</td>\n",
       "      <td>78</td>\n",
       "      <td>236</td>\n",
       "      <td>pass</td>\n",
       "    </tr>\n",
       "    <tr>\n",
       "      <th>3</th>\n",
       "      <td>meena</td>\n",
       "      <td>female</td>\n",
       "      <td>pp</td>\n",
       "      <td>72</td>\n",
       "      <td>69</td>\n",
       "      <td>80</td>\n",
       "      <td>221</td>\n",
       "      <td>pass</td>\n",
       "    </tr>\n",
       "    <tr>\n",
       "      <th>2</th>\n",
       "      <td>ganesh</td>\n",
       "      <td>male</td>\n",
       "      <td>up</td>\n",
       "      <td>45</td>\n",
       "      <td>82</td>\n",
       "      <td>78</td>\n",
       "      <td>205</td>\n",
       "      <td>pass</td>\n",
       "    </tr>\n",
       "    <tr>\n",
       "      <th>1</th>\n",
       "      <td>aniket</td>\n",
       "      <td>male</td>\n",
       "      <td>up</td>\n",
       "      <td>52</td>\n",
       "      <td>85</td>\n",
       "      <td>72</td>\n",
       "      <td>209</td>\n",
       "      <td>pass</td>\n",
       "    </tr>\n",
       "    <tr>\n",
       "      <th>0</th>\n",
       "      <td>rohan</td>\n",
       "      <td>male</td>\n",
       "      <td>mh</td>\n",
       "      <td>60</td>\n",
       "      <td>90</td>\n",
       "      <td>68</td>\n",
       "      <td>218</td>\n",
       "      <td>pass</td>\n",
       "    </tr>\n",
       "  </tbody>\n",
       "</table>\n",
       "</div>"
      ],
      "text/plain": [
       "       name  gender state  phy  maths  bio  Total Grade\n",
       "14   sanjay    male    mh   63     90   80    233  pass\n",
       "13    binod    male    mh   95     78   88    261  pass\n",
       "12   tushar    male    up   32     92   77    201  pass\n",
       "11   runali  female    up   85     92   66    243  pass\n",
       "10    geeta  female    mh   31     58   78    167  pass\n",
       "9   mangesh    male    mp   91     78   82    251  pass\n",
       "8    jayesh    male    up   87     88   32    207  pass\n",
       "7     karan    male    mh   82     78   55    215  pass\n",
       "6    yogita  female    mp   39     65   90    194  pass\n",
       "5    dinesh    male    mp   48     34   67    149  fail\n",
       "4     seema  female    mh   68     90   78    236  pass\n",
       "3     meena  female    pp   72     69   80    221  pass\n",
       "2    ganesh    male    up   45     82   78    205  pass\n",
       "1    aniket    male    up   52     85   72    209  pass\n",
       "0     rohan    male    mh   60     90   68    218  pass"
      ]
     },
     "execution_count": 23,
     "metadata": {},
     "output_type": "execute_result"
    }
   ],
   "source": [
    "df.sort_index(ascending=False)"
   ]
  },
  {
   "cell_type": "code",
   "execution_count": 40,
   "metadata": {},
   "outputs": [
    {
     "data": {
      "text/html": [
       "<div>\n",
       "<style scoped>\n",
       "    .dataframe tbody tr th:only-of-type {\n",
       "        vertical-align: middle;\n",
       "    }\n",
       "\n",
       "    .dataframe tbody tr th {\n",
       "        vertical-align: top;\n",
       "    }\n",
       "\n",
       "    .dataframe thead th {\n",
       "        text-align: right;\n",
       "    }\n",
       "</style>\n",
       "<table border=\"1\" class=\"dataframe\">\n",
       "  <thead>\n",
       "    <tr style=\"text-align: right;\">\n",
       "      <th></th>\n",
       "      <th>Name</th>\n",
       "      <th>Age</th>\n",
       "      <th>City</th>\n",
       "    </tr>\n",
       "  </thead>\n",
       "  <tbody>\n",
       "    <tr>\n",
       "      <th>1</th>\n",
       "      <td>Emma</td>\n",
       "      <td>28</td>\n",
       "      <td>London</td>\n",
       "    </tr>\n",
       "    <tr>\n",
       "      <th>3</th>\n",
       "      <td>Emma</td>\n",
       "      <td>28</td>\n",
       "      <td>London</td>\n",
       "    </tr>\n",
       "  </tbody>\n",
       "</table>\n",
       "</div>"
      ],
      "text/plain": [
       "   Name  Age    City\n",
       "1  Emma   28  London\n",
       "3  Emma   28  London"
      ]
     },
     "execution_count": 40,
     "metadata": {},
     "output_type": "execute_result"
    }
   ],
   "source": [
    "data = {'Name': ['John', 'Emma'],\n",
    "        'Age': [25, 28],\n",
    "        'City': ['New York', 'London']}\n",
    "df = pd.DataFrame(data)\n",
    "new={'Name': ['John', 'Emma'],\n",
    "        'Age': [25, 28],\n",
    "        'City': ['New York', 'London']}\n",
    "\n",
    "mf=pd.DataFrame(new)\n",
    "df=pd.concat([df,mf],ignore_index=True)\n",
    "# df=df.droplevel(0)\n",
    "df.drop(0)\n",
    "df.drop(df[df['Name'] == 'John'].index,inplace=True) \n",
    "df\n"
   ]
  },
  {
   "cell_type": "code",
   "execution_count": 8,
   "metadata": {},
   "outputs": [
    {
     "data": {
      "text/plain": [
       "array([[3326],\n",
       "       [6659]])"
      ]
     },
     "execution_count": 8,
     "metadata": {},
     "output_type": "execute_result"
    }
   ],
   "source": [
    "import numpy as np\n",
    "s=np.array([[1,3322],[2,6655]])\n",
    "a=s[:,1:]+2\n",
    "d=np.array([[1,3324],[2,6657]])\n",
    "d=d[:,1:]+2\n",
    "d"
   ]
  },
  {
   "cell_type": "code",
   "execution_count": 16,
   "metadata": {},
   "outputs": [
    {
     "name": "stdout",
     "output_type": "stream",
     "text": [
      "1 is withdraw\n",
      "2 is checkbal\n",
      "your account bal is low\n"
     ]
    }
   ],
   "source": [
    "class CredentialError(BaseException):\n",
    "    def __init__(self,msg):\n",
    "        self.msg=msg\n",
    "    \n",
    "    def __str__(self) -> str:\n",
    "        return self.msg\n",
    "    \n",
    "class BankError(Exception):\n",
    "    def __init__(self,msg):\n",
    "        self.msg=msg\n",
    "    \n",
    "    def __str__(self) -> str:\n",
    "        return self.msg\n",
    "\n",
    "class bank1:\n",
    "    def __init__(self,name,bal,pin):\n",
    "        self.name=name\n",
    "        self.bal=bal\n",
    "        self.pin=pin\n",
    "    def checkbal(self):\n",
    "        print(f'{self.name} bal is {self.bal}')\n",
    "\n",
    "    def withdraw(self):\n",
    "        n=int(input())\n",
    "        if self.bal>=n:\n",
    "            self.bal-=n\n",
    "            print('withdraw is success')\n",
    "        else:\n",
    "            raise BankError('your account bal is low')\n",
    "    \n",
    "ob=bank1('sab',100,99)\n",
    "name=input('enter your username')\n",
    "pin=int(input('Enter your pin'))\n",
    "try:\n",
    "    if name==ob.name and pin==ob.pin:\n",
    "        try:\n",
    "            print('1 is withdraw')\n",
    "            print('2 is checkbal')\n",
    "            n=int(input('please select option for action'))\n",
    "            if n==1:\n",
    "                ob.withdraw()\n",
    "            else:\n",
    "                ob.checkbal()\n",
    "        except BankError as msg:\n",
    "            print(msg)\n",
    "\n",
    "    else:\n",
    "        raise CredentialError('your pin or username is incorrect')\n",
    "        \n",
    "except CredentialError as msg:\n",
    "    print(msg)\n",
    "\n"
   ]
  },
  {
   "cell_type": "code",
   "execution_count": 18,
   "metadata": {},
   "outputs": [
    {
     "ename": "AttributeError",
     "evalue": "'b' object has no attribute 'bal'",
     "output_type": "error",
     "traceback": [
      "\u001b[1;31m---------------------------------------------------------------------------\u001b[0m",
      "\u001b[1;31mAttributeError\u001b[0m                            Traceback (most recent call last)",
      "Cell \u001b[1;32mIn[18], line 10\u001b[0m\n\u001b[0;32m      7\u001b[0m         \u001b[39mself\u001b[39m\u001b[39m.\u001b[39mmsg\u001b[39m=\u001b[39m\u001b[39m1000\u001b[39m\n\u001b[0;32m      9\u001b[0m ob\u001b[39m=\u001b[39mb()\n\u001b[1;32m---> 10\u001b[0m ob\u001b[39m.\u001b[39;49mbal\n",
      "\u001b[1;31mAttributeError\u001b[0m: 'b' object has no attribute 'bal'"
     ]
    }
   ],
   "source": [
    "class a:\n",
    "    def __init__(self,bal) -> None:\n",
    "        self.bal=bal\n",
    "\n",
    "class b(a):\n",
    "    def __init__(self) -> None:\n",
    "        self.msg=1000\n",
    "\n",
    "ob=b()\n",
    "ob.bal"
   ]
  },
  {
   "cell_type": "code",
   "execution_count": 3,
   "metadata": {},
   "outputs": [
    {
     "name": "stdout",
     "output_type": "stream",
     "text": [
      "1\n"
     ]
    }
   ],
   "source": [
    "class a:\n",
    "    q=1\n",
    "class b(a):\n",
    "    pass\n",
    "class c(a):\n",
    "    pass\n",
    "class d(b,c):\n",
    "    pass\n",
    "ob=d()\n",
    "print(ob.q)"
   ]
  },
  {
   "cell_type": "code",
   "execution_count": 11,
   "metadata": {},
   "outputs": [
    {
     "data": {
      "text/plain": [
       "['damu', 'vishnu', 'raj', 'ram', 'balu']"
      ]
     },
     "execution_count": 11,
     "metadata": {},
     "output_type": "execute_result"
    }
   ],
   "source": [
    "d={'ram':4.0,'raj':4.0,'vishnu':2.34,'balu':5.5,'damu':1.0}\n",
    "d1={k:v for k,v in sorted(d.items())}\n",
    "l=sorted(list(d1.values()))\n",
    "f={}\n",
    "for x in range(len(l)):\n",
    "    for k,v in d1.items():\n",
    "        if l[x]==v and k not in l:\n",
    "            f[k]=v\n",
    "            l[x]=k\n",
    "            break\n",
    "f\n",
    "l\n",
    "    "
   ]
  },
  {
   "cell_type": "code",
   "execution_count": 11,
   "metadata": {},
   "outputs": [
    {
     "name": "stdout",
     "output_type": "stream",
     "text": [
      "-1\n",
      "handcipoG\n"
     ]
    }
   ],
   "source": [
    "s='Gopichand'\n",
    "s1=''\n",
    "count=-1\n",
    "for i in s:\n",
    "    count+=1\n",
    "a=count//2+1\n",
    "for i in s:\n",
    "    if a>count:\n",
    "        break\n",
    "    s1+=s[a]\n",
    "    a+=1\n",
    "a=count//2\n",
    "for i in s:\n",
    "    if a<0:\n",
    "        break\n",
    "    s1+=s[a]\n",
    "    a-=1\n",
    "print(a)\n",
    "print(s1)"
   ]
  },
  {
   "cell_type": "code",
   "execution_count": null,
   "metadata": {},
   "outputs": [],
   "source": []
  },
  {
   "cell_type": "code",
   "execution_count": 21,
   "metadata": {},
   "outputs": [
    {
     "name": "stdout",
     "output_type": "stream",
     "text": [
      "[15, 30, 45]\n"
     ]
    }
   ],
   "source": [
    "x=lambda a : a%3==0 and a%5==0\n",
    "def re(n):\n",
    "    \n",
    "    if n<50:\n",
    "        if x(n):\n",
    "            l.append(n)\n",
    "        re(n+1)\n",
    "    else:\n",
    "        return l\n",
    "l=[]\n",
    "re(1)\n",
    "print(l)"
   ]
  },
  {
   "cell_type": "code",
   "execution_count": 2,
   "metadata": {},
   "outputs": [
    {
     "name": "stdout",
     "output_type": "stream",
     "text": [
      "[15, 30, 45]\n"
     ]
    }
   ],
   "source": [
    "l=list(filter(lambda x : x%3==0 and x%5==0,range(1,50)))\n",
    "print(l)"
   ]
  },
  {
   "cell_type": "code",
   "execution_count": 45,
   "metadata": {},
   "outputs": [
    {
     "name": "stdout",
     "output_type": "stream",
     "text": [
      "['applE', 'bAll', 'CaT', 'Dog', 'grapes', 'Mango', 'TigEr', 'zEbra']\n"
     ]
    }
   ],
   "source": [
    "s  = ['applE', 'CaT', 'Dog', 'bAll', 'Mango', 'zEbra', 'grapes', 'TigEr']\n",
    "l=[]\n",
    "for i in s:\n",
    "    l.append(i[0].lower())\n",
    "\n",
    "l.sort()\n",
    "l2=[]\n",
    "for i in range(len(l)):\n",
    "    for f in s:\n",
    "        if f[0].lower()==l[i]:\n",
    "            l2.append(f)\n",
    "\n",
    "print(l2)\n"
   ]
  },
  {
   "cell_type": "code",
   "execution_count": 40,
   "metadata": {},
   "outputs": [
    {
     "ename": "SyntaxError",
     "evalue": "invalid syntax (1835560335.py, line 1)",
     "output_type": "error",
     "traceback": [
      "\u001b[1;36m  Cell \u001b[1;32mIn[40], line 1\u001b[1;36m\u001b[0m\n\u001b[1;33m    SELECT * FROM EMPLOYEES\u001b[0m\n\u001b[1;37m                  ^\u001b[0m\n\u001b[1;31mSyntaxError\u001b[0m\u001b[1;31m:\u001b[0m invalid syntax\n"
     ]
    }
   ],
   "source": [
    "SELECT * FROM EMPLOYEES\n",
    "WHERE YEAR LIKE '%81';\n",
    "\n",
    "SELECT * FROM EMPLOYEES\n",
    "WHERE TO_CHAR(YEAR,YYYY)=1981;\n",
    "\n",
    "1 CREATE\n",
    "2 ALTER\n",
    "3 DROP\n",
    "4 TRUNCATE\n",
    "5 RENAME\n",
    "\n",
    "1 SELECT\n",
    "2 FROM \n",
    "3 WHERE\n",
    "\n",
    "1 INSERT\n",
    "2 DELETE\n",
    "3 UPDATE"
   ]
  },
  {
   "cell_type": "code",
   "execution_count": 4,
   "metadata": {},
   "outputs": [
    {
     "name": "stdout",
     "output_type": "stream",
     "text": [
      "['applE', 'bAll', 'CaT', 'Dog', 'grapes', 'Mango', 'TigEr', 'zEbra']\n"
     ]
    }
   ],
   "source": [
    "s  = ['applE', 'CaT', 'Dog', 'bAll', 'Mango', 'zEbra', 'grapes', 'TigEr']\n",
    "s.sort(key=str.lower)\n",
    "print(s)"
   ]
  },
  {
   "cell_type": "code",
   "execution_count": 5,
   "metadata": {},
   "outputs": [
    {
     "name": "stdout",
     "output_type": "stream",
     "text": [
      "['applE', 'bAll', 'CaT', 'Dog', 'grapes', 'Mango', 'TigEr', 'zEbra']\n"
     ]
    }
   ],
   "source": [
    "s.sort(key=str.upper)\n",
    "print(s)"
   ]
  },
  {
   "cell_type": "code",
   "execution_count": 1,
   "metadata": {},
   "outputs": [
    {
     "name": "stdout",
     "output_type": "stream",
     "text": [
      "{'name': 'Charlie', 'age': 22}\n"
     ]
    }
   ],
   "source": [
    "students = [{'name': 'Alice', 'age': 20},{'name': 'Bob', 'age': 18},{'name': 'Charlie', 'age': 22}]\n",
    "    \n",
    "\n",
    "# Finding the student with the highest age\n",
    "oldest_student = max(students, key=lambda student: student['age'])\n",
    "print(oldest_student)  # {'name': 'Charlie', 'age': 22}\n"
   ]
  },
  {
   "cell_type": "code",
   "execution_count": 2,
   "metadata": {},
   "outputs": [
    {
     "name": "stdout",
     "output_type": "stream",
     "text": [
      "3\n"
     ]
    }
   ],
   "source": [
    "def m(x):\n",
    "    def n():\n",
    "        return x\n",
    "    x-=2\n",
    "    return n()\n",
    "print(m(5))"
   ]
  },
  {
   "cell_type": "code",
   "execution_count": 7,
   "metadata": {},
   "outputs": [
    {
     "name": "stdout",
     "output_type": "stream",
     "text": [
      "{'madhu': 'name', 26: 'age', 'local': 'place'}\n"
     ]
    }
   ],
   "source": [
    "d={'name':'madhu','age':26,'place':'local'}\n",
    "d1={}\n",
    "for k,v in d.items():\n",
    "    d1[v]=k\n",
    "print(d1)"
   ]
  },
  {
   "cell_type": "code",
   "execution_count": 7,
   "metadata": {},
   "outputs": [
    {
     "name": "stdout",
     "output_type": "stream",
     "text": [
      "1\n",
      "1024\n",
      "59049\n",
      "1048576\n"
     ]
    }
   ],
   "source": []
  },
  {
   "cell_type": "code",
   "execution_count": 4,
   "metadata": {},
   "outputs": [
    {
     "data": {
      "text/html": [
       "<div>\n",
       "<style scoped>\n",
       "    .dataframe tbody tr th:only-of-type {\n",
       "        vertical-align: middle;\n",
       "    }\n",
       "\n",
       "    .dataframe tbody tr th {\n",
       "        vertical-align: top;\n",
       "    }\n",
       "\n",
       "    .dataframe thead th {\n",
       "        text-align: right;\n",
       "    }\n",
       "</style>\n",
       "<table border=\"1\" class=\"dataframe\">\n",
       "  <thead>\n",
       "    <tr style=\"text-align: right;\">\n",
       "      <th></th>\n",
       "      <th>Name</th>\n",
       "      <th>Age</th>\n",
       "    </tr>\n",
       "  </thead>\n",
       "  <tbody>\n",
       "    <tr>\n",
       "      <th>0</th>\n",
       "      <td>John</td>\n",
       "      <td>30</td>\n",
       "    </tr>\n",
       "    <tr>\n",
       "      <th>1</th>\n",
       "      <td>Jane</td>\n",
       "      <td>25</td>\n",
       "    </tr>\n",
       "    <tr>\n",
       "      <th>2</th>\n",
       "      <td>Sam</td>\n",
       "      <td>35</td>\n",
       "    </tr>\n",
       "  </tbody>\n",
       "</table>\n",
       "</div>"
      ],
      "text/plain": [
       "   Name  Age\n",
       "0  John   30\n",
       "1  Jane   25\n",
       "2   Sam   35"
      ]
     },
     "execution_count": 4,
     "metadata": {},
     "output_type": "execute_result"
    }
   ],
   "source": [
    "import pandas as pd\n",
    "\n",
    "def lambda_handler():\n",
    "    # Your data processing logic here\n",
    "    # Create a sample DataFrame\n",
    "    data = {'Name': ['John', 'Jane', 'Sam'],\n",
    "            'Age': [30, 25, 35]}\n",
    "    df = pd.DataFrame(data)\n",
    "    \n",
    "    # Set the index to be ignored\n",
    "    df.reset_index(drop=True, inplace=True)\n",
    "    \n",
    "    # Return the DataFrame\n",
    "    return df\n",
    "\n",
    "lambda_handler()"
   ]
  },
  {
   "cell_type": "code",
   "execution_count": 4,
   "metadata": {},
   "outputs": [
    {
     "name": "stdout",
     "output_type": "stream",
     "text": [
      "['cc', 2, 3]\n"
     ]
    }
   ],
   "source": [
    "var=[1,2,3]\n",
    "def sam():\n",
    "    var[0]='cc'\n",
    "    print(var)\n",
    "sam()"
   ]
  },
  {
   "cell_type": "code",
   "execution_count": null,
   "metadata": {},
   "outputs": [],
   "source": [
    "l=[[1,2,3],[5,6,0],[8,9,7]]\n"
   ]
  }
 ],
 "metadata": {
  "kernelspec": {
   "display_name": "Python 3",
   "language": "python",
   "name": "python3"
  },
  "language_info": {
   "codemirror_mode": {
    "name": "ipython",
    "version": 3
   },
   "file_extension": ".py",
   "mimetype": "text/x-python",
   "name": "python",
   "nbconvert_exporter": "python",
   "pygments_lexer": "ipython3",
   "version": "3.11.2"
  },
  "orig_nbformat": 4,
  "vscode": {
   "interpreter": {
    "hash": "5238573367df39f7286bb46f9ff5f08f63a01a80960060ce41e3c79b190280fa"
   }
  }
 },
 "nbformat": 4,
 "nbformat_minor": 2
}
