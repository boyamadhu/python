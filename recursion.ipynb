{
 "cells": [
  {
   "cell_type": "code",
   "execution_count": 3,
   "metadata": {},
   "outputs": [
    {
     "data": {
      "text/plain": [
       "'UhdaM'"
      ]
     },
     "execution_count": 3,
     "metadata": {},
     "output_type": "execute_result"
    }
   ],
   "source": [
    "def m(n):\n",
    "    if n<-len(s):\n",
    "        return ''\n",
    "    if n==-1 or n==-len(s):\n",
    "        return chr(ord(s[n])-32)+m(n-1)\n",
    "    else:\n",
    "        return s[n]+m(n-1)\n",
    "s='madhu'\n",
    "print(m(-1))"
   ]
  },
  {
   "cell_type": "code",
   "execution_count": 7,
   "metadata": {},
   "outputs": [
    {
     "name": "stdout",
     "output_type": "stream",
     "text": [
      "MadhU\n"
     ]
    }
   ],
   "source": [
    "def m(n):\n",
    "    if n>=len(s):\n",
    "        return ''\n",
    "    if n==0 or n==len(s)-1:\n",
    "        return chr(ord(s[n])-32)+m(n+1)\n",
    "    else:\n",
    "        return s[n]+m(n+1)\n",
    "s='madhu'\n",
    "print(m(0))"
   ]
  },
  {
   "cell_type": "code",
   "execution_count": 4,
   "metadata": {},
   "outputs": [
    {
     "name": "stdout",
     "output_type": "stream",
     "text": [
      "MADHUsabi\n"
     ]
    }
   ],
   "source": [
    "s='madhuSABI'\n",
    "\n",
    "def m(n):\n",
    "    if n>=len(s):\n",
    "        return ''\n",
    "    if 'a'<=s[n]<='z':\n",
    "        return chr(ord(s[n])-32)+m(n+1)\n",
    "    elif 'A'<=s[n]<='Z':\n",
    "        return chr(ord(s[n])+32)+m(n+1)\n",
    "    else:\n",
    "        return s[n]+m(n+1)\n",
    "\n",
    "print(m(0))\n"
   ]
  },
  {
   "cell_type": "code",
   "execution_count": 5,
   "metadata": {},
   "outputs": [
    {
     "name": "stdout",
     "output_type": "stream",
     "text": [
      "MADHA\n"
     ]
    }
   ],
   "source": [
    "s='madha'\n",
    "\n",
    "def m(n):\n",
    "    if n>=len(s):\n",
    "        return ''\n",
    "    return chr(ord(s[n])-32)+m(n+1)\n",
    "\n",
    "print(m(0))\n"
   ]
  },
  {
   "cell_type": "code",
   "execution_count": 6,
   "metadata": {},
   "outputs": [
    {
     "name": "stdout",
     "output_type": "stream",
     "text": [
      "aau\n"
     ]
    }
   ],
   "source": [
    "s='madhau'\n",
    "vowels='aeiou'\n",
    "def m(n):\n",
    "    if n>=len(s):\n",
    "        return ''\n",
    "    if s[n] in vowels:\n",
    "        return s[n]+m(n+1)\n",
    "    else:\n",
    "        return m(n+1)\n",
    "\n",
    "print(m(0))\n"
   ]
  },
  {
   "cell_type": "code",
   "execution_count": 7,
   "metadata": {},
   "outputs": [
    {
     "name": "stdout",
     "output_type": "stream",
     "text": [
      "s\n"
     ]
    }
   ],
   "source": [
    "def m(n,a=2):\n",
    "    if n>1:\n",
    "        if a<n//2+1:\n",
    "            if n%a==0:\n",
    "                return False\n",
    "            return m(n,a+1)\n",
    "        return True\n",
    "    return False\n",
    "\n",
    "def rev(n,pos):\n",
    "    if n==0:\n",
    "        return 0\n",
    "    return (n%10)*pos+rev(n//10,pos//10)\n",
    "n=int(input())\n",
    "p=len(str(n))-1\n",
    "pos=10**p\n",
    "a=rev(n,pos)\n",
    "if a!=n and m(n) and m(a):\n",
    "    print('s')"
   ]
  },
  {
   "cell_type": "code",
   "execution_count": 8,
   "metadata": {},
   "outputs": [
    {
     "name": "stdout",
     "output_type": "stream",
     "text": [
      "s\n"
     ]
    }
   ],
   "source": [
    "def m(n,r=0,a=1):\n",
    "    if n==a:\n",
    "        return r\n",
    "    if n%a==0:\n",
    "        r+=a\n",
    "    return m(n,r,a+1)\n",
    "n=6\n",
    "s=m(n)\n",
    "if n==s:\n",
    "    print('s')\n"
   ]
  },
  {
   "cell_type": "code",
   "execution_count": 9,
   "metadata": {},
   "outputs": [
    {
     "name": "stdout",
     "output_type": "stream",
     "text": [
      "3\n",
      "2\n",
      "None\n"
     ]
    }
   ],
   "source": [
    "def m(n,a=2):\n",
    "    if n>1:\n",
    "        if a<n//2+1:\n",
    "            if n%a==0:\n",
    "                return False\n",
    "            return m(n,a+1)\n",
    "        return True\n",
    "    return False\n",
    "\n",
    "def c(n):\n",
    "    if n==0:\n",
    "        return \n",
    "    r=n%10\n",
    "    if m(r):\n",
    "        print(r)\n",
    "    return c(n//10)\n",
    "\n",
    "print(c(1234))"
   ]
  },
  {
   "cell_type": "code",
   "execution_count": 10,
   "metadata": {},
   "outputs": [
    {
     "name": "stdout",
     "output_type": "stream",
     "text": [
      "s\n"
     ]
    }
   ],
   "source": [
    "def m(n):\n",
    "    if n==0:\n",
    "        return 0\n",
    "    return (n%10)+m(n//10)\n",
    "n=132\n",
    "r=m(n)\n",
    "if n%r==0:\n",
    "    print('s')\n",
    "\n"
   ]
  },
  {
   "cell_type": "code",
   "execution_count": 11,
   "metadata": {},
   "outputs": [
    {
     "name": "stdout",
     "output_type": "stream",
     "text": [
      "1 4 6 8 9 10 12 14 15 16 18 20 21 22 "
     ]
    }
   ],
   "source": [
    "def m(n,a=2):\n",
    "    if n>1:\n",
    "        if a<n//2+1:\n",
    "            if n%a==0:\n",
    "                return True\n",
    "            return m(n,a+1)\n",
    "        return False\n",
    "    return True\n",
    "for x in range(1,23):\n",
    "    if m(x):\n",
    "        print(x, end=' ')"
   ]
  },
  {
   "cell_type": "code",
   "execution_count": 2,
   "metadata": {},
   "outputs": [
    {
     "name": "stdout",
     "output_type": "stream",
     "text": [
      "366\n"
     ]
    }
   ],
   "source": [
    "def m(n,a=0):\n",
    "    if n==len(l):\n",
    "        return a\n",
    "    if a<l[n]:\n",
    "        a=l[n]\n",
    "    return m(n+1,a)\n",
    "\n",
    "l=[11,2,10,366,4,55]\n",
    "print(m(0))\n",
    "\n",
    "\n"
   ]
  },
  {
   "cell_type": "code",
   "execution_count": 30,
   "metadata": {},
   "outputs": [
    {
     "name": "stdout",
     "output_type": "stream",
     "text": [
      "   *\n",
      "  ***\n",
      " *****\n",
      "  ***\n",
      "   *\n",
      "None\n"
     ]
    }
   ],
   "source": [
    "def m(n,sp=2,st=1):\n",
    "    print(' '*sp,end= ' ')\n",
    "    print('*'*st)\n",
    "    if n<5//2:\n",
    "        return m(n+1,sp-1,st+2)\n",
    "    elif n>=4:\n",
    "        return \n",
    "    else:\n",
    "        return m(n+1,sp+1,st-2)\n",
    "    \n",
    "\n",
    "print(m(0))"
   ]
  },
  {
   "cell_type": "code",
   "execution_count": null,
   "metadata": {},
   "outputs": [],
   "source": []
  }
 ],
 "metadata": {
  "kernelspec": {
   "display_name": "Python 3",
   "language": "python",
   "name": "python3"
  },
  "language_info": {
   "codemirror_mode": {
    "name": "ipython",
    "version": 3
   },
   "file_extension": ".py",
   "mimetype": "text/x-python",
   "name": "python",
   "nbconvert_exporter": "python",
   "pygments_lexer": "ipython3",
   "version": "3.11.2"
  },
  "orig_nbformat": 4
 },
 "nbformat": 4,
 "nbformat_minor": 2
}
