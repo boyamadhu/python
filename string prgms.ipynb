{
 "cells": [
  {
   "cell_type": "code",
   "execution_count": 2,
   "metadata": {},
   "outputs": [
    {
     "name": "stdout",
     "output_type": "stream",
     "text": [
      "not palindrome\n"
     ]
    }
   ],
   "source": [
    "l='madaml'\n",
    "for x in range(len(l)//2):\n",
    "    if l[x]!=l[len(l)-1-x]:\n",
    "        print('not palindrome')\n",
    "        break\n",
    "    else:\n",
    "        print('palindrome')"
   ]
  },
  {
   "cell_type": "code",
   "execution_count": 4,
   "metadata": {},
   "outputs": [
    {
     "name": "stdout",
     "output_type": "stream",
     "text": [
      "dad\n",
      "s\n"
     ]
    }
   ],
   "source": [
    "s='dad'\n",
    "l=list(s)\n",
    "for x in range(len(l)//2):\n",
    "    l[x],l[len(l)-1-x]=l[len(l)-1-x],l[x]\n",
    "res=''.join(l)\n",
    "print(res)\n",
    "if res==s:\n",
    "    print('s')\n",
    "else:\n",
    "    print('n')"
   ]
  },
  {
   "cell_type": "code",
   "execution_count": 5,
   "metadata": {},
   "outputs": [
    {
     "name": "stdout",
     "output_type": "stream",
     "text": [
      "Madhu Is A Good Boy\n"
     ]
    }
   ],
   "source": [
    "a='madhu is a good boy'\n",
    "l=a.split()\n",
    "s=[]\n",
    "for x in l:\n",
    "    t=''\n",
    "    for v in range(len(x)):\n",
    "        if v==0:\n",
    "            t+=chr(ord(x[v])-32)\n",
    "        else:\n",
    "            t+=x[v]\n",
    "    s.append(t)\n",
    "res=' '.join(s)\n",
    "print(res)"
   ]
  },
  {
   "cell_type": "code",
   "execution_count": 6,
   "metadata": {},
   "outputs": [
    {
     "name": "stdout",
     "output_type": "stream",
     "text": [
      "['False', 'None', 'True', 'and', 'as', 'assert', 'async', 'await', 'break', 'class', 'continue', 'def', 'del', 'elif', 'else', 'except', 'finally', 'for', 'from', 'global', 'if', 'import', 'in', 'is', 'lambda', 'nonlocal', 'not', 'or', 'pass', 'raise', 'return', 'try', 'while', 'with', 'yield']\n"
     ]
    }
   ],
   "source": [
    "import keyword\n",
    "print(keyword.kwlist)"
   ]
  },
  {
   "cell_type": "code",
   "execution_count": 7,
   "metadata": {},
   "outputs": [
    {
     "name": "stdout",
     "output_type": "stream",
     "text": [
      "aaabbbbcccccc\n"
     ]
    }
   ],
   "source": [
    "a='a3b4c6'\n",
    "count=''\n",
    "res=''\n",
    "for x in range(len(a)):\n",
    "    if 'a'<=a[x]<='z':\n",
    "        res+=a[x]\n",
    "    else:\n",
    "        count+=int(a[x])*res\n",
    "        res=''\n",
    "print(count)"
   ]
  },
  {
   "cell_type": "code",
   "execution_count": 15,
   "metadata": {},
   "outputs": [
    {
     "name": "stdout",
     "output_type": "stream",
     "text": [
      "bbbbaaabb\n"
     ]
    }
   ],
   "source": [
    "s='4b3a2b'\n",
    "a=0\n",
    "b=''\n",
    "for x in range(len(s)):\n",
    "    if '1'<=s[x]<='9':\n",
    "        a+=int(s[x])\n",
    "    else:\n",
    "        b+=a*s[x]\n",
    "        a=0\n",
    "print(b)\n"
   ]
  },
  {
   "cell_type": "code",
   "execution_count": 12,
   "metadata": {},
   "outputs": [
    {
     "name": "stdout",
     "output_type": "stream",
     "text": [
      "anargam word\n"
     ]
    }
   ],
   "source": [
    "def anarg(n):\n",
    "    l=list(n)\n",
    "    for x in range(len(l)):\n",
    "        for c in range(len(l)-1-x):\n",
    "            if l[c]>l[c+1]:\n",
    "                l[c],l[c+1]=l[c+1],l[c]\n",
    "a='earth'\n",
    "b='heart'\n",
    "if anarg(a)==anarg(b):\n",
    "    print('anargam word')\n",
    "else:\n",
    "    print('not anargam word')"
   ]
  },
  {
   "cell_type": "code",
   "execution_count": 1,
   "metadata": {},
   "outputs": [
    {
     "name": "stdout",
     "output_type": "stream",
     "text": [
      "ax1\n",
      "by2\n",
      "cz3\n",
      "d4\n",
      "e5\n",
      "f\n"
     ]
    }
   ],
   "source": [
    "a='abcdef'\n",
    "b='xyz'\n",
    "c='12345'\n",
    "for i in range(len(a)):\n",
    "    s=''\n",
    "    s+=a[i]\n",
    "    if i<len(b):\n",
    "        s+=b[i]\n",
    "    if i<len(c):\n",
    "        s+=c[i]\n",
    "    print(s)\n",
    "    "
   ]
  },
  {
   "cell_type": "code",
   "execution_count": 1,
   "metadata": {},
   "outputs": [
    {
     "name": "stdout",
     "output_type": "stream",
     "text": [
      "m\n",
      "ma\n",
      "mad\n",
      "madh\n",
      "madhu\n"
     ]
    }
   ],
   "source": [
    "a='madhu'\n",
    "st=1\n",
    "for x in range(0,len(a)):\n",
    "    for c in range(st):\n",
    "        print(a[c],end='')\n",
    "    print()\n",
    "    st+=1"
   ]
  },
  {
   "cell_type": "code",
   "execution_count": 1,
   "metadata": {},
   "outputs": [
    {
     "name": "stdout",
     "output_type": "stream",
     "text": [
      "['ver1y', 'pytho2n', 'lov3e', 'w4e', 'wel5l', 'do9n']\n",
      "10\n"
     ]
    }
   ],
   "source": [
    "a='w4e lov3e do9n pytho2n ver1y wel5l'\n",
    "l=a.split()\n",
    "f=0\n",
    "k=[]\n",
    "while f<=9:\n",
    "    for x in l:\n",
    "        for c in range(0,len(x)):\n",
    "            if x[c]==str(f):\n",
    "                k.append(x)\n",
    "                break\n",
    "    f+=1      \n",
    "print(k)\n",
    "print(f)\n",
    "\n"
   ]
  },
  {
   "cell_type": "code",
   "execution_count": 2,
   "metadata": {},
   "outputs": [
    {
     "name": "stdout",
     "output_type": "stream",
     "text": [
      "(1, 1) (3, 2) (1, 3) (3, 1) (2, 2) "
     ]
    }
   ],
   "source": [
    "s='1222311122'\n",
    "c=1\n",
    "l=[]\n",
    "for x in range(len(s)-1):\n",
    "    if s[x]==s[x+1]:\n",
    "        c+=1\n",
    "    else:\n",
    "        l.append((c,int(s[x])))\n",
    "        c=1\n",
    "l.append((c,int(s[x])))\n",
    "for i in l:\n",
    "    print(i, end=' ')"
   ]
  },
  {
   "cell_type": "code",
   "execution_count": 3,
   "metadata": {},
   "outputs": [
    {
     "name": "stdout",
     "output_type": "stream",
     "text": [
      "4\n"
     ]
    }
   ],
   "source": [
    "a='yybbBByyyy'\n",
    "c=1\n",
    "for x in range(len(a)-1):\n",
    "    if a[x]==a[x+1]:\n",
    "        c+=1\n",
    "    else:\n",
    "        c-=1\n",
    "print(c)"
   ]
  },
  {
   "cell_type": "code",
   "execution_count": 1,
   "metadata": {},
   "outputs": [
    {
     "name": "stdout",
     "output_type": "stream",
     "text": [
      "[[1, 2, 3], [2, 3, 4], [3, 4, 5], [4, 5, 6]]\n"
     ]
    }
   ],
   "source": [
    "s=[1,2,3,4,5,6]\n",
    "n=3\n",
    "l=[s[x:x+n] for x in range(len(s)-2)]\n",
    "print(l)"
   ]
  },
  {
   "cell_type": "code",
   "execution_count": 2,
   "metadata": {},
   "outputs": [
    {
     "name": "stdout",
     "output_type": "stream",
     "text": [
      "3\n"
     ]
    }
   ],
   "source": [
    "a='we know we waht we'\n",
    "b='we'\n",
    "count=0\n",
    "for x in range(len(a)):\n",
    "    if a[x:x+len(b)]==b:\n",
    "        count+=1\n",
    "print(count)"
   ]
  },
  {
   "cell_type": "code",
   "execution_count": 3,
   "metadata": {},
   "outputs": [
    {
     "name": "stdout",
     "output_type": "stream",
     "text": [
      "ssfffhhhhvccc\n"
     ]
    }
   ],
   "source": [
    "a='s2f3h4v1c3'\n",
    "res=''\n",
    "for x in range(1,len(a),2):\n",
    "    res=res+a[x-1]*int(a[x])\n",
    "print(res)"
   ]
  },
  {
   "cell_type": "code",
   "execution_count": 4,
   "metadata": {},
   "outputs": [
    {
     "data": {
      "text/plain": [
       "['b', '10']"
      ]
     },
     "execution_count": 4,
     "metadata": {},
     "output_type": "execute_result"
    }
   ],
   "source": [
    "a='b:10'\n",
    "a.split(':')"
   ]
  },
  {
   "cell_type": "code",
   "execution_count": 5,
   "metadata": {},
   "outputs": [
    {
     "name": "stdout",
     "output_type": "stream",
     "text": [
      "MadhU IS A GooD BoY\n"
     ]
    }
   ],
   "source": [
    "a='madhu is a good boy'\n",
    "l=a.split()\n",
    "k=[]\n",
    "for x in l:\n",
    "    res=''\n",
    "    for c in range(len(x)):\n",
    "        if c==0 or c==len(x)-1:\n",
    "            res+=chr(ord(x[c])-32)\n",
    "        else:\n",
    "            res+=x[c]\n",
    "    k.append(res)\n",
    "f=' '.join(k)\n",
    "print(f)"
   ]
  },
  {
   "cell_type": "code",
   "execution_count": 1,
   "metadata": {},
   "outputs": [
    {
     "name": "stdout",
     "output_type": "stream",
     "text": [
      "2020\n",
      "2024\n",
      "2028\n",
      "3 leap years is present between 2020 and 2030\n"
     ]
    }
   ],
   "source": [
    "s1=int(input('enter starting year'))\n",
    "s2=int(input('enter ending year'))\n",
    "n=s1\n",
    "c=0\n",
    "while s1!=s2:\n",
    "    if (s1%4==0 and s1%100!=0) or s1%400==0:\n",
    "        c+=1\n",
    "        print(s1)\n",
    "    s1+=1\n",
    "print(f'{c} leap years is present between {n} and {s2}')\n",
    "\n"
   ]
  },
  {
   "cell_type": "code",
   "execution_count": 2,
   "metadata": {},
   "outputs": [
    {
     "name": "stdout",
     "output_type": "stream",
     "text": [
      "6\n"
     ]
    }
   ],
   "source": [
    "a='x\\ny\\nz\\n'\n",
    "print(len(a))"
   ]
  },
  {
   "cell_type": "code",
   "execution_count": 3,
   "metadata": {},
   "outputs": [
    {
     "name": "stdout",
     "output_type": "stream",
     "text": [
      "-5\n",
      "10\n"
     ]
    }
   ],
   "source": [
    "a=10\n",
    "b=-5\n",
    "a=a*b\n",
    "b=a//b\n",
    "a=a//b\n",
    "print(a)\n",
    "print(b)"
   ]
  },
  {
   "cell_type": "code",
   "execution_count": 4,
   "metadata": {},
   "outputs": [
    {
     "name": "stdout",
     "output_type": "stream",
     "text": [
      "66\n"
     ]
    }
   ],
   "source": [
    "g=[11,44,12,6,77,9,15]\n",
    "l=[]\n",
    "for x in range(0,1):\n",
    "    for c in range(x+1,len(g)):\n",
    "        l.append(abs(g[x]-g[c]))\n",
    "print(max(l))"
   ]
  },
  {
   "cell_type": "code",
   "execution_count": 5,
   "metadata": {},
   "outputs": [
    {
     "name": "stdout",
     "output_type": "stream",
     "text": [
      "2\n"
     ]
    }
   ],
   "source": [
    "a=input()\n",
    "odd=0\n",
    "even=0\n",
    "add=0\n",
    "for i in a:\n",
    "    if i.isdigit():\n",
    "        f=int(i)\n",
    "        if f%2==0:\n",
    "            even+=f\n",
    "        else:\n",
    "            odd+=f\n",
    "print(abs(even-odd))"
   ]
  },
  {
   "cell_type": "code",
   "execution_count": 6,
   "metadata": {},
   "outputs": [
    {
     "name": "stdout",
     "output_type": "stream",
     "text": [
      "madhuly\n"
     ]
    }
   ],
   "source": [
    "a='madhuing'\n",
    "res=''\n",
    "s='ing'\n",
    "for x in range(len(a)):\n",
    "    if a[x:x+len(s)]==s:\n",
    "        res+='ly'\n",
    "        break\n",
    "    else:\n",
    "        res+=a[x]\n",
    "print(res)"
   ]
  },
  {
   "cell_type": "code",
   "execution_count": 9,
   "metadata": {},
   "outputs": [
    {
     "name": "stdout",
     "output_type": "stream",
     "text": [
      "n b e i v "
     ]
    }
   ],
   "source": [
    "a='madhu'\n",
    "for x in range(len(a)):\n",
    "    if 'a'<=a[x]<='z':\n",
    "        print(chr(ord(a[x])+1), end='')\n",
    "    elif 'A'<=a[x]<='Z':\n",
    "        print(chr(ord(a[x])+1), end='')"
   ]
  },
  {
   "cell_type": "code",
   "execution_count": 8,
   "metadata": {},
   "outputs": [
    {
     "name": "stdout",
     "output_type": "stream",
     "text": [
      "['py', 'palle', 'bangalore']\n"
     ]
    }
   ],
   "source": [
    "x='py#palle#bangalore'\n",
    "l=x.split('#')\n",
    "print(l)"
   ]
  },
  {
   "cell_type": "code",
   "execution_count": 1,
   "metadata": {},
   "outputs": [
    {
     "name": "stdout",
     "output_type": "stream",
     "text": [
      "azbycxdwevfu\n",
      "abcdef\n",
      "zyxwvu\n"
     ]
    }
   ],
   "source": [
    "a='abcdef'\n",
    "b='uvwxyz'\n",
    "res=''\n",
    "for x in range(len(a)):\n",
    "    res+=a[x]+b[-(x+1)]\n",
    "\n",
    "print(res)\n",
    "print(res[::2])\n",
    "print(res[1::2])\n"
   ]
  },
  {
   "cell_type": "code",
   "execution_count": 2,
   "metadata": {},
   "outputs": [
    {
     "name": "stdout",
     "output_type": "stream",
     "text": [
      "ew era eht\n"
     ]
    }
   ],
   "source": [
    "s='we are the'\n",
    "m=s.split()\n",
    "for x in range(len(m)):\n",
    "    m[x]=m[x][::-1]\n",
    "print(' '.join(m))"
   ]
  },
  {
   "cell_type": "code",
   "execution_count": 1,
   "metadata": {},
   "outputs": [
    {
     "name": "stdout",
     "output_type": "stream",
     "text": [
      "['u', 'uh', 'uhd', 'uhda', 'uhdam']\n"
     ]
    }
   ],
   "source": [
    "a='madhu'\n",
    "l=[]\n",
    "for x in range(-1,-len(a)-1,-1):\n",
    "    j=a[x:len(a)]\n",
    "    l.append(j[::-1])\n",
    "print(l)"
   ]
  },
  {
   "cell_type": "code",
   "execution_count": 1,
   "metadata": {},
   "outputs": [
    {
     "name": "stdout",
     "output_type": "stream",
     "text": [
      "engi\n",
      "neer\n",
      "ing\n"
     ]
    }
   ],
   "source": [
    "a='engineering'\n",
    "n=4\n",
    "for x in range(0,len(a),n):\n",
    "    print(a[x:x+n])"
   ]
  },
  {
   "cell_type": "code",
   "execution_count": 2,
   "metadata": {},
   "outputs": [
    {
     "name": "stdout",
     "output_type": "stream",
     "text": [
      "5\n",
      "6\n",
      "7\n"
     ]
    }
   ],
   "source": [
    "l1=[1,2,3,4]\n",
    "l2=[2,3,4,5,6,7]\n",
    "for x in l2:\n",
    "    if x not in l1:\n",
    "        print(x)"
   ]
  },
  {
   "cell_type": "code",
   "execution_count": 3,
   "metadata": {},
   "outputs": [
    {
     "name": "stdout",
     "output_type": "stream",
     "text": [
      "{'o': 2, 'd': 2}\n"
     ]
    }
   ],
   "source": [
    "a='google redd bloodddd dd'\n",
    "d={}\n",
    "c=1\n",
    "for x in range(len(a)-1):\n",
    "    if a[x]==a[x+1]:\n",
    "        c+=1\n",
    "    else:\n",
    "        if c==2:\n",
    "            if a[x] not in d:\n",
    "                d[a[x]]=1\n",
    "            else:\n",
    "                d[a[x]]+=1\n",
    "        c=1\n",
    "if c==2:\n",
    "    if a[x] not in d:\n",
    "        d[a[x]]=1\n",
    "    else:\n",
    "        d[a[x]]+=1\n",
    "print(d)"
   ]
  },
  {
   "cell_type": "code",
   "execution_count": 1,
   "metadata": {},
   "outputs": [
    {
     "name": "stdout",
     "output_type": "stream",
     "text": [
      "['1', '2', '3', '4', '7']\n",
      "['madhu1', 'sam7', 'ravi3', 'surya4', 'naveen2']\n",
      "madhu1\n",
      "naveen2\n",
      "ravi3\n",
      "surya4\n",
      "sam7\n"
     ]
    }
   ],
   "source": [
    "a='madhu1 sam7 ravi3 surya4 naveen2'\n",
    "l=[]\n",
    "for x in range(len(a)):\n",
    "    if a[x].isdigit():\n",
    "        l.append(a[x])\n",
    "l.sort()\n",
    "print(l)\n",
    "j=a.split()\n",
    "print(j)\n",
    "q=0\n",
    "for a in j:\n",
    "    for b in j:\n",
    "        if l[q] in b:\n",
    "            print(b)\n",
    "            break\n",
    "    q+=1"
   ]
  },
  {
   "cell_type": "code",
   "execution_count": 4,
   "metadata": {},
   "outputs": [
    {
     "name": "stdout",
     "output_type": "stream",
     "text": [
      "1 10 13 19 23 28 31 32 44 49 "
     ]
    }
   ],
   "source": [
    "n=1\n",
    "c=0\n",
    "f=int(input())\n",
    "while c!=f:\n",
    "    d=n\n",
    "    while n>=10:\n",
    "        r=0\n",
    "        while n!=0:\n",
    "            s=n%10\n",
    "            n//=10\n",
    "            r+=(s*s)\n",
    "        n=r\n",
    "    if n==1:\n",
    "        c+=1\n",
    "        print(d, end=' ')\n",
    "    n=d+1\n",
    "\n"
   ]
  },
  {
   "cell_type": "code",
   "execution_count": 1,
   "metadata": {},
   "outputs": [
    {
     "name": "stdout",
     "output_type": "stream",
     "text": [
      "justic1e\n",
      "wa2nt\n",
      "w3e\n"
     ]
    }
   ],
   "source": [
    "a='w3e wa2nt justic1e'\n",
    "l=a.split()\n",
    "d=0\n",
    "while d<=len(l):\n",
    "    for x in l:\n",
    "        if str(d) in x:\n",
    "            print(x)\n",
    "            \n",
    "    d+=1\n"
   ]
  },
  {
   "cell_type": "code",
   "execution_count": 1,
   "metadata": {},
   "outputs": [
    {
     "name": "stdout",
     "output_type": "stream",
     "text": [
      "fe2d3c5ba6\n"
     ]
    }
   ],
   "source": [
    "a='ab2c3d5ef6'\n",
    "l=[]\n",
    "res=''\n",
    "c=0\n",
    "for x in a:\n",
    "    if x.isalpha():\n",
    "        l.append(x)\n",
    "for g in range(len(l)//2):\n",
    "    l[g],l[len(l)-1-g]=l[len(l)-1-g],l[g]\n",
    "\n",
    "for b in a:\n",
    "    if b.isalpha():\n",
    "        res+=l[c]\n",
    "        c+=1\n",
    "    else:\n",
    "        res+=b\n",
    "print(res)"
   ]
  },
  {
   "cell_type": "code",
   "execution_count": 1,
   "metadata": {},
   "outputs": [
    {
     "name": "stdout",
     "output_type": "stream",
     "text": [
      "NO justice want we fgh\n"
     ]
    }
   ],
   "source": [
    "a='w3e wa2nt fg4h N0O justic1e'\n",
    "l=a.split()\n",
    "k=[]\n",
    "for x in range(len(l)):\n",
    "    for i in l:\n",
    "        if str(x) in i:\n",
    "            k.append(i.replace(str(x),''))\n",
    "print(' '.join(k))"
   ]
  },
  {
   "cell_type": "code",
   "execution_count": 2,
   "metadata": {},
   "outputs": [
    {
     "name": "stdout",
     "output_type": "stream",
     "text": [
      "[2, 4, 6]\n"
     ]
    }
   ],
   "source": [
    "l=[11,22,33]\n",
    "for x in range(len(l)):\n",
    "    r=0\n",
    "    while l[x]!=0:\n",
    "        r+=(l[x]%10)\n",
    "        l[x]//=10\n",
    "    l[x]=r\n",
    "print(l)"
   ]
  },
  {
   "cell_type": "code",
   "execution_count": 6,
   "metadata": {},
   "outputs": [
    {
     "ename": "TypeError",
     "evalue": "m() takes 1 positional argument but 2 were given",
     "output_type": "error",
     "traceback": [
      "\u001b[1;31m---------------------------------------------------------------------------\u001b[0m",
      "\u001b[1;31mTypeError\u001b[0m                                 Traceback (most recent call last)",
      "Cell \u001b[1;32mIn[6], line 9\u001b[0m\n\u001b[0;32m      7\u001b[0m     \u001b[39mreturn\u001b[39;00m r\n\u001b[0;32m      8\u001b[0m l\u001b[39m=\u001b[39m[\u001b[39m11\u001b[39m,\u001b[39m22\u001b[39m,\u001b[39m33\u001b[39m]\n\u001b[1;32m----> 9\u001b[0m k\u001b[39m=\u001b[39m\u001b[39mlist\u001b[39m(reduce(m,l))\n\u001b[0;32m     10\u001b[0m \u001b[39mprint\u001b[39m(k)\n",
      "\u001b[1;31mTypeError\u001b[0m: m() takes 1 positional argument but 2 were given"
     ]
    }
   ],
   "source": [
    "from functools import reduce\n",
    "def m(n):\n",
    "    r=0\n",
    "    while n!=0:\n",
    "        r+=(n%10)\n",
    "        n//=10\n",
    "    return r\n",
    "l=[11,22,33]\n",
    "k=list(reduce(m,l))\n",
    "print(k)"
   ]
  },
  {
   "cell_type": "code",
   "execution_count": 8,
   "metadata": {},
   "outputs": [
    {
     "data": {
      "text/plain": [
       "10"
      ]
     },
     "execution_count": 8,
     "metadata": {},
     "output_type": "execute_result"
    }
   ],
   "source": [
    "class a():\n",
    "    def m(self,*args):\n",
    "        return reduce(lambda x,y:x+y,args)\n",
    "ob=a()\n",
    "ob.m(1,2,3,4)"
   ]
  },
  {
   "cell_type": "code",
   "execution_count": 11,
   "metadata": {},
   "outputs": [
    {
     "name": "stdout",
     "output_type": "stream",
     "text": [
      "[2, 4, 6]\n"
     ]
    }
   ],
   "source": [
    "def m(n):\n",
    "    if n==0:\n",
    "        return 0\n",
    "    return (n%10)+m(n//10)\n",
    "l=[11,22,33]\n",
    "for x in range(len(l)):\n",
    "    l[x]=m(l[x])\n",
    "print(l)"
   ]
  },
  {
   "cell_type": "code",
   "execution_count": 1,
   "metadata": {},
   "outputs": [
    {
     "name": "stdout",
     "output_type": "stream",
     "text": [
      "fe2d3c5ba6\n"
     ]
    }
   ],
   "source": [
    "a='a2c3d5ef6'\n",
    "l=[]\n",
    "res=''\n",
    "c=0\n",
    "for x in a:\n",
    "    if x.isalpha():\n",
    "        l.append(x)\n",
    "for g in range(len(l)//2):\n",
    "    l[g],l[len(l)-1-g]=l[len(l)-1-g],l[g]\n",
    "\n",
    "for b in a:\n",
    "    if b.isalpha():\n",
    "        res+=l[c]\n",
    "        c+=1\n",
    "    else:\n",
    "        res+=b\n",
    "print(res)"
   ]
  },
  {
   "cell_type": "code",
   "execution_count": 1,
   "metadata": {},
   "outputs": [
    {
     "name": "stdout",
     "output_type": "stream",
     "text": [
      "home way no\n"
     ]
    }
   ],
   "source": [
    "\n",
    "l='no way home'\n",
    "print(' '.join(l.split()[::-1]))"
   ]
  },
  {
   "cell_type": "code",
   "execution_count": 1,
   "metadata": {},
   "outputs": [
    {
     "name": "stdout",
     "output_type": "stream",
     "text": [
      "home way no\n"
     ]
    }
   ],
   "source": [
    "a='no way home'\n",
    "print(' '.join(a.split()[::-1]))"
   ]
  },
  {
   "cell_type": "code",
   "execution_count": null,
   "metadata": {},
   "outputs": [],
   "source": []
  }
 ],
 "metadata": {
  "kernelspec": {
   "display_name": "Python 3",
   "language": "python",
   "name": "python3"
  },
  "language_info": {
   "codemirror_mode": {
    "name": "ipython",
    "version": 3
   },
   "file_extension": ".py",
   "mimetype": "text/x-python",
   "name": "python",
   "nbconvert_exporter": "python",
   "pygments_lexer": "ipython3",
   "version": "3.11.2"
  },
  "orig_nbformat": 4,
  "vscode": {
   "interpreter": {
    "hash": "5238573367df39f7286bb46f9ff5f08f63a01a80960060ce41e3c79b190280fa"
   }
  }
 },
 "nbformat": 4,
 "nbformat_minor": 2
}
