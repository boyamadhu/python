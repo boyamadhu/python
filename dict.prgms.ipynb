{
 "cells": [
  {
   "cell_type": "code",
   "execution_count": 1,
   "metadata": {},
   "outputs": [
    {
     "name": "stdout",
     "output_type": "stream",
     "text": [
      "['a', '100', 'b', '200', 'c', '300']\n",
      "{'a': 100, 'b': 200, 'c': 300}\n"
     ]
    }
   ],
   "source": [
    "l=['a:100','b:200','c:300']\n",
    "d={}\n",
    "m=[]\n",
    "for a in l:\n",
    "    m+=a.split(':')\n",
    "print(m)\n",
    "for b in range(len(m)):\n",
    "    if b%2==0:\n",
    "        d[m[b]]=int(m[b+1])\n",
    "print(d)\n"
   ]
  },
  {
   "cell_type": "code",
   "execution_count": 3,
   "metadata": {},
   "outputs": [
    {
     "name": "stdout",
     "output_type": "stream",
     "text": [
      "{'a': 100, 'b': 200, 'c': 300}\n"
     ]
    }
   ],
   "source": [
    "l=['a:100','b:200','c:300']\n",
    "d={}\n",
    "for word in l:\n",
    "    res=''\n",
    "    g=''\n",
    "    for ch in word:\n",
    "        if ch==':':\n",
    "            word.replace(':','')\n",
    "        elif ch.isalpha():\n",
    "            res+=ch\n",
    "        else:\n",
    "            g+=ch\n",
    "    d[res]=int(g)\n",
    "print(d)\n",
    "\n"
   ]
  },
  {
   "cell_type": "code",
   "execution_count": 1,
   "metadata": {},
   "outputs": [
    {
     "data": {
      "text/plain": [
       "['b', '10']"
      ]
     },
     "execution_count": 1,
     "metadata": {},
     "output_type": "execute_result"
    }
   ],
   "source": [
    "a='b:10'\n",
    "a.split(':')"
   ]
  },
  {
   "cell_type": "code",
   "execution_count": 2,
   "metadata": {},
   "outputs": [
    {
     "name": "stdout",
     "output_type": "stream",
     "text": [
      "(1, 1) (3, 2) (1, 3) (3, 1) (2, 2) "
     ]
    }
   ],
   "source": [
    "s='1222311122'\n",
    "c=1\n",
    "l=[]\n",
    "for x in range(len(s)-1):\n",
    "    if s[x]==s[x+1]:\n",
    "        c+=1\n",
    "    else:\n",
    "        l.append((c,int(s[x])))\n",
    "        c=1\n",
    "l.append((c,int(s[x])))\n",
    "for i in l:\n",
    "    print(i, end=' ')"
   ]
  },
  {
   "cell_type": "code",
   "execution_count": 1,
   "metadata": {},
   "outputs": [
    {
     "name": "stdout",
     "output_type": "stream",
     "text": [
      "20\n"
     ]
    }
   ],
   "source": [
    "l={'a':[10,20],'b':[30,40]}\n",
    "for k,v in l.items():\n",
    "    if k=='a':\n",
    "        print(v[-1])"
   ]
  },
  {
   "cell_type": "code",
   "execution_count": 1,
   "metadata": {},
   "outputs": [
    {
     "name": "stdout",
     "output_type": "stream",
     "text": [
      "1\n"
     ]
    }
   ],
   "source": [
    "l={'a':{'d':1,'e':2},'b':{'m':11,'y':22}}\n",
    "x=input('enter key')\n",
    "y=input('enter sub-dictionary key')\n",
    "for k,v in l.items():\n",
    "    if x==k:\n",
    "        if y in v:\n",
    "            print(v[y])\n",
    "            break\n",
    "        else:\n",
    "            print('no')"
   ]
  },
  {
   "cell_type": "code",
   "execution_count": 31,
   "metadata": {},
   "outputs": [
    {
     "name": "stdout",
     "output_type": "stream",
     "text": [
      "a\n"
     ]
    }
   ],
   "source": [
    "l={'a':{'d':1,'e':2},'b':{'m':11,'y':22}}\n",
    "for k,v in l.items():\n",
    "    if 'b' in l:\n",
    "      print(k)\n",
    "      break"
   ]
  },
  {
   "cell_type": "code",
   "execution_count": 1,
   "metadata": {},
   "outputs": [
    {
     "name": "stdout",
     "output_type": "stream",
     "text": [
      "{'service': ['aws', 'azure'], 'os': ['linux', 'windows']}\n"
     ]
    }
   ],
   "source": [
    "d=[{'service':'aws'},{'service':'azure'},{'os':'linux'},{'os':'windows'}]\n",
    "g=[]\n",
    "p={}\n",
    "for x in d:\n",
    "    for k,v in x.items():\n",
    "        if k not in g:\n",
    "            g.append(k)\n",
    "            p[k]=[v]\n",
    "        else:\n",
    "            p[k]+=[v]\n",
    "print(p)"
   ]
  },
  {
   "cell_type": "code",
   "execution_count": 2,
   "metadata": {},
   "outputs": [
    {
     "name": "stdout",
     "output_type": "stream",
     "text": [
      "{'k': 1, 's': 2, 'r': 2}\n"
     ]
    }
   ],
   "source": [
    "a=['kimar','sonu','somu','ramu','raju']\n",
    "d={}\n",
    "k=[]\n",
    "for x in a:\n",
    "    k.append(x[0])\n",
    "for c in k:\n",
    "    if c not in d:\n",
    "        d[c]=1\n",
    "    else:\n",
    "        d[c]+=1\n",
    "print(d)"
   ]
  },
  {
   "cell_type": "code",
   "execution_count": 1,
   "metadata": {},
   "outputs": [
    {
     "name": "stdout",
     "output_type": "stream",
     "text": [
      "[1, 2, [99, 4], 5]\n",
      "[1, 2, [99, 4], 5]\n",
      "[1, 2, [3, 4], 5]\n"
     ]
    }
   ],
   "source": [
    "import copy\n",
    "\n",
    "# Original list\n",
    "original_list = [1, 2, [3, 4], 5]\n",
    "\n",
    "# Shallow copy\n",
    "shallow_copy = original_list.copy()\n",
    "\n",
    "# Deep copy\n",
    "deep_copy = copy.deepcopy(original_list)\n",
    "\n",
    "# Modify the original list\n",
    "original_list[2][0] = 99\n",
    "\n",
    "# Print all three lists\n",
    "print(original_list)   # Output: [1, 2, [99, 4], 5]\n",
    "print(shallow_copy)    # Output: [1, 2, [99, 4], 5]\n",
    "print(deep_copy)       # Output: [1, 2, [3, 4], 5]\n"
   ]
  },
  {
   "cell_type": "code",
   "execution_count": 1,
   "metadata": {},
   "outputs": [
    {
     "name": "stdout",
     "output_type": "stream",
     "text": [
      "97\n",
      "2\n"
     ]
    }
   ],
   "source": [
    "n=1\n",
    "l={}\n",
    "c=0\n",
    "s=int(input())\n",
    "while n!=s:\n",
    "    if n>1:\n",
    "        for x in range(2,n//2+1):\n",
    "            if n%x==0:\n",
    "                break\n",
    "        else:\n",
    "            c+=1\n",
    "            l[n]=c\n",
    "    n+=1\n",
    "print(max(l))\n",
    "print(min(l))"
   ]
  },
  {
   "cell_type": "code",
   "execution_count": 22,
   "metadata": {},
   "outputs": [
    {
     "data": {
      "text/plain": [
       "array([[4321],\n",
       "       [1234],\n",
       "       [4567]])"
      ]
     },
     "execution_count": 22,
     "metadata": {},
     "output_type": "execute_result"
    }
   ],
   "source": [
    "import numpy as np\n",
    "id_password=np.array([[1,4321],[2,1234],[3,4567]])\n",
    "f=id_password[:,1:]\n",
    "f"
   ]
  },
  {
   "cell_type": "code",
   "execution_count": 23,
   "metadata": {},
   "outputs": [
    {
     "data": {
      "text/html": [
       "<div>\n",
       "<style scoped>\n",
       "    .dataframe tbody tr th:only-of-type {\n",
       "        vertical-align: middle;\n",
       "    }\n",
       "\n",
       "    .dataframe tbody tr th {\n",
       "        vertical-align: top;\n",
       "    }\n",
       "\n",
       "    .dataframe thead th {\n",
       "        text-align: right;\n",
       "    }\n",
       "</style>\n",
       "<table border=\"1\" class=\"dataframe\">\n",
       "  <thead>\n",
       "    <tr style=\"text-align: right;\">\n",
       "      <th></th>\n",
       "      <th>A</th>\n",
       "      <th>password</th>\n",
       "    </tr>\n",
       "  </thead>\n",
       "  <tbody>\n",
       "    <tr>\n",
       "      <th>0</th>\n",
       "      <td>1</td>\n",
       "      <td>4321</td>\n",
       "    </tr>\n",
       "    <tr>\n",
       "      <th>1</th>\n",
       "      <td>2</td>\n",
       "      <td>1234</td>\n",
       "    </tr>\n",
       "    <tr>\n",
       "      <th>2</th>\n",
       "      <td>3</td>\n",
       "      <td>4567</td>\n",
       "    </tr>\n",
       "  </tbody>\n",
       "</table>\n",
       "</div>"
      ],
      "text/plain": [
       "   A  password\n",
       "0  1      4321\n",
       "1  2      1234\n",
       "2  3      4567"
      ]
     },
     "execution_count": 23,
     "metadata": {},
     "output_type": "execute_result"
    }
   ],
   "source": [
    "import pandas as pd\n",
    "df = pd.DataFrame({'A': [1, 2, 3], 'B': [4, 5, 6]})\n",
    "df.drop('B',axis=1,inplace=True)\n",
    "df['password']=f\n",
    "df"
   ]
  },
  {
   "cell_type": "code",
   "execution_count": 17,
   "metadata": {},
   "outputs": [
    {
     "data": {
      "text/html": [
       "<div>\n",
       "<style scoped>\n",
       "    .dataframe tbody tr th:only-of-type {\n",
       "        vertical-align: middle;\n",
       "    }\n",
       "\n",
       "    .dataframe tbody tr th {\n",
       "        vertical-align: top;\n",
       "    }\n",
       "\n",
       "    .dataframe thead th {\n",
       "        text-align: right;\n",
       "    }\n",
       "</style>\n",
       "<table border=\"1\" class=\"dataframe\">\n",
       "  <thead>\n",
       "    <tr style=\"text-align: right;\">\n",
       "      <th></th>\n",
       "      <th>A</th>\n",
       "    </tr>\n",
       "  </thead>\n",
       "  <tbody>\n",
       "    <tr>\n",
       "      <th>0</th>\n",
       "      <td>1</td>\n",
       "    </tr>\n",
       "    <tr>\n",
       "      <th>1</th>\n",
       "      <td>2</td>\n",
       "    </tr>\n",
       "    <tr>\n",
       "      <th>2</th>\n",
       "      <td>3</td>\n",
       "    </tr>\n",
       "  </tbody>\n",
       "</table>\n",
       "</div>"
      ],
      "text/plain": [
       "   A\n",
       "0  1\n",
       "1  2\n",
       "2  3"
      ]
     },
     "execution_count": 17,
     "metadata": {},
     "output_type": "execute_result"
    }
   ],
   "source": [
    "df"
   ]
  },
  {
   "cell_type": "code",
   "execution_count": 3,
   "metadata": {},
   "outputs": [
    {
     "data": {
      "text/plain": [
       "120"
      ]
     },
     "execution_count": 3,
     "metadata": {},
     "output_type": "execute_result"
    }
   ],
   "source": [
    "from functools import reduce\n",
    "def ram(x,y):\n",
    "    return x if x>y else y\n",
    "f=reduce(ram,[1,2,3,4])\n",
    "f"
   ]
  },
  {
   "cell_type": "code",
   "execution_count": 6,
   "metadata": {},
   "outputs": [
    {
     "data": {
      "text/plain": [
       "[2, 4, 6, 8]"
      ]
     },
     "execution_count": 6,
     "metadata": {},
     "output_type": "execute_result"
    }
   ],
   "source": [
    "def ram(n):\n",
    "    return n*2\n",
    "\n",
    "f=map(ram,[1,2,3,4])\n",
    "list(f)"
   ]
  },
  {
   "cell_type": "code",
   "execution_count": 15,
   "metadata": {},
   "outputs": [
    {
     "name": "stdout",
     "output_type": "stream",
     "text": [
      "200\n",
      "300\n",
      "300\n",
      "100\n"
     ]
    }
   ],
   "source": [
    "def m():\n",
    "    x=200\n",
    "    print(x)\n",
    "    def inner():\n",
    "        nonlocal x\n",
    "        x=300\n",
    "        print(x)\n",
    "    inner()\n",
    "    print(x)\n",
    "\n",
    "m()\n",
    "x=100\n",
    "print(x)"
   ]
  },
  {
   "cell_type": "code",
   "execution_count": 35,
   "metadata": {},
   "outputs": [
    {
     "name": "stderr",
     "output_type": "stream",
     "text": [
      "C:\\Users\\boyam\\AppData\\Local\\Temp\\ipykernel_11756\\4281127193.py:6: FutureWarning: The frame.append method is deprecated and will be removed from pandas in a future version. Use pandas.concat instead.\n",
      "  m=data.append(s,ignore_index=True)\n"
     ]
    },
    {
     "data": {
      "text/plain": [
       "id\n",
       "1    madhu\n",
       "2      sab\n",
       "Name: name, dtype: object"
      ]
     },
     "execution_count": 35,
     "metadata": {},
     "output_type": "execute_result"
    }
   ],
   "source": [
    "import pandas as pd\n",
    "\n",
    "data=pd.DataFrame([[1,'madhu',9876],[2,'sab',5678]],columns=['id','name','pin'],in)\n",
    "l=[[3,'hari',1122],[4,'ram',3322]]\n",
    "s={'id': 4, 'name': 'Dave', 'pin': 40}\n",
    "m=data.append(s,ignore_index=True)\n",
    "m\n",
    "data.set_index('id',inplace=True)\n",
    "data['name']"
   ]
  },
  {
   "cell_type": "code",
   "execution_count": 38,
   "metadata": {},
   "outputs": [
    {
     "data": {
      "text/plain": [
       "False"
      ]
     },
     "execution_count": 38,
     "metadata": {},
     "output_type": "execute_result"
    }
   ],
   "source": [
    "f='madhu'\n",
    "isinstance(f,list)"
   ]
  },
  {
   "cell_type": "code",
   "execution_count": 1,
   "metadata": {},
   "outputs": [
    {
     "data": {
      "text/plain": [
       "{'damu': 1.0, 'vishnu': 2.34, 'raj': 4.0, 'ram': 4.0, 'balu': 5.5}"
      ]
     },
     "execution_count": 1,
     "metadata": {},
     "output_type": "execute_result"
    }
   ],
   "source": [
    "d={'ram':4.0,'raj':4.0,'vishnu':2.34,'balu':5.5,'damu':1.0}\n",
    "d1={k:v for k,v in sorted(d.items())}\n",
    "d1=dict(sorted(d1.items(), key=lambda x: x[1]))\n",
    "d1"
   ]
  },
  {
   "cell_type": "code",
   "execution_count": 2,
   "metadata": {},
   "outputs": [
    {
     "data": {
      "text/plain": [
       "{'damu': 1.0, 'vishnu': 2.34, 'raj': 4.0, 'ram': 4.0, 'balu': 5.5}"
      ]
     },
     "execution_count": 2,
     "metadata": {},
     "output_type": "execute_result"
    }
   ],
   "source": [
    "d={'ram':4.0,'raj':4.0,'vishnu':2.34,'balu':5.5,'damu':1.0}\n",
    "d1=dict(sorted(d.items()))\n",
    "l=sorted(list(d1.values()))\n",
    "f={}\n",
    "for x in range(len(l)):\n",
    "    for k,v in d1.items():\n",
    "        if l[x]==v and k not in l:\n",
    "            f[k]=v\n",
    "            l[x]=k\n",
    "            break\n",
    "f\n",
    "\n",
    "    "
   ]
  },
  {
   "cell_type": "code",
   "execution_count": 1,
   "metadata": {},
   "outputs": [
    {
     "name": "stdout",
     "output_type": "stream",
     "text": [
      "{'name': 'Charlie', 'age': 22}\n"
     ]
    }
   ],
   "source": [
    "students = [{'name': 'Alice', 'age': 20},{'name': 'Bob', 'age': 18},{'name': 'Charlie', 'age': 22}]\n",
    "    \n",
    "\n",
    "# Finding the student with the highest age\n",
    "oldest_student = max(students, key=lambda student: student['age'])\n",
    "print(oldest_student)  # {'name': 'Charlie', 'age': 22}\n"
   ]
  },
  {
   "cell_type": "code",
   "execution_count": 1,
   "metadata": {},
   "outputs": [
    {
     "name": "stdout",
     "output_type": "stream",
     "text": [
      "5\n"
     ]
    }
   ],
   "source": [
    "A=lambda x,y : x+y \n",
    "print(A(2,3))"
   ]
  },
  {
   "cell_type": "code",
   "execution_count": 2,
   "metadata": {},
   "outputs": [
    {
     "data": {
      "text/plain": [
       "1"
      ]
     },
     "execution_count": 2,
     "metadata": {},
     "output_type": "execute_result"
    }
   ],
   "source": [
    "def A():\n",
    "    for i in range(1,5):\n",
    "        return i\n",
    "    \n",
    "A()"
   ]
  },
  {
   "cell_type": "code",
   "execution_count": 4,
   "metadata": {},
   "outputs": [
    {
     "data": {
      "text/plain": [
       "<generator object A at 0x00000148EA5BC1E0>"
      ]
     },
     "execution_count": 4,
     "metadata": {},
     "output_type": "execute_result"
    }
   ],
   "source": [
    "def A():\n",
    "    for i in range(1,5):\n",
    "        yield i\n",
    "\n",
    "A()"
   ]
  },
  {
   "cell_type": "code",
   "execution_count": 8,
   "metadata": {},
   "outputs": [
    {
     "name": "stdout",
     "output_type": "stream",
     "text": [
      "[0, 1, 2, 4, 5, 6, 7, 9]\n",
      "7\n",
      "1\n"
     ]
    }
   ],
   "source": [
    "arr = [6, 1, 2, 7, 1, 9, 1, 0, 4, 0, 2, 5]\n",
    "arr=list(set(arr))\n",
    "for i in range(len(arr)):\n",
    "    for j in range(len(arr)-1-i):\n",
    "        if arr[j]>arr[j+1]:\n",
    "            arr[j],arr[j+1]=arr[j+1],arr[j]\n",
    "print(arr)\n",
    "print(arr[-2])\n",
    "print(arr[1])"
   ]
  },
  {
   "cell_type": "code",
   "execution_count": 10,
   "metadata": {},
   "outputs": [
    {
     "name": "stdout",
     "output_type": "stream",
     "text": [
      "2000 2004 2008 2012 2016 2020 2024 2028 2032 2036 2040 2044 2048 "
     ]
    }
   ],
   "source": [
    "# FIND LEAP YEAR BETWEEN 2000 AND 2050\n",
    "n=2000\n",
    "while n<=2050:\n",
    "    if (n%4==0 and n%100!=0) or (n%400==0):\n",
    "        print(n, end=' ')\n",
    "    n+=1\n",
    "\n"
   ]
  },
  {
   "cell_type": "code",
   "execution_count": 1,
   "metadata": {},
   "outputs": [
    {
     "ename": "SyntaxError",
     "evalue": "invalid syntax (1634304774.py, line 1)",
     "output_type": "error",
     "traceback": [
      "\u001b[1;36m  Cell \u001b[1;32mIn[1], line 1\u001b[1;36m\u001b[0m\n\u001b[1;33m    select * from tablename\u001b[0m\n\u001b[1;37m             ^\u001b[0m\n\u001b[1;31mSyntaxError\u001b[0m\u001b[1;31m:\u001b[0m invalid syntax\n"
     ]
    }
   ],
   "source": [
    "select * from tablename\n",
    "\n",
    "select count(*) from tablename\n",
    "\n",
    "select distinct * from tablename"
   ]
  },
  {
   "cell_type": "code",
   "execution_count": 3,
   "metadata": {},
   "outputs": [
    {
     "name": "stdout",
     "output_type": "stream",
     "text": [
      "{1, 2, 3, 4}\n"
     ]
    }
   ],
   "source": [
    "s={1,2,3,4}\n"
   ]
  },
  {
   "cell_type": "code",
   "execution_count": 4,
   "metadata": {},
   "outputs": [
    {
     "name": "stdout",
     "output_type": "stream",
     "text": [
      "dfghj\n"
     ]
    }
   ],
   "source": [
    "class A:\n",
    "    def __init__(self):\n",
    "        print('understand the flow of execution first')\n",
    "    def m(self):\n",
    "        print('dfghj')\n",
    "\n",
    "A.m(self=12)\n",
    "\n"
   ]
  },
  {
   "cell_type": "code",
   "execution_count": 13,
   "metadata": {},
   "outputs": [
    {
     "name": "stdout",
     "output_type": "stream",
     "text": [
      "          1 \n",
      "        1   1 \n",
      "      1   3   1 \n",
      "    1   4   4   1 \n",
      "  1   5   5   5   1 \n"
     ]
    }
   ],
   "source": [
    "n =5\n",
    "sp=n\n",
    "st=1\n",
    "for a in range(n):\n",
    "    num=a+1\n",
    "    for b in range(sp):\n",
    "        print(' ',end=' ')\n",
    "    for c in range(st):\n",
    "        if c==0 or c==st-1:\n",
    "            print(1,end=' ')\n",
    "        else:\n",
    "            if c%2==0:\n",
    "                print(num,end=' ')\n",
    "            else:\n",
    "                print(' ',end=' ')\n",
    "    print()\n",
    "    st+=2\n",
    "    sp-=1"
   ]
  },
  {
   "cell_type": "code",
   "execution_count": 28,
   "metadata": {},
   "outputs": [
    {
     "name": "stdout",
     "output_type": "stream",
     "text": [
      "1.ffx 2.tiru\n",
      "tickets booked succefully\n",
      "1.ffx 2.tiru\n",
      "tickets booked succefully\n",
      "1.ffx 2.tiru\n",
      "tickets booked succefully\n"
     ]
    }
   ],
   "source": [
    "def singleton(arg):\n",
    "    d={}\n",
    "    def inner():\n",
    "        if arg not in d:\n",
    "            d[arg]=arg()\n",
    "        return d[arg]\n",
    "    return inner\n",
    "    \n",
    "@singleton\n",
    "class ffx:\n",
    "    def __init__(self):\n",
    "        self.tickets =100\n",
    "    def booking (self):\n",
    "        n =int(input('enter No of tic'))\n",
    "        if self.tickets>=n:\n",
    "            self.tickets-=n\n",
    "            print('tickets booked succefully')\n",
    "        else:\n",
    "            print('tickets not available')\n",
    "@singleton\n",
    "class tiru:\n",
    "    def __init__(self):\n",
    "        self.tickets =100\n",
    "    def booking (self):\n",
    "        n =int(input('enter No of tic'))\n",
    "        if self.tickets>=n:\n",
    "            self.tickets-=n\n",
    "            print('tickets booked succefully')\n",
    "        else:\n",
    "            print('tickets not available')\n",
    "def Book():\n",
    "    print('1.ffx 2.tiru')\n",
    "    option=int(input('choose option'))\n",
    "    if option==1:\n",
    "        ob=ffx()\n",
    "        ob.booking()\n",
    "    elif option==2:\n",
    "        ob=tiru()\n",
    "        ob.booking()\n",
    "    else:\n",
    "        print('enter valid option')\n",
    "ob1=Book()\n",
    "ob2=Book()\n",
    "ob3=Book()"
   ]
  },
  {
   "cell_type": "code",
   "execution_count": 56,
   "metadata": {},
   "outputs": [
    {
     "name": "stdout",
     "output_type": "stream",
     "text": [
      "10 20\n"
     ]
    }
   ],
   "source": []
  },
  {
   "cell_type": "code",
   "execution_count": 2,
   "metadata": {},
   "outputs": [
    {
     "ename": "TypeError",
     "evalue": "Name.__init__() takes 1 positional argument but 2 were given",
     "output_type": "error",
     "traceback": [
      "\u001b[1;31m---------------------------------------------------------------------------\u001b[0m",
      "\u001b[1;31mTypeError\u001b[0m                                 Traceback (most recent call last)",
      "Cell \u001b[1;32mIn[2], line 5\u001b[0m\n\u001b[0;32m      2\u001b[0m     \u001b[39mdef\u001b[39;00m \u001b[39m__init__\u001b[39m(\u001b[39mself\u001b[39m):\n\u001b[0;32m      3\u001b[0m         javajam\u001b[39m=\u001b[39m\u001b[39m\"\u001b[39m\u001b[39mjava\u001b[39m\u001b[39m\"\u001b[39m\n\u001b[1;32m----> 5\u001b[0m name1\u001b[39m=\u001b[39mName(\u001b[39m\"\u001b[39;49m\u001b[39mabc\u001b[39;49m\u001b[39m\"\u001b[39;49m)\n\u001b[0;32m      6\u001b[0m name2\u001b[39m=\u001b[39mname1\n",
      "\u001b[1;31mTypeError\u001b[0m: Name.__init__() takes 1 positional argument but 2 were given"
     ]
    }
   ],
   "source": [
    "class Name:\n",
    "    def __init__(self):\n",
    "        javajam=java\n",
    "\n",
    "name1=Name(\"abc\")\n",
    "name2=name1"
   ]
  },
  {
   "cell_type": "code",
   "execution_count": 3,
   "metadata": {},
   "outputs": [
    {
     "name": "stdout",
     "output_type": "stream",
     "text": [
      "1\n",
      "2\n",
      "3\n",
      "4\n"
     ]
    }
   ],
   "source": [
    "x=1\n",
    "while True:\n",
    "    if x%5==0:\n",
    "        break\n",
    "    print(x)\n",
    "    x+=1"
   ]
  },
  {
   "cell_type": "code",
   "execution_count": 4,
   "metadata": {},
   "outputs": [
    {
     "ename": "NameError",
     "evalue": "name 'y' is not defined",
     "output_type": "error",
     "traceback": [
      "\u001b[1;31m---------------------------------------------------------------------------\u001b[0m",
      "\u001b[1;31mNameError\u001b[0m                                 Traceback (most recent call last)",
      "Cell \u001b[1;32mIn[4], line 1\u001b[0m\n\u001b[1;32m----> 1\u001b[0m \u001b[39mpow\u001b[39m(x,y,z)\n",
      "\u001b[1;31mNameError\u001b[0m: name 'y' is not defined"
     ]
    }
   ],
   "source": [
    "pow(x,y,z)"
   ]
  },
  {
   "cell_type": "code",
   "execution_count": 5,
   "metadata": {},
   "outputs": [
    {
     "data": {
      "text/plain": [
       "1"
      ]
     },
     "execution_count": 5,
     "metadata": {},
     "output_type": "execute_result"
    }
   ],
   "source": [
    "x=1\n",
    "y=2\n",
    "z=3\n",
    "pow(x,y,z)"
   ]
  },
  {
   "cell_type": "code",
   "execution_count": 6,
   "metadata": {},
   "outputs": [
    {
     "data": {
      "text/plain": [
       "0.3333333333333333"
      ]
     },
     "execution_count": 6,
     "metadata": {},
     "output_type": "execute_result"
    }
   ],
   "source": [
    "(x**y)/z"
   ]
  },
  {
   "cell_type": "code",
   "execution_count": 7,
   "metadata": {},
   "outputs": [
    {
     "data": {
      "text/plain": [
       "1.5"
      ]
     },
     "execution_count": 7,
     "metadata": {},
     "output_type": "execute_result"
    }
   ],
   "source": [
    "(x/y)*z"
   ]
  },
  {
   "cell_type": "code",
   "execution_count": 8,
   "metadata": {},
   "outputs": [
    {
     "data": {
      "text/plain": [
       "1"
      ]
     },
     "execution_count": 8,
     "metadata": {},
     "output_type": "execute_result"
    }
   ],
   "source": [
    "(x**y)%z"
   ]
  },
  {
   "cell_type": "code",
   "execution_count": 9,
   "metadata": {},
   "outputs": [
    {
     "data": {
      "text/plain": [
       "0.16666666666666666"
      ]
     },
     "execution_count": 9,
     "metadata": {},
     "output_type": "execute_result"
    }
   ],
   "source": [
    "(x/y)/z"
   ]
  },
  {
   "cell_type": "code",
   "execution_count": 1,
   "metadata": {},
   "outputs": [
    {
     "name": "stdout",
     "output_type": "stream",
     "text": [
      "2\n"
     ]
    }
   ],
   "source": [
    "d={}\n",
    "def dic(c):\n",
    "    if c in d:\n",
    "        d[c]+=1\n",
    "    else:\n",
    "        d[c]=1\n",
    "dic('china')\n",
    "dic('japan')\n",
    "dic('china')\n",
    "print(len(d))"
   ]
  },
  {
   "cell_type": "code",
   "execution_count": 2,
   "metadata": {},
   "outputs": [
    {
     "name": "stdout",
     "output_type": "stream",
     "text": [
      "20\n"
     ]
    }
   ],
   "source": [
    "__xyz__=20\n",
    "print(__xyz__)"
   ]
  },
  {
   "cell_type": "code",
   "execution_count": null,
   "metadata": {},
   "outputs": [],
   "source": []
  }
 ],
 "metadata": {
  "kernelspec": {
   "display_name": "Python 3",
   "language": "python",
   "name": "python3"
  },
  "language_info": {
   "codemirror_mode": {
    "name": "ipython",
    "version": 3
   },
   "file_extension": ".py",
   "mimetype": "text/x-python",
   "name": "python",
   "nbconvert_exporter": "python",
   "pygments_lexer": "ipython3",
   "version": "3.11.2"
  },
  "orig_nbformat": 4,
  "vscode": {
   "interpreter": {
    "hash": "4fd669e1ec5d89e8aa28b122dc638d349ed5e70b97a687fc355f6df63eb3fad7"
   }
  }
 },
 "nbformat": 4,
 "nbformat_minor": 2
}
