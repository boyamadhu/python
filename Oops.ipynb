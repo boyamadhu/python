{
 "cells": [
  {
   "cell_type": "code",
   "execution_count": 1,
   "metadata": {},
   "outputs": [
    {
     "name": "stdout",
     "output_type": "stream",
     "text": [
      "amount withdrawed successfully\n"
     ]
    },
    {
     "data": {
      "text/plain": [
       "20"
      ]
     },
     "execution_count": 1,
     "metadata": {},
     "output_type": "execute_result"
    }
   ],
   "source": [
    "class bank():\n",
    "    def __init__(self,account,balance):\n",
    "        self.__account=account\n",
    "        self.__balance=balance\n",
    "    def withdraw(self,amount):\n",
    "        if self.__balance>=amount:\n",
    "            self.__balance-=amount\n",
    "            print('amount withdrawed successfully')\n",
    "        else:\n",
    "            print('not an sufficient funds')\n",
    "    def get_balance(self):\n",
    "        return self.__balance\n",
    "    \n",
    "ob=bank(1234,32)\n",
    "ob.withdraw(12)\n",
    "# print(ob.__balance)\n",
    "ob.get_balance()\n",
    "# ENCAPSULATION EXAMPLE"
   ]
  },
  {
   "cell_type": "code",
   "execution_count": 3,
   "metadata": {},
   "outputs": [
    {
     "name": "stdout",
     "output_type": "stream",
     "text": [
      "10\n"
     ]
    }
   ],
   "source": [
    "class a():\n",
    "    x=10\n",
    "class b(a):\n",
    "    pass\n",
    "class c(a):\n",
    "    pass\n",
    "class d(b,c):\n",
    "    pass\n",
    "ob=d()\n",
    "print(ob.x)"
   ]
  },
  {
   "cell_type": "code",
   "execution_count": 4,
   "metadata": {},
   "outputs": [
    {
     "data": {
      "text/plain": [
       "10"
      ]
     },
     "execution_count": 4,
     "metadata": {},
     "output_type": "execute_result"
    }
   ],
   "source": [
    "class a():\n",
    "    def m(self,*arg):\n",
    "        c=0\n",
    "        for i in arg:\n",
    "            c+=i\n",
    "        return c\n",
    "ob=a()\n",
    "ob.m(1,2,3,4)"
   ]
  },
  {
   "cell_type": "code",
   "execution_count": 3,
   "metadata": {},
   "outputs": [
    {
     "name": "stdout",
     "output_type": "stream",
     "text": [
      "your pin or username is incorrect\n"
     ]
    }
   ],
   "source": [
    "class CredentialError(BaseException):\n",
    "    def __init__(self,msg):\n",
    "        self.msg=msg\n",
    "    \n",
    "    def __str__(self) -> str:\n",
    "        return self.msg\n",
    "    \n",
    "class BankError(Exception):\n",
    "    def __init__(self,msg):\n",
    "        self.msg=msg\n",
    "    \n",
    "    def __str__(self) -> str:\n",
    "        return self.msg\n",
    "\n",
    "class bank1:\n",
    "    def __init__(self,name,bal,pin):\n",
    "        self.name=name\n",
    "        self.bal=bal\n",
    "        self.pin=pin\n",
    "    def checkbal(self):\n",
    "        print(f'{self.name} bal is {self.bal}')\n",
    "\n",
    "    def withdraw(self):\n",
    "        n=int(input())\n",
    "        if self.bal>=n:\n",
    "            self.bal-=n\n",
    "            print('withdraw is success')\n",
    "        else:\n",
    "            raise BankError('your account bal is low')\n",
    "    \n",
    "ob=bank1('sab',100,99)\n",
    "name=input('enter your username')\n",
    "pin=int(input('Enter your pin'))\n",
    "try:\n",
    "    if name==ob.name and pin==ob.pin:\n",
    "        try:\n",
    "            print('1 is withdraw')\n",
    "            print('2 is checkbal')\n",
    "            n=int(input('please select option for action'))\n",
    "            if n==1:\n",
    "                ob.withdraw()\n",
    "            else:\n",
    "                ob.checkbal()\n",
    "        except BankError as msg:\n",
    "            print(msg)\n",
    "\n",
    "    else:\n",
    "        raise CredentialError('your pin or username is incorrect')\n",
    "        \n",
    "except CredentialError as msg:\n",
    "    print(msg)\n",
    "\n"
   ]
  },
  {
   "cell_type": "code",
   "execution_count": null,
   "metadata": {},
   "outputs": [],
   "source": []
  }
 ],
 "metadata": {
  "kernelspec": {
   "display_name": "Python 3",
   "language": "python",
   "name": "python3"
  },
  "language_info": {
   "codemirror_mode": {
    "name": "ipython",
    "version": 3
   },
   "file_extension": ".py",
   "mimetype": "text/x-python",
   "name": "python",
   "nbconvert_exporter": "python",
   "pygments_lexer": "ipython3",
   "version": "3.11.2"
  },
  "orig_nbformat": 4
 },
 "nbformat": 4,
 "nbformat_minor": 2
}
