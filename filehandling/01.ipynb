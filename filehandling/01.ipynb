{
 "cells": [
  {
   "cell_type": "code",
   "execution_count": 1,
   "metadata": {},
   "outputs": [],
   "source": [
    "fo=open('xnxx.txt','w')\n",
    "fo.write('python')\n",
    "fo.close()"
   ]
  },
  {
   "cell_type": "code",
   "execution_count": 2,
   "metadata": {},
   "outputs": [
    {
     "name": "stdout",
     "output_type": "stream",
     "text": [
      "python\n"
     ]
    }
   ],
   "source": [
    "fo=open('xnxx.txt','r')\n",
    "x=fo.read()\n",
    "print(x)\n",
    "fo.close()"
   ]
  },
  {
   "cell_type": "code",
   "execution_count": 11,
   "metadata": {},
   "outputs": [
    {
     "name": "stdout",
     "output_type": "stream",
     "text": [
      "b'python'\n"
     ]
    }
   ],
   "source": [
    "fo=open('DHONI2.JPG','rb')\n",
    "X=fo.read()\n",
    "fo=open('VV.JPEG','wb')\n",
    "fo.write(X)\n",
    "print(X)\n",
    "fo.close()"
   ]
  },
  {
   "cell_type": "code",
   "execution_count": 16,
   "metadata": {},
   "outputs": [
    {
     "name": "stdout",
     "output_type": "stream",
     "text": [
      "2\n"
     ]
    }
   ],
   "source": [
    "A=[1,2,34,True,'A']\n",
    "count=0\n",
    "for x in A:\n",
    "    if x==True:\n",
    "        count+=1\n",
    "print(count)"
   ]
  },
  {
   "cell_type": "code",
   "execution_count": 21,
   "metadata": {},
   "outputs": [
    {
     "name": "stdout",
     "output_type": "stream",
     "text": [
      "1\n"
     ]
    }
   ],
   "source": [
    "a={'a':1}\n",
    "print(len(a))"
   ]
  },
  {
   "cell_type": "code",
   "execution_count": 23,
   "metadata": {},
   "outputs": [
    {
     "ename": "SyntaxError",
     "evalue": "invalid syntax (3010454689.py, line 4)",
     "output_type": "error",
     "traceback": [
      "\u001b[1;36m  Cell \u001b[1;32mIn[23], line 4\u001b[1;36m\u001b[0m\n\u001b[1;33m    if x==x[::-1] and not in d:\u001b[0m\n\u001b[1;37m                          ^\u001b[0m\n\u001b[1;31mSyntaxError\u001b[0m\u001b[1;31m:\u001b[0m invalid syntax\n"
     ]
    }
   ],
   "source": [
    "a=['madam','dad','malayalam','lal']\n",
    "d={}\n",
    "for x in a:\n",
    "    if x==x[::-1] and not in d:\n",
    "        d=d+d[x]\n",
    "print(d)   "
   ]
  },
  {
   "cell_type": "code",
   "execution_count": 1,
   "metadata": {},
   "outputs": [
    {
     "name": "stdout",
     "output_type": "stream",
     "text": [
      "anarg words\n"
     ]
    }
   ],
   "source": [
    "def anarg(n):\n",
    "    l=list(n)\n",
    "    for x in range(len(l)):\n",
    "        for c in range(len(l)-1-x):\n",
    "            if l[c]>l[c+1]:\n",
    "                l[c],l[c+1]=l[c+1],l[c]\n",
    "a='heart'\n",
    "b='earth'\n",
    "if anarg(a)==anarg(b):\n",
    "    print('anarg words')\n",
    "else:\n",
    "    print('not an anarg words')"
   ]
  },
  {
   "cell_type": "code",
   "execution_count": 2,
   "metadata": {},
   "outputs": [
    {
     "name": "stdout",
     "output_type": "stream",
     "text": [
      "[1, 2]\n"
     ]
    }
   ],
   "source": [
    "a=[1,2,3,1,2]\n",
    "res=[]\n",
    "for x in range(len(a)):\n",
    "    if a.count(a[x])>1:\n",
    "        if a[x] not in res:\n",
    "            res+=[a[x]]\n",
    "print(res)"
   ]
  },
  {
   "cell_type": "code",
   "execution_count": null,
   "metadata": {},
   "outputs": [],
   "source": []
  }
 ],
 "metadata": {
  "kernelspec": {
   "display_name": "Python 3",
   "language": "python",
   "name": "python3"
  },
  "language_info": {
   "codemirror_mode": {
    "name": "ipython",
    "version": 3
   },
   "file_extension": ".py",
   "mimetype": "text/x-python",
   "name": "python",
   "nbconvert_exporter": "python",
   "pygments_lexer": "ipython3",
   "version": "3.11.1"
  },
  "orig_nbformat": 4,
  "vscode": {
   "interpreter": {
    "hash": "4fd669e1ec5d89e8aa28b122dc638d349ed5e70b97a687fc355f6df63eb3fad7"
   }
  }
 },
 "nbformat": 4,
 "nbformat_minor": 2
}
