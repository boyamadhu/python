{
 "cells": [
  {
   "cell_type": "code",
   "execution_count": 5,
   "metadata": {},
   "outputs": [
    {
     "name": "stdout",
     "output_type": "stream",
     "text": [
      "sdfg\n",
      "qwertyuio\n",
      "asdfghjk\n",
      "xcvbnm\n",
      "\n"
     ]
    }
   ],
   "source": [
    "with open('madhu.txt','w+') as fo:\n",
    "    fo.writelines(['sdfg\\n','qwertyuio\\n','asdfghjk\\n','xcvbnm\\n'])\n",
    "    fo.seek(0)\n",
    "    d=fo.read()\n",
    "    print(d)"
   ]
  },
  {
   "cell_type": "code",
   "execution_count": 7,
   "metadata": {},
   "outputs": [
    {
     "name": "stdout",
     "output_type": "stream",
     "text": [
      "sdfg\n",
      "qwertyuio\n",
      "asdfghjk\n",
      "xcvbnm\n",
      "madhu is a good fellow\n",
      "naveen is a romantic fellow\n",
      "vishnu is a something\n",
      "raj is the only brilliant person in my gang\n",
      "madhu is a good fellow\n",
      "naveen is a romantic fellow\n",
      "vishnu is a something\n",
      "raj is the only brilliant person in my gang\n",
      "\n"
     ]
    }
   ],
   "source": [
    "with open('madhu.txt','a+') as fo:\n",
    "    fo.seek(0)\n",
    "    fo.writelines(['madhu is a good fellow\\n','naveen is a romantic fellow\\n','vishnu is a something\\n','raj is the only brilliant person in my gang\\n'])\n",
    "    fo.seek(0)\n",
    "    d=fo.read()\n",
    "    print(d)"
   ]
  },
  {
   "cell_type": "code",
   "execution_count": 8,
   "metadata": {},
   "outputs": [
    {
     "name": "stdout",
     "output_type": "stream",
     "text": [
      "madhu is a good fellow\n",
      "naveen is a romantic fellow\n",
      "vishnu is a something\n",
      "raj is the only brilliant person in my gang\n",
      " only brilliant person in my gang\n",
      "madhu is a good fellow\n",
      "naveen is a romantic fellow\n",
      "vishnu is a something\n",
      "raj is the only brilliant person in my gang\n",
      "\n"
     ]
    }
   ],
   "source": [
    "with open('madhu.txt','r+') as fo:\n",
    "    fo.writelines(['madhu is a good fellow\\n','naveen is a romantic fellow\\n','vishnu is a something\\n','raj is the only brilliant person in my gang\\n'])\n",
    "    fo.seek(0)\n",
    "    d=fo.read()\n",
    "    print(d)"
   ]
  },
  {
   "cell_type": "code",
   "execution_count": 16,
   "metadata": {},
   "outputs": [
    {
     "name": "stdout",
     "output_type": "stream",
     "text": [
      "9\n",
      "['madhu is a good fellow\\n', 'naveen is a romantic fellow\\n', 'vishnu is a something\\n', 'raj is the only brilliant person in my gang\\n', ' only brilliant person in my gang\\n', 'madhu is a good fellow\\n', 'naveen is a romantic fellow\\n', 'vishnu is a something\\n', 'raj is the only brilliant person in my gang\\n']\n"
     ]
    }
   ],
   "source": [
    "with open('madhu.txt','r') as fo:\n",
    "    # fo.writelines(['madhu is a good fellow\\n','naveen is a romantic fellow\\n','vishnu is a something\\n','raj is the only brilliant person in my gang\\n'])\n",
    "    d=fo.readlines()\n",
    "    print(len(d))\n",
    "    print(d)\n",
    "# /WAP print how many lines are present in your file"
   ]
  },
  {
   "cell_type": "code",
   "execution_count": 21,
   "metadata": {},
   "outputs": [
    {
     "name": "stdout",
     "output_type": "stream",
     "text": [
      "52\n"
     ]
    }
   ],
   "source": [
    "with open('madhu.txt','r') as fo:\n",
    "    d=fo.read()\n",
    "    l=d.split()\n",
    "    print(len(l))\n",
    "# WAP to print how many words in the file"
   ]
  },
  {
   "cell_type": "code",
   "execution_count": 22,
   "metadata": {},
   "outputs": [
    {
     "name": "stdout",
     "output_type": "stream",
     "text": [
      "268\n"
     ]
    }
   ],
   "source": [
    "with open('madhu.txt','r') as fo:\n",
    "    d=fo.read()\n",
    "    print(len(d))\n",
    "# WAP to print how many characters in file"
   ]
  },
  {
   "cell_type": "code",
   "execution_count": 29,
   "metadata": {},
   "outputs": [
    {
     "name": "stdout",
     "output_type": "stream",
     "text": [
      "madhu\n",
      "my\n",
      "my\n",
      "madhu\n",
      "my\n"
     ]
    }
   ],
   "source": [
    "with open('madhu.txt','r') as fo:\n",
    "    d=fo.read()\n",
    "    l=d.split()\n",
    "    for i in l:\n",
    "        if i.startswith('m'):\n",
    "            print(i)\n",
    "# WAP to print  words which are starting with specific character"
   ]
  },
  {
   "cell_type": "code",
   "execution_count": 35,
   "metadata": {},
   "outputs": [
    {
     "name": "stdout",
     "output_type": "stream",
     "text": [
      "raj\n",
      "the\n",
      "raj\n",
      "the\n"
     ]
    }
   ],
   "source": [
    "with open('madhu.txt','r') as fo:\n",
    "    d=fo.read()\n",
    "    l=d.split()\n",
    "    s=int(input('enter length which you want : '))# 3\n",
    "    for i in l:\n",
    "        if len(i)==s:\n",
    "            print(i)\n",
    "# WAP to print how many words in the file"
   ]
  },
  {
   "cell_type": "code",
   "execution_count": 5,
   "metadata": {},
   "outputs": [
    {
     "name": "stdout",
     "output_type": "stream",
     "text": [
      "5\n",
      "-5\n",
      "10\n",
      "-5\n",
      "10\n"
     ]
    }
   ],
   "source": [
    "a=10\n",
    "b=-5\n",
    "a=a+b\n",
    "print(a)\n",
    "print(b)\n",
    "b=a-b\n",
    "print(b)\n",
    "a=a-b\n",
    "print(a)\n",
    "print(b)"
   ]
  },
  {
   "cell_type": "code",
   "execution_count": 17,
   "metadata": {},
   "outputs": [
    {
     "name": "stdout",
     "output_type": "stream",
     "text": [
      "write() argument must be str, not list\n",
      "True\n"
     ]
    }
   ],
   "source": [
    "try:  \n",
    "    fo=open('ram.txt','w+')\n",
    "    st=input()\n",
    "    fo.write([st+'\\n'])\n",
    "    fo.seek(0)\n",
    "    print(fo.read())\n",
    "except BaseException as msg:\n",
    "    print(msg)\n",
    "finally:\n",
    "    fo.close()\n",
    "    print(fo.closed)"
   ]
  },
  {
   "cell_type": "code",
   "execution_count": 31,
   "metadata": {},
   "outputs": [
    {
     "name": "stdout",
     "output_type": "stream",
     "text": [
      "madhu is a good fellow\n",
      "\n"
     ]
    }
   ],
   "source": [
    "with open('madhu.txt','r') as fo:\n",
    "    n=fo.readline(1112)\n",
    "    print(n)\n",
    "    "
   ]
  },
  {
   "cell_type": "code",
   "execution_count": 19,
   "metadata": {},
   "outputs": [
    {
     "name": "stdout",
     "output_type": "stream",
     "text": [
      "[7, 2, 3, 4, 5, 6, 1]\n",
      "[7, 6, 3, 4, 5, 2, 1]\n",
      "[7, 6, 5, 4, 3, 2, 1]\n"
     ]
    }
   ],
   "source": [
    "l=[1,2,3,4,5,6,7]\n",
    "a=0\n",
    "b=0\n",
    "for x in l:\n",
    "    b+=1\n",
    "b-=1\n",
    "while b>a:\n",
    "    l[a],l[b]=l[b],l[a]\n",
    "    a+=1\n",
    "    b-=1\n",
    "    print(l)\n"
   ]
  },
  {
   "cell_type": "code",
   "execution_count": 7,
   "metadata": {},
   "outputs": [
    {
     "name": "stdout",
     "output_type": "stream",
     "text": [
      "True\n"
     ]
    }
   ],
   "source": [
    "fo=open('madhu.txt','w')\n",
    "# fo.write('write method will accept only string data type')\n",
    "fo.writelines(['no way home\\n','so stay in home\\n'])\n",
    "fo.close()\n",
    "print(fo.closed)"
   ]
  },
  {
   "cell_type": "code",
   "execution_count": 10,
   "metadata": {},
   "outputs": [
    {
     "name": "stdout",
     "output_type": "stream",
     "text": [
      "None\n"
     ]
    }
   ],
   "source": [
    "import pickle\n",
    "fo=open('madhu.pkl','wb')\n",
    "d={'name':'madhu','age':10,'married':True,'relation':None}\n",
    "k=pickle.dump(d,fo)\n",
    "print(k)\n",
    "fo.close()"
   ]
  },
  {
   "cell_type": "code",
   "execution_count": 9,
   "metadata": {},
   "outputs": [
    {
     "name": "stdout",
     "output_type": "stream",
     "text": [
      "3\n"
     ]
    }
   ],
   "source": [
    "with open('sabi.txt','r') as fo:\n",
    "    d=fo.readlines()\n",
    "    print(len(d))\n",
    "    \n",
    "    # print(d)\n"
   ]
  },
  {
   "cell_type": "code",
   "execution_count": 25,
   "metadata": {},
   "outputs": [
    {
     "data": {
      "text/plain": [
       "<re.Match object; span=(0, 15), match='madhu is a good'>"
      ]
     },
     "execution_count": 25,
     "metadata": {},
     "output_type": "execute_result"
    }
   ],
   "source": [
    "import re\n",
    "s='madhu is a good boy'\n",
    "re.match('madhu\\s\\w+\\s\\w+\\s\\w+',s)"
   ]
  },
  {
   "cell_type": "code",
   "execution_count": 32,
   "metadata": {},
   "outputs": [
    {
     "ename": "AssertionError",
     "evalue": "",
     "output_type": "error",
     "traceback": [
      "\u001b[1;31m---------------------------------------------------------------------------\u001b[0m",
      "\u001b[1;31mAssertionError\u001b[0m                            Traceback (most recent call last)",
      "Cell \u001b[1;32mIn[32], line 2\u001b[0m\n\u001b[0;32m      1\u001b[0m n\u001b[39m=\u001b[39m[]\n\u001b[1;32m----> 2\u001b[0m \u001b[39massert\u001b[39;00m \u001b[39mlen\u001b[39m(n)\u001b[39m!=\u001b[39m\u001b[39m0\u001b[39m\n",
      "\u001b[1;31mAssertionError\u001b[0m: "
     ]
    }
   ],
   "source": [
    "n=[]\n",
    "assert len(n)!=0, 'not a valid'"
   ]
  },
  {
   "cell_type": "code",
   "execution_count": 37,
   "metadata": {},
   "outputs": [
    {
     "data": {
      "text/plain": [
       "{'Q': 'q', 'R': 'rr', 'S': 'sss', 'T': 'tttt'}"
      ]
     },
     "execution_count": 37,
     "metadata": {},
     "output_type": "execute_result"
    }
   ],
   "source": [
    "s='qrst'\n",
    "d={s[x].upper():s[x].lower()*(x+1) for x in range(len(s))}\n",
    "d"
   ]
  },
  {
   "cell_type": "code",
   "execution_count": null,
   "metadata": {},
   "outputs": [],
   "source": []
  }
 ],
 "metadata": {
  "kernelspec": {
   "display_name": "Python 3",
   "language": "python",
   "name": "python3"
  },
  "language_info": {
   "codemirror_mode": {
    "name": "ipython",
    "version": 3
   },
   "file_extension": ".py",
   "mimetype": "text/x-python",
   "name": "python",
   "nbconvert_exporter": "python",
   "pygments_lexer": "ipython3",
   "version": "3.11.2"
  },
  "orig_nbformat": 4
 },
 "nbformat": 4,
 "nbformat_minor": 2
}
