{
 "cells": [
  {
   "cell_type": "code",
   "execution_count": 3,
   "metadata": {},
   "outputs": [
    {
     "name": "stdout",
     "output_type": "stream",
     "text": [
      "7\n"
     ]
    }
   ],
   "source": [
    "fo=open('madhu.txt','r')\n",
    "x=fo.readlines()\n",
    "print(len(x))"
   ]
  },
  {
   "cell_type": "code",
   "execution_count": 8,
   "metadata": {},
   "outputs": [
    {
     "name": "stdout",
     "output_type": "stream",
     "text": [
      "4\n",
      "4\n",
      "4\n"
     ]
    }
   ],
   "source": [
    "a=[1,2,3]\n",
    "b=[1,2,3]\n",
    "for i in range(len(a)):\n",
    "    print(a[i]+b[len(b)-1-i])"
   ]
  },
  {
   "cell_type": "code",
   "execution_count": 13,
   "metadata": {},
   "outputs": [
    {
     "name": "stdout",
     "output_type": "stream",
     "text": [
      "not strong\n"
     ]
    }
   ],
   "source": [
    "n=int(input())\n",
    "num=n\n",
    "sq=n**n\n",
    "t=10\n",
    "f=0\n",
    "while t<n:\n",
    "    r=sq%t\n",
    "    t=t*10\n",
    "    if r==num:\n",
    "        f+=1\n",
    "        break\n",
    "if f==1:\n",
    "    print('strong')\n",
    "else:\n",
    "    print('not strong')"
   ]
  },
  {
   "cell_type": "code",
   "execution_count": 18,
   "metadata": {},
   "outputs": [
    {
     "data": {
      "text/plain": [
       "(2, 4, 5, 3, 4, 2)"
      ]
     },
     "execution_count": 18,
     "metadata": {},
     "output_type": "execute_result"
    }
   ],
   "source": [
    "def m():\n",
    "    return 2,4,5,3,4,2\n",
    "m()"
   ]
  },
  {
   "cell_type": "code",
   "execution_count": 26,
   "metadata": {},
   "outputs": [
    {
     "name": "stdout",
     "output_type": "stream",
     "text": [
      "happy number\n"
     ]
    }
   ],
   "source": [
    "n=int(input())\n",
    "res=0\n",
    "while n>1:\n",
    "    r=n%10\n",
    "    n//=10\n",
    "    res=res+(r*r)\n",
    "    if n==0:\n",
    "        n=res\n",
    "        res=0\n",
    "if n==1:\n",
    "    print('happy number')\n",
    "else:\n",
    "    print('not happy')\n"
   ]
  },
  {
   "cell_type": "code",
   "execution_count": 23,
   "metadata": {},
   "outputs": [
    {
     "data": {
      "text/plain": [
       "64"
      ]
     },
     "execution_count": 23,
     "metadata": {},
     "output_type": "execute_result"
    }
   ],
   "source": [
    "8*8"
   ]
  },
  {
   "cell_type": "code",
   "execution_count": 9,
   "metadata": {},
   "outputs": [
    {
     "data": {
      "text/plain": [
       "0"
      ]
     },
     "execution_count": 9,
     "metadata": {},
     "output_type": "execute_result"
    }
   ],
   "source": [
    "1//10"
   ]
  },
  {
   "cell_type": "code",
   "execution_count": 57,
   "metadata": {},
   "outputs": [
    {
     "name": "stdout",
     "output_type": "stream",
     "text": [
      "['something\\n', 'nothing\\n']\n"
     ]
    }
   ],
   "source": [
    "fo=open('madhu.txt','r')\n",
    "x=fo.readlines(10)\n",
    "print(x)\n",
    "fo.close()"
   ]
  },
  {
   "cell_type": "code",
   "execution_count": 64,
   "metadata": {},
   "outputs": [
    {
     "name": "stdout",
     "output_type": "stream",
     "text": [
      "{'o': 2, 'e': 1}\n"
     ]
    }
   ],
   "source": []
  },
  {
   "cell_type": "code",
   "execution_count": 7,
   "metadata": {},
   "outputs": [
    {
     "ename": "IndexError",
     "evalue": "string index out of range",
     "output_type": "error",
     "traceback": [
      "\u001b[1;31m---------------------------------------------------------------------------\u001b[0m",
      "\u001b[1;31mIndexError\u001b[0m                                Traceback (most recent call last)",
      "Cell \u001b[1;32mIn[7], line 5\u001b[0m\n\u001b[0;32m      3\u001b[0m \u001b[39mfor\u001b[39;00m x \u001b[39min\u001b[39;00m \u001b[39mrange\u001b[39m(\u001b[39mlen\u001b[39m(a)\u001b[39m-\u001b[39m\u001b[39m1\u001b[39m):\n\u001b[0;32m      4\u001b[0m     \u001b[39mfor\u001b[39;00m c \u001b[39min\u001b[39;00m \u001b[39mrange\u001b[39m(x,\u001b[39mlen\u001b[39m(a)):\n\u001b[1;32m----> 5\u001b[0m         \u001b[39mif\u001b[39;00m a[c]\u001b[39m==\u001b[39ma[c\u001b[39m+\u001b[39;49m\u001b[39m1\u001b[39;49m] \u001b[39mand\u001b[39;00m a[c]\u001b[39m!=\u001b[39ma[c:c\u001b[39m+\u001b[39m\u001b[39m2\u001b[39m]:\n\u001b[0;32m      6\u001b[0m             \u001b[39mif\u001b[39;00m a[x] \u001b[39mnot\u001b[39;00m \u001b[39min\u001b[39;00m d:\n\u001b[0;32m      7\u001b[0m                 d[a[c]]\u001b[39m=\u001b[39m\u001b[39m1\u001b[39m\n",
      "\u001b[1;31mIndexError\u001b[0m: string index out of range"
     ]
    }
   ],
   "source": []
  },
  {
   "cell_type": "code",
   "execution_count": 12,
   "metadata": {},
   "outputs": [
    {
     "name": "stdout",
     "output_type": "stream",
     "text": [
      "[6, 12, 18, 24, 30, 36, 42, 48]\n"
     ]
    }
   ],
   "source": [
    "a=1234\n",
    "x=[d for d in range(1,50) if d%2==0 if d%3==0]\n",
    "print(x)"
   ]
  },
  {
   "cell_type": "code",
   "execution_count": 20,
   "metadata": {},
   "outputs": [
    {
     "name": "stdout",
     "output_type": "stream",
     "text": [
      "{'a': 'a', 'B': 'BB', 'C': 'CCC', 'D': 'DDDD'}\n"
     ]
    }
   ],
   "source": [
    "a='aBCD'\n",
    "x={a[k]:a[k]*(k+1) for k in range(len(a))}\n",
    "print(x)"
   ]
  },
  {
   "cell_type": "code",
   "execution_count": null,
   "metadata": {},
   "outputs": [],
   "source": []
  }
 ],
 "metadata": {
  "kernelspec": {
   "display_name": "Python 3",
   "language": "python",
   "name": "python3"
  },
  "language_info": {
   "codemirror_mode": {
    "name": "ipython",
    "version": 3
   },
   "file_extension": ".py",
   "mimetype": "text/x-python",
   "name": "python",
   "nbconvert_exporter": "python",
   "pygments_lexer": "ipython3",
   "version": "3.11.2"
  },
  "orig_nbformat": 4,
  "vscode": {
   "interpreter": {
    "hash": "4fd669e1ec5d89e8aa28b122dc638d349ed5e70b97a687fc355f6df63eb3fad7"
   }
  }
 },
 "nbformat": 4,
 "nbformat_minor": 2
}
