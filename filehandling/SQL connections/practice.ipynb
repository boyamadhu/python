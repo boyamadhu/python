{
 "cells": [
  {
   "cell_type": "code",
   "execution_count": 21,
   "metadata": {},
   "outputs": [
    {
     "name": "stdout",
     "output_type": "stream",
     "text": [
      "(1, 'ram')\n"
     ]
    }
   ],
   "source": [
    "\n",
    "import sqlite3\n",
    "CO=sqlite3.connect('sabi.db')\n",
    "\n",
    "def create_table(CO):\n",
    "    CUR=CO.cursor()\n",
    "    CUR.execute('create table emp(empno integer primary key,ename text)')\n",
    "    CO.commit()\n",
    "# create_table(CO)\n",
    "\n",
    "def create_table(CO):\n",
    "    CUR=CO.cursor()\n",
    "    CUR.execute('create table emp2 (empno integer references emp(empno),name text')\n",
    "    CO.commit()\n",
    "    print('create_table done')\n",
    "# create_table(CO)\n",
    "\n",
    "def insert_data(CO):\n",
    "    CUR=CO.cursor()\n",
    "    CUR.execute('insert into emp1 values(2,\"sabi\")')\n",
    "    CO.commit()\n",
    "# insert_data(CO)\n",
    "\n",
    "def retrieve(CO):\n",
    "    CUR=CO.cursor()\n",
    "    x=CUR.execute('select * from emp')\n",
    "    for i in x:\n",
    "        print(i)\n",
    "    CO.commit()\n",
    "# retrieve(CO)\n",
    "\n",
    "def update(CO):\n",
    "    CUR=CO.cursor()\n",
    "    CUR.execute('update emp set ename=\"ram\" where ename=\"madhu\"')\n",
    "    CO.commit()\n",
    "update(CO)\n",
    "\n"
   ]
  },
  {
   "cell_type": "code",
   "execution_count": 24,
   "metadata": {},
   "outputs": [
    {
     "name": "stdout",
     "output_type": "stream",
     "text": [
      "Toyota\n"
     ]
    }
   ],
   "source": [
    "class Car:\n",
    "    def __init__(self, make, model, year):\n",
    "        self.make = make\n",
    "        self.model = model\n",
    "        self.year = year\n",
    "my_car = Car(\"Toyota\", \"Corolla\", 2020)\n",
    "\n",
    "print(my_car.make)"
   ]
  },
  {
   "cell_type": "code",
   "execution_count": null,
   "metadata": {},
   "outputs": [],
   "source": []
  }
 ],
 "metadata": {
  "kernelspec": {
   "display_name": "Python 3",
   "language": "python",
   "name": "python3"
  },
  "language_info": {
   "codemirror_mode": {
    "name": "ipython",
    "version": 3
   },
   "file_extension": ".py",
   "mimetype": "text/x-python",
   "name": "python",
   "nbconvert_exporter": "python",
   "pygments_lexer": "ipython3",
   "version": "3.11.2"
  },
  "orig_nbformat": 4
 },
 "nbformat": 4,
 "nbformat_minor": 2
}
