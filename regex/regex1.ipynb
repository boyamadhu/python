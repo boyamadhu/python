{
 "cells": [
  {
   "cell_type": "code",
   "execution_count": 10,
   "metadata": {},
   "outputs": [
    {
     "name": "stdout",
     "output_type": "stream",
     "text": [
      "['916281647027', '919493849791']\n"
     ]
    }
   ],
   "source": [
    "a='916281647027 914377221133 919493849791'\n",
    "import re\n",
    "d=re.findall('91[6-9]\\d{9}',a)\n",
    "print(d)"
   ]
  },
  {
   "cell_type": "code",
   "execution_count": 1,
   "metadata": {},
   "outputs": [
    {
     "name": "stdout",
     "output_type": "stream",
     "text": [
      "['6281647456', '9493849791']\n"
     ]
    }
   ],
   "source": [
    "a='6281647027 4377221133 9493849791 '\n",
    "import re\n",
    "d=re.findall('[6-9]\\d{9}',a)\n",
    "print(d)"
   ]
  },
  {
   "cell_type": "code",
   "execution_count": 4,
   "metadata": {},
   "outputs": [
    {
     "name": "stdout",
     "output_type": "stream",
     "text": [
      "['madhu9874@gmail.com']\n"
     ]
    }
   ],
   "source": [
    "a='mom.j@leadfuge.com justin_mcgil..@leadfuge.com madhu9874@gmail.com'\n",
    "# d=re.findall('[a-zA-Z0-9][.]\\w+@leadfuge[.]com',a)\n",
    "# e=re.findall('[a-zA-Z0-9]\\w+[..]+@leadfuge[.]com',a)\n",
    "# f=re.findall('[a-zA-Z0-9]\\w+@gmail.com',a)\n",
    "g=re.findall('[a-zA-Z0-9]\\w+@gmail.com',a)\n",
    "# print(d)\n",
    "# print(e)\n",
    "# print(f)\n",
    "print(g)"
   ]
  },
  {
   "cell_type": "code",
   "execution_count": 6,
   "metadata": {},
   "outputs": [
    {
     "name": "stdout",
     "output_type": "stream",
     "text": [
      "Fri Apr  7 12:14:06 2023\n"
     ]
    }
   ],
   "source": [
    "import time\n",
    "\n",
    "start_time = time.time()  # Get the current time\n",
    "\n",
    "\n",
    "# Insert code to measure execution time here\n",
    "\n",
    "end_time = time.time()  # Get the time again\n",
    "\n",
    "elapsed_time = end_time - start_time  # Calculate the difference\n",
    "\n",
    "print(f\"Execution time: {elapsed_time:.2f} seconds\")  # Print the elapsed time\n"
   ]
  },
  {
   "cell_type": "code",
   "execution_count": 2,
   "metadata": {},
   "outputs": [
    {
     "data": {
      "text/plain": [
       "['ma', 'dh', 'a ', 'd ']"
      ]
     },
     "execution_count": 2,
     "metadata": {},
     "output_type": "execute_result"
    }
   ],
   "source": [
    "import re\n",
    "a='madhu is a good boy'\n",
    "re.findall('[madh].',a)"
   ]
  },
  {
   "cell_type": "code",
   "execution_count": 3,
   "metadata": {},
   "outputs": [
    {
     "data": {
      "text/plain": [
       "['916281647027', '919493849791']"
      ]
     },
     "execution_count": 3,
     "metadata": {},
     "output_type": "execute_result"
    }
   ],
   "source": [
    "a='916281647027 914377221133 919493849791'\n",
    "re.findall('91[6-9]\\d{9}',a)"
   ]
  },
  {
   "cell_type": "code",
   "execution_count": 4,
   "metadata": {},
   "outputs": [
    {
     "data": {
      "text/plain": [
       "['justin_mcgil..@leadfuge.com']"
      ]
     },
     "execution_count": 4,
     "metadata": {},
     "output_type": "execute_result"
    }
   ],
   "source": [
    "a='justin_mcgil..@leadfuge.com'\n",
    "re.findall('\\w+[.]+@leadfuge.com',a)"
   ]
  },
  {
   "cell_type": "code",
   "execution_count": 11,
   "metadata": {},
   "outputs": [
    {
     "name": "stdout",
     "output_type": "stream",
     "text": [
      "True\n",
      "True\n",
      "True\n"
     ]
    }
   ],
   "source": [
    "if __name__ == '__main__':\n",
    "    s = input()\n",
    "    if s.isalnum():\n",
    "        print(True)\n",
    "    if s.isdigit():\n",
    "        print(True)\n",
    "    if s.isalpha():\n",
    "        print(True)\n",
    "    if s.lower():\n",
    "        print(True)\n",
    "    if s.upper():\n",
    "        print(True)\n",
    "    else:\n",
    "        print(False)"
   ]
  },
  {
   "cell_type": "code",
   "execution_count": 14,
   "metadata": {},
   "outputs": [
    {
     "name": "stdout",
     "output_type": "stream",
     "text": [
      "False\n"
     ]
    }
   ],
   "source": [
    "a='4qA4'\n",
    "print(a.isdigit())"
   ]
  },
  {
   "cell_type": "code",
   "execution_count": 8,
   "metadata": {},
   "outputs": [
    {
     "data": {
      "text/plain": [
       "[]"
      ]
     },
     "execution_count": 8,
     "metadata": {},
     "output_type": "execute_result"
    }
   ],
   "source": [
    "import re\n",
    "s='naven_reddy4321@gmail.com'\n",
    "re.findall('[N]\\w+@gmail.com',s)"
   ]
  },
  {
   "cell_type": "code",
   "execution_count": 12,
   "metadata": {},
   "outputs": [
    {
     "data": {
      "text/plain": [
       "[2, 3, 5, 7]"
      ]
     },
     "execution_count": 12,
     "metadata": {},
     "output_type": "execute_result"
    }
   ],
   "source": [
    "def m(n):\n",
    "    if n>1:\n",
    "        for x in range(2,n//2+1):\n",
    "            if n%x==0:\n",
    "                return False\n",
    "        return True\n",
    "    return False\n",
    "l=[]\n",
    "for v in range(1,10):\n",
    "    if m(v):\n",
    "        l.append(v)\n",
    "l"
   ]
  },
  {
   "cell_type": "code",
   "execution_count": 29,
   "metadata": {},
   "outputs": [
    {
     "data": {
      "text/plain": [
       "['a']"
      ]
     },
     "execution_count": 29,
     "metadata": {},
     "output_type": "execute_result"
    }
   ],
   "source": [
    "a='madhu'\n",
    "d=[x for x in a if ord(x)<100]\n",
    "\n",
    "d"
   ]
  },
  {
   "cell_type": "code",
   "execution_count": 17,
   "metadata": {},
   "outputs": [
    {
     "data": {
      "text/plain": [
       "[[1, 1, 1], [2, 2, 2], [3, 3, 3], [4, 4, 4]]"
      ]
     },
     "execution_count": 17,
     "metadata": {},
     "output_type": "execute_result"
    }
   ],
   "source": [
    "d=[[x]*3 for x in range(1,5)]\n",
    "d"
   ]
  },
  {
   "cell_type": "code",
   "execution_count": 20,
   "metadata": {},
   "outputs": [
    {
     "data": {
      "text/plain": [
       "[2, 1, 2, 1, 2, 1, 2, 1, 2, 1, 2, 1, 2, 1, 2, 1, 2, 1, 2, 1, 2]"
      ]
     },
     "execution_count": 20,
     "metadata": {},
     "output_type": "execute_result"
    }
   ],
   "source": [
    "d=[x for x in range(1,22)]\n",
    "f=[1 if v%2==0 else 2 for v in d ]\n",
    "f"
   ]
  },
  {
   "cell_type": "code",
   "execution_count": 32,
   "metadata": {},
   "outputs": [
    {
     "data": {
      "text/plain": [
       "{'P': 'ppp', 'Q': 'qqq', 'R': 'rrr', 'S': 'sss'}"
      ]
     },
     "execution_count": 32,
     "metadata": {},
     "output_type": "execute_result"
    }
   ],
   "source": [
    "s='pqrs'\n",
    "k={x.upper():x.lower()*3 for x in s}\n",
    "k"
   ]
  },
  {
   "cell_type": "code",
   "execution_count": null,
   "metadata": {},
   "outputs": [],
   "source": []
  }
 ],
 "metadata": {
  "kernelspec": {
   "display_name": "Python 3",
   "language": "python",
   "name": "python3"
  },
  "language_info": {
   "codemirror_mode": {
    "name": "ipython",
    "version": 3
   },
   "file_extension": ".py",
   "mimetype": "text/x-python",
   "name": "python",
   "nbconvert_exporter": "python",
   "pygments_lexer": "ipython3",
   "version": "3.11.2"
  },
  "orig_nbformat": 4
 },
 "nbformat": 4,
 "nbformat_minor": 2
}
