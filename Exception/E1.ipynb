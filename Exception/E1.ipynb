{
 "cells": [
  {
   "cell_type": "code",
   "execution_count": 1,
   "metadata": {},
   "outputs": [
    {
     "name": "stdout",
     "output_type": "stream",
     "text": [
      "password or name is incorrect\n"
     ]
    }
   ],
   "source": [
    "class credential(Exception):\n",
    "    def __init__(self,msg):\n",
    "        self.msg=msg\n",
    "class login(Exception):\n",
    "    def __init__(self,msg):\n",
    "        self.msg=msg\n",
    "class Bank():\n",
    "    bname='karuvu'\n",
    "    branch='tpt'\n",
    "    def __init__(self,name,adhar,pin,bal):\n",
    "        self.name=name\n",
    "        self.adhar=adhar\n",
    "        self.pin=pin\n",
    "        self.bal=bal\n",
    "    def getpin(self):\n",
    "        return int(input('enter pin'))\n",
    "    def checkbal(self):\n",
    "            print(self.name,'balance is ',self.bal)\n",
    "    def withdraw(self,amount):\n",
    "            if self.bal>=amount:\n",
    "                self.bal-=amount\n",
    "                print('your withdraw of ',amount, 'is successfull Now your bal is ', self.bal)\n",
    "            else:\n",
    "                raise credential('insufficient balance in your account')\n",
    "ob1=Bank('madhu',420,143,1234)\n",
    "name=input('your name')\n",
    "pin=int(input('your pin'))\n",
    "try:\n",
    "    if name==ob1.name and pin==ob1.pin:\n",
    "        try:\n",
    "            n=input('operation type you are performing')\n",
    "            if n=='withdraw':\n",
    "                ob1.withdraw(int(input('enter your withdrawel amount')))\n",
    "            elif n=='checkbal':\n",
    "                 ob1.checkbal()\n",
    "            elif n=='':\n",
    "                 print('please enter something')\n",
    "            else:\n",
    "                 print('you are entered option is not available')\n",
    "        except credential as msg:\n",
    "             print(msg)\n",
    "    else:\n",
    "        raise login('password or name is incorrect')\n",
    "except login as msg:\n",
    "     print(msg)\n",
    "\n"
   ]
  },
  {
   "cell_type": "code",
   "execution_count": null,
   "metadata": {},
   "outputs": [],
   "source": []
  }
 ],
 "metadata": {
  "kernelspec": {
   "display_name": "Python 3",
   "language": "python",
   "name": "python3"
  },
  "language_info": {
   "codemirror_mode": {
    "name": "ipython",
    "version": 3
   },
   "file_extension": ".py",
   "mimetype": "text/x-python",
   "name": "python",
   "nbconvert_exporter": "python",
   "pygments_lexer": "ipython3",
   "version": "3.11.2"
  },
  "orig_nbformat": 4
 },
 "nbformat": 4,
 "nbformat_minor": 2
}
