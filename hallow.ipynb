{
 "cells": [
  {
   "cell_type": "code",
   "execution_count": 31,
   "metadata": {},
   "outputs": [
    {
     "name": "stdout",
     "output_type": "stream",
     "text": [
      "7 4 1 \n",
      "8 5 2 \n",
      "9 6 3 \n"
     ]
    }
   ],
   "source": [
    "n=3\n",
    "l=[[1,2,3],[4,5,6],[7,8,9]]\n",
    "for x in range(n):\n",
    "    for c in range(n):\n",
    "         print(l[n-1-c][x], end=' ')\n",
    "    print()"
   ]
  },
  {
   "cell_type": "code",
   "execution_count": 18,
   "metadata": {},
   "outputs": [
    {
     "name": "stdout",
     "output_type": "stream",
     "text": [
      "  * * * * *   \n",
      "*           * \n",
      "*           * \n",
      "* * * * * * * \n",
      "*           * \n",
      "*           * \n",
      "*           * \n"
     ]
    }
   ],
   "source": [
    "n=7 \n",
    "for x in range(n):\n",
    "    for y in range(n):\n",
    "        if ((y==0 or y==n-1) and x>0) or x==n//2 or (x==0 and y>0 and y<n-1):\n",
    "            print('*',end=' ')\n",
    "        else:\n",
    "            print(' ',end=' ')\n",
    "    print()        "
   ]
  },
  {
   "cell_type": "code",
   "execution_count": 75,
   "metadata": {},
   "outputs": [
    {
     "name": "stdout",
     "output_type": "stream",
     "text": [
      "* * * * * *   \n",
      "*           * \n",
      "*           * \n",
      "* * * * * *   \n",
      "*           * \n",
      "*           * \n",
      "* * * * * *   \n"
     ]
    }
   ],
   "source": [
    "n=7 \n",
    "for a in range(n):\n",
    "    for b in range(n):\n",
    "        if b==0 or ((a==0 or a==n-1) and b<n-1) or (b==n-1 and (0<a<n//2  or n//2<a<n-1)) or (a==n//2 and b<n-1):\n",
    "            print('*',end=' ')\n",
    "        else:\n",
    "            print(' ',end=' ')\n",
    "    print()        \n",
    "    #b==0 or ((a==0 or a==n-1) and b<n-1) or (b==n-1 and (0<a<n//2 or n//2<a<n-1))  or (a==n//2 and b<n-1):"
   ]
  },
  {
   "cell_type": "code",
   "execution_count": 14,
   "metadata": {},
   "outputs": [
    {
     "name": "stdout",
     "output_type": "stream",
     "text": [
      "  * * * * * * \n",
      "*             \n",
      "*             \n",
      "*             \n",
      "*             \n",
      "*             \n",
      "  * * * * * * \n"
     ]
    }
   ],
   "source": [
    "n=7 \n",
    "for a in range(n):\n",
    "    for b in range(n):\n",
    "        if (b==0 and 0<a<n-1 ) or ((a==0 or a==n-1 )and 0<b):\n",
    "            print('*',end=' ')\n",
    "        else:\n",
    "            print(' ',end=' ')\n",
    "    print()        "
   ]
  },
  {
   "cell_type": "code",
   "execution_count": 1,
   "metadata": {},
   "outputs": [
    {
     "name": "stdout",
     "output_type": "stream",
     "text": [
      "* * * * * *   \n",
      "*           * \n",
      "*           * \n",
      "*           * \n",
      "*           * \n",
      "*           * \n",
      "* * * * * *   \n"
     ]
    }
   ],
   "source": [
    "n=7\n",
    "for x in range(n):\n",
    "    for y in range(n):\n",
    "        if y==0 or (x==0 and y<n-1) or (x==n-1 and y<n-1) or (y==n-1 and x>0 and x<n-1):\n",
    "            print('*', end=' ')\n",
    "        else:\n",
    "            print(' ', end=' ')\n",
    "    print()"
   ]
  },
  {
   "cell_type": "code",
   "execution_count": 2,
   "metadata": {},
   "outputs": [
    {
     "name": "stdout",
     "output_type": "stream",
     "text": [
      "* * * * * * * \n",
      "*             \n",
      "*             \n",
      "* * * * * *   \n",
      "*             \n",
      "*             \n",
      "* * * * * * * \n"
     ]
    }
   ],
   "source": [
    "n=7\n",
    "for x in range(n):\n",
    "    for y in range(n):\n",
    "        if x==0 or x==n-1 or y==0 or (x==n//2 and y<n-1):\n",
    "            print('*', end=' ')\n",
    "        else:\n",
    "            print(' ', end=' ')\n",
    "    print()"
   ]
  },
  {
   "cell_type": "code",
   "execution_count": 6,
   "metadata": {},
   "outputs": [
    {
     "name": "stdout",
     "output_type": "stream",
     "text": [
      "* * * * * * * \n",
      "*             \n",
      "*             \n",
      "* * * * * *   \n",
      "*             \n",
      "*             \n",
      "*             \n"
     ]
    }
   ],
   "source": [
    "n=7\n",
    "for x in range(n):\n",
    "    for y in range(n):\n",
    "        if y==0 or x==0 or (x==n//2 and y<n-1):\n",
    "            print('*', end=' ')\n",
    "        else:\n",
    "            print(' ', end=' ')\n",
    "    print()"
   ]
  },
  {
   "cell_type": "code",
   "execution_count": 23,
   "metadata": {},
   "outputs": [
    {
     "name": "stdout",
     "output_type": "stream",
     "text": [
      "  * * * * * * \n",
      "*             \n",
      "*             \n",
      "*     * * *   \n",
      "*           * \n",
      "*           * \n",
      "  * * * * *   \n"
     ]
    }
   ],
   "source": [
    "n=7\n",
    "for x in range(n):\n",
    "    for y in range(n):\n",
    "        if (y==0 and x>0 and x<n-1) or (x==0 and y>0) or (x==n-1 and y>0 and y<n-1) or (y==n-1 and x>3 and x<n-1) or (x==n//2 and y>2 and y<n-1):\n",
    "            print('*', end=' ')\n",
    "        else:\n",
    "            print(' ', end=' ')\n",
    "    print()"
   ]
  },
  {
   "cell_type": "code",
   "execution_count": 25,
   "metadata": {},
   "outputs": [
    {
     "name": "stdout",
     "output_type": "stream",
     "text": [
      "*           * \n",
      "*           * \n",
      "*           * \n",
      "* * * * * * * \n",
      "*           * \n",
      "*           * \n",
      "*           * \n"
     ]
    }
   ],
   "source": [
    "n=7\n",
    "for x in range(n):\n",
    "    for y in range(n):\n",
    "        if y==0 or y==n-1 or x==n//2:\n",
    "            print('*', end=' ')\n",
    "        else:\n",
    "            print(' ', end=' ')\n",
    "    print()"
   ]
  },
  {
   "cell_type": "code",
   "execution_count": 26,
   "metadata": {},
   "outputs": [
    {
     "name": "stdout",
     "output_type": "stream",
     "text": [
      "* * * * * * * \n",
      "      *       \n",
      "      *       \n",
      "      *       \n",
      "      *       \n",
      "      *       \n",
      "* * * * * * * \n"
     ]
    }
   ],
   "source": [
    "n=7\n",
    "for x in range(n):\n",
    "    for y in range(n):\n",
    "        if y==n//2 or x==0 or x==n-1:\n",
    "            print('*', end=' ')\n",
    "        else:\n",
    "            print(' ', end=' ')\n",
    "    print()"
   ]
  },
  {
   "cell_type": "code",
   "execution_count": 30,
   "metadata": {},
   "outputs": [
    {
     "name": "stdout",
     "output_type": "stream",
     "text": [
      "* * * * * * * \n",
      "      *       \n",
      "      *       \n",
      "      *       \n",
      "*     *       \n",
      "*     *       \n",
      "  * *         \n"
     ]
    }
   ],
   "source": [
    "n=7\n",
    "for x in range(n):\n",
    "    for y in range(n):\n",
    "        if x==0 or (y==n//2 and x<n-1) or (x==n-1 and y>0 and y<n-4) or (y==0 and x<n-1 and x>3):\n",
    "            print('*', end=' ')\n",
    "        else:\n",
    "            print(' ', end=' ')\n",
    "    print()"
   ]
  },
  {
   "cell_type": "code",
   "execution_count": 40,
   "metadata": {},
   "outputs": [
    {
     "name": "stdout",
     "output_type": "stream",
     "text": [
      "*       *     \n",
      "*     *       \n",
      "*   *         \n",
      "* *           \n",
      "*   *         \n",
      "*     *       \n",
      "*       *     \n"
     ]
    }
   ],
   "source": [
    "n=7\n",
    "for x in range(n):\n",
    "    for y in range(n):\n",
    "        if y==0 or x+y==n-3 or x-y==2:\n",
    "            print('*', end=' ')\n",
    "        else:\n",
    "            print(' ', end=' ')\n",
    "    print()"
   ]
  },
  {
   "cell_type": "code",
   "execution_count": 41,
   "metadata": {},
   "outputs": [
    {
     "name": "stdout",
     "output_type": "stream",
     "text": [
      "*             \n",
      "*             \n",
      "*             \n",
      "*             \n",
      "*             \n",
      "*             \n",
      "* * * * * *   \n"
     ]
    }
   ],
   "source": [
    "n=7\n",
    "for x in range(n):\n",
    "    for y in range(n):\n",
    "        if y==0 or (x==n-1 and y<n-1):\n",
    "            print('*', end=' ')\n",
    "        else:\n",
    "            print(' ', end=' ')\n",
    "    print()"
   ]
  },
  {
   "cell_type": "code",
   "execution_count": 45,
   "metadata": {},
   "outputs": [
    {
     "name": "stdout",
     "output_type": "stream",
     "text": [
      "*           * \n",
      "* *       * * \n",
      "*   *   *   * \n",
      "*     *     * \n",
      "*           * \n",
      "*           * \n",
      "*           * \n"
     ]
    }
   ],
   "source": [
    "n=7\n",
    "for x in range(n):\n",
    "    for y in range(n):\n",
    "        if y==0 or y==n-1 or (x==y and x<=n//2) or (x+y==n-1 and x<=n//2):\n",
    "            print('*', end=' ')\n",
    "        else:\n",
    "            print(' ', end=' ')\n",
    "    print()"
   ]
  },
  {
   "cell_type": "code",
   "execution_count": 48,
   "metadata": {},
   "outputs": [
    {
     "name": "stdout",
     "output_type": "stream",
     "text": [
      "*           * \n",
      "* *         * \n",
      "*   *       * \n",
      "*     *     * \n",
      "*       *   * \n",
      "*         * * \n",
      "*           * \n"
     ]
    }
   ],
   "source": [
    "n=7\n",
    "for x in range(n):\n",
    "    for y in range(n):\n",
    "        if (y==0 and x>0) or (y==n-1 and x<n-1) or x==y:\n",
    "            print('*', end=' ')\n",
    "        else:\n",
    "            print(' ', end=' ')\n",
    "    print()"
   ]
  },
  {
   "cell_type": "code",
   "execution_count": 51,
   "metadata": {},
   "outputs": [
    {
     "name": "stdout",
     "output_type": "stream",
     "text": [
      "  * * * * *   \n",
      "*           * \n",
      "*           * \n",
      "*           * \n",
      "*           * \n",
      "*           * \n",
      "  * * * * *   \n"
     ]
    }
   ],
   "source": [
    "n=7\n",
    "for x in range(n):\n",
    "    for y in range(n):\n",
    "        if (y==0 and x>0 and x<n-1) or (x==0 and y>0 and y<n-1) or (y==n-1 and x>0 and x<n-1) or (x==n-1 and y>0 and y<n-1):\n",
    "            print('*', end=' ')\n",
    "        else:\n",
    "            print(' ', end=' ')\n",
    "    print()"
   ]
  },
  {
   "cell_type": "code",
   "execution_count": 61,
   "metadata": {},
   "outputs": [
    {
     "name": "stdout",
     "output_type": "stream",
     "text": [
      "* * * * * *   \n",
      "*           * \n",
      "*           * \n",
      "* * * * * *   \n",
      "*             \n",
      "*             \n",
      "*             \n"
     ]
    }
   ],
   "source": [
    "n=7\n",
    "for x in range(n):\n",
    "    for y in range(n):\n",
    "        if y==0 or (x==0 and y<n-1) or (y==n-1 and x>0 and x<n//2) or (x==n//2 and y>0 and y<n-1) :\n",
    "            print('*', end=' ')\n",
    "        else:\n",
    "            print(' ', end=' ')\n",
    "    print()"
   ]
  },
  {
   "cell_type": "code",
   "execution_count": 74,
   "metadata": {},
   "outputs": [
    {
     "name": "stdout",
     "output_type": "stream",
     "text": [
      "  * * * *     \n",
      "*         *   \n",
      "*         *   \n",
      "*     *   *   \n",
      "*       * *   \n",
      "*         *   \n",
      "  * * * *   * \n"
     ]
    }
   ],
   "source": [
    "n=7\n",
    "for x in range(n):\n",
    "    for y in range(n):\n",
    "        if (y==0 and x>0 and x<n-1) or (x==0 and y>0 and y<n-2) or (y==n-2 and x>0 and x<n-1) or (x==n-1 and y>0 and y<n-2) or (x==y and x>=n//2):\n",
    "            print('*', end=' ')\n",
    "        else:\n",
    "            print(' ', end=' ')\n",
    "    print()"
   ]
  },
  {
   "cell_type": "code",
   "execution_count": 83,
   "metadata": {},
   "outputs": [
    {
     "name": "stdout",
     "output_type": "stream",
     "text": [
      "* * * * * *   \n",
      "*           * \n",
      "*           * \n",
      "* * * * * *   \n",
      "*       *     \n",
      "*         *   \n",
      "*           * \n"
     ]
    }
   ],
   "source": [
    "n=7\n",
    "for x in range(n):\n",
    "    for y in range(n):\n",
    "        if (x==0 and y<n-1) or y==0 or (y==n-1 and x>0 and x<n//2) or (x==n//2 and y<n-1) or (x-y==0 and x>n//2):\n",
    "            print('*', end=' ')\n",
    "        else:\n",
    "            print(' ', end=' ')\n",
    "    print()"
   ]
  },
  {
   "cell_type": "code",
   "execution_count": 89,
   "metadata": {},
   "outputs": [
    {
     "name": "stdout",
     "output_type": "stream",
     "text": [
      "  * * * * * * \n",
      "*             \n",
      "*             \n",
      "  * * * * *   \n",
      "            * \n",
      "            * \n",
      "* * * * * *   \n"
     ]
    }
   ],
   "source": [
    "n=7\n",
    "for x in range(n):\n",
    "    for y in range(n):\n",
    "        if (x==0 and y>0) or (x==n-1 and y<n-1) or (x==n//2 and y>0 and y<n-1) or (y==0 and x>0 and x<n//2) or (y==n-1 and x<n-1 and x>n//2):\n",
    "            print('*', end=' ')\n",
    "        else:\n",
    "            print(' ', end=' ')\n",
    "    print()"
   ]
  },
  {
   "cell_type": "code",
   "execution_count": 91,
   "metadata": {},
   "outputs": [
    {
     "name": "stdout",
     "output_type": "stream",
     "text": [
      "* * * * * * * \n",
      "      *       \n",
      "      *       \n",
      "      *       \n",
      "      *       \n",
      "      *       \n",
      "              \n"
     ]
    }
   ],
   "source": [
    "n=7\n",
    "for x in range(n):\n",
    "    for y in range(n):\n",
    "        if x==0 or (y==n//2 and x<n-1) :\n",
    "            print('*', end=' ')\n",
    "        else:\n",
    "            print(' ', end=' ')\n",
    "    print()"
   ]
  },
  {
   "cell_type": "code",
   "execution_count": 93,
   "metadata": {},
   "outputs": [
    {
     "name": "stdout",
     "output_type": "stream",
     "text": [
      "*           * \n",
      "*           * \n",
      "*           * \n",
      "*           * \n",
      "*           * \n",
      "*           * \n",
      "  * * * * *   \n"
     ]
    }
   ],
   "source": [
    "n=7\n",
    "for x in range(n):\n",
    "    for y in range(n):\n",
    "        if (y==0 and x<n-1) or (y==n-1 and x<n-1) or (x==n-1 and y>0 and y<n-1):\n",
    "            print('*', end=' ')\n",
    "        else:\n",
    "            print(' ', end=' ')\n",
    "    print()"
   ]
  },
  {
   "cell_type": "code",
   "execution_count": 9,
   "metadata": {},
   "outputs": [
    {
     "name": "stdout",
     "output_type": "stream",
     "text": [
      "*                       * \n",
      "  *                   * \n",
      "    *               * \n",
      "      *           * \n",
      "        *       * \n",
      "          *   * \n",
      "            * \n"
     ]
    }
   ],
   "source": [
    "n=7\n",
    "st=n*2-1\n",
    "sp=0\n",
    "for x in range(n):\n",
    "    for v in range(sp):\n",
    "        print(' ', end=' ')\n",
    "    for y in range(st):\n",
    "        if y==0 or y==st-1:\n",
    "            print('*', end=' ')\n",
    "        else:\n",
    "            print(' ', end=' ')\n",
    "    print()\n",
    "    st-=2\n",
    "    sp+=1"
   ]
  },
  {
   "cell_type": "code",
   "execution_count": 10,
   "metadata": {},
   "outputs": [
    {
     "name": "stdout",
     "output_type": "stream",
     "text": [
      "*           * \n",
      "*           * \n",
      "*           * \n",
      "*     *     * \n",
      "*   *   *   * \n",
      "* *       * * \n",
      "*           * \n"
     ]
    }
   ],
   "source": [
    "n=7\n",
    "for x in range(n):\n",
    "    for y in range(n):\n",
    "        if y==0 or y==n-1 or (x+y==n-1 and x>n//2-1) or (x==y and x>n//2-1):\n",
    "            print('*', end=' ')\n",
    "        else:\n",
    "            print(' ', end=' ')\n",
    "    print()"
   ]
  },
  {
   "cell_type": "code",
   "execution_count": 1,
   "metadata": {},
   "outputs": [
    {
     "name": "stdout",
     "output_type": "stream",
     "text": [
      "*           * \n",
      "  *       *   \n",
      "    *   *     \n",
      "      *       \n",
      "    *   *     \n",
      "  *       *   \n",
      "*           * \n"
     ]
    }
   ],
   "source": [
    "n=7\n",
    "for x in range(n):\n",
    "    for y in range(n):\n",
    "        if x+y==n-1 or x==y:\n",
    "            print('*', end=' ')\n",
    "        else:\n",
    "            print(' ', end=' ')\n",
    "    print()"
   ]
  },
  {
   "cell_type": "code",
   "execution_count": 11,
   "metadata": {},
   "outputs": [
    {
     "name": "stdout",
     "output_type": "stream",
     "text": [
      "*           * \n",
      "  *       *   \n",
      "    *   *     \n",
      "      *       \n",
      "    *         \n",
      "  *           \n",
      "*             \n"
     ]
    }
   ],
   "source": [
    "n=7\n",
    "for x in range(n):\n",
    "    for y in range(n):\n",
    "        if x+y==n-1 or (x==y and x<n//2):\n",
    "            print('*', end=' ')\n",
    "        else:\n",
    "            print(' ', end=' ')\n",
    "    print()"
   ]
  },
  {
   "cell_type": "code",
   "execution_count": 12,
   "metadata": {},
   "outputs": [
    {
     "name": "stdout",
     "output_type": "stream",
     "text": [
      "* * * * * * * \n",
      "          *   \n",
      "        *     \n",
      "      *       \n",
      "    *         \n",
      "  *           \n",
      "* * * * * * * \n"
     ]
    }
   ],
   "source": [
    "n=7\n",
    "for x in range(n):\n",
    "    for y in range(n):\n",
    "        if x+y==n-1 or x==0 or x==n-1:\n",
    "            print('*', end=' ')\n",
    "        else:\n",
    "            print(' ', end=' ')\n",
    "    print()"
   ]
  },
  {
   "cell_type": "code",
   "execution_count": 2,
   "metadata": {},
   "outputs": [
    {
     "name": "stdout",
     "output_type": "stream",
     "text": [
      "      *       \n",
      "    * *       \n",
      "  *   *       \n",
      "      *       \n",
      "      *       \n",
      "      *       \n",
      "* * * * * * * \n"
     ]
    }
   ],
   "source": [
    "n=7\n",
    "for x in range(n):\n",
    "    for y in range(n):\n",
    "        if x==n-1 or y==n//2 or (x+y==n-4 and y>0 and y<n//2):\n",
    "            print('*', end=' ')\n",
    "        else:\n",
    "            print(' ', end=' ')\n",
    "    print()"
   ]
  },
  {
   "cell_type": "code",
   "execution_count": 15,
   "metadata": {},
   "outputs": [
    {
     "name": "stdout",
     "output_type": "stream",
     "text": [
      "* * * * * \n",
      "* @ * @ * \n",
      "* * @ * * \n",
      "* @ * @ * \n",
      "* * * * * \n"
     ]
    }
   ],
   "source": [
    "n=5\n",
    "for x in range(n):\n",
    "    for c in range(n):\n",
    "        if ((x==c or x+c==n-1) and x>0 and c>0 and c<n-1 and x<n-1):\n",
    "            print('@', end=' ')\n",
    "        else:\n",
    "            print('*', end=' ')\n",
    "    print()"
   ]
  },
  {
   "cell_type": "code",
   "execution_count": 9,
   "metadata": {},
   "outputs": [
    {
     "name": "stdout",
     "output_type": "stream",
     "text": [
      "*           * \n",
      "              \n",
      "              \n",
      "              \n",
      "              \n",
      "              \n",
      "*           * \n"
     ]
    }
   ],
   "source": [
    "n=7\n",
    "for x in range(n):\n",
    "    for c in range(n):\n",
    "        if (x==0 and c<1) or (c==n-1 and x<1) or (x==n-1 and c<1) or (c==n-1 and x>n-2):\n",
    "            print('*', end=' ')\n",
    "        else:\n",
    "            print(' ', end=' ')\n",
    "    print()"
   ]
  },
  {
   "cell_type": "code",
   "execution_count": null,
   "metadata": {},
   "outputs": [],
   "source": []
  }
 ],
 "metadata": {
  "kernelspec": {
   "display_name": "Python 3",
   "language": "python",
   "name": "python3"
  },
  "language_info": {
   "codemirror_mode": {
    "name": "ipython",
    "version": 3
   },
   "file_extension": ".py",
   "mimetype": "text/x-python",
   "name": "python",
   "nbconvert_exporter": "python",
   "pygments_lexer": "ipython3",
   "version": "3.11.2"
  },
  "orig_nbformat": 4,
  "vscode": {
   "interpreter": {
    "hash": "4fd669e1ec5d89e8aa28b122dc638d349ed5e70b97a687fc355f6df63eb3fad7"
   }
  }
 },
 "nbformat": 4,
 "nbformat_minor": 2
}
